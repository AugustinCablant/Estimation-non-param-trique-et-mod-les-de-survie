{
 "cells": [
  {
   "cell_type": "markdown",
   "metadata": {},
   "source": [
    "# Maximisation de la fonction de vraissemblance "
   ]
  },
  {
   "cell_type": "code",
   "execution_count": 1,
   "metadata": {},
   "outputs": [],
   "source": [
    "import numpy as np \n",
    "import pandas as pd \n",
    "import matplotlib.pyplot as plt \n",
    "from scipy.optimize import minimize\n",
    "from datetime import datetime, timedelta\n",
    "from scipy.integrate import quad\n",
    "import random\n",
    "from tqdm import tqdm\n",
    "from decimal import Decimal, getcontext\n",
    "import tensorflow_probability as tfp"
   ]
  },
  {
   "cell_type": "markdown",
   "metadata": {},
   "source": [
    "## Quelques notations \n",
    "\n",
    "- $X \\equiv$ un vecteur contenant les déterminants observables de $T_s$ et $T_d$ (genre, jour de naissance, département de naissance, etc.)\n",
    "\n",
    "- $\\tau_{birth} \\equiv$ la date de naissance de l'individu\n",
    "\n",
    "- $\\tau_{contract} \\equiv$ la date de la vente en viager\n",
    "\n",
    "- $\\tau_{begin} \\equiv$ la date du début de la période d'observation des fichiers INSEE (1-1-1970)\n",
    "\n",
    "- $\\tau_{end} \\equiv$ la date de la fin de la période d'observation des fichiers INSEE (1-6-2023)\n",
    "\n",
    "- $V_d \\equiv$ une variable captant l'effet des déterminants inobservables de $T_d$ (état de santé, richesse, niveau d'éducation)\n",
    "\n",
    "- $V_s \\equiv$ une variable captant l'effet des déterminants inobservables de $T_s$ (potentiellement les mêmes variables que celles captées par $V_d$, une variable indiquant si la personne a des enfants, une autre variable indiquant si elle a perdu son conjoint, etc.)\n",
    "\n",
    "- $V \\equiv (V_d,V_s)$"
   ]
  },
  {
   "cell_type": "markdown",
   "metadata": {},
   "source": [
    "La distribution de $T_d$ conditionnellement à $T_s$, $X$ et $V$, notée $T_d|T_s,X,V$, est complètement caractérisée par le taux de hasard (comme $T_d$ représente une durée de vie il s'agit en fait d'un taux de mortalité) :\n",
    "\\begin{equation*}\n",
    "\\underset{\\Delta \\downarrow 0}{\\text{lim}} \\frac{Pr(t \\leq T_d< t\n",
    "+\\Delta |T_d \\geq t,T_s=t_s,X=x, V=v)}{\\Delta} \\equiv \\theta_d(t|t_s,x,v).\n",
    "\\end{equation*}\n",
    "\n",
    "Donc $\\theta_d(t|t_s,x,v)\\Delta$ s'interprète comme la probabilité qu'une personne décède durant l'interval $[t,t+{\\Delta})$ sachant $T_s$, $X$ et $V$, et le fait que cette personne soit toujours vivante à l'âge $t$.\n",
    "\n",
    "De la même manière, la distribution de $T_s$ conditionnellement à $X$ et $V$ est complètement déterminée par le taux de hasard\n",
    "\\begin{equation*}\n",
    "\\underset{\\Delta \\downarrow 0}{\\text{lim}} \\frac{Pr(t \\leq T_s< t\n",
    "+\\Delta |T_s \\geq t,X=x, V=v)}{\\Delta} \\equiv \\theta_s(t|x,v).\n",
    "\\end{equation*}\n",
    "\n",
    "Finalement, on note $F_d(t|t_s,x,v)=Pr(T_d<t|T_s=t_s,X=x, V=v)$ la fonction de répartition conditionnelle de $T_d$, et $f_d(t|t_s,x,v)=\\partial F_d(t|t_s,x,v)/\\partial t$ la fonction de densité associée. Ces fonctions sont liées au taux de hasard $\\theta_d(t|t_s,x,v)$ de la façon suivante :\n",
    "\\begin{equation*}\n",
    "    \\theta_d(t|t_s,x,v)=\\frac{f_d(t|t_s,x,v)}{1-F_d(t|t_s,x,v)}\n",
    "\\end{equation*}\n",
    "et\n",
    "\\begin{equation*}\n",
    "1-F_d(t|t_s,x,v)=exp\\left[-\\int_0 ^t \\theta_d(u|t_s,x,v) du \\right].\n",
    "\\end{equation*}"
   ]
  },
  {
   "cell_type": "markdown",
   "metadata": {},
   "source": [
    "Faisons maintenant l'hypothèse que les taux de hasard s'écrivent comme :\n",
    "\n",
    "$$ \\theta_d(t|t_s,x,v)=\n",
    "    \\lambda_d(t) \\phi_d(x) v_d \\text{ si } t \\le t_s \\\\\n",
    "  \\theta_d(t|t_s,x,v)=\n",
    "    \\lambda_d(t) \\phi_d(x) \\delta(t,t_s,x) v_d \\text{ si } t >t_s $$\n",
    "\n",
    "et\n",
    "\n",
    "$$ \\theta_s(t|x,v)=\\lambda_s(t) \\phi_s(x) v_s.$$\n",
    "\n",
    "- Les fonctions $\\lambda_d(t)$ et $\\lambda_s(t)$ (parfois appelés taux de hasard de base) mesurent comment les taux de hasard dépendent respectivement de la durée $T_d$ et $T_s$. \n",
    "\n",
    "- Les termes $\\phi_d(x)$ et $\\phi_x(x)$ mesurent l'effet des variables observés sur les taux de hasard. \n",
    "\n",
    "- La composante cruciale dans ce modèle est $\\delta(t,t_s,x)$. Cette dernière fonction capte comment le taux de mortalité change après la vente en viager. Elle mesure donc comment les supplements d'argent reçus par le vendeur affecte sa durée de vie, et cet effet peut dépendre de l'âge $t$, l'âge $t_s$ auquel l'individu a vendu son bien immobilier en viager, et les caractéristiques $x$."
   ]
  },
  {
   "cell_type": "markdown",
   "metadata": {},
   "source": [
    "### 1er cas : Modèle le plus simple "
   ]
  },
  {
   "cell_type": "markdown",
   "metadata": {},
   "source": [
    "On suppose que $var(V_d)=var(V_s)=0$ et $\\delta(t,t_s,x)=\\delta$.\n",
    "\n",
    "$$\n",
    "\\theta_d(t|t_s,x)= \n",
    "    \\lambda_d \\phi_d(x) \\text{ si } t \\le t_s\\\\\n",
    "\\theta_d(t|t_s,x)= \n",
    "    \\lambda_d \\phi_d(x) \\delta \\text{ si } t >t_s\n",
    "$$\n",
    "\n",
    "et\n",
    "\n",
    "$$\n",
    "\\theta_s(t|x)=\\lambda_s \\phi_s(x).\n",
    "$$\n",
    "\n",
    "On a donc fait l'hypothèse que l'hétérogénéité inobservée est absente et que les durées $T_d|T_s,X$ et $T_s|X$ suivent des lois exponentielles (les taux de hasard de base $\\lambda_d(t)$ et $\\lambda_s(t)$ ne dépendent pas de $t$).\n",
    "\n",
    "$L_i^{seller} \\space = \\space \\displaystyle \\frac{f_d(t_{id}^{seller}|t_{is}^{seller},x_i)f_s(t_{is}^{seller}|x_i)}{Pr(\\tau_{begin}<\\tau_{i,birth}+T_{id}^{seller}<\\tau_{end}|X_i=x_i)} \\\\$ \n",
    "<br>\n",
    "<br>\n",
    "$= \\displaystyle \\frac{f_d(t_{id}^{seller}|t_{is}^{seller},x_i)f_s(t_{is}^{seller}|x_i)}{\\int \\left[F_d(\\tau_{end}-\\tau_{i,birth}|t_s,x_i)-F_d(\\tau_{begin}-\\tau_{i,birth}|t_s,x_i) \\right] f_s(t_s|x_i)dt_s} \\\\$\n",
    "<br>\n",
    "<br>\n",
    "$= \\displaystyle \\frac{\\lambda_d \\phi_d(x_i) \\delta e^{-\\phi_d(x_i)I_d(t_{id}^{seller},t_{is}^{seller})} \\lambda_s \\phi_s(x_i) e^{-\\phi_s(x_i)I_s(t_{is}^{seller})}}{\\int \\left[e^{-\\phi_d(x_i)I_d(\\tau_{begin}-\\tau_{i,birth},t_s)}-e^{-\\phi_d(x_i)I_d(\\tau_{end}-\\tau_{i,birth},t_s)}\\right] \\lambda_s \\phi_s(x_i) e^{-\\phi_s(x_i)I_s(t_s)} dt_s}$\n",
    "<br>\n",
    "<br>\n",
    "<br>\n",
    "<br>\n",
    "\n",
    "$L_i^{clone} = \\displaystyle \\int_{t_{id}^{clone}} ^{\\infty} \\frac{f_d(t_{id}^{clone}|u,x_i)f_s(u|x_i)}{Pr(\\tau_{contract}<\\tau_{i,birth}+T_{id}^{seller}<\\tau_{end}|X_i=x_i)}du \\\\$\n",
    "<br>\n",
    "<br>\n",
    "$= \\displaystyle \\frac{\\lambda_d \\phi_d(x_i)e^{-\\phi_d(x_i)I_d(t_{id}^{clone})}e^{-\\phi_s(x_i)I_s(t_{id}^{clone})}}{\\int \\left[e^{-\\phi_d(x_i)I_d(\\tau_{contract}-\\tau_{i,birth},t_s)}-e^{-\\phi_d(x_i)I_d(\\tau_{end}-\\tau_{i,birth},t_s)}\\right] \\lambda_s \\phi_s(x_i) e^{-\\phi_s(x_i)I_s(t_s)} dt_s}.$ <br>\n",
    "<br>\n",
    "<br>\n",
    "On spécifie $\\phi_j(x_i)=exp(x_i'\\beta_j)$, $j=d,s$, où $x_i'\\beta_j=x_{i1}\\beta_{j1}+x_{i2}\\beta_{j2}+ ...+x_{iK}\\beta_{jK}$, avec $K$ le nombre de variables explicatives."
   ]
  },
  {
   "cell_type": "markdown",
   "metadata": {},
   "source": [
    "Type of solver in scikit.spicy.minimize : [Have a look](https://docs.scipy.org/doc/scipy/reference/generated/scipy.optimize.minimize.html) <br>\n",
    "\n",
    "- ‘Nelder-Mead’  <br>\n",
    "\n",
    "- ‘Powell’ \n",
    "\n",
    "- ‘CG’ \n",
    "\n",
    "- ‘BFGS’ \n",
    "\n",
    "- ‘Newton-CG’ \n",
    "\n",
    "- ‘L-BFGS-B’ \n",
    "\n",
    "- ‘TNC’ \n",
    "\n",
    "- ‘COBYLA’ \n",
    "\n",
    "- ‘SLSQP’ \n",
    "\n",
    "- ‘trust-constr’\n",
    "\n",
    "- ‘dogleg’ \n",
    "\n",
    "- ‘trust-ncg’ \n",
    "\n",
    "- ‘trust-exact’ \n",
    "\n",
    "- ‘trust-krylov’ "
   ]
  },
  {
   "cell_type": "markdown",
   "metadata": {},
   "source": [
    "Nos variables sont :\n",
    "\n",
    "- $x_1 = $ type_libre \n",
    "\n",
    "- $x_2 = $ sexe_homme\n",
    "\n",
    "- $x_3 = $ idf \n",
    "\n",
    "- $x_4 = $ étranger \n",
    "\n",
    "- $x_5 = $ une_tete\n",
    "\n",
    "- $x_6 = $ dec1\n",
    "\n",
    "- $x_7 = $ dec2\n",
    "\n",
    "- $x_8 = $ dec3"
   ]
  },
  {
   "cell_type": "code",
   "execution_count": 2,
   "metadata": {},
   "outputs": [],
   "source": [
    "df = pd.read_csv('Data/seller.csv')\n",
    "\n",
    "X = ['type_libre','sexe_homme','idf','etranger','une_tete','dec1','dec2','dec3']\n",
    "\n",
    "seller = df.copy().drop([635,906]).reset_index().drop(53).reset_index()"
   ]
  },
  {
   "cell_type": "markdown",
   "metadata": {},
   "source": [
    "Nous rappelons que dans le fichier seller, datetime(1960,1,1) = 0 jours (date de départ).\n",
    "\n",
    "$\\tau_{birth} \\equiv$ la date de naissance de l'individu\n",
    "\n",
    "$\\tau_{contract} \\equiv$ la date de la vente en viager\n",
    "\n",
    "$\\tau_{begin} \\equiv$ la date du début de la période d'observation des fichiers INSEE (1-1-1970)\n",
    "\n",
    "$\\tau_{end} \\equiv$ la date de la fin de la période d'observation des fichiers INSEE (1-6-2023)"
   ]
  },
  {
   "cell_type": "code",
   "execution_count": 3,
   "metadata": {},
   "outputs": [
    {
     "data": {
      "text/plain": [
       "'\"\\ntau_birth = seller[\\'tau_birth\\'].to_list()\\n\\ntau_contract = seller[\\'dateA\\'].to_list()\\n\\ntau_begin = (datetime(1970, 1, 1) - datetime(1960, 1, 1)).days \\n\\ntau_end = (datetime(2023, 7, 1) - datetime(1960, 1, 1)).days \\n'"
      ]
     },
     "execution_count": 3,
     "metadata": {},
     "output_type": "execute_result"
    }
   ],
   "source": [
    "def get_tau_birth(row):\n",
    "    tau_birth = (pd.Timestamp(row['b_annee'], row['b_mois'], row['b_jour']) - pd.Timestamp(1960, 1, 1)).days\n",
    "    return tau_birth\n",
    "\n",
    "seller['tau_birth'] = seller.apply(get_tau_birth,axis=1)\n",
    "\n",
    "\n",
    "tau_birth = (seller['tau_birth']  / seller['tau_birth'].mean()).to_list()\n",
    "\n",
    "tau_contract = (seller['dateA']  / seller['dateA'].mean()).to_list()\n",
    "\n",
    "tau_begin = (datetime(1970, 1, 1) - datetime(1960, 1, 1)).days * 10**(-4)\n",
    "\n",
    "tau_end = (datetime(2023, 7, 1) - datetime(1960, 1, 1)).days * 10**(-4)\n",
    "\n",
    "\"\"\"\"\n",
    "tau_birth = seller['tau_birth'].to_list()\n",
    "\n",
    "tau_contract = seller['dateA'].to_list()\n",
    "\n",
    "tau_begin = (datetime(1970, 1, 1) - datetime(1960, 1, 1)).days \n",
    "\n",
    "tau_end = (datetime(2023, 7, 1) - datetime(1960, 1, 1)).days \n",
    "\"\"\"\"\"\n"
   ]
  },
  {
   "cell_type": "markdown",
   "metadata": {},
   "source": [
    "Définissons quelques fonctions : \n",
    "\n",
    "On commence par définir $\\phi $, ainsie définie : $ \\phi _j (x_i) = e^{x_i ^T \\beta _j}$ avec $j \\in $ {$d,s$} où $\\beta _d$ est un vecteur de taille 8."
   ]
  },
  {
   "cell_type": "code",
   "execution_count": 4,
   "metadata": {},
   "outputs": [],
   "source": [
    "def phiD(beta_d): # beta_d est un vecteur de taille 8\n",
    "    x_i = seller[X].values \n",
    "    phi = np.exp(np.dot(x_i,beta_d))\n",
    "    return phi / phi.mean() \n",
    "    #return phi\n",
    "     # retourne une liste de taille N (chaque individu) \n",
    "\n",
    "\n",
    "def phiS(beta_s): #beta_d est un vecteur de taille 8\n",
    "    x_i = seller[X].values \n",
    "    phi = np.exp(np.dot(x_i,beta_s))\n",
    "    return phi / phi.mean()\n",
    "    #return (phi - phi.mean()) / phi.std()  # retourne une liste de taille N (chaque individu) "
   ]
  },
  {
   "cell_type": "markdown",
   "metadata": {},
   "source": [
    "Nous introduisons ensuite $\\theta _d $, ainsi définie : $\\theta _d (t|t_s,x) = \\lambda _d \\phi_d(x) \\space $ si $ \\space t \\le t_s$ et $ \\space \\theta _d (t|t_s,x) = \\lambda _d \\phi_d(x) \\delta \\space $ si $\\space t > t_s$."
   ]
  },
  {
   "cell_type": "code",
   "execution_count": 5,
   "metadata": {},
   "outputs": [],
   "source": [
    "def thetaD(lambda_d,phi_d,t,t_s, delta):\n",
    "    if t <= t_s:\n",
    "        theta = lambda_d * phi_d\n",
    "    else: \n",
    "        theta = lambda_d * phi_d * delta\n",
    "    return theta"
   ]
  },
  {
   "cell_type": "markdown",
   "metadata": {},
   "source": [
    "Puis $ \\theta _s(t|x) = \\lambda _s \\phi_s (x) $ : "
   ]
  },
  {
   "cell_type": "code",
   "execution_count": 6,
   "metadata": {},
   "outputs": [],
   "source": [
    "def thetaS(lambda_s,phi_s):\n",
    "    theta = lambda_s * phi_s \n",
    "    return theta"
   ]
  },
  {
   "cell_type": "markdown",
   "metadata": {},
   "source": [
    "$ I_d(t_1,t_2) = \\lambda_d (t_2 + \\delta (t_1 - t_2))  $ si $t_1 > t_2$ et $ I_d(t_1,t_2) = \\lambda _d t_1 $ si $t_1 \\le t_2$\n",
    "\n",
    "$ I_d(t) = \\lambda_d t $\n",
    "\n",
    "$ I_s(t) = \\lambda _s t $ "
   ]
  },
  {
   "cell_type": "code",
   "execution_count": 7,
   "metadata": {},
   "outputs": [],
   "source": [
    "def IDD(delta,lambda_d,t_1,t_2): \n",
    "    if t_1 <= t_2:\n",
    "        I = lambda_d * t_1\n",
    "    else: \n",
    "        I = lambda_d * (t_2 + delta * (t_1 - t_2))\n",
    "    return I \n",
    "\n",
    "\n",
    "def ID(lambda_d,t):\n",
    "    I = lambda_d * t\n",
    "    return I \n",
    "\n",
    "def IS(lambda_s,t):\n",
    "    I = lambda_s * t\n",
    "    return I "
   ]
  },
  {
   "cell_type": "markdown",
   "metadata": {},
   "source": [
    "Définir $L_i ^{seller}$ et $L_i ^{clone}$ : \n",
    "\n",
    "- $L_i ^{seller} = \\displaystyle \\frac{\\lambda_d \\phi_d(x_i) \\delta e^{-\\phi_d(x_i)I_d(t_{id}^{seller},t_{is}^{seller})} \\lambda_s \\phi_s(x_i) e^{-\\phi_s(x_i)I_s(t_{is}^{seller})}}{\\int \\left[e^{-\\phi_d(x_i)I_d(\\tau_{begin}-\\tau_{i,birth},t_s)}-e^{-\\phi_d(x_i)I_d(\\tau_{end}-\\tau_{i,birth},t_s)}\\right] \\lambda_s \\phi_s(x_i) e^{-\\phi_s(x_i)I_s(t_s)} dt_s} $\n",
    "<br>\n",
    "<br>\n",
    "\n",
    "- $L_i^{clone} = \\displaystyle \\frac{\\lambda_d \\phi_d(x_i)e^{-\\phi_d(x_i)I_d(t_{id}^{clone})}e^{-\\phi_s(x_i)I_s(t_{id}^{clone})}}{\\int \\left[e^{-\\phi_d(x_i)I_d(\\tau_{contract}-\\tau_{i,birth},t_s)}-e^{-\\phi_d(x_i)I_d(\\tau_{end}-\\tau_{i,birth},t_s)}\\right] \\lambda_s \\phi_s(x_i) e^{-\\phi_s(x_i)I_s(t_s)} dt_s}.$ "
   ]
  },
  {
   "cell_type": "code",
   "execution_count": 8,
   "metadata": {},
   "outputs": [
    {
     "data": {
      "text/plain": [
       "'\"\"\\nT_d_seller = seller[\\'Td\\'].to_list()\\nT_s_seller = seller[\\'Ts\\'].to_list()\\n\\nT_d_clone = seller[\\'Td_clone\\'].to_list()\\nT_s_clone = seller[\\'Ts_clone\\'].to_list()\\n'"
      ]
     },
     "execution_count": 8,
     "metadata": {},
     "output_type": "execute_result"
    }
   ],
   "source": [
    "\n",
    "T_d_seller = (seller['Td'] / seller['Td'].mean()).to_list()\n",
    "T_s_seller = (seller['Ts'] / seller['Ts'].mean()).to_list()\n",
    "\n",
    "T_d_clone = (seller['Td_clone'] / seller['Td_clone'].mean()).to_list()\n",
    "T_s_clone = (seller['Ts_clone'] / seller['Ts_clone'].mean()).to_list()\n",
    "\n",
    "\n",
    "\"\"\"\"\"\n",
    "T_d_seller = seller['Td'].to_list()\n",
    "T_s_seller = seller['Ts'].to_list()\n",
    "\n",
    "T_d_clone = seller['Td_clone'].to_list()\n",
    "T_s_clone = seller['Ts_clone'].to_list()\n",
    "\"\"\"\"\"\n"
   ]
  },
  {
   "cell_type": "code",
   "execution_count": 10,
   "metadata": {},
   "outputs": [],
   "source": [
    "def integrate_rectangles(func, a, b, n):\n",
    "    \"\"\"\n",
    "    Calcule l'intégrale de la fonction 'func' sur l'intervalle [a, b] en utilisant la méthode des rectangles.\n",
    "    :param n: Le nombre de rectangles à utiliser\n",
    "    :return: La valeur approximative de l'intégrale\n",
    "    \"\"\"\n",
    "\n",
    "    dx = (b - a) / n  # Largeur de chaque rectangle\n",
    "    integral = 0.0\n",
    "\n",
    "    for i in range(n):\n",
    "        x_i = a + i * dx  \n",
    "        integral += func(x_i) * dx\n",
    "\n",
    "    return integral"
   ]
  },
  {
   "cell_type": "markdown",
   "metadata": {},
   "source": [
    "##### Cette première cellule de code calcul $L_i ^{seller}$ et $L_i ^{clone}$ avec les intégrales. Cette méthode prend du temps, c'est pourquoi nous résolvons l'intégrale au dénominateur dans un calcul qui suit.\n",
    "\n",
    "Ne pas utiliser"
   ]
  },
  {
   "cell_type": "code",
   "execution_count": 595,
   "metadata": {},
   "outputs": [],
   "source": [
    "getcontext().prec = 50  \n",
    "\n",
    "def LSeller_i_test(lambda_d, lambda_s, phi_d, phi_s,delta, T_d_seller, T_d_clone, T_s_seller, T_s_clone, i):\n",
    "\n",
    "    # numérateur\n",
    "    numerateur_d_exp =  mp.exp(Decimal(-(phi_d[i] * IDD(delta,lambda_d,T_d_seller[i],T_s_seller[i]))))\n",
    "    numerateur_d = lambda_d * phi_d[i] * delta * numerateur_d_exp\n",
    "\n",
    "    numerateur_s_exp = mp.exp(Decimal(-(phi_s[i] * IS(lambda_s,T_s_seller[i]))))\n",
    "    numerateur_s = lambda_s * phi_s[i] * numerateur_s_exp\n",
    "\n",
    "    numerateur = numerateur_d * numerateur_s\n",
    "\n",
    "    # dénominateur \n",
    "    def f(t_s):\n",
    "        exp_1 = mp.exp(Decimal(- phi_d[i] * IDD(delta,lambda_d,tau_contract[i] - tau_birth[i], t_s)))\n",
    "        exp_2 = mp.exp(Decimal(- phi_d[i] * IDD(delta,lambda_d,tau_end - tau_birth[i],t_s)))\n",
    "        if phi_d[i]!=0:\n",
    "            left = exp_1 - exp_2\n",
    "        else:\n",
    "            left = 1\n",
    "        exp_right = mp.exp(Decimal(- phi_s[i] * IS(lambda_s,t_s)))\n",
    "        if phi_s[i] != 0:\n",
    "            right = lambda_s * phi_s[i] * exp_right\n",
    "        else: \n",
    "            right = lambda_s * exp_right\n",
    "        integrande = left * right \n",
    "        return integrande \n",
    "    \n",
    "    denominateur = quad(f, 0, 10000)[0]\n",
    "    \n",
    "    resultat = numerateur / denominateur\n",
    "    return resultat\n",
    "\n",
    "\n",
    "def LClone_i_test(lambda_d, lambda_s, phi_d, phi_s,delta, T_d_seller, T_d_clone, T_s_seller, T_s_clone,i):\n",
    "    # numérateur\n",
    "    numerateur_d_exp =  mp.exp(Decimal(-(phi_d[i] * ID(lambda_d,T_d_clone[i]))))\n",
    "    numerateur_d = lambda_d * phi_d[i] * numerateur_d_exp\n",
    "\n",
    "    numerateur_s_exp = mp.exp(Decimal(-(phi_s[i] * IS(lambda_s,T_s_clone[i]))))\n",
    "    numerateur_s = numerateur_s_exp\n",
    "\n",
    "    numerateur = numerateur_d * numerateur_s\n",
    "\n",
    "    # dénominateur \n",
    "    def f(t_s):\n",
    "        exp_1 = mp.exp(Decimal(- phi_d[i] * IDD(delta,lambda_d,tau_contract[i] - tau_birth[i], t_s)))\n",
    "        exp_2 = mp.exp(Decimal(- phi_d[i] * IDD(delta,lambda_d,tau_end - tau_birth[i],t_s)))\n",
    "        if phi_d[i]!=0:\n",
    "            left = exp_1 - exp_2\n",
    "        else:\n",
    "            left = 1\n",
    "        exp_right = mp.exp(Decimal(- phi_s[i] * IS(lambda_s,t_s)))\n",
    "        if phi_s[i] != 0:\n",
    "            right = lambda_s * phi_s[i] * exp_right\n",
    "        else: \n",
    "            right = lambda_s * exp_right\n",
    "        integrande = left * right \n",
    "        return integrande \n",
    "\n",
    "    denominateur = quad(f, 0, 10000)[0]\n",
    "    \n",
    "    resultat = numerateur / denominateur\n",
    "    return resultat"
   ]
  },
  {
   "cell_type": "markdown",
   "metadata": {},
   "source": [
    "##### Le dénominateur pour les vendeurs peut se réécrire : \n",
    "\n",
    "$ \\displaystyle  \\int _0 ^{+ \\infty} \\left[e^{-\\phi_d(x_i)I_d(\\tau_{begin}-\\tau_{i,birth},t_s)}-e^{-\\phi_d(x_i)I_d(\\tau_{end}-\\tau_{i,birth},t_s)}\\right] \\lambda_s \\phi_s(x_i) e^{-\\phi_s(x_i)I_s(t_s)} dt_s = $ <br>\n",
    "<br>\n",
    "\n",
    "$ \\displaystyle \\int _0 ^{\\tau _{begin} - \\tau _{i,birth}} \\left[e^{- \\lambda_d \\phi_d(x_i) (t_s + \\delta (\\tau _{begin} - \\tau _{i,birth} - t_s))}-e^{-\\lambda_d \\phi_d(x_i) (t_s + \\delta (\\tau _{end} - \\tau _{i,birth} - t_s))}\\right] \\lambda_s \\phi_s(x_i) e^{- \\lambda _s \\phi_s(x_i) t_s} dt_s \\space \\space \\space \\space (1)$ <br>\n",
    "<br>\n",
    "\n",
    "$ \\displaystyle + \\int _{\\tau _{begin} - \\tau _{i,birth}} ^{\\tau _{end} - \\tau _{i,birth}} \\left[e^{- \\lambda_d \\phi_d(x_i) (\\tau _{begin} - \\tau _{i,birth})}-e^{-\\lambda_d \\phi_d(x_i) (t_s + \\delta (\\tau _{end} - \\tau _{i,birth} - t_s))} \\right] \\lambda_s \\phi_s(x_i) e^{- \\lambda _s \\phi_s(x_i) t_s} dt_s \\space \\space \\space \\space (2)$ <br>\n",
    "<br>\n",
    "\n",
    "$ \\displaystyle + \\int _{\\tau _{end} - \\tau _{i,birth}} ^{+ \\infty } \\left[e^{-\\lambda_d \\phi_d(x_i) (\\tau _{begin} - \\tau _{i,birth})}-e^{-\\lambda_d \\phi_d(x_i) (\\tau _{end} - \\tau _{i,birth})}\\right] \\lambda_s \\phi_s(x_i) e^{- \\lambda _s \\phi_s(x_i) t_s} dt_s \\space \\space \\space \\space  (3)$ <br>\n",
    "<br>\n",
    "<br>\n",
    "\n",
    "Le dénominateur pour les clones peut se réécrire : <br>\n",
    "<br>\n",
    "\n",
    "$ \\displaystyle \\int \\left[e^{-\\phi_d(x_i)I_d(\\tau_{contract}-\\tau_{i,birth},t_s)}-e^{-\\phi_d(x_i)I_d(\\tau_{end}-\\tau_{i,birth},t_s)}\\right] \\lambda_s \\phi_s(x_i) e^{-\\phi_s(x_i)I_s(t_s)} dt_s = $ <br>\n",
    "<br>\n",
    "\n",
    "$\\displaystyle  \\int _0 ^{\\tau _{contract} - \\tau _{i,birth}} \\left[e^{- \\lambda_d \\phi_d(x_i) (t_s + \\delta (\\tau _{contract} - \\tau _{i,birth} - t_s))}-e^{-\\lambda_d \\phi_d(x_i) (t_s + \\delta (\\tau _{end} - \\tau _{i,birth} - t_s))}\\right] \\lambda_s \\phi_s(x_i) e^{- \\lambda _s \\phi_s(x_i) t_s} dt_s \\space \\space \\space \\space (1)$ <br>\n",
    "<br>\n",
    "\n",
    "$ \\displaystyle + \\int _{\\tau _{contract} - \\tau _{i,birth}} ^{\\tau _{end} - \\tau _{i,birth}} \\left[e^{- \\lambda_d \\phi_d(x_i) (\\tau _{contract} - \\tau _{i,birth})}-e^{-\\lambda_d \\phi_d(x_i) (t_s + \\delta (\\tau _{end} - \\tau _{i,birth} - t_s))} \\right] \\lambda_s \\phi_s(x_i) e^{- \\lambda _s \\phi_s(x_i) t_s} dt_s \\space \\space \\space \\space (2)$ <br>\n",
    "<br>\n",
    "\n",
    "$\\displaystyle  + \\int _{\\tau _{end} - \\tau _{i,birth}} ^{+ \\infty } \\left[e^{-\\lambda_d \\phi_d(x_i) (\\tau _{contract} - \\tau _{i,birth})}-e^{-\\lambda_d \\phi_d(x_i) (\\tau _{end} - \\tau _{i,birth})}\\right] \\lambda_s \\phi_s(x_i) e^{- \\lambda _s \\phi_s(x_i) t_s} dt_s \\space \\space \\space \\space  (3)$ "
   ]
  },
  {
   "cell_type": "markdown",
   "metadata": {},
   "source": [
    "Calcul pour les vendeurs (nous sautons quelques étapes afin de rendre la lecture plus agréable) : <br>\n",
    "<br>\n",
    "\n",
    "$ \\displaystyle (1) = \\displaystyle \\lambda _s \\phi _s (x_i) \\displaystyle \\int _0 ^{\\tau _{begin} - \\tau _{i,birth}} e^{- \\lambda_d \\phi_d(x_i) \\left[(1 - \\delta )t_s + \\delta (\\tau _{begin} - \\tau _{i,birth})\\right] - \\lambda _s \\phi _s (x_i) t_s} dt_s \\space -  \\space \\displaystyle \\lambda _s \\phi _s (x_i) \\displaystyle \\int _0 ^{\\tau _{begin} - \\tau _{i,birth}} e^{- \\lambda_d \\phi_d(x_i) \\left[(1 - \\delta )t_s + \\delta (\\tau _{end} - \\tau _{i,birth})\\right] - \\lambda _s \\phi _s (x_i) t_s} dt_s$ <br>\n",
    "<br>\n",
    "\n",
    "$ \\displaystyle = \\displaystyle - \\frac{\\lambda _s \\phi _s (x_i) \\left[e^{- (\\tau _{begin} - \\tau _{i,birth}) ( \\lambda _d \\phi _d (x_i) + \\lambda _s \\phi _s (x_i))} - e^{- \\lambda _d \\phi _d (x_i) \\left[ \\delta (\\tau _{end} - \\tau _{i,birth}) + (1 -\\delta ) (\\tau _{begin} - \\tau _{i,birth}) \\right] - \\lambda _s \\phi _s (x_i) (\\tau _{begin} - \\tau _{i,birth})} \\right]}{\\lambda _d \\phi _d (x_i) (1 - \\delta) + \\lambda _s \\phi _s (x_i)}$ <br>\n",
    "<br>\n",
    "<br>\n",
    "\n",
    "\n",
    "$ \\displaystyle (2) = \\displaystyle \\int _{\\tau _{begin} - \\tau _{i,birth}} ^{\\tau _{end} - \\tau _{i,birth}} \\left[e^{- \\lambda_d \\phi_d(x_i) (\\tau _{begin} - \\tau _{i,birth})}-e^{-\\lambda_d \\phi_d(x_i) (t_s + \\delta (\\tau _{end} - \\tau _{i,birth} - t_s))} \\right] \\lambda_s \\phi_s(x_i) e^{- \\lambda _s \\phi_s(x_i) t_s} dt_s $ <br>\n",
    "<br>\n",
    "\n",
    "$\\displaystyle = \\displaystyle e^{- (\\tau _{begin} - \\tau _{i,birth})(\\lambda _d \\phi _d (x_i) + \\lambda _s \\phi _s (x_i))} - \\displaystyle e^{ - (\\tau _{begin} - \\tau _{i,birth}) \\lambda _d \\phi _d (x_i) - (\\tau _{end} - \\tau _{i,birth}) \\lambda _s \\phi _s (x_i)} - $ <br>\n",
    "<br> \n",
    "\n",
    "$\\displaystyle \\frac{\\lambda _s \\phi _s (x_i) \\left[e^{- \\lambda _d \\phi _d (x_i) \\left[ \\delta (\\tau _{end} - \\tau _{i,birth}) - (1 - \\delta )(\\tau _{begin} - \\tau _{i,birth}) \\right] - \\lambda _s (\\tau _{begin} - \\tau _{i,birth}) \\phi _s (x_i)} - e^{- (\\tau _{end} - \\tau _{i,birth})( \\lambda _d \\phi _d (x_i) + \\lambda _s \\phi _s (x_i))} \\right]}{\\lambda _d \\phi _d (x_i) (1 - \\delta) + \\lambda _s \\phi _s (x_i)} $ <br>\n",
    "<br>\n",
    "\n",
    "$ (3) = \\displaystyle e^{- \\lambda _d \\phi _d (x_i) (\\tau _{begin} - \\tau _{i,birth}) - \\lambda _s \\phi _s (x_i) (\\tau _{end} - \\tau _{i,birth})} - \\displaystyle e^{- (\\tau _{end} - \\tau _{i,birth})(\\lambda _d \\phi _d (x_i) + \\lambda _s \\phi _s (x_i))}$"
   ]
  },
  {
   "cell_type": "markdown",
   "metadata": {},
   "source": [
    "On remplace simplement $ \\tau _{begin} $ par $ \\tau _{contract}$ pour obtenir l'expression pour les clones ..."
   ]
  },
  {
   "cell_type": "code",
   "execution_count": 28,
   "metadata": {},
   "outputs": [],
   "source": [
    "def LSeller_i(lambda_d, lambda_s, phi_d, phi_s,delta, T_d_seller, T_d_clone, T_s_seller, T_s_clone, i):\n",
    "    \n",
    "    # numérateur\n",
    "    numerateur_d_exp =  np.exp(-(phi_d[i] * IDD(delta,lambda_d,T_d_seller[i],T_s_seller[i])))\n",
    "    numerateur_d = lambda_d * phi_d[i] * delta * numerateur_d_exp\n",
    "    \n",
    "    numerateur_s_exp = np.exp(-(phi_s[i] * IS(lambda_s,T_s_seller[i])))\n",
    "    numerateur_s = lambda_s * phi_s[i] * numerateur_s_exp\n",
    "    numerateur = numerateur_d * numerateur_s\n",
    "\n",
    "    # dénominateur \n",
    "    s = lambda_s * phi_s[i] \n",
    "    d = lambda_d * phi_d[i] \n",
    "    t_end = tau_end - tau_birth[i]\n",
    "    t_begin = tau_begin - tau_birth[i]\n",
    "    deno = d * (1 - delta) + s\n",
    "    if deno == float(0):\n",
    "        deno = 0.0001\n",
    "\n",
    "    membre_1 = - (s * (np.exp( - d * (delta * t_end - (1 - delta) * t_begin )) - np.exp(- t_end * (d - s)))) / deno\n",
    "    \n",
    "    membre_2 = np.exp( - t_end * (d + s)) - np.exp( - d * t_begin - s * t_end)\n",
    "\n",
    "    membre_3 = np.exp(- d * t_begin - s * t_end) - np.exp( - t_end * (d + s)) - s * (np.exp(- d * (delta * t_end - (1 - delta) * t_begin ) - s * t_begin ) - np.exp( - t_end * (s + d))) / deno\n",
    "    \n",
    "    denominateur = membre_1 + membre_2 + membre_3\n",
    "    if denominateur == float(0):\n",
    "        denominateur = 0.0001\n",
    "    resultat = numerateur / denominateur\n",
    "    \n",
    "    return resultat\n",
    "\n",
    "\n",
    "def LClone_i(lambda_d, lambda_s, phi_d, phi_s,delta, T_d_seller, T_d_clone, T_s_seller, T_s_clone, i):\n",
    "\n",
    "    # numérateur\n",
    "    numerateur_d_exp =  np.exp(-(phi_d[i] * IDD(delta,lambda_d,T_d_seller[i],T_s_seller[i])))\n",
    "    numerateur_d = lambda_d * phi_d[i] * delta * numerateur_d_exp\n",
    "\n",
    "    numerateur_s_exp = np.exp(-(phi_s[i] * IS(lambda_s,T_s_seller[i])))\n",
    "    numerateur_s = lambda_s * phi_s[i] * numerateur_s_exp\n",
    "\n",
    "    numerateur = numerateur_d * numerateur_s\n",
    "\n",
    "    # dénominateur \n",
    "    s = lambda_s * phi_s[i] \n",
    "    d = lambda_d * phi_d[i] \n",
    "    t_end = tau_end - tau_birth[i]\n",
    "    t_begin = tau_contract[i] - tau_birth[i]\n",
    "    deno = d * (1 - delta) + s\n",
    "    if deno == 0:\n",
    "        deno = 0.0001\n",
    "\n",
    "    membre_1 = - (s * (np.exp( - d * (delta * t_end - (1 - delta) * t_begin )) - np.exp(- t_end * (d - s)))) / deno\n",
    "    \n",
    "    membre_2 = np.exp( - t_end * (d + s)) - np.exp( - d * t_begin - s * t_end)\n",
    "\n",
    "    membre_3 = np.exp(- d * t_begin - s * t_end) - np.exp( - t_end * (d + s)) - s * (np.exp(- d * (delta * t_end - (1 - delta) * t_begin ) - s * t_begin ) - np.exp( - t_end * (s + d))) / deno\n",
    "    \n",
    "    denominateur = membre_1 + membre_2 + membre_3\n",
    "    if denominateur == float(0):\n",
    "        denominateur = 0.0001\n",
    "    resultat = numerateur / denominateur\n",
    "    return resultat"
   ]
  },
  {
   "cell_type": "markdown",
   "metadata": {},
   "source": [
    "##### Si on souhaite utiliser la log-vraisemblance on peut run les cellules suivantes (en pratique pas utile)"
   ]
  },
  {
   "cell_type": "markdown",
   "metadata": {},
   "source": [
    "\n",
    "$$ l = \\displaystyle \\log (\\prod _{i=1} ^N L_i ^{seller} . \\space L_i ^{clone}) = \\displaystyle  (\\sum _{i=1} ^N \\log (L_i ^{seller}) + \\log(L_i ^{clone}))$$"
   ]
  },
  {
   "cell_type": "markdown",
   "metadata": {},
   "source": [
    "$ \\displaystyle \\log (L_i ^{seller}) = \\displaystyle \\log \\left[ \\lambda_d \\phi_d(x_i) \\delta e^{-\\phi_d(x_i)I_d(t_{id}^{seller},t_{is}^{seller})} \\lambda_s \\phi_s(x_i) e^{-\\phi_s(x_i)I_s(t_{is}^{seller})}\\right] - \\displaystyle \\log \\left[ \\int \\left[e^{-\\phi_d(x_i)I_d(\\tau_{begin}-\\tau_{i,birth},t_s)}-e^{-\\phi_d(x_i)I_d(\\tau_{end}-\\tau_{i,birth},t_s)}\\right] \\lambda_s \\phi_s(x_i) e^{-\\phi_s(x_i)I_s(t_s)} dt_s \\right] $\n",
    "<br>\n",
    "<br>"
   ]
  },
  {
   "cell_type": "code",
   "execution_count": 582,
   "metadata": {},
   "outputs": [],
   "source": [
    "def log_LSeller_i(lambda_d, lambda_s, phi_d, phi_s,delta, T_d_seller, T_d_clone, T_s_seller, T_s_clone, i):\n",
    "    \n",
    "    # numérateur\n",
    "    numerateur_log = np.log(phi_d[i] * lambda_d * delta * lambda_s * phi_s[i])\n",
    "    numerateur = numerateur_log - phi_d[i] * IDD(delta,lambda_d,T_d_seller[i],T_s_seller[i]) - phi_s[i] * IS(lambda_s,T_s_seller[i])\n",
    "\n",
    "    # dénominateur \n",
    "    s = lambda_s * phi_s[i] \n",
    "    d = lambda_d * phi_d[i] \n",
    "    t_end = tau_end - tau_birth[i]\n",
    "    t_begin = tau_begin - tau_birth[i]\n",
    "    deno = np.log(d * (1 - delta) + s)\n",
    "    \n",
    "    membre_1 = - (s * (np.exp( - d * (delta * t_end - (1 - delta) * t_begin )) - np.exp(- t_end * (d - s)))) / deno\n",
    "    \n",
    "    membre_2 = np.exp( - t_end * (d + s)) - np.exp( - d * t_begin - s * t_end)\n",
    "\n",
    "    membre_3 = np.exp(- d * t_begin - s * t_end) - np.exp( - t_end * (d + s)) - s * (np.exp(- d * (delta * t_end - (1 - delta) * t_begin ) - s * t_begin ) - np.exp( - t_end * (s + d))) / deno\n",
    "    \n",
    "    denominateur = np.log(membre_1 + membre_2 + membre_3)\n",
    "    \n",
    "\n",
    "    resultat = numerateur - denominateur\n",
    "\n",
    "    return resultat\n",
    "\n",
    "\n",
    "def log_LClone_i(lambda_d, lambda_s, phi_d, phi_s,delta, T_d_seller, T_d_clone, T_s_seller, T_s_clone, i):\n",
    "\n",
    "    # numérateur\n",
    "    numerateur_log = np.log(phi_d[i] * lambda_d * delta * lambda_s * phi_s[i])\n",
    "    numerateur = numerateur_log - phi_d[i] * IDD(delta,lambda_d,T_d_seller[i],T_s_seller[i]) - phi_s[i] * IS(lambda_s,T_s_seller[i])\n",
    "\n",
    "    # dénominateur \n",
    "    s = lambda_s * phi_s[i] \n",
    "    d = lambda_d * phi_d[i] \n",
    "    t_end = tau_end - tau_birth[i]\n",
    "    t_begin = tau_contract[i] - tau_birth[i]\n",
    "    deno = np.log(d * (1 - delta) + s)\n",
    "    \n",
    "    membre_1 = - (s * (np.exp( - d * (delta * t_end - (1 - delta) * t_begin )) - np.exp(- t_end * (d - s)))) / deno\n",
    "    \n",
    "    membre_2 = np.exp( - t_end * (d + s)) - np.exp( - d * t_begin - s * t_end)\n",
    "\n",
    "    membre_3 = np.exp(- d * t_begin - s * t_end) - np.exp( - t_end * (d + s)) - s * (np.exp(- d * (delta * t_end - (1 - delta) * t_begin ) - s * t_begin ) - np.exp( - t_end * (s + d))) / deno\n",
    "    \n",
    "    denominateur = np.log(membre_1 + membre_2 + membre_3)\n",
    "    \n",
    "\n",
    "    resultat = numerateur - denominateur\n",
    "\n",
    "    return resultat"
   ]
  },
  {
   "cell_type": "code",
   "execution_count": 629,
   "metadata": {},
   "outputs": [],
   "source": [
    "# Définir la log-vraisemblance \n",
    "\n",
    "def log_likelihood(parameters):\n",
    "\n",
    "    # Paramètres à trouver\n",
    "    # lambda_d, lambda_s et delta des réels \n",
    "    # beta_d et beta_s des vecteurs de taille N\n",
    "    parameters = list(parameters)\n",
    "    lambda_d = parameters[0]\n",
    "    lambda_s = parameters[1]\n",
    "    beta_d = list(parameters[2:10])\n",
    "    beta_s = list(parameters[10:18])\n",
    "    delta = parameters[-1]\n",
    "\n",
    "    phi_d = phiD(beta_d)\n",
    "    phi_s = phiS(beta_s)\n",
    "    log_L_seller_vector = []\n",
    "    log_L_clone_vector = []\n",
    "\n",
    "    for i in tqdm(seller.index.to_list()): \n",
    "        log_L_seller_i = log_LSeller_i(lambda_d, lambda_s, phi_d, phi_s,delta, T_d_seller, T_d_clone, T_s_seller, T_s_clone, i)\n",
    "        log_L_clone_i = log_LClone_i(lambda_d, lambda_s, phi_d, phi_s,delta, T_d_seller, T_d_clone, T_s_seller, T_s_clone, i)\n",
    "        log_L_seller_vector.append(log_L_seller_i)\n",
    "        log_L_clone_vector.append(log_L_clone_i)\n",
    "            \n",
    "        \n",
    "\n",
    "    log_L_seller_vector = np.array(log_L_seller_vector)\n",
    "    log_L_clone_vector = np.array(log_L_clone_vector)\n",
    "    L_vector = log_L_seller_vector + log_L_clone_vector\n",
    "    log_Likelihood = np.sum(L_vector)\n",
    "    \n",
    "    return -log_Likelihood # Retourner le négatif de la log_vraisemblance car minimize va minimiser la fonction"
   ]
  },
  {
   "cell_type": "markdown",
   "metadata": {},
   "source": [
    "##### Cellule de debugage "
   ]
  },
  {
   "cell_type": "code",
   "execution_count": 583,
   "metadata": {},
   "outputs": [],
   "source": [
    "lambda_d, lambda_s, phi_d, phi_s,delta, T_d_seller, T_d_clone, T_s_seller, T_s_clone, i = 1.8365724339605265, 4.70236396326959, 16.950167357612912, 1.3241113481683418, 2.474934449942431, -0.9894083280847973, -1.7523798267466055, -2.0961926645937052, -2.0998141170750753, 635\n",
    "\n",
    "\n",
    "numerateur_d_exp =  np.exp(-(phi_d * IDD(delta,lambda_d,T_d_seller,T_s_seller)))\n",
    "numerateur_d = lambda_d * phi_d * delta * numerateur_d_exp\n",
    "    \n",
    "numerateur_s_exp = np.exp(-(phi_s * IS(lambda_s,T_s_seller)))\n",
    "numerateur_s = lambda_s * phi_s * numerateur_s_exp\n",
    "numerateur = numerateur_d * numerateur_s\n",
    "\n",
    "# dénominateur \n",
    "s = lambda_s * phi_s\n",
    "d = lambda_d * phi_d \n",
    "t_end = tau_end - tau_birth[635]\n",
    "t_begin = tau_begin - tau_birth[635]\n",
    "deno = d * (1 - delta) + s\n",
    "membre_1 = - (s * (np.exp( - d * (delta * t_end - (1 - delta) * t_begin )) - np.exp(- t_end * (d - s)))) / deno\n",
    "    \n",
    "membre_2 = np.exp(-t_end * (d + s)) - np.exp(- d * t_begin - s * t_end)\n",
    "\n",
    "membre_3 = np.exp(- d * t_begin - s * t_end) - np.exp( - t_end * (d + s)) - s * (np.exp(- d * (delta * t_end - (1 - delta) * t_begin ) - s * t_begin ) - np.exp( - t_end * (s + d))) / deno\n",
    "    \n",
    "denominateur = membre_1 + membre_2 + membre_3\n",
    "    \n",
    "\n",
    "resultat = numerateur / denominateur\n"
   ]
  },
  {
   "cell_type": "markdown",
   "metadata": {},
   "source": [
    "##### Passons au calcul de la fonction de vraisemblance : \n",
    "\n",
    "$$ L = \\displaystyle \\prod _{i=1} ^N L_i = \\displaystyle \\prod _{i=1} ^N L_i ^{seller} . \\space L_i ^{clone}$$ "
   ]
  },
  {
   "cell_type": "code",
   "execution_count": 69,
   "metadata": {},
   "outputs": [],
   "source": [
    "def log_negatif(x):\n",
    "    if x > 0: return np.log(x)\n",
    "    elif x < 0: return -np.log(-x)\n",
    "\n",
    "vlog_negatif = np.vectorize(log_negatif)\n",
    "\n",
    "# Définir la fonction de vraisemblance (à maximiser) \n",
    "def likelihood(parameters):\n",
    "\n",
    "    # Paramètres à trouver\n",
    "    # lambda_d, lambda_s et delta des réels \n",
    "    # beta_d et beta_s des vecteurs de taille N\n",
    "    parameters = list(parameters)\n",
    "    lambda_d = parameters[0]\n",
    "    lambda_s = parameters[1]\n",
    "    beta_d = list(parameters[2:10])\n",
    "    beta_s = list(parameters[10:18])\n",
    "    delta = parameters[-1]\n",
    "\n",
    "    phi_d = phiD(beta_d)\n",
    "    phi_s = phiS(beta_s)\n",
    "    L_seller_vector = []\n",
    "    L_clone_vector = []\n",
    "\n",
    "    for i in tqdm(seller.index.to_list()): \n",
    "        L_seller_i = LSeller_i(lambda_d, lambda_s, phi_d, phi_s,delta, T_d_seller, T_d_clone, T_s_seller, T_s_clone, i)\n",
    "        L_clone_i = LClone_i(lambda_d, lambda_s, phi_d, phi_s,delta, T_d_seller, T_d_clone, T_s_seller, T_s_clone, i)\n",
    "        L_seller_vector.append(L_seller_i)\n",
    "        L_clone_vector.append(L_clone_i)\n",
    "        \n",
    "            \n",
    "    L_seller_vector = np.array(L_seller_vector)\n",
    "    L_clone_vector = np.array(L_clone_vector)\n",
    "    # L_vector = L_seller_vector * L_clone_vector\n",
    "    # Likelihood = np.prod(L_vector)\n",
    "     # On passe au log \n",
    "    \n",
    "    L_seller_vector = np.array([element for element in L_seller_vector if np.isnan(element) == False])\n",
    "    L_seller_vector = np.array([element for element in L_clone_vector if np.isnan(element) == False])\n",
    "    L_seller_vector = vlog_negatif(L_seller_vector)\n",
    "    L_clone_vector =  vlog_negatif(L_clone_vector)\n",
    "    L_1 = np.sum(L_seller_vector)\n",
    "    L_2 = np.sum(L_clone_vector)\n",
    "    Likelihood = L_1 + L_2\n",
    "    print(Likelihood)\n",
    "    return -Likelihood # Retourner le négatif de la vraisemblance car minimize va minimiser la fonction"
   ]
  },
  {
   "cell_type": "markdown",
   "metadata": {},
   "source": [
    "Minimiser l'opposé de la fonction de vraisemblance : \n",
    "\n",
    "C'est ici que j'ai un problème ! "
   ]
  },
  {
   "cell_type": "code",
   "execution_count": 71,
   "metadata": {},
   "outputs": [
    {
     "name": "stderr",
     "output_type": "stream",
     "text": [
      "  0%|          | 0/951 [00:00<?, ?it/s]/var/folders/bt/r1dg46ys21lb57m4n4x11m6c0000gn/T/ipykernel_1053/2260203773.py:20: RuntimeWarning: overflow encountered in exp\n",
      "  membre_1 = - (s * (np.exp( - d * (delta * t_end - (1 - delta) * t_begin )) - np.exp(- t_end * (d - s)))) / deno\n",
      "/var/folders/bt/r1dg46ys21lb57m4n4x11m6c0000gn/T/ipykernel_1053/2260203773.py:24: RuntimeWarning: overflow encountered in exp\n",
      "  membre_3 = np.exp(- d * t_begin - s * t_end) - np.exp( - t_end * (d + s)) - s * (np.exp(- d * (delta * t_end - (1 - delta) * t_begin ) - s * t_begin ) - np.exp( - t_end * (s + d))) / deno\n",
      "/var/folders/bt/r1dg46ys21lb57m4n4x11m6c0000gn/T/ipykernel_1053/2260203773.py:26: RuntimeWarning: invalid value encountered in double_scalars\n",
      "  denominateur = membre_1 + membre_2 + membre_3\n",
      "/var/folders/bt/r1dg46ys21lb57m4n4x11m6c0000gn/T/ipykernel_1053/2260203773.py:54: RuntimeWarning: overflow encountered in exp\n",
      "  membre_1 = - (s * (np.exp( - d * (delta * t_end - (1 - delta) * t_begin )) - np.exp(- t_end * (d - s)))) / deno\n",
      "/var/folders/bt/r1dg46ys21lb57m4n4x11m6c0000gn/T/ipykernel_1053/2260203773.py:22: RuntimeWarning: overflow encountered in exp\n",
      "  membre_2 = np.exp( - t_end * (d + s)) - np.exp( - d * t_begin - s * t_end)\n",
      "/var/folders/bt/r1dg46ys21lb57m4n4x11m6c0000gn/T/ipykernel_1053/2260203773.py:58: RuntimeWarning: overflow encountered in exp\n",
      "  membre_3 = np.exp(- d * t_begin - s * t_end) - np.exp( - t_end * (d + s)) - s * (np.exp(- d * (delta * t_end - (1 - delta) * t_begin ) - s * t_begin ) - np.exp( - t_end * (s + d))) / deno\n",
      "/var/folders/bt/r1dg46ys21lb57m4n4x11m6c0000gn/T/ipykernel_1053/2260203773.py:60: RuntimeWarning: invalid value encountered in double_scalars\n",
      "  denominateur = membre_1 + membre_2 + membre_3\n",
      "100%|██████████| 951/951 [00:00<00:00, 24255.29it/s]\n"
     ]
    },
    {
     "name": "stdout",
     "output_type": "stream",
     "text": [
      "nan\n"
     ]
    },
    {
     "name": "stderr",
     "output_type": "stream",
     "text": [
      "  0%|          | 0/951 [00:00<?, ?it/s]/var/folders/bt/r1dg46ys21lb57m4n4x11m6c0000gn/T/ipykernel_1053/2260203773.py:20: RuntimeWarning: overflow encountered in exp\n",
      "  membre_1 = - (s * (np.exp( - d * (delta * t_end - (1 - delta) * t_begin )) - np.exp(- t_end * (d - s)))) / deno\n",
      "/var/folders/bt/r1dg46ys21lb57m4n4x11m6c0000gn/T/ipykernel_1053/2260203773.py:24: RuntimeWarning: overflow encountered in exp\n",
      "  membre_3 = np.exp(- d * t_begin - s * t_end) - np.exp( - t_end * (d + s)) - s * (np.exp(- d * (delta * t_end - (1 - delta) * t_begin ) - s * t_begin ) - np.exp( - t_end * (s + d))) / deno\n",
      "/var/folders/bt/r1dg46ys21lb57m4n4x11m6c0000gn/T/ipykernel_1053/2260203773.py:26: RuntimeWarning: invalid value encountered in double_scalars\n",
      "  denominateur = membre_1 + membre_2 + membre_3\n",
      "/var/folders/bt/r1dg46ys21lb57m4n4x11m6c0000gn/T/ipykernel_1053/2260203773.py:54: RuntimeWarning: overflow encountered in exp\n",
      "  membre_1 = - (s * (np.exp( - d * (delta * t_end - (1 - delta) * t_begin )) - np.exp(- t_end * (d - s)))) / deno\n",
      "/var/folders/bt/r1dg46ys21lb57m4n4x11m6c0000gn/T/ipykernel_1053/2260203773.py:22: RuntimeWarning: overflow encountered in exp\n",
      "  membre_2 = np.exp( - t_end * (d + s)) - np.exp( - d * t_begin - s * t_end)\n",
      "/var/folders/bt/r1dg46ys21lb57m4n4x11m6c0000gn/T/ipykernel_1053/2260203773.py:58: RuntimeWarning: overflow encountered in exp\n",
      "  membre_3 = np.exp(- d * t_begin - s * t_end) - np.exp( - t_end * (d + s)) - s * (np.exp(- d * (delta * t_end - (1 - delta) * t_begin ) - s * t_begin ) - np.exp( - t_end * (s + d))) / deno\n",
      "/var/folders/bt/r1dg46ys21lb57m4n4x11m6c0000gn/T/ipykernel_1053/2260203773.py:60: RuntimeWarning: invalid value encountered in double_scalars\n",
      "  denominateur = membre_1 + membre_2 + membre_3\n",
      "100%|██████████| 951/951 [00:00<00:00, 23158.96it/s]\n"
     ]
    },
    {
     "name": "stdout",
     "output_type": "stream",
     "text": [
      "nan\n"
     ]
    },
    {
     "name": "stderr",
     "output_type": "stream",
     "text": [
      "  0%|          | 0/951 [00:00<?, ?it/s]/var/folders/bt/r1dg46ys21lb57m4n4x11m6c0000gn/T/ipykernel_1053/2260203773.py:20: RuntimeWarning: overflow encountered in exp\n",
      "  membre_1 = - (s * (np.exp( - d * (delta * t_end - (1 - delta) * t_begin )) - np.exp(- t_end * (d - s)))) / deno\n",
      "/var/folders/bt/r1dg46ys21lb57m4n4x11m6c0000gn/T/ipykernel_1053/2260203773.py:24: RuntimeWarning: overflow encountered in exp\n",
      "  membre_3 = np.exp(- d * t_begin - s * t_end) - np.exp( - t_end * (d + s)) - s * (np.exp(- d * (delta * t_end - (1 - delta) * t_begin ) - s * t_begin ) - np.exp( - t_end * (s + d))) / deno\n",
      "/var/folders/bt/r1dg46ys21lb57m4n4x11m6c0000gn/T/ipykernel_1053/2260203773.py:26: RuntimeWarning: invalid value encountered in double_scalars\n",
      "  denominateur = membre_1 + membre_2 + membre_3\n",
      "/var/folders/bt/r1dg46ys21lb57m4n4x11m6c0000gn/T/ipykernel_1053/2260203773.py:54: RuntimeWarning: overflow encountered in exp\n",
      "  membre_1 = - (s * (np.exp( - d * (delta * t_end - (1 - delta) * t_begin )) - np.exp(- t_end * (d - s)))) / deno\n",
      "/var/folders/bt/r1dg46ys21lb57m4n4x11m6c0000gn/T/ipykernel_1053/2260203773.py:22: RuntimeWarning: overflow encountered in exp\n",
      "  membre_2 = np.exp( - t_end * (d + s)) - np.exp( - d * t_begin - s * t_end)\n",
      "/var/folders/bt/r1dg46ys21lb57m4n4x11m6c0000gn/T/ipykernel_1053/2260203773.py:58: RuntimeWarning: overflow encountered in exp\n",
      "  membre_3 = np.exp(- d * t_begin - s * t_end) - np.exp( - t_end * (d + s)) - s * (np.exp(- d * (delta * t_end - (1 - delta) * t_begin ) - s * t_begin ) - np.exp( - t_end * (s + d))) / deno\n",
      "/var/folders/bt/r1dg46ys21lb57m4n4x11m6c0000gn/T/ipykernel_1053/2260203773.py:60: RuntimeWarning: invalid value encountered in double_scalars\n",
      "  denominateur = membre_1 + membre_2 + membre_3\n",
      "100%|██████████| 951/951 [00:00<00:00, 26933.58it/s]\n"
     ]
    },
    {
     "name": "stdout",
     "output_type": "stream",
     "text": [
      "nan\n"
     ]
    },
    {
     "name": "stderr",
     "output_type": "stream",
     "text": [
      "  0%|          | 0/951 [00:00<?, ?it/s]/var/folders/bt/r1dg46ys21lb57m4n4x11m6c0000gn/T/ipykernel_1053/2260203773.py:20: RuntimeWarning: overflow encountered in exp\n",
      "  membre_1 = - (s * (np.exp( - d * (delta * t_end - (1 - delta) * t_begin )) - np.exp(- t_end * (d - s)))) / deno\n",
      "/var/folders/bt/r1dg46ys21lb57m4n4x11m6c0000gn/T/ipykernel_1053/2260203773.py:24: RuntimeWarning: overflow encountered in exp\n",
      "  membre_3 = np.exp(- d * t_begin - s * t_end) - np.exp( - t_end * (d + s)) - s * (np.exp(- d * (delta * t_end - (1 - delta) * t_begin ) - s * t_begin ) - np.exp( - t_end * (s + d))) / deno\n",
      "/var/folders/bt/r1dg46ys21lb57m4n4x11m6c0000gn/T/ipykernel_1053/2260203773.py:26: RuntimeWarning: invalid value encountered in double_scalars\n",
      "  denominateur = membre_1 + membre_2 + membre_3\n",
      "/var/folders/bt/r1dg46ys21lb57m4n4x11m6c0000gn/T/ipykernel_1053/2260203773.py:54: RuntimeWarning: overflow encountered in exp\n",
      "  membre_1 = - (s * (np.exp( - d * (delta * t_end - (1 - delta) * t_begin )) - np.exp(- t_end * (d - s)))) / deno\n",
      "/var/folders/bt/r1dg46ys21lb57m4n4x11m6c0000gn/T/ipykernel_1053/2260203773.py:22: RuntimeWarning: overflow encountered in exp\n",
      "  membre_2 = np.exp( - t_end * (d + s)) - np.exp( - d * t_begin - s * t_end)\n",
      "/var/folders/bt/r1dg46ys21lb57m4n4x11m6c0000gn/T/ipykernel_1053/2260203773.py:58: RuntimeWarning: overflow encountered in exp\n",
      "  membre_3 = np.exp(- d * t_begin - s * t_end) - np.exp( - t_end * (d + s)) - s * (np.exp(- d * (delta * t_end - (1 - delta) * t_begin ) - s * t_begin ) - np.exp( - t_end * (s + d))) / deno\n",
      "/var/folders/bt/r1dg46ys21lb57m4n4x11m6c0000gn/T/ipykernel_1053/2260203773.py:60: RuntimeWarning: invalid value encountered in double_scalars\n",
      "  denominateur = membre_1 + membre_2 + membre_3\n",
      "100%|██████████| 951/951 [00:00<00:00, 27765.63it/s]\n"
     ]
    },
    {
     "name": "stdout",
     "output_type": "stream",
     "text": [
      "nan\n"
     ]
    },
    {
     "name": "stderr",
     "output_type": "stream",
     "text": [
      "  0%|          | 0/951 [00:00<?, ?it/s]/var/folders/bt/r1dg46ys21lb57m4n4x11m6c0000gn/T/ipykernel_1053/2260203773.py:20: RuntimeWarning: overflow encountered in exp\n",
      "  membre_1 = - (s * (np.exp( - d * (delta * t_end - (1 - delta) * t_begin )) - np.exp(- t_end * (d - s)))) / deno\n",
      "/var/folders/bt/r1dg46ys21lb57m4n4x11m6c0000gn/T/ipykernel_1053/2260203773.py:24: RuntimeWarning: overflow encountered in exp\n",
      "  membre_3 = np.exp(- d * t_begin - s * t_end) - np.exp( - t_end * (d + s)) - s * (np.exp(- d * (delta * t_end - (1 - delta) * t_begin ) - s * t_begin ) - np.exp( - t_end * (s + d))) / deno\n",
      "/var/folders/bt/r1dg46ys21lb57m4n4x11m6c0000gn/T/ipykernel_1053/2260203773.py:26: RuntimeWarning: invalid value encountered in double_scalars\n",
      "  denominateur = membre_1 + membre_2 + membre_3\n",
      "/var/folders/bt/r1dg46ys21lb57m4n4x11m6c0000gn/T/ipykernel_1053/2260203773.py:54: RuntimeWarning: overflow encountered in exp\n",
      "  membre_1 = - (s * (np.exp( - d * (delta * t_end - (1 - delta) * t_begin )) - np.exp(- t_end * (d - s)))) / deno\n",
      "/var/folders/bt/r1dg46ys21lb57m4n4x11m6c0000gn/T/ipykernel_1053/2260203773.py:22: RuntimeWarning: overflow encountered in exp\n",
      "  membre_2 = np.exp( - t_end * (d + s)) - np.exp( - d * t_begin - s * t_end)\n",
      "/var/folders/bt/r1dg46ys21lb57m4n4x11m6c0000gn/T/ipykernel_1053/2260203773.py:58: RuntimeWarning: overflow encountered in exp\n",
      "  membre_3 = np.exp(- d * t_begin - s * t_end) - np.exp( - t_end * (d + s)) - s * (np.exp(- d * (delta * t_end - (1 - delta) * t_begin ) - s * t_begin ) - np.exp( - t_end * (s + d))) / deno\n",
      "/var/folders/bt/r1dg46ys21lb57m4n4x11m6c0000gn/T/ipykernel_1053/2260203773.py:60: RuntimeWarning: invalid value encountered in double_scalars\n",
      "  denominateur = membre_1 + membre_2 + membre_3\n",
      "100%|██████████| 951/951 [00:00<00:00, 27783.43it/s]\n"
     ]
    },
    {
     "name": "stdout",
     "output_type": "stream",
     "text": [
      "nan\n"
     ]
    },
    {
     "name": "stderr",
     "output_type": "stream",
     "text": [
      "  0%|          | 0/951 [00:00<?, ?it/s]/var/folders/bt/r1dg46ys21lb57m4n4x11m6c0000gn/T/ipykernel_1053/2260203773.py:20: RuntimeWarning: overflow encountered in exp\n",
      "  membre_1 = - (s * (np.exp( - d * (delta * t_end - (1 - delta) * t_begin )) - np.exp(- t_end * (d - s)))) / deno\n",
      "/var/folders/bt/r1dg46ys21lb57m4n4x11m6c0000gn/T/ipykernel_1053/2260203773.py:24: RuntimeWarning: overflow encountered in exp\n",
      "  membre_3 = np.exp(- d * t_begin - s * t_end) - np.exp( - t_end * (d + s)) - s * (np.exp(- d * (delta * t_end - (1 - delta) * t_begin ) - s * t_begin ) - np.exp( - t_end * (s + d))) / deno\n",
      "/var/folders/bt/r1dg46ys21lb57m4n4x11m6c0000gn/T/ipykernel_1053/2260203773.py:26: RuntimeWarning: invalid value encountered in double_scalars\n",
      "  denominateur = membre_1 + membre_2 + membre_3\n",
      "/var/folders/bt/r1dg46ys21lb57m4n4x11m6c0000gn/T/ipykernel_1053/2260203773.py:54: RuntimeWarning: overflow encountered in exp\n",
      "  membre_1 = - (s * (np.exp( - d * (delta * t_end - (1 - delta) * t_begin )) - np.exp(- t_end * (d - s)))) / deno\n",
      "/var/folders/bt/r1dg46ys21lb57m4n4x11m6c0000gn/T/ipykernel_1053/2260203773.py:22: RuntimeWarning: overflow encountered in exp\n",
      "  membre_2 = np.exp( - t_end * (d + s)) - np.exp( - d * t_begin - s * t_end)\n",
      "/var/folders/bt/r1dg46ys21lb57m4n4x11m6c0000gn/T/ipykernel_1053/2260203773.py:58: RuntimeWarning: overflow encountered in exp\n",
      "  membre_3 = np.exp(- d * t_begin - s * t_end) - np.exp( - t_end * (d + s)) - s * (np.exp(- d * (delta * t_end - (1 - delta) * t_begin ) - s * t_begin ) - np.exp( - t_end * (s + d))) / deno\n",
      "/var/folders/bt/r1dg46ys21lb57m4n4x11m6c0000gn/T/ipykernel_1053/2260203773.py:60: RuntimeWarning: invalid value encountered in double_scalars\n",
      "  denominateur = membre_1 + membre_2 + membre_3\n",
      "100%|██████████| 951/951 [00:00<00:00, 27926.40it/s]\n"
     ]
    },
    {
     "name": "stdout",
     "output_type": "stream",
     "text": [
      "nan\n"
     ]
    },
    {
     "name": "stderr",
     "output_type": "stream",
     "text": [
      "  0%|          | 0/951 [00:00<?, ?it/s]/var/folders/bt/r1dg46ys21lb57m4n4x11m6c0000gn/T/ipykernel_1053/2260203773.py:20: RuntimeWarning: overflow encountered in exp\n",
      "  membre_1 = - (s * (np.exp( - d * (delta * t_end - (1 - delta) * t_begin )) - np.exp(- t_end * (d - s)))) / deno\n",
      "/var/folders/bt/r1dg46ys21lb57m4n4x11m6c0000gn/T/ipykernel_1053/2260203773.py:24: RuntimeWarning: overflow encountered in exp\n",
      "  membre_3 = np.exp(- d * t_begin - s * t_end) - np.exp( - t_end * (d + s)) - s * (np.exp(- d * (delta * t_end - (1 - delta) * t_begin ) - s * t_begin ) - np.exp( - t_end * (s + d))) / deno\n",
      "/var/folders/bt/r1dg46ys21lb57m4n4x11m6c0000gn/T/ipykernel_1053/2260203773.py:26: RuntimeWarning: invalid value encountered in double_scalars\n",
      "  denominateur = membre_1 + membre_2 + membre_3\n",
      "/var/folders/bt/r1dg46ys21lb57m4n4x11m6c0000gn/T/ipykernel_1053/2260203773.py:54: RuntimeWarning: overflow encountered in exp\n",
      "  membre_1 = - (s * (np.exp( - d * (delta * t_end - (1 - delta) * t_begin )) - np.exp(- t_end * (d - s)))) / deno\n",
      "/var/folders/bt/r1dg46ys21lb57m4n4x11m6c0000gn/T/ipykernel_1053/2260203773.py:22: RuntimeWarning: overflow encountered in exp\n",
      "  membre_2 = np.exp( - t_end * (d + s)) - np.exp( - d * t_begin - s * t_end)\n",
      "/var/folders/bt/r1dg46ys21lb57m4n4x11m6c0000gn/T/ipykernel_1053/2260203773.py:58: RuntimeWarning: overflow encountered in exp\n",
      "  membre_3 = np.exp(- d * t_begin - s * t_end) - np.exp( - t_end * (d + s)) - s * (np.exp(- d * (delta * t_end - (1 - delta) * t_begin ) - s * t_begin ) - np.exp( - t_end * (s + d))) / deno\n",
      "/var/folders/bt/r1dg46ys21lb57m4n4x11m6c0000gn/T/ipykernel_1053/2260203773.py:60: RuntimeWarning: invalid value encountered in double_scalars\n",
      "  denominateur = membre_1 + membre_2 + membre_3\n",
      "100%|██████████| 951/951 [00:00<00:00, 27777.81it/s]\n"
     ]
    },
    {
     "name": "stdout",
     "output_type": "stream",
     "text": [
      "nan\n"
     ]
    },
    {
     "name": "stderr",
     "output_type": "stream",
     "text": [
      "  0%|          | 0/951 [00:00<?, ?it/s]/var/folders/bt/r1dg46ys21lb57m4n4x11m6c0000gn/T/ipykernel_1053/2260203773.py:20: RuntimeWarning: overflow encountered in exp\n",
      "  membre_1 = - (s * (np.exp( - d * (delta * t_end - (1 - delta) * t_begin )) - np.exp(- t_end * (d - s)))) / deno\n",
      "/var/folders/bt/r1dg46ys21lb57m4n4x11m6c0000gn/T/ipykernel_1053/2260203773.py:24: RuntimeWarning: overflow encountered in exp\n",
      "  membre_3 = np.exp(- d * t_begin - s * t_end) - np.exp( - t_end * (d + s)) - s * (np.exp(- d * (delta * t_end - (1 - delta) * t_begin ) - s * t_begin ) - np.exp( - t_end * (s + d))) / deno\n",
      "/var/folders/bt/r1dg46ys21lb57m4n4x11m6c0000gn/T/ipykernel_1053/2260203773.py:26: RuntimeWarning: invalid value encountered in double_scalars\n",
      "  denominateur = membre_1 + membre_2 + membre_3\n",
      "/var/folders/bt/r1dg46ys21lb57m4n4x11m6c0000gn/T/ipykernel_1053/2260203773.py:54: RuntimeWarning: overflow encountered in exp\n",
      "  membre_1 = - (s * (np.exp( - d * (delta * t_end - (1 - delta) * t_begin )) - np.exp(- t_end * (d - s)))) / deno\n",
      "/var/folders/bt/r1dg46ys21lb57m4n4x11m6c0000gn/T/ipykernel_1053/2260203773.py:22: RuntimeWarning: overflow encountered in exp\n",
      "  membre_2 = np.exp( - t_end * (d + s)) - np.exp( - d * t_begin - s * t_end)\n",
      "/var/folders/bt/r1dg46ys21lb57m4n4x11m6c0000gn/T/ipykernel_1053/2260203773.py:58: RuntimeWarning: overflow encountered in exp\n",
      "  membre_3 = np.exp(- d * t_begin - s * t_end) - np.exp( - t_end * (d + s)) - s * (np.exp(- d * (delta * t_end - (1 - delta) * t_begin ) - s * t_begin ) - np.exp( - t_end * (s + d))) / deno\n",
      "/var/folders/bt/r1dg46ys21lb57m4n4x11m6c0000gn/T/ipykernel_1053/2260203773.py:60: RuntimeWarning: invalid value encountered in double_scalars\n",
      "  denominateur = membre_1 + membre_2 + membre_3\n",
      "100%|██████████| 951/951 [00:00<00:00, 27904.32it/s]\n"
     ]
    },
    {
     "name": "stdout",
     "output_type": "stream",
     "text": [
      "nan\n"
     ]
    },
    {
     "name": "stderr",
     "output_type": "stream",
     "text": [
      "  0%|          | 0/951 [00:00<?, ?it/s]/var/folders/bt/r1dg46ys21lb57m4n4x11m6c0000gn/T/ipykernel_1053/2260203773.py:20: RuntimeWarning: overflow encountered in exp\n",
      "  membre_1 = - (s * (np.exp( - d * (delta * t_end - (1 - delta) * t_begin )) - np.exp(- t_end * (d - s)))) / deno\n",
      "/var/folders/bt/r1dg46ys21lb57m4n4x11m6c0000gn/T/ipykernel_1053/2260203773.py:24: RuntimeWarning: overflow encountered in exp\n",
      "  membre_3 = np.exp(- d * t_begin - s * t_end) - np.exp( - t_end * (d + s)) - s * (np.exp(- d * (delta * t_end - (1 - delta) * t_begin ) - s * t_begin ) - np.exp( - t_end * (s + d))) / deno\n",
      "/var/folders/bt/r1dg46ys21lb57m4n4x11m6c0000gn/T/ipykernel_1053/2260203773.py:26: RuntimeWarning: invalid value encountered in double_scalars\n",
      "  denominateur = membre_1 + membre_2 + membre_3\n",
      "/var/folders/bt/r1dg46ys21lb57m4n4x11m6c0000gn/T/ipykernel_1053/2260203773.py:54: RuntimeWarning: overflow encountered in exp\n",
      "  membre_1 = - (s * (np.exp( - d * (delta * t_end - (1 - delta) * t_begin )) - np.exp(- t_end * (d - s)))) / deno\n",
      "/var/folders/bt/r1dg46ys21lb57m4n4x11m6c0000gn/T/ipykernel_1053/2260203773.py:22: RuntimeWarning: overflow encountered in exp\n",
      "  membre_2 = np.exp( - t_end * (d + s)) - np.exp( - d * t_begin - s * t_end)\n",
      "/var/folders/bt/r1dg46ys21lb57m4n4x11m6c0000gn/T/ipykernel_1053/2260203773.py:58: RuntimeWarning: overflow encountered in exp\n",
      "  membre_3 = np.exp(- d * t_begin - s * t_end) - np.exp( - t_end * (d + s)) - s * (np.exp(- d * (delta * t_end - (1 - delta) * t_begin ) - s * t_begin ) - np.exp( - t_end * (s + d))) / deno\n",
      "/var/folders/bt/r1dg46ys21lb57m4n4x11m6c0000gn/T/ipykernel_1053/2260203773.py:60: RuntimeWarning: invalid value encountered in double_scalars\n",
      "  denominateur = membre_1 + membre_2 + membre_3\n",
      "100%|██████████| 951/951 [00:00<00:00, 27886.76it/s]\n"
     ]
    },
    {
     "name": "stdout",
     "output_type": "stream",
     "text": [
      "nan\n"
     ]
    },
    {
     "name": "stderr",
     "output_type": "stream",
     "text": [
      "  0%|          | 0/951 [00:00<?, ?it/s]/var/folders/bt/r1dg46ys21lb57m4n4x11m6c0000gn/T/ipykernel_1053/2260203773.py:20: RuntimeWarning: overflow encountered in exp\n",
      "  membre_1 = - (s * (np.exp( - d * (delta * t_end - (1 - delta) * t_begin )) - np.exp(- t_end * (d - s)))) / deno\n",
      "/var/folders/bt/r1dg46ys21lb57m4n4x11m6c0000gn/T/ipykernel_1053/2260203773.py:24: RuntimeWarning: overflow encountered in exp\n",
      "  membre_3 = np.exp(- d * t_begin - s * t_end) - np.exp( - t_end * (d + s)) - s * (np.exp(- d * (delta * t_end - (1 - delta) * t_begin ) - s * t_begin ) - np.exp( - t_end * (s + d))) / deno\n",
      "/var/folders/bt/r1dg46ys21lb57m4n4x11m6c0000gn/T/ipykernel_1053/2260203773.py:26: RuntimeWarning: invalid value encountered in double_scalars\n",
      "  denominateur = membre_1 + membre_2 + membre_3\n",
      "/var/folders/bt/r1dg46ys21lb57m4n4x11m6c0000gn/T/ipykernel_1053/2260203773.py:54: RuntimeWarning: overflow encountered in exp\n",
      "  membre_1 = - (s * (np.exp( - d * (delta * t_end - (1 - delta) * t_begin )) - np.exp(- t_end * (d - s)))) / deno\n",
      "/var/folders/bt/r1dg46ys21lb57m4n4x11m6c0000gn/T/ipykernel_1053/2260203773.py:22: RuntimeWarning: overflow encountered in exp\n",
      "  membre_2 = np.exp( - t_end * (d + s)) - np.exp( - d * t_begin - s * t_end)\n",
      "/var/folders/bt/r1dg46ys21lb57m4n4x11m6c0000gn/T/ipykernel_1053/2260203773.py:58: RuntimeWarning: overflow encountered in exp\n",
      "  membre_3 = np.exp(- d * t_begin - s * t_end) - np.exp( - t_end * (d + s)) - s * (np.exp(- d * (delta * t_end - (1 - delta) * t_begin ) - s * t_begin ) - np.exp( - t_end * (s + d))) / deno\n",
      "/var/folders/bt/r1dg46ys21lb57m4n4x11m6c0000gn/T/ipykernel_1053/2260203773.py:60: RuntimeWarning: invalid value encountered in double_scalars\n",
      "  denominateur = membre_1 + membre_2 + membre_3\n",
      "100%|██████████| 951/951 [00:00<00:00, 24275.07it/s]\n"
     ]
    },
    {
     "name": "stdout",
     "output_type": "stream",
     "text": [
      "nan\n"
     ]
    },
    {
     "name": "stderr",
     "output_type": "stream",
     "text": [
      "  0%|          | 0/951 [00:00<?, ?it/s]/var/folders/bt/r1dg46ys21lb57m4n4x11m6c0000gn/T/ipykernel_1053/2260203773.py:20: RuntimeWarning: overflow encountered in exp\n",
      "  membre_1 = - (s * (np.exp( - d * (delta * t_end - (1 - delta) * t_begin )) - np.exp(- t_end * (d - s)))) / deno\n",
      "/var/folders/bt/r1dg46ys21lb57m4n4x11m6c0000gn/T/ipykernel_1053/2260203773.py:24: RuntimeWarning: overflow encountered in exp\n",
      "  membre_3 = np.exp(- d * t_begin - s * t_end) - np.exp( - t_end * (d + s)) - s * (np.exp(- d * (delta * t_end - (1 - delta) * t_begin ) - s * t_begin ) - np.exp( - t_end * (s + d))) / deno\n",
      "/var/folders/bt/r1dg46ys21lb57m4n4x11m6c0000gn/T/ipykernel_1053/2260203773.py:26: RuntimeWarning: invalid value encountered in double_scalars\n",
      "  denominateur = membre_1 + membre_2 + membre_3\n",
      "/var/folders/bt/r1dg46ys21lb57m4n4x11m6c0000gn/T/ipykernel_1053/2260203773.py:54: RuntimeWarning: overflow encountered in exp\n",
      "  membre_1 = - (s * (np.exp( - d * (delta * t_end - (1 - delta) * t_begin )) - np.exp(- t_end * (d - s)))) / deno\n",
      "/var/folders/bt/r1dg46ys21lb57m4n4x11m6c0000gn/T/ipykernel_1053/2260203773.py:22: RuntimeWarning: overflow encountered in exp\n",
      "  membre_2 = np.exp( - t_end * (d + s)) - np.exp( - d * t_begin - s * t_end)\n",
      "/var/folders/bt/r1dg46ys21lb57m4n4x11m6c0000gn/T/ipykernel_1053/2260203773.py:58: RuntimeWarning: overflow encountered in exp\n",
      "  membre_3 = np.exp(- d * t_begin - s * t_end) - np.exp( - t_end * (d + s)) - s * (np.exp(- d * (delta * t_end - (1 - delta) * t_begin ) - s * t_begin ) - np.exp( - t_end * (s + d))) / deno\n",
      "/var/folders/bt/r1dg46ys21lb57m4n4x11m6c0000gn/T/ipykernel_1053/2260203773.py:60: RuntimeWarning: invalid value encountered in double_scalars\n",
      "  denominateur = membre_1 + membre_2 + membre_3\n",
      "100%|██████████| 951/951 [00:00<00:00, 27261.06it/s]\n"
     ]
    },
    {
     "name": "stdout",
     "output_type": "stream",
     "text": [
      "nan\n"
     ]
    },
    {
     "name": "stderr",
     "output_type": "stream",
     "text": [
      "  0%|          | 0/951 [00:00<?, ?it/s]/var/folders/bt/r1dg46ys21lb57m4n4x11m6c0000gn/T/ipykernel_1053/2260203773.py:20: RuntimeWarning: overflow encountered in exp\n",
      "  membre_1 = - (s * (np.exp( - d * (delta * t_end - (1 - delta) * t_begin )) - np.exp(- t_end * (d - s)))) / deno\n",
      "/var/folders/bt/r1dg46ys21lb57m4n4x11m6c0000gn/T/ipykernel_1053/2260203773.py:24: RuntimeWarning: overflow encountered in exp\n",
      "  membre_3 = np.exp(- d * t_begin - s * t_end) - np.exp( - t_end * (d + s)) - s * (np.exp(- d * (delta * t_end - (1 - delta) * t_begin ) - s * t_begin ) - np.exp( - t_end * (s + d))) / deno\n",
      "/var/folders/bt/r1dg46ys21lb57m4n4x11m6c0000gn/T/ipykernel_1053/2260203773.py:26: RuntimeWarning: invalid value encountered in double_scalars\n",
      "  denominateur = membre_1 + membre_2 + membre_3\n",
      "/var/folders/bt/r1dg46ys21lb57m4n4x11m6c0000gn/T/ipykernel_1053/2260203773.py:54: RuntimeWarning: overflow encountered in exp\n",
      "  membre_1 = - (s * (np.exp( - d * (delta * t_end - (1 - delta) * t_begin )) - np.exp(- t_end * (d - s)))) / deno\n",
      "/var/folders/bt/r1dg46ys21lb57m4n4x11m6c0000gn/T/ipykernel_1053/2260203773.py:22: RuntimeWarning: overflow encountered in exp\n",
      "  membre_2 = np.exp( - t_end * (d + s)) - np.exp( - d * t_begin - s * t_end)\n",
      "/var/folders/bt/r1dg46ys21lb57m4n4x11m6c0000gn/T/ipykernel_1053/2260203773.py:58: RuntimeWarning: overflow encountered in exp\n",
      "  membre_3 = np.exp(- d * t_begin - s * t_end) - np.exp( - t_end * (d + s)) - s * (np.exp(- d * (delta * t_end - (1 - delta) * t_begin ) - s * t_begin ) - np.exp( - t_end * (s + d))) / deno\n",
      "/var/folders/bt/r1dg46ys21lb57m4n4x11m6c0000gn/T/ipykernel_1053/2260203773.py:60: RuntimeWarning: invalid value encountered in double_scalars\n",
      "  denominateur = membre_1 + membre_2 + membre_3\n",
      "100%|██████████| 951/951 [00:00<00:00, 27675.09it/s]\n"
     ]
    },
    {
     "name": "stdout",
     "output_type": "stream",
     "text": [
      "nan\n"
     ]
    },
    {
     "name": "stderr",
     "output_type": "stream",
     "text": [
      "  0%|          | 0/951 [00:00<?, ?it/s]/var/folders/bt/r1dg46ys21lb57m4n4x11m6c0000gn/T/ipykernel_1053/2260203773.py:20: RuntimeWarning: overflow encountered in exp\n",
      "  membre_1 = - (s * (np.exp( - d * (delta * t_end - (1 - delta) * t_begin )) - np.exp(- t_end * (d - s)))) / deno\n",
      "/var/folders/bt/r1dg46ys21lb57m4n4x11m6c0000gn/T/ipykernel_1053/2260203773.py:24: RuntimeWarning: overflow encountered in exp\n",
      "  membre_3 = np.exp(- d * t_begin - s * t_end) - np.exp( - t_end * (d + s)) - s * (np.exp(- d * (delta * t_end - (1 - delta) * t_begin ) - s * t_begin ) - np.exp( - t_end * (s + d))) / deno\n",
      "/var/folders/bt/r1dg46ys21lb57m4n4x11m6c0000gn/T/ipykernel_1053/2260203773.py:26: RuntimeWarning: invalid value encountered in double_scalars\n",
      "  denominateur = membre_1 + membre_2 + membre_3\n",
      "/var/folders/bt/r1dg46ys21lb57m4n4x11m6c0000gn/T/ipykernel_1053/2260203773.py:54: RuntimeWarning: overflow encountered in exp\n",
      "  membre_1 = - (s * (np.exp( - d * (delta * t_end - (1 - delta) * t_begin )) - np.exp(- t_end * (d - s)))) / deno\n",
      "/var/folders/bt/r1dg46ys21lb57m4n4x11m6c0000gn/T/ipykernel_1053/2260203773.py:22: RuntimeWarning: overflow encountered in exp\n",
      "  membre_2 = np.exp( - t_end * (d + s)) - np.exp( - d * t_begin - s * t_end)\n",
      "/var/folders/bt/r1dg46ys21lb57m4n4x11m6c0000gn/T/ipykernel_1053/2260203773.py:58: RuntimeWarning: overflow encountered in exp\n",
      "  membre_3 = np.exp(- d * t_begin - s * t_end) - np.exp( - t_end * (d + s)) - s * (np.exp(- d * (delta * t_end - (1 - delta) * t_begin ) - s * t_begin ) - np.exp( - t_end * (s + d))) / deno\n",
      "/var/folders/bt/r1dg46ys21lb57m4n4x11m6c0000gn/T/ipykernel_1053/2260203773.py:60: RuntimeWarning: invalid value encountered in double_scalars\n",
      "  denominateur = membre_1 + membre_2 + membre_3\n",
      "100%|██████████| 951/951 [00:00<00:00, 27639.04it/s]\n"
     ]
    },
    {
     "name": "stdout",
     "output_type": "stream",
     "text": [
      "nan\n"
     ]
    },
    {
     "name": "stderr",
     "output_type": "stream",
     "text": [
      "  0%|          | 0/951 [00:00<?, ?it/s]/var/folders/bt/r1dg46ys21lb57m4n4x11m6c0000gn/T/ipykernel_1053/2260203773.py:20: RuntimeWarning: overflow encountered in exp\n",
      "  membre_1 = - (s * (np.exp( - d * (delta * t_end - (1 - delta) * t_begin )) - np.exp(- t_end * (d - s)))) / deno\n",
      "/var/folders/bt/r1dg46ys21lb57m4n4x11m6c0000gn/T/ipykernel_1053/2260203773.py:24: RuntimeWarning: overflow encountered in exp\n",
      "  membre_3 = np.exp(- d * t_begin - s * t_end) - np.exp( - t_end * (d + s)) - s * (np.exp(- d * (delta * t_end - (1 - delta) * t_begin ) - s * t_begin ) - np.exp( - t_end * (s + d))) / deno\n",
      "/var/folders/bt/r1dg46ys21lb57m4n4x11m6c0000gn/T/ipykernel_1053/2260203773.py:26: RuntimeWarning: invalid value encountered in double_scalars\n",
      "  denominateur = membre_1 + membre_2 + membre_3\n",
      "/var/folders/bt/r1dg46ys21lb57m4n4x11m6c0000gn/T/ipykernel_1053/2260203773.py:54: RuntimeWarning: overflow encountered in exp\n",
      "  membre_1 = - (s * (np.exp( - d * (delta * t_end - (1 - delta) * t_begin )) - np.exp(- t_end * (d - s)))) / deno\n",
      "/var/folders/bt/r1dg46ys21lb57m4n4x11m6c0000gn/T/ipykernel_1053/2260203773.py:22: RuntimeWarning: overflow encountered in exp\n",
      "  membre_2 = np.exp( - t_end * (d + s)) - np.exp( - d * t_begin - s * t_end)\n",
      "/var/folders/bt/r1dg46ys21lb57m4n4x11m6c0000gn/T/ipykernel_1053/2260203773.py:58: RuntimeWarning: overflow encountered in exp\n",
      "  membre_3 = np.exp(- d * t_begin - s * t_end) - np.exp( - t_end * (d + s)) - s * (np.exp(- d * (delta * t_end - (1 - delta) * t_begin ) - s * t_begin ) - np.exp( - t_end * (s + d))) / deno\n",
      "/var/folders/bt/r1dg46ys21lb57m4n4x11m6c0000gn/T/ipykernel_1053/2260203773.py:60: RuntimeWarning: invalid value encountered in double_scalars\n",
      "  denominateur = membre_1 + membre_2 + membre_3\n",
      "100%|██████████| 951/951 [00:00<00:00, 27680.66it/s]\n"
     ]
    },
    {
     "name": "stdout",
     "output_type": "stream",
     "text": [
      "nan\n"
     ]
    },
    {
     "name": "stderr",
     "output_type": "stream",
     "text": [
      "  0%|          | 0/951 [00:00<?, ?it/s]/var/folders/bt/r1dg46ys21lb57m4n4x11m6c0000gn/T/ipykernel_1053/2260203773.py:20: RuntimeWarning: overflow encountered in exp\n",
      "  membre_1 = - (s * (np.exp( - d * (delta * t_end - (1 - delta) * t_begin )) - np.exp(- t_end * (d - s)))) / deno\n",
      "/var/folders/bt/r1dg46ys21lb57m4n4x11m6c0000gn/T/ipykernel_1053/2260203773.py:24: RuntimeWarning: overflow encountered in exp\n",
      "  membre_3 = np.exp(- d * t_begin - s * t_end) - np.exp( - t_end * (d + s)) - s * (np.exp(- d * (delta * t_end - (1 - delta) * t_begin ) - s * t_begin ) - np.exp( - t_end * (s + d))) / deno\n",
      "/var/folders/bt/r1dg46ys21lb57m4n4x11m6c0000gn/T/ipykernel_1053/2260203773.py:26: RuntimeWarning: invalid value encountered in double_scalars\n",
      "  denominateur = membre_1 + membre_2 + membre_3\n",
      "/var/folders/bt/r1dg46ys21lb57m4n4x11m6c0000gn/T/ipykernel_1053/2260203773.py:54: RuntimeWarning: overflow encountered in exp\n",
      "  membre_1 = - (s * (np.exp( - d * (delta * t_end - (1 - delta) * t_begin )) - np.exp(- t_end * (d - s)))) / deno\n",
      "/var/folders/bt/r1dg46ys21lb57m4n4x11m6c0000gn/T/ipykernel_1053/2260203773.py:22: RuntimeWarning: overflow encountered in exp\n",
      "  membre_2 = np.exp( - t_end * (d + s)) - np.exp( - d * t_begin - s * t_end)\n",
      "/var/folders/bt/r1dg46ys21lb57m4n4x11m6c0000gn/T/ipykernel_1053/2260203773.py:58: RuntimeWarning: overflow encountered in exp\n",
      "  membre_3 = np.exp(- d * t_begin - s * t_end) - np.exp( - t_end * (d + s)) - s * (np.exp(- d * (delta * t_end - (1 - delta) * t_begin ) - s * t_begin ) - np.exp( - t_end * (s + d))) / deno\n",
      "/var/folders/bt/r1dg46ys21lb57m4n4x11m6c0000gn/T/ipykernel_1053/2260203773.py:60: RuntimeWarning: invalid value encountered in double_scalars\n",
      "  denominateur = membre_1 + membre_2 + membre_3\n",
      "100%|██████████| 951/951 [00:00<00:00, 27960.07it/s]\n"
     ]
    },
    {
     "name": "stdout",
     "output_type": "stream",
     "text": [
      "nan\n"
     ]
    },
    {
     "name": "stderr",
     "output_type": "stream",
     "text": [
      "  0%|          | 0/951 [00:00<?, ?it/s]/var/folders/bt/r1dg46ys21lb57m4n4x11m6c0000gn/T/ipykernel_1053/2260203773.py:20: RuntimeWarning: overflow encountered in exp\n",
      "  membre_1 = - (s * (np.exp( - d * (delta * t_end - (1 - delta) * t_begin )) - np.exp(- t_end * (d - s)))) / deno\n",
      "/var/folders/bt/r1dg46ys21lb57m4n4x11m6c0000gn/T/ipykernel_1053/2260203773.py:24: RuntimeWarning: overflow encountered in exp\n",
      "  membre_3 = np.exp(- d * t_begin - s * t_end) - np.exp( - t_end * (d + s)) - s * (np.exp(- d * (delta * t_end - (1 - delta) * t_begin ) - s * t_begin ) - np.exp( - t_end * (s + d))) / deno\n",
      "/var/folders/bt/r1dg46ys21lb57m4n4x11m6c0000gn/T/ipykernel_1053/2260203773.py:26: RuntimeWarning: invalid value encountered in double_scalars\n",
      "  denominateur = membre_1 + membre_2 + membre_3\n",
      "/var/folders/bt/r1dg46ys21lb57m4n4x11m6c0000gn/T/ipykernel_1053/2260203773.py:54: RuntimeWarning: overflow encountered in exp\n",
      "  membre_1 = - (s * (np.exp( - d * (delta * t_end - (1 - delta) * t_begin )) - np.exp(- t_end * (d - s)))) / deno\n",
      "/var/folders/bt/r1dg46ys21lb57m4n4x11m6c0000gn/T/ipykernel_1053/2260203773.py:22: RuntimeWarning: overflow encountered in exp\n",
      "  membre_2 = np.exp( - t_end * (d + s)) - np.exp( - d * t_begin - s * t_end)\n",
      "/var/folders/bt/r1dg46ys21lb57m4n4x11m6c0000gn/T/ipykernel_1053/2260203773.py:58: RuntimeWarning: overflow encountered in exp\n",
      "  membre_3 = np.exp(- d * t_begin - s * t_end) - np.exp( - t_end * (d + s)) - s * (np.exp(- d * (delta * t_end - (1 - delta) * t_begin ) - s * t_begin ) - np.exp( - t_end * (s + d))) / deno\n",
      "/var/folders/bt/r1dg46ys21lb57m4n4x11m6c0000gn/T/ipykernel_1053/2260203773.py:60: RuntimeWarning: invalid value encountered in double_scalars\n",
      "  denominateur = membre_1 + membre_2 + membre_3\n",
      "100%|██████████| 951/951 [00:00<00:00, 27667.03it/s]\n"
     ]
    },
    {
     "name": "stdout",
     "output_type": "stream",
     "text": [
      "nan\n"
     ]
    },
    {
     "name": "stderr",
     "output_type": "stream",
     "text": [
      "  0%|          | 0/951 [00:00<?, ?it/s]/var/folders/bt/r1dg46ys21lb57m4n4x11m6c0000gn/T/ipykernel_1053/2260203773.py:20: RuntimeWarning: overflow encountered in exp\n",
      "  membre_1 = - (s * (np.exp( - d * (delta * t_end - (1 - delta) * t_begin )) - np.exp(- t_end * (d - s)))) / deno\n",
      "/var/folders/bt/r1dg46ys21lb57m4n4x11m6c0000gn/T/ipykernel_1053/2260203773.py:24: RuntimeWarning: overflow encountered in exp\n",
      "  membre_3 = np.exp(- d * t_begin - s * t_end) - np.exp( - t_end * (d + s)) - s * (np.exp(- d * (delta * t_end - (1 - delta) * t_begin ) - s * t_begin ) - np.exp( - t_end * (s + d))) / deno\n",
      "/var/folders/bt/r1dg46ys21lb57m4n4x11m6c0000gn/T/ipykernel_1053/2260203773.py:26: RuntimeWarning: invalid value encountered in double_scalars\n",
      "  denominateur = membre_1 + membre_2 + membre_3\n",
      "/var/folders/bt/r1dg46ys21lb57m4n4x11m6c0000gn/T/ipykernel_1053/2260203773.py:54: RuntimeWarning: overflow encountered in exp\n",
      "  membre_1 = - (s * (np.exp( - d * (delta * t_end - (1 - delta) * t_begin )) - np.exp(- t_end * (d - s)))) / deno\n",
      "/var/folders/bt/r1dg46ys21lb57m4n4x11m6c0000gn/T/ipykernel_1053/2260203773.py:22: RuntimeWarning: overflow encountered in exp\n",
      "  membre_2 = np.exp( - t_end * (d + s)) - np.exp( - d * t_begin - s * t_end)\n",
      "/var/folders/bt/r1dg46ys21lb57m4n4x11m6c0000gn/T/ipykernel_1053/2260203773.py:58: RuntimeWarning: overflow encountered in exp\n",
      "  membre_3 = np.exp(- d * t_begin - s * t_end) - np.exp( - t_end * (d + s)) - s * (np.exp(- d * (delta * t_end - (1 - delta) * t_begin ) - s * t_begin ) - np.exp( - t_end * (s + d))) / deno\n",
      "/var/folders/bt/r1dg46ys21lb57m4n4x11m6c0000gn/T/ipykernel_1053/2260203773.py:60: RuntimeWarning: invalid value encountered in double_scalars\n",
      "  denominateur = membre_1 + membre_2 + membre_3\n",
      "100%|██████████| 951/951 [00:00<00:00, 28101.30it/s]\n"
     ]
    },
    {
     "name": "stdout",
     "output_type": "stream",
     "text": [
      "nan\n"
     ]
    },
    {
     "name": "stderr",
     "output_type": "stream",
     "text": [
      "  0%|          | 0/951 [00:00<?, ?it/s]/var/folders/bt/r1dg46ys21lb57m4n4x11m6c0000gn/T/ipykernel_1053/2260203773.py:20: RuntimeWarning: overflow encountered in exp\n",
      "  membre_1 = - (s * (np.exp( - d * (delta * t_end - (1 - delta) * t_begin )) - np.exp(- t_end * (d - s)))) / deno\n",
      "/var/folders/bt/r1dg46ys21lb57m4n4x11m6c0000gn/T/ipykernel_1053/2260203773.py:24: RuntimeWarning: overflow encountered in exp\n",
      "  membre_3 = np.exp(- d * t_begin - s * t_end) - np.exp( - t_end * (d + s)) - s * (np.exp(- d * (delta * t_end - (1 - delta) * t_begin ) - s * t_begin ) - np.exp( - t_end * (s + d))) / deno\n",
      "/var/folders/bt/r1dg46ys21lb57m4n4x11m6c0000gn/T/ipykernel_1053/2260203773.py:26: RuntimeWarning: invalid value encountered in double_scalars\n",
      "  denominateur = membre_1 + membre_2 + membre_3\n",
      "/var/folders/bt/r1dg46ys21lb57m4n4x11m6c0000gn/T/ipykernel_1053/2260203773.py:54: RuntimeWarning: overflow encountered in exp\n",
      "  membre_1 = - (s * (np.exp( - d * (delta * t_end - (1 - delta) * t_begin )) - np.exp(- t_end * (d - s)))) / deno\n",
      "/var/folders/bt/r1dg46ys21lb57m4n4x11m6c0000gn/T/ipykernel_1053/2260203773.py:22: RuntimeWarning: overflow encountered in exp\n",
      "  membre_2 = np.exp( - t_end * (d + s)) - np.exp( - d * t_begin - s * t_end)\n",
      "/var/folders/bt/r1dg46ys21lb57m4n4x11m6c0000gn/T/ipykernel_1053/2260203773.py:58: RuntimeWarning: overflow encountered in exp\n",
      "  membre_3 = np.exp(- d * t_begin - s * t_end) - np.exp( - t_end * (d + s)) - s * (np.exp(- d * (delta * t_end - (1 - delta) * t_begin ) - s * t_begin ) - np.exp( - t_end * (s + d))) / deno\n",
      "/var/folders/bt/r1dg46ys21lb57m4n4x11m6c0000gn/T/ipykernel_1053/2260203773.py:60: RuntimeWarning: invalid value encountered in double_scalars\n",
      "  denominateur = membre_1 + membre_2 + membre_3\n",
      "100%|██████████| 951/951 [00:00<00:00, 25190.94it/s]\n"
     ]
    },
    {
     "name": "stdout",
     "output_type": "stream",
     "text": [
      "nan\n"
     ]
    },
    {
     "name": "stderr",
     "output_type": "stream",
     "text": [
      "  0%|          | 0/951 [00:00<?, ?it/s]/var/folders/bt/r1dg46ys21lb57m4n4x11m6c0000gn/T/ipykernel_1053/2260203773.py:20: RuntimeWarning: overflow encountered in exp\n",
      "  membre_1 = - (s * (np.exp( - d * (delta * t_end - (1 - delta) * t_begin )) - np.exp(- t_end * (d - s)))) / deno\n",
      "/var/folders/bt/r1dg46ys21lb57m4n4x11m6c0000gn/T/ipykernel_1053/2260203773.py:24: RuntimeWarning: overflow encountered in exp\n",
      "  membre_3 = np.exp(- d * t_begin - s * t_end) - np.exp( - t_end * (d + s)) - s * (np.exp(- d * (delta * t_end - (1 - delta) * t_begin ) - s * t_begin ) - np.exp( - t_end * (s + d))) / deno\n",
      "/var/folders/bt/r1dg46ys21lb57m4n4x11m6c0000gn/T/ipykernel_1053/2260203773.py:26: RuntimeWarning: invalid value encountered in double_scalars\n",
      "  denominateur = membre_1 + membre_2 + membre_3\n",
      "/var/folders/bt/r1dg46ys21lb57m4n4x11m6c0000gn/T/ipykernel_1053/2260203773.py:54: RuntimeWarning: overflow encountered in exp\n",
      "  membre_1 = - (s * (np.exp( - d * (delta * t_end - (1 - delta) * t_begin )) - np.exp(- t_end * (d - s)))) / deno\n",
      "/var/folders/bt/r1dg46ys21lb57m4n4x11m6c0000gn/T/ipykernel_1053/2260203773.py:22: RuntimeWarning: overflow encountered in exp\n",
      "  membre_2 = np.exp( - t_end * (d + s)) - np.exp( - d * t_begin - s * t_end)\n",
      "/var/folders/bt/r1dg46ys21lb57m4n4x11m6c0000gn/T/ipykernel_1053/2260203773.py:58: RuntimeWarning: overflow encountered in exp\n",
      "  membre_3 = np.exp(- d * t_begin - s * t_end) - np.exp( - t_end * (d + s)) - s * (np.exp(- d * (delta * t_end - (1 - delta) * t_begin ) - s * t_begin ) - np.exp( - t_end * (s + d))) / deno\n",
      "/var/folders/bt/r1dg46ys21lb57m4n4x11m6c0000gn/T/ipykernel_1053/2260203773.py:60: RuntimeWarning: invalid value encountered in double_scalars\n",
      "  denominateur = membre_1 + membre_2 + membre_3\n",
      "100%|██████████| 951/951 [00:00<00:00, 27546.84it/s]\n"
     ]
    },
    {
     "name": "stdout",
     "output_type": "stream",
     "text": [
      "nan\n"
     ]
    },
    {
     "name": "stderr",
     "output_type": "stream",
     "text": [
      "  0%|          | 0/951 [00:00<?, ?it/s]/var/folders/bt/r1dg46ys21lb57m4n4x11m6c0000gn/T/ipykernel_1053/2260203773.py:20: RuntimeWarning: overflow encountered in exp\n",
      "  membre_1 = - (s * (np.exp( - d * (delta * t_end - (1 - delta) * t_begin )) - np.exp(- t_end * (d - s)))) / deno\n",
      "/var/folders/bt/r1dg46ys21lb57m4n4x11m6c0000gn/T/ipykernel_1053/2260203773.py:24: RuntimeWarning: overflow encountered in exp\n",
      "  membre_3 = np.exp(- d * t_begin - s * t_end) - np.exp( - t_end * (d + s)) - s * (np.exp(- d * (delta * t_end - (1 - delta) * t_begin ) - s * t_begin ) - np.exp( - t_end * (s + d))) / deno\n",
      "/var/folders/bt/r1dg46ys21lb57m4n4x11m6c0000gn/T/ipykernel_1053/2260203773.py:26: RuntimeWarning: invalid value encountered in double_scalars\n",
      "  denominateur = membre_1 + membre_2 + membre_3\n",
      "/var/folders/bt/r1dg46ys21lb57m4n4x11m6c0000gn/T/ipykernel_1053/2260203773.py:54: RuntimeWarning: overflow encountered in exp\n",
      "  membre_1 = - (s * (np.exp( - d * (delta * t_end - (1 - delta) * t_begin )) - np.exp(- t_end * (d - s)))) / deno\n",
      "/var/folders/bt/r1dg46ys21lb57m4n4x11m6c0000gn/T/ipykernel_1053/2260203773.py:22: RuntimeWarning: overflow encountered in exp\n",
      "  membre_2 = np.exp( - t_end * (d + s)) - np.exp( - d * t_begin - s * t_end)\n",
      "/var/folders/bt/r1dg46ys21lb57m4n4x11m6c0000gn/T/ipykernel_1053/2260203773.py:58: RuntimeWarning: overflow encountered in exp\n",
      "  membre_3 = np.exp(- d * t_begin - s * t_end) - np.exp( - t_end * (d + s)) - s * (np.exp(- d * (delta * t_end - (1 - delta) * t_begin ) - s * t_begin ) - np.exp( - t_end * (s + d))) / deno\n",
      "/var/folders/bt/r1dg46ys21lb57m4n4x11m6c0000gn/T/ipykernel_1053/2260203773.py:60: RuntimeWarning: invalid value encountered in double_scalars\n",
      "  denominateur = membre_1 + membre_2 + membre_3\n",
      "100%|██████████| 951/951 [00:00<00:00, 27554.84it/s]\n",
      " This problem is unconstrained.\n"
     ]
    },
    {
     "name": "stdout",
     "output_type": "stream",
     "text": [
      "nan\n",
      "RUNNING THE L-BFGS-B CODE\n",
      "\n",
      "           * * *\n",
      "\n",
      "Machine precision = 2.220D-16\n",
      " N =           19     M =           10\n",
      "\n",
      "At X0         0 variables are exactly at the bounds\n",
      "\n",
      "At iterate    0    f=          NaN    |proj g|=          NaN\n"
     ]
    },
    {
     "name": "stderr",
     "output_type": "stream",
     "text": [
      "100%|██████████| 951/951 [00:00<00:00, 28017.41it/s]\n"
     ]
    },
    {
     "ename": "ValueError",
     "evalue": "cannot call `vectorize` on size 0 inputs unless `otypes` is set",
     "output_type": "error",
     "traceback": [
      "\u001b[0;31m---------------------------------------------------------------------------\u001b[0m",
      "\u001b[0;31mValueError\u001b[0m                                Traceback (most recent call last)",
      "\u001b[0;32m/var/folders/bt/r1dg46ys21lb57m4n4x11m6c0000gn/T/ipykernel_1053/3117442970.py\u001b[0m in \u001b[0;36m<module>\u001b[0;34m\u001b[0m\n\u001b[1;32m      3\u001b[0m \u001b[0minitial_params\u001b[0m \u001b[0;34m=\u001b[0m \u001b[0mnp\u001b[0m\u001b[0;34m.\u001b[0m\u001b[0mrandom\u001b[0m\u001b[0;34m.\u001b[0m\u001b[0muniform\u001b[0m\u001b[0;34m(\u001b[0m\u001b[0;36m2\u001b[0m\u001b[0;34m,\u001b[0m\u001b[0;36m15\u001b[0m\u001b[0;34m,\u001b[0m\u001b[0msize\u001b[0m\u001b[0;34m=\u001b[0m\u001b[0;36m19\u001b[0m\u001b[0;34m)\u001b[0m\u001b[0;34m\u001b[0m\u001b[0;34m\u001b[0m\u001b[0m\n\u001b[1;32m      4\u001b[0m \u001b[0;34m\u001b[0m\u001b[0m\n\u001b[0;32m----> 5\u001b[0;31m \u001b[0mresult\u001b[0m \u001b[0;34m=\u001b[0m \u001b[0mminimize\u001b[0m\u001b[0;34m(\u001b[0m\u001b[0mlikelihood\u001b[0m\u001b[0;34m,\u001b[0m \u001b[0minitial_params\u001b[0m\u001b[0;34m,\u001b[0m \u001b[0mmethod\u001b[0m\u001b[0;34m=\u001b[0m\u001b[0;34m'L-BFGS-B'\u001b[0m\u001b[0;34m,\u001b[0m \u001b[0moptions\u001b[0m\u001b[0;34m=\u001b[0m\u001b[0;34m{\u001b[0m\u001b[0;34m'maxiter'\u001b[0m\u001b[0;34m:\u001b[0m\u001b[0;36m1000\u001b[0m\u001b[0;34m,\u001b[0m \u001b[0;34m'disp'\u001b[0m\u001b[0;34m:\u001b[0m \u001b[0;32mTrue\u001b[0m\u001b[0;34m,\u001b[0m \u001b[0;34m'ftol'\u001b[0m\u001b[0;34m:\u001b[0m \u001b[0;36m1e-1\u001b[0m\u001b[0;34m}\u001b[0m\u001b[0;34m)\u001b[0m\u001b[0;34m\u001b[0m\u001b[0;34m\u001b[0m\u001b[0m\n\u001b[0m\u001b[1;32m      6\u001b[0m \u001b[0;34m\u001b[0m\u001b[0m\n\u001b[1;32m      7\u001b[0m \u001b[0;31m# Résultats\u001b[0m\u001b[0;34m\u001b[0m\u001b[0;34m\u001b[0m\u001b[0m\n",
      "\u001b[0;32m~/opt/anaconda3/lib/python3.9/site-packages/scipy/optimize/_minimize.py\u001b[0m in \u001b[0;36mminimize\u001b[0;34m(fun, x0, args, method, jac, hess, hessp, bounds, constraints, tol, callback, options)\u001b[0m\n\u001b[1;32m    621\u001b[0m                                   **options)\n\u001b[1;32m    622\u001b[0m     \u001b[0;32melif\u001b[0m \u001b[0mmeth\u001b[0m \u001b[0;34m==\u001b[0m \u001b[0;34m'l-bfgs-b'\u001b[0m\u001b[0;34m:\u001b[0m\u001b[0;34m\u001b[0m\u001b[0;34m\u001b[0m\u001b[0m\n\u001b[0;32m--> 623\u001b[0;31m         return _minimize_lbfgsb(fun, x0, args, jac, bounds,\n\u001b[0m\u001b[1;32m    624\u001b[0m                                 callback=callback, **options)\n\u001b[1;32m    625\u001b[0m     \u001b[0;32melif\u001b[0m \u001b[0mmeth\u001b[0m \u001b[0;34m==\u001b[0m \u001b[0;34m'tnc'\u001b[0m\u001b[0;34m:\u001b[0m\u001b[0;34m\u001b[0m\u001b[0;34m\u001b[0m\u001b[0m\n",
      "\u001b[0;32m~/opt/anaconda3/lib/python3.9/site-packages/scipy/optimize/lbfgsb.py\u001b[0m in \u001b[0;36m_minimize_lbfgsb\u001b[0;34m(fun, x0, args, jac, bounds, disp, maxcor, ftol, gtol, eps, maxfun, maxiter, iprint, callback, maxls, finite_diff_rel_step, **unknown_options)\u001b[0m\n\u001b[1;32m    358\u001b[0m             \u001b[0;31m# until the completion of the current minimization iteration.\u001b[0m\u001b[0;34m\u001b[0m\u001b[0;34m\u001b[0m\u001b[0m\n\u001b[1;32m    359\u001b[0m             \u001b[0;31m# Overwrite f and g:\u001b[0m\u001b[0;34m\u001b[0m\u001b[0;34m\u001b[0m\u001b[0m\n\u001b[0;32m--> 360\u001b[0;31m             \u001b[0mf\u001b[0m\u001b[0;34m,\u001b[0m \u001b[0mg\u001b[0m \u001b[0;34m=\u001b[0m \u001b[0mfunc_and_grad\u001b[0m\u001b[0;34m(\u001b[0m\u001b[0mx\u001b[0m\u001b[0;34m)\u001b[0m\u001b[0;34m\u001b[0m\u001b[0;34m\u001b[0m\u001b[0m\n\u001b[0m\u001b[1;32m    361\u001b[0m         \u001b[0;32melif\u001b[0m \u001b[0mtask_str\u001b[0m\u001b[0;34m.\u001b[0m\u001b[0mstartswith\u001b[0m\u001b[0;34m(\u001b[0m\u001b[0;34mb'NEW_X'\u001b[0m\u001b[0;34m)\u001b[0m\u001b[0;34m:\u001b[0m\u001b[0;34m\u001b[0m\u001b[0;34m\u001b[0m\u001b[0m\n\u001b[1;32m    362\u001b[0m             \u001b[0;31m# new iteration\u001b[0m\u001b[0;34m\u001b[0m\u001b[0;34m\u001b[0m\u001b[0m\n",
      "\u001b[0;32m~/opt/anaconda3/lib/python3.9/site-packages/scipy/optimize/_differentiable_functions.py\u001b[0m in \u001b[0;36mfun_and_grad\u001b[0;34m(self, x)\u001b[0m\n\u001b[1;32m    265\u001b[0m         \u001b[0;32mif\u001b[0m \u001b[0;32mnot\u001b[0m \u001b[0mnp\u001b[0m\u001b[0;34m.\u001b[0m\u001b[0marray_equal\u001b[0m\u001b[0;34m(\u001b[0m\u001b[0mx\u001b[0m\u001b[0;34m,\u001b[0m \u001b[0mself\u001b[0m\u001b[0;34m.\u001b[0m\u001b[0mx\u001b[0m\u001b[0;34m)\u001b[0m\u001b[0;34m:\u001b[0m\u001b[0;34m\u001b[0m\u001b[0;34m\u001b[0m\u001b[0m\n\u001b[1;32m    266\u001b[0m             \u001b[0mself\u001b[0m\u001b[0;34m.\u001b[0m\u001b[0m_update_x_impl\u001b[0m\u001b[0;34m(\u001b[0m\u001b[0mx\u001b[0m\u001b[0;34m)\u001b[0m\u001b[0;34m\u001b[0m\u001b[0;34m\u001b[0m\u001b[0m\n\u001b[0;32m--> 267\u001b[0;31m         \u001b[0mself\u001b[0m\u001b[0;34m.\u001b[0m\u001b[0m_update_fun\u001b[0m\u001b[0;34m(\u001b[0m\u001b[0;34m)\u001b[0m\u001b[0;34m\u001b[0m\u001b[0;34m\u001b[0m\u001b[0m\n\u001b[0m\u001b[1;32m    268\u001b[0m         \u001b[0mself\u001b[0m\u001b[0;34m.\u001b[0m\u001b[0m_update_grad\u001b[0m\u001b[0;34m(\u001b[0m\u001b[0;34m)\u001b[0m\u001b[0;34m\u001b[0m\u001b[0;34m\u001b[0m\u001b[0m\n\u001b[1;32m    269\u001b[0m         \u001b[0;32mreturn\u001b[0m \u001b[0mself\u001b[0m\u001b[0;34m.\u001b[0m\u001b[0mf\u001b[0m\u001b[0;34m,\u001b[0m \u001b[0mself\u001b[0m\u001b[0;34m.\u001b[0m\u001b[0mg\u001b[0m\u001b[0;34m\u001b[0m\u001b[0;34m\u001b[0m\u001b[0m\n",
      "\u001b[0;32m~/opt/anaconda3/lib/python3.9/site-packages/scipy/optimize/_differentiable_functions.py\u001b[0m in \u001b[0;36m_update_fun\u001b[0;34m(self)\u001b[0m\n\u001b[1;32m    231\u001b[0m     \u001b[0;32mdef\u001b[0m \u001b[0m_update_fun\u001b[0m\u001b[0;34m(\u001b[0m\u001b[0mself\u001b[0m\u001b[0;34m)\u001b[0m\u001b[0;34m:\u001b[0m\u001b[0;34m\u001b[0m\u001b[0;34m\u001b[0m\u001b[0m\n\u001b[1;32m    232\u001b[0m         \u001b[0;32mif\u001b[0m \u001b[0;32mnot\u001b[0m \u001b[0mself\u001b[0m\u001b[0;34m.\u001b[0m\u001b[0mf_updated\u001b[0m\u001b[0;34m:\u001b[0m\u001b[0;34m\u001b[0m\u001b[0;34m\u001b[0m\u001b[0m\n\u001b[0;32m--> 233\u001b[0;31m             \u001b[0mself\u001b[0m\u001b[0;34m.\u001b[0m\u001b[0m_update_fun_impl\u001b[0m\u001b[0;34m(\u001b[0m\u001b[0;34m)\u001b[0m\u001b[0;34m\u001b[0m\u001b[0;34m\u001b[0m\u001b[0m\n\u001b[0m\u001b[1;32m    234\u001b[0m             \u001b[0mself\u001b[0m\u001b[0;34m.\u001b[0m\u001b[0mf_updated\u001b[0m \u001b[0;34m=\u001b[0m \u001b[0;32mTrue\u001b[0m\u001b[0;34m\u001b[0m\u001b[0;34m\u001b[0m\u001b[0m\n\u001b[1;32m    235\u001b[0m \u001b[0;34m\u001b[0m\u001b[0m\n",
      "\u001b[0;32m~/opt/anaconda3/lib/python3.9/site-packages/scipy/optimize/_differentiable_functions.py\u001b[0m in \u001b[0;36mupdate_fun\u001b[0;34m()\u001b[0m\n\u001b[1;32m    135\u001b[0m \u001b[0;34m\u001b[0m\u001b[0m\n\u001b[1;32m    136\u001b[0m         \u001b[0;32mdef\u001b[0m \u001b[0mupdate_fun\u001b[0m\u001b[0;34m(\u001b[0m\u001b[0;34m)\u001b[0m\u001b[0;34m:\u001b[0m\u001b[0;34m\u001b[0m\u001b[0;34m\u001b[0m\u001b[0m\n\u001b[0;32m--> 137\u001b[0;31m             \u001b[0mself\u001b[0m\u001b[0;34m.\u001b[0m\u001b[0mf\u001b[0m \u001b[0;34m=\u001b[0m \u001b[0mfun_wrapped\u001b[0m\u001b[0;34m(\u001b[0m\u001b[0mself\u001b[0m\u001b[0;34m.\u001b[0m\u001b[0mx\u001b[0m\u001b[0;34m)\u001b[0m\u001b[0;34m\u001b[0m\u001b[0;34m\u001b[0m\u001b[0m\n\u001b[0m\u001b[1;32m    138\u001b[0m \u001b[0;34m\u001b[0m\u001b[0m\n\u001b[1;32m    139\u001b[0m         \u001b[0mself\u001b[0m\u001b[0;34m.\u001b[0m\u001b[0m_update_fun_impl\u001b[0m \u001b[0;34m=\u001b[0m \u001b[0mupdate_fun\u001b[0m\u001b[0;34m\u001b[0m\u001b[0;34m\u001b[0m\u001b[0m\n",
      "\u001b[0;32m~/opt/anaconda3/lib/python3.9/site-packages/scipy/optimize/_differentiable_functions.py\u001b[0m in \u001b[0;36mfun_wrapped\u001b[0;34m(x)\u001b[0m\n\u001b[1;32m    132\u001b[0m             \u001b[0;31m# Overwriting results in undefined behaviour because\u001b[0m\u001b[0;34m\u001b[0m\u001b[0;34m\u001b[0m\u001b[0m\n\u001b[1;32m    133\u001b[0m             \u001b[0;31m# fun(self.x) will change self.x, with the two no longer linked.\u001b[0m\u001b[0;34m\u001b[0m\u001b[0;34m\u001b[0m\u001b[0m\n\u001b[0;32m--> 134\u001b[0;31m             \u001b[0;32mreturn\u001b[0m \u001b[0mfun\u001b[0m\u001b[0;34m(\u001b[0m\u001b[0mnp\u001b[0m\u001b[0;34m.\u001b[0m\u001b[0mcopy\u001b[0m\u001b[0;34m(\u001b[0m\u001b[0mx\u001b[0m\u001b[0;34m)\u001b[0m\u001b[0;34m,\u001b[0m \u001b[0;34m*\u001b[0m\u001b[0margs\u001b[0m\u001b[0;34m)\u001b[0m\u001b[0;34m\u001b[0m\u001b[0;34m\u001b[0m\u001b[0m\n\u001b[0m\u001b[1;32m    135\u001b[0m \u001b[0;34m\u001b[0m\u001b[0m\n\u001b[1;32m    136\u001b[0m         \u001b[0;32mdef\u001b[0m \u001b[0mupdate_fun\u001b[0m\u001b[0;34m(\u001b[0m\u001b[0;34m)\u001b[0m\u001b[0;34m:\u001b[0m\u001b[0;34m\u001b[0m\u001b[0;34m\u001b[0m\u001b[0m\n",
      "\u001b[0;32m/var/folders/bt/r1dg46ys21lb57m4n4x11m6c0000gn/T/ipykernel_1053/3008480991.py\u001b[0m in \u001b[0;36mlikelihood\u001b[0;34m(parameters)\u001b[0m\n\u001b[1;32m     38\u001b[0m     \u001b[0mL_seller_vector\u001b[0m \u001b[0;34m=\u001b[0m \u001b[0mnp\u001b[0m\u001b[0;34m.\u001b[0m\u001b[0marray\u001b[0m\u001b[0;34m(\u001b[0m\u001b[0;34m[\u001b[0m\u001b[0melement\u001b[0m \u001b[0;32mfor\u001b[0m \u001b[0melement\u001b[0m \u001b[0;32min\u001b[0m \u001b[0mL_seller_vector\u001b[0m \u001b[0;32mif\u001b[0m \u001b[0mnp\u001b[0m\u001b[0;34m.\u001b[0m\u001b[0misnan\u001b[0m\u001b[0;34m(\u001b[0m\u001b[0melement\u001b[0m\u001b[0;34m)\u001b[0m \u001b[0;34m==\u001b[0m \u001b[0;32mFalse\u001b[0m\u001b[0;34m]\u001b[0m\u001b[0;34m)\u001b[0m\u001b[0;34m\u001b[0m\u001b[0;34m\u001b[0m\u001b[0m\n\u001b[1;32m     39\u001b[0m     \u001b[0mL_seller_vector\u001b[0m \u001b[0;34m=\u001b[0m \u001b[0mnp\u001b[0m\u001b[0;34m.\u001b[0m\u001b[0marray\u001b[0m\u001b[0;34m(\u001b[0m\u001b[0;34m[\u001b[0m\u001b[0melement\u001b[0m \u001b[0;32mfor\u001b[0m \u001b[0melement\u001b[0m \u001b[0;32min\u001b[0m \u001b[0mL_clone_vector\u001b[0m \u001b[0;32mif\u001b[0m \u001b[0mnp\u001b[0m\u001b[0;34m.\u001b[0m\u001b[0misnan\u001b[0m\u001b[0;34m(\u001b[0m\u001b[0melement\u001b[0m\u001b[0;34m)\u001b[0m \u001b[0;34m==\u001b[0m \u001b[0;32mFalse\u001b[0m\u001b[0;34m]\u001b[0m\u001b[0;34m)\u001b[0m\u001b[0;34m\u001b[0m\u001b[0;34m\u001b[0m\u001b[0m\n\u001b[0;32m---> 40\u001b[0;31m     \u001b[0mL_seller_vector\u001b[0m \u001b[0;34m=\u001b[0m \u001b[0mvlog_negatif\u001b[0m\u001b[0;34m(\u001b[0m\u001b[0mL_seller_vector\u001b[0m\u001b[0;34m)\u001b[0m\u001b[0;34m\u001b[0m\u001b[0;34m\u001b[0m\u001b[0m\n\u001b[0m\u001b[1;32m     41\u001b[0m     \u001b[0mL_clone_vector\u001b[0m \u001b[0;34m=\u001b[0m  \u001b[0mvlog_negatif\u001b[0m\u001b[0;34m(\u001b[0m\u001b[0mL_clone_vector\u001b[0m\u001b[0;34m)\u001b[0m\u001b[0;34m\u001b[0m\u001b[0;34m\u001b[0m\u001b[0m\n\u001b[1;32m     42\u001b[0m     \u001b[0mL_1\u001b[0m \u001b[0;34m=\u001b[0m \u001b[0mnp\u001b[0m\u001b[0;34m.\u001b[0m\u001b[0msum\u001b[0m\u001b[0;34m(\u001b[0m\u001b[0mL_seller_vector\u001b[0m\u001b[0;34m)\u001b[0m\u001b[0;34m\u001b[0m\u001b[0;34m\u001b[0m\u001b[0m\n",
      "\u001b[0;32m~/opt/anaconda3/lib/python3.9/site-packages/numpy/lib/function_base.py\u001b[0m in \u001b[0;36m__call__\u001b[0;34m(self, *args, **kwargs)\u001b[0m\n\u001b[1;32m   2302\u001b[0m             \u001b[0mvargs\u001b[0m\u001b[0;34m.\u001b[0m\u001b[0mextend\u001b[0m\u001b[0;34m(\u001b[0m\u001b[0;34m[\u001b[0m\u001b[0mkwargs\u001b[0m\u001b[0;34m[\u001b[0m\u001b[0m_n\u001b[0m\u001b[0;34m]\u001b[0m \u001b[0;32mfor\u001b[0m \u001b[0m_n\u001b[0m \u001b[0;32min\u001b[0m \u001b[0mnames\u001b[0m\u001b[0;34m]\u001b[0m\u001b[0;34m)\u001b[0m\u001b[0;34m\u001b[0m\u001b[0;34m\u001b[0m\u001b[0m\n\u001b[1;32m   2303\u001b[0m \u001b[0;34m\u001b[0m\u001b[0m\n\u001b[0;32m-> 2304\u001b[0;31m         \u001b[0;32mreturn\u001b[0m \u001b[0mself\u001b[0m\u001b[0;34m.\u001b[0m\u001b[0m_vectorize_call\u001b[0m\u001b[0;34m(\u001b[0m\u001b[0mfunc\u001b[0m\u001b[0;34m=\u001b[0m\u001b[0mfunc\u001b[0m\u001b[0;34m,\u001b[0m \u001b[0margs\u001b[0m\u001b[0;34m=\u001b[0m\u001b[0mvargs\u001b[0m\u001b[0;34m)\u001b[0m\u001b[0;34m\u001b[0m\u001b[0;34m\u001b[0m\u001b[0m\n\u001b[0m\u001b[1;32m   2305\u001b[0m \u001b[0;34m\u001b[0m\u001b[0m\n\u001b[1;32m   2306\u001b[0m     \u001b[0;32mdef\u001b[0m \u001b[0m_get_ufunc_and_otypes\u001b[0m\u001b[0;34m(\u001b[0m\u001b[0mself\u001b[0m\u001b[0;34m,\u001b[0m \u001b[0mfunc\u001b[0m\u001b[0;34m,\u001b[0m \u001b[0margs\u001b[0m\u001b[0;34m)\u001b[0m\u001b[0;34m:\u001b[0m\u001b[0;34m\u001b[0m\u001b[0;34m\u001b[0m\u001b[0m\n",
      "\u001b[0;32m~/opt/anaconda3/lib/python3.9/site-packages/numpy/lib/function_base.py\u001b[0m in \u001b[0;36m_vectorize_call\u001b[0;34m(self, func, args)\u001b[0m\n\u001b[1;32m   2380\u001b[0m             \u001b[0mres\u001b[0m \u001b[0;34m=\u001b[0m \u001b[0mfunc\u001b[0m\u001b[0;34m(\u001b[0m\u001b[0;34m)\u001b[0m\u001b[0;34m\u001b[0m\u001b[0;34m\u001b[0m\u001b[0m\n\u001b[1;32m   2381\u001b[0m         \u001b[0;32melse\u001b[0m\u001b[0;34m:\u001b[0m\u001b[0;34m\u001b[0m\u001b[0;34m\u001b[0m\u001b[0m\n\u001b[0;32m-> 2382\u001b[0;31m             \u001b[0mufunc\u001b[0m\u001b[0;34m,\u001b[0m \u001b[0motypes\u001b[0m \u001b[0;34m=\u001b[0m \u001b[0mself\u001b[0m\u001b[0;34m.\u001b[0m\u001b[0m_get_ufunc_and_otypes\u001b[0m\u001b[0;34m(\u001b[0m\u001b[0mfunc\u001b[0m\u001b[0;34m=\u001b[0m\u001b[0mfunc\u001b[0m\u001b[0;34m,\u001b[0m \u001b[0margs\u001b[0m\u001b[0;34m=\u001b[0m\u001b[0margs\u001b[0m\u001b[0;34m)\u001b[0m\u001b[0;34m\u001b[0m\u001b[0;34m\u001b[0m\u001b[0m\n\u001b[0m\u001b[1;32m   2383\u001b[0m \u001b[0;34m\u001b[0m\u001b[0m\n\u001b[1;32m   2384\u001b[0m             \u001b[0;31m# Convert args to object arrays first\u001b[0m\u001b[0;34m\u001b[0m\u001b[0;34m\u001b[0m\u001b[0m\n",
      "\u001b[0;32m~/opt/anaconda3/lib/python3.9/site-packages/numpy/lib/function_base.py\u001b[0m in \u001b[0;36m_get_ufunc_and_otypes\u001b[0;34m(self, func, args)\u001b[0m\n\u001b[1;32m   2336\u001b[0m             \u001b[0margs\u001b[0m \u001b[0;34m=\u001b[0m \u001b[0;34m[\u001b[0m\u001b[0masarray\u001b[0m\u001b[0;34m(\u001b[0m\u001b[0marg\u001b[0m\u001b[0;34m)\u001b[0m \u001b[0;32mfor\u001b[0m \u001b[0marg\u001b[0m \u001b[0;32min\u001b[0m \u001b[0margs\u001b[0m\u001b[0;34m]\u001b[0m\u001b[0;34m\u001b[0m\u001b[0;34m\u001b[0m\u001b[0m\n\u001b[1;32m   2337\u001b[0m             \u001b[0;32mif\u001b[0m \u001b[0mbuiltins\u001b[0m\u001b[0;34m.\u001b[0m\u001b[0many\u001b[0m\u001b[0;34m(\u001b[0m\u001b[0marg\u001b[0m\u001b[0;34m.\u001b[0m\u001b[0msize\u001b[0m \u001b[0;34m==\u001b[0m \u001b[0;36m0\u001b[0m \u001b[0;32mfor\u001b[0m \u001b[0marg\u001b[0m \u001b[0;32min\u001b[0m \u001b[0margs\u001b[0m\u001b[0;34m)\u001b[0m\u001b[0;34m:\u001b[0m\u001b[0;34m\u001b[0m\u001b[0;34m\u001b[0m\u001b[0m\n\u001b[0;32m-> 2338\u001b[0;31m                 raise ValueError('cannot call `vectorize` on size 0 inputs '\n\u001b[0m\u001b[1;32m   2339\u001b[0m                                  'unless `otypes` is set')\n\u001b[1;32m   2340\u001b[0m \u001b[0;34m\u001b[0m\u001b[0m\n",
      "\u001b[0;31mValueError\u001b[0m: cannot call `vectorize` on size 0 inputs unless `otypes` is set"
     ]
    }
   ],
   "source": [
    "# Initialisation des paramètres\n",
    "\n",
    "initial_params = np.random.uniform(2,15,size=19)\n",
    "\n",
    "result = minimize(likelihood, initial_params, method='L-BFGS-B', options={'maxiter':1000, 'disp': True, 'ftol': 1e-1})\n",
    "\n",
    "# Résultats\n",
    "estimated_params = result.x\n",
    "print(\"Estimated Parameters:\", estimated_params)\n",
    "print(\"success ? \", result.success)\n",
    "print(result.message)"
   ]
  },
  {
   "cell_type": "code",
   "execution_count": null,
   "metadata": {},
   "outputs": [],
   "source": []
  }
 ],
 "metadata": {
  "kernelspec": {
   "display_name": "base",
   "language": "python",
   "name": "python3"
  },
  "language_info": {
   "codemirror_mode": {
    "name": "ipython",
    "version": 3
   },
   "file_extension": ".py",
   "mimetype": "text/x-python",
   "name": "python",
   "nbconvert_exporter": "python",
   "pygments_lexer": "ipython3",
   "version": "3.9.12"
  },
  "orig_nbformat": 4
 },
 "nbformat": 4,
 "nbformat_minor": 2
}
