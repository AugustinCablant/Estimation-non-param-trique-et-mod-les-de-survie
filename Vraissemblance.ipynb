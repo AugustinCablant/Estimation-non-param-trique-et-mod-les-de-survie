{
 "cells": [
  {
   "cell_type": "markdown",
   "metadata": {},
   "source": [
    "# Maximisation de la fonction de vraissemblance "
   ]
  },
  {
   "cell_type": "code",
   "execution_count": 364,
   "metadata": {},
   "outputs": [
    {
     "name": "stdout",
     "output_type": "stream",
     "text": [
      "Collecting tensorflow_probability\n",
      "  Downloading tensorflow_probability-0.21.0-py2.py3-none-any.whl (6.9 MB)\n",
      "\u001b[2K     \u001b[90m━━━━━━━━━━━━━━━━━━━━━━━━━━━━━━━━━━━━━━━━\u001b[0m \u001b[32m6.9/6.9 MB\u001b[0m \u001b[31m9.5 MB/s\u001b[0m eta \u001b[36m0:00:00\u001b[0m00:01\u001b[0m00:01\u001b[0m\n",
      "\u001b[?25hRequirement already satisfied: six>=1.10.0 in /Users/augustincablant/opt/anaconda3/lib/python3.9/site-packages (from tensorflow_probability) (1.16.0)\n",
      "Collecting dm-tree\n",
      "  Downloading dm_tree-0.1.8-cp39-cp39-macosx_10_9_x86_64.whl (115 kB)\n",
      "\u001b[2K     \u001b[90m━━━━━━━━━━━━━━━━━━━━━━━━━━━━━━━━━━━━━━━\u001b[0m \u001b[32m115.4/115.4 kB\u001b[0m \u001b[31m7.0 MB/s\u001b[0m eta \u001b[36m0:00:00\u001b[0m\n",
      "\u001b[?25hRequirement already satisfied: gast>=0.3.2 in /Users/augustincablant/opt/anaconda3/lib/python3.9/site-packages (from tensorflow_probability) (0.4.0)\n",
      "Requirement already satisfied: cloudpickle>=1.3 in /Users/augustincablant/opt/anaconda3/lib/python3.9/site-packages (from tensorflow_probability) (2.0.0)\n",
      "Requirement already satisfied: decorator in /Users/augustincablant/opt/anaconda3/lib/python3.9/site-packages (from tensorflow_probability) (5.1.1)\n",
      "Requirement already satisfied: typing-extensions<4.6.0 in /Users/augustincablant/opt/anaconda3/lib/python3.9/site-packages (from tensorflow_probability) (4.3.0)\n",
      "Requirement already satisfied: absl-py in /Users/augustincablant/opt/anaconda3/lib/python3.9/site-packages (from tensorflow_probability) (1.4.0)\n",
      "Requirement already satisfied: numpy>=1.13.3 in /Users/augustincablant/opt/anaconda3/lib/python3.9/site-packages (from tensorflow_probability) (1.22.4)\n",
      "Installing collected packages: dm-tree, tensorflow_probability\n",
      "Successfully installed dm-tree-0.1.8 tensorflow_probability-0.21.0\n",
      "Note: you may need to restart the kernel to use updated packages.\n"
     ]
    }
   ],
   "source": [
    "%pip install tensorflow_probability"
   ]
  },
  {
   "cell_type": "code",
   "execution_count": 510,
   "metadata": {},
   "outputs": [],
   "source": [
    "import numpy as np \n",
    "import pandas as pd \n",
    "import matplotlib.pyplot as plt \n",
    "from scipy.optimize import minimize\n",
    "from datetime import datetime, timedelta\n",
    "from scipy.integrate import quad\n",
    "import random\n",
    "from tqdm import tqdm\n",
    "from mpmath import mp, exp\n",
    "from decimal import Decimal, getcontext\n",
    "import tensorflow_probability as tfp"
   ]
  },
  {
   "cell_type": "markdown",
   "metadata": {},
   "source": [
    "## Quelques notations \n",
    "\n",
    "- $X \\equiv$ un vecteur contenant les déterminants observables de $T_s$ et $T_d$ (genre, jour de naissance, département de naissance, etc.)\n",
    "\n",
    "- $\\tau_{birth} \\equiv$ la date de naissance de l'individu\n",
    "\n",
    "- $\\tau_{contract} \\equiv$ la date de la vente en viager\n",
    "\n",
    "- $\\tau_{begin} \\equiv$ la date du début de la période d'observation des fichiers INSEE (1-1-1970)\n",
    "\n",
    "- $\\tau_{end} \\equiv$ la date de la fin de la période d'observation des fichiers INSEE (1-6-2023)\n",
    "\n",
    "- $V_d \\equiv$ une variable captant l'effet des déterminants inobservables de $T_d$ (état de santé, richesse, niveau d'éducation)\n",
    "\n",
    "- $V_s \\equiv$ une variable captant l'effet des déterminants inobservables de $T_s$ (potentiellement les mêmes variables que celles captées par $V_d$, une variable indiquant si la personne a des enfants, une autre variable indiquant si elle a perdu son conjoint, etc.)\n",
    "\n",
    "- $V \\equiv (V_d,V_s)$"
   ]
  },
  {
   "cell_type": "markdown",
   "metadata": {},
   "source": [
    "La distribution de $T_d$ conditionnellement à $T_s$, $X$ et $V$, notée $T_d|T_s,X,V$, est complètement caractérisée par le taux de hasard (comme $T_d$ représente une durée de vie il s'agit en fait d'un taux de mortalité) :\n",
    "\\begin{equation*}\n",
    "\\underset{\\Delta \\downarrow 0}{\\text{lim}} \\frac{Pr(t \\leq T_d< t\n",
    "+\\Delta |T_d \\geq t,T_s=t_s,X=x, V=v)}{\\Delta} \\equiv \\theta_d(t|t_s,x,v).\n",
    "\\end{equation*}\n",
    "\n",
    "Donc $\\theta_d(t|t_s,x,v)\\Delta$ s'interprète comme la probabilité qu'une personne décède durant l'interval $[t,t+{\\Delta})$ sachant $T_s$, $X$ et $V$, et le fait que cette personne soit toujours vivante à l'âge $t$.\n",
    "\n",
    "De la même manière, la distribution de $T_s$ conditionnellement à $X$ et $V$ est complètement déterminée par le taux de hasard\n",
    "\\begin{equation*}\n",
    "\\underset{\\Delta \\downarrow 0}{\\text{lim}} \\frac{Pr(t \\leq T_s< t\n",
    "+\\Delta |T_s \\geq t,X=x, V=v)}{\\Delta} \\equiv \\theta_s(t|x,v).\n",
    "\\end{equation*}\n",
    "\n",
    "Finalement, on note $F_d(t|t_s,x,v)=Pr(T_d<t|T_s=t_s,X=x, V=v)$ la fonction de répartition conditionnelle de $T_d$, et $f_d(t|t_s,x,v)=\\partial F_d(t|t_s,x,v)/\\partial t$ la fonction de densité associée. Ces fonctions sont liées au taux de hasard $\\theta_d(t|t_s,x,v)$ de la façon suivante :\n",
    "\\begin{equation*}\n",
    "    \\theta_d(t|t_s,x,v)=\\frac{f_d(t|t_s,x,v)}{1-F_d(t|t_s,x,v)}\n",
    "\\end{equation*}\n",
    "et\n",
    "\\begin{equation*}\n",
    "1-F_d(t|t_s,x,v)=exp\\left[-\\int_0 ^t \\theta_d(u|t_s,x,v) du \\right].\n",
    "\\end{equation*}"
   ]
  },
  {
   "cell_type": "markdown",
   "metadata": {},
   "source": [
    "Faisons maintenant l'hypothèse que les taux de hasard s'écrivent comme :\n",
    "\n",
    "$$ \\theta_d(t|t_s,x,v)=\n",
    "    \\lambda_d(t) \\phi_d(x) v_d \\text{ si } t \\le t_s \\\\\n",
    "  \\theta_d(t|t_s,x,v)=\n",
    "    \\lambda_d(t) \\phi_d(x) \\delta(t,t_s,x) v_d \\text{ si } t >t_s $$\n",
    "\n",
    "et\n",
    "\n",
    "$$ \\theta_s(t|x,v)=\\lambda_s(t) \\phi_s(x) v_s.$$\n",
    "\n",
    "- Les fonctions $\\lambda_d(t)$ et $\\lambda_s(t)$ (parfois appelés taux de hasard de base) mesurent comment les taux de hasard dépendent respectivement de la durée $T_d$ et $T_s$. \n",
    "\n",
    "- Les termes $\\phi_d(x)$ et $\\phi_x(x)$ mesurent l'effet des variables observés sur les taux de hasard. \n",
    "\n",
    "- La composante cruciale dans ce modèle est $\\delta(t,t_s,x)$. Cette dernière fonction capte comment le taux de mortalité change après la vente en viager. Elle mesure donc comment les supplements d'argent reçus par le vendeur affecte sa durée de vie, et cet effet peut dépendre de l'âge $t$, l'âge $t_s$ auquel l'individu a vendu son bien immobilier en viager, et les caractéristiques $x$."
   ]
  },
  {
   "cell_type": "markdown",
   "metadata": {},
   "source": [
    "### 1er cas : Modèle le plus simple "
   ]
  },
  {
   "cell_type": "markdown",
   "metadata": {},
   "source": [
    "On suppose que $var(V_d)=var(V_s)=0$ et $\\delta(t,t_s,x)=\\delta$.\n",
    "\n",
    "$$\n",
    "\\theta_d(t|t_s,x)= \n",
    "    \\lambda_d \\phi_d(x) \\text{ si } t \\le t_s\\\\\n",
    "\\theta_d(t|t_s,x)= \n",
    "    \\lambda_d \\phi_d(x) \\delta \\text{ si } t >t_s\n",
    "$$\n",
    "\n",
    "et\n",
    "\n",
    "$$\n",
    "\\theta_s(t|x)=\\lambda_s \\phi_s(x).\n",
    "$$\n",
    "\n",
    "On a donc fait l'hypothèse que l'hétérogénéité inobservée est absente et que les durées $T_d|T_s,X$ et $T_s|X$ suivent des lois exponentielles (les taux de hasard de base $\\lambda_d(t)$ et $\\lambda_s(t)$ ne dépendent pas de $t$).\n",
    "\n",
    "$L_i^{seller} \\space = \\space \\displaystyle \\frac{f_d(t_{id}^{seller}|t_{is}^{seller},x_i)f_s(t_{is}^{seller}|x_i)}{Pr(\\tau_{begin}<\\tau_{i,birth}+T_{id}^{seller}<\\tau_{end}|X_i=x_i)} \\\\$ \n",
    "<br>\n",
    "<br>\n",
    "$= \\displaystyle \\frac{f_d(t_{id}^{seller}|t_{is}^{seller},x_i)f_s(t_{is}^{seller}|x_i)}{\\int \\left[F_d(\\tau_{end}-\\tau_{i,birth}|t_s,x_i)-F_d(\\tau_{begin}-\\tau_{i,birth}|t_s,x_i) \\right] f_s(t_s|x_i)dt_s} \\\\$\n",
    "<br>\n",
    "<br>\n",
    "$= \\displaystyle \\frac{\\lambda_d \\phi_d(x_i) \\delta e^{-\\phi_d(x_i)I_d(t_{id}^{seller},t_{is}^{seller})} \\lambda_s \\phi_s(x_i) e^{-\\phi_s(x_i)I_s(t_{is}^{seller})}}{\\int \\left[e^{-\\phi_d(x_i)I_d(\\tau_{begin}-\\tau_{i,birth},t_s)}-e^{-\\phi_d(x_i)I_d(\\tau_{end}-\\tau_{i,birth},t_s)}\\right] \\lambda_s \\phi_s(x_i) e^{-\\phi_s(x_i)I_s(t_s)} dt_s}$\n",
    "<br>\n",
    "<br>\n",
    "<br>\n",
    "<br>\n",
    "\n",
    "$L_i^{clone} = \\displaystyle \\int_{t_{id}^{clone}} ^{\\infty} \\frac{f_d(t_{id}^{clone}|u,x_i)f_s(u|x_i)}{Pr(\\tau_{contract}<\\tau_{i,birth}+T_{id}^{seller}<\\tau_{end}|X_i=x_i)}du \\\\$\n",
    "<br>\n",
    "<br>\n",
    "$= \\displaystyle \\frac{\\lambda_d \\phi_d(x_i)e^{-\\phi_d(x_i)I_d(t_{id}^{clone})}e^{-\\phi_s(x_i)I_s(t_{id}^{clone})}}{\\int \\left[e^{-\\phi_d(x_i)I_d(\\tau_{contract}-\\tau_{i,birth},t_s)}-e^{-\\phi_d(x_i)I_d(\\tau_{end}-\\tau_{i,birth},t_s)}\\right] \\lambda_s \\phi_s(x_i) e^{-\\phi_s(x_i)I_s(t_s)} dt_s}.$ <br>\n",
    "<br>\n",
    "<br>\n",
    "On spécifie $\\phi_j(x_i)=exp(x_i'\\beta_j)$, $j=d,s$, où $x_i'\\beta_j=x_{i1}\\beta_{j1}+x_{i2}\\beta_{j2}+ ...+x_{iK}\\beta_{jK}$, avec $K$ le nombre de variables explicatives."
   ]
  },
  {
   "cell_type": "markdown",
   "metadata": {},
   "source": [
    "Type of solver in scikit.spicy.minimize : [Have a look](https://docs.scipy.org/doc/scipy/reference/generated/scipy.optimize.minimize.html) <br>\n",
    "\n",
    "- ‘Nelder-Mead’  <br>\n",
    "\n",
    "- ‘Powell’ \n",
    "\n",
    "- ‘CG’ \n",
    "\n",
    "- ‘BFGS’ \n",
    "\n",
    "- ‘Newton-CG’ \n",
    "\n",
    "- ‘L-BFGS-B’ \n",
    "\n",
    "- ‘TNC’ \n",
    "\n",
    "- ‘COBYLA’ \n",
    "\n",
    "- ‘SLSQP’ \n",
    "\n",
    "- ‘trust-constr’\n",
    "\n",
    "- ‘dogleg’ \n",
    "\n",
    "- ‘trust-ncg’ \n",
    "\n",
    "- ‘trust-exact’ \n",
    "\n",
    "- ‘trust-krylov’ "
   ]
  },
  {
   "cell_type": "markdown",
   "metadata": {},
   "source": [
    "Nos variables sont :\n",
    "\n",
    "- $x_1 = $ type_libre \n",
    "\n",
    "- $x_2 = $ sexe_homme\n",
    "\n",
    "- $x_3 = $ idf \n",
    "\n",
    "- $x_4 = $ étranger \n",
    "\n",
    "- $x_5 = $ une_tete\n",
    "\n",
    "- $x_6 = $ dec1\n",
    "\n",
    "- $x_7 = $ dec2\n",
    "\n",
    "- $x_8 = $ dec3"
   ]
  },
  {
   "cell_type": "code",
   "execution_count": 587,
   "metadata": {},
   "outputs": [],
   "source": [
    "df = pd.read_csv('/Users/augustincablant/Desktop/Viagers/seller.csv')\n",
    "\n",
    "X = ['type_libre','sexe_homme','idf','etranger','une_tete','dec1','dec2','dec3']\n",
    "\n",
    "seller = df.copy().drop([635,906]).reset_index().drop(53).reset_index()"
   ]
  },
  {
   "cell_type": "markdown",
   "metadata": {},
   "source": [
    "Nous rappelons que dans le fichier seller, datetime(1960,1,1) = 0 jours (date de départ).\n",
    "\n",
    "$\\tau_{birth} \\equiv$ la date de naissance de l'individu\n",
    "\n",
    "$\\tau_{contract} \\equiv$ la date de la vente en viager\n",
    "\n",
    "$\\tau_{begin} \\equiv$ la date du début de la période d'observation des fichiers INSEE (1-1-1970)\n",
    "\n",
    "$\\tau_{end} \\equiv$ la date de la fin de la période d'observation des fichiers INSEE (1-6-2023)"
   ]
  },
  {
   "cell_type": "code",
   "execution_count": 588,
   "metadata": {},
   "outputs": [
    {
     "data": {
      "text/plain": [
       "\"\\n\\ntau_birth = seller['tau_birth'].to_list()\\n\\ntau_contract = seller['dateA'].to_list()\\n\\ntau_begin = (datetime(1970, 1, 1) - datetime(1960, 1, 1)).days \\n\\ntau_end = (datetime(2023, 7, 1) - datetime(1960, 1, 1)).days \\n\""
      ]
     },
     "execution_count": 588,
     "metadata": {},
     "output_type": "execute_result"
    }
   ],
   "source": [
    "def get_tau_birth(row):\n",
    "    tau_birth = (pd.Timestamp(row['b_annee'], row['b_mois'], row['b_jour']) - pd.Timestamp(1960, 1, 1)).days\n",
    "    return tau_birth\n",
    "\n",
    "seller['tau_birth'] = seller.apply(get_tau_birth,axis=1)\n",
    "\n",
    "\n",
    "tau_birth = ((seller['tau_birth'] - seller['tau_birth'].mean()) / seller['tau_birth'].std()).to_list()\n",
    "\n",
    "tau_contract = ((seller['dateA'] - seller['dateA'].mean()) / seller['dateA'].std()).to_list()\n",
    "\n",
    "tau_begin = (datetime(1970, 1, 1) - datetime(1960, 1, 1)).days * 10**(-4)\n",
    "\n",
    "tau_end = (datetime(2023, 7, 1) - datetime(1960, 1, 1)).days * 10**(-4)\n",
    "\"\"\"\n",
    "\n",
    "tau_birth = seller['tau_birth'].to_list()\n",
    "\n",
    "tau_contract = seller['dateA'].to_list()\n",
    "\n",
    "tau_begin = (datetime(1970, 1, 1) - datetime(1960, 1, 1)).days \n",
    "\n",
    "tau_end = (datetime(2023, 7, 1) - datetime(1960, 1, 1)).days \n",
    "\"\"\"\"\""
   ]
  },
  {
   "cell_type": "markdown",
   "metadata": {},
   "source": [
    "Définissons quelques fonctions : \n",
    "\n",
    "On commence par définir $\\phi $, ainsie définie : $ \\phi _j (x_i) = e^{x_i ^T \\beta _j}$ avec $j \\in $ {$d,s$} où $\\beta _d$ est un vecteur de taille 8."
   ]
  },
  {
   "cell_type": "code",
   "execution_count": 589,
   "metadata": {},
   "outputs": [],
   "source": [
    "def phiD(beta_d): # beta_d est un vecteur de taille 8\n",
    "    x_i = seller[X].values \n",
    "    phi = np.exp(np.dot(x_i,beta_d))\n",
    "    return (phi - phi.mean()) / phi.std() \n",
    "     # retourne une liste de taille N (chaque individu) \n",
    "\n",
    "\n",
    "def phiS(beta_s): #beta_d est un vecteur de taille 8\n",
    "    x_i = seller[X].values \n",
    "    phi = np.exp(np.dot(x_i,beta_s))\n",
    "    return (phi - phi.mean()) / phi.std()  # retourne une liste de taille N (chaque individu) "
   ]
  },
  {
   "cell_type": "markdown",
   "metadata": {},
   "source": [
    "Nous introduisons ensuite $\\theta _d $, ainsi définie : $\\theta _d (t|t_s,x) = \\lambda _d \\phi_d(x) \\space $ si $ \\space t \\le t_s$ et $ \\space \\theta _d (t|t_s,x) = \\lambda _d \\phi_d(x) \\delta \\space $ si $\\space t > t_s$."
   ]
  },
  {
   "cell_type": "code",
   "execution_count": 590,
   "metadata": {},
   "outputs": [],
   "source": [
    "def thetaD(lambda_d,phi_d,t,t_s, delta):\n",
    "    if t <= t_s:\n",
    "        theta = lambda_d * phi_d\n",
    "    else: \n",
    "        theta = lambda_d * phi_d * delta\n",
    "    return theta"
   ]
  },
  {
   "cell_type": "markdown",
   "metadata": {},
   "source": [
    "Puis $ \\theta _s(t|x) = \\lambda _s \\phi_s (x) $ : "
   ]
  },
  {
   "cell_type": "code",
   "execution_count": 591,
   "metadata": {},
   "outputs": [],
   "source": [
    "def thetaS(lambda_s,phi_s):\n",
    "    theta = lambda_s * phi_s \n",
    "    return theta"
   ]
  },
  {
   "cell_type": "markdown",
   "metadata": {},
   "source": [
    "$ I_d(t_1,t_2) = \\lambda_d (t_2 + \\delta (t_1 - t_2))  $ si $t_1 > t_2$ et $ I_d(t_1,t_2) = \\lambda _d t_1 $ si $t_1 \\le t_2$\n",
    "\n",
    "$ I_d(t) = \\lambda_d t $\n",
    "\n",
    "$ I_s(t) = \\lambda _s t $ "
   ]
  },
  {
   "cell_type": "code",
   "execution_count": 592,
   "metadata": {},
   "outputs": [],
   "source": [
    "def IDD(delta,lambda_d,t_1,t_2): \n",
    "    if t_1 <= t_2:\n",
    "        I = lambda_d * t_1\n",
    "    else: \n",
    "        I = lambda_d * (t_2 + delta * (t_1 - t_2))\n",
    "    return I \n",
    "\n",
    "\n",
    "def ID(lambda_d,t):\n",
    "    I = lambda_d * t\n",
    "    return I \n",
    "\n",
    "def IS(lambda_s,t):\n",
    "    I = lambda_s * t\n",
    "    return I "
   ]
  },
  {
   "cell_type": "markdown",
   "metadata": {},
   "source": [
    "Définir $L_i ^{seller}$ et $L_i ^{clone}$ : \n",
    "\n",
    "- $L_i ^{seller} = \\displaystyle \\frac{\\lambda_d \\phi_d(x_i) \\delta e^{-\\phi_d(x_i)I_d(t_{id}^{seller},t_{is}^{seller})} \\lambda_s \\phi_s(x_i) e^{-\\phi_s(x_i)I_s(t_{is}^{seller})}}{\\int \\left[e^{-\\phi_d(x_i)I_d(\\tau_{begin}-\\tau_{i,birth},t_s)}-e^{-\\phi_d(x_i)I_d(\\tau_{end}-\\tau_{i,birth},t_s)}\\right] \\lambda_s \\phi_s(x_i) e^{-\\phi_s(x_i)I_s(t_s)} dt_s} $\n",
    "<br>\n",
    "<br>\n",
    "\n",
    "- $L_i^{clone} = \\displaystyle \\frac{\\lambda_d \\phi_d(x_i)e^{-\\phi_d(x_i)I_d(t_{id}^{clone})}e^{-\\phi_s(x_i)I_s(t_{id}^{clone})}}{\\int \\left[e^{-\\phi_d(x_i)I_d(\\tau_{contract}-\\tau_{i,birth},t_s)}-e^{-\\phi_d(x_i)I_d(\\tau_{end}-\\tau_{i,birth},t_s)}\\right] \\lambda_s \\phi_s(x_i) e^{-\\phi_s(x_i)I_s(t_s)} dt_s}.$ "
   ]
  },
  {
   "cell_type": "code",
   "execution_count": 593,
   "metadata": {},
   "outputs": [
    {
     "data": {
      "text/plain": [
       "\"\\n\\n\\nT_d_seller = seller['Td'].to_list()\\nT_s_seller = seller['Ts'].to_list()\\n\\nT_d_clone = seller['Td_clone'].to_list()\\nT_s_clone = seller['Ts_clone'].to_list()\\n\""
      ]
     },
     "execution_count": 593,
     "metadata": {},
     "output_type": "execute_result"
    }
   ],
   "source": [
    "\n",
    "T_d_seller = ((seller['Td'] - seller['Td'].mean()) / seller['Td'].std()).to_list()\n",
    "T_s_seller = ((seller['Ts'] - seller['Ts'].mean()) / seller['Ts'].std()).to_list()\n",
    "\n",
    "T_d_clone = ((seller['Td_clone'] - seller['Td_clone'].mean()) / seller['Td_clone'].std()).to_list()\n",
    "T_s_clone = ((seller['Ts_clone'] - seller['Ts_clone'].mean()) / seller['Ts_clone'].std()).to_list()\n",
    "\"\"\"\n",
    "\n",
    "\n",
    "T_d_seller = seller['Td'].to_list()\n",
    "T_s_seller = seller['Ts'].to_list()\n",
    "\n",
    "T_d_clone = seller['Td_clone'].to_list()\n",
    "T_s_clone = seller['Ts_clone'].to_list()\n",
    "\"\"\"\"\""
   ]
  },
  {
   "cell_type": "code",
   "execution_count": 594,
   "metadata": {},
   "outputs": [],
   "source": [
    "def integrate_rectangles(func, a, b, n):\n",
    "    \"\"\"\n",
    "    Calcule l'intégrale de la fonction 'func' sur l'intervalle [a, b] en utilisant la méthode des rectangles.\n",
    "    :param n: Le nombre de rectangles à utiliser\n",
    "    :return: La valeur approximative de l'intégrale\n",
    "    \"\"\"\n",
    "\n",
    "    dx = (b - a) / n  # Largeur de chaque rectangle\n",
    "    integral = 0.0\n",
    "\n",
    "    for i in range(n):\n",
    "        x_i = a + i * dx  \n",
    "        integral += func(x_i) * dx\n",
    "\n",
    "    return integral"
   ]
  },
  {
   "cell_type": "markdown",
   "metadata": {},
   "source": [
    "Cette première cellule de code calcul $L_i ^{seller}$ et $L_i ^{clone}$ avec les intégrales. Cette méthode prend du temps, c'est pourquoi nous résolvons l'intégrale au dénominateur dans un calcul qui suit."
   ]
  },
  {
   "cell_type": "code",
   "execution_count": 595,
   "metadata": {},
   "outputs": [],
   "source": [
    "getcontext().prec = 50  \n",
    "\n",
    "def LSeller_i_test(lambda_d, lambda_s, phi_d, phi_s,delta, T_d_seller, T_d_clone, T_s_seller, T_s_clone, i):\n",
    "\n",
    "    # numérateur\n",
    "    numerateur_d_exp =  mp.exp(Decimal(-(phi_d[i] * IDD(delta,lambda_d,T_d_seller[i],T_s_seller[i]))))\n",
    "    numerateur_d = lambda_d * phi_d[i] * delta * numerateur_d_exp\n",
    "\n",
    "    numerateur_s_exp = mp.exp(Decimal(-(phi_s[i] * IS(lambda_s,T_s_seller[i]))))\n",
    "    numerateur_s = lambda_s * phi_s[i] * numerateur_s_exp\n",
    "\n",
    "    numerateur = numerateur_d * numerateur_s\n",
    "\n",
    "    # dénominateur \n",
    "    def f(t_s):\n",
    "        exp_1 = mp.exp(Decimal(- phi_d[i] * IDD(delta,lambda_d,tau_contract[i] - tau_birth[i], t_s)))\n",
    "        exp_2 = mp.exp(Decimal(- phi_d[i] * IDD(delta,lambda_d,tau_end - tau_birth[i],t_s)))\n",
    "        if phi_d[i]!=0:\n",
    "            left = exp_1 - exp_2\n",
    "        else:\n",
    "            left = 1\n",
    "        exp_right = mp.exp(Decimal(- phi_s[i] * IS(lambda_s,t_s)))\n",
    "        if phi_s[i] != 0:\n",
    "            right = lambda_s * phi_s[i] * exp_right\n",
    "        else: \n",
    "            right = lambda_s * exp_right\n",
    "        integrande = left * right \n",
    "        return integrande \n",
    "    \n",
    "    denominateur = quad(f, 0, 10000)[0]\n",
    "    \n",
    "    resultat = numerateur / denominateur\n",
    "    return resultat\n",
    "\n",
    "\n",
    "def LClone_i_test(lambda_d, lambda_s, phi_d, phi_s,delta, T_d_seller, T_d_clone, T_s_seller, T_s_clone,i):\n",
    "    # numérateur\n",
    "    numerateur_d_exp =  mp.exp(Decimal(-(phi_d[i] * ID(lambda_d,T_d_clone[i]))))\n",
    "    numerateur_d = lambda_d * phi_d[i] * numerateur_d_exp\n",
    "\n",
    "    numerateur_s_exp = mp.exp(Decimal(-(phi_s[i] * IS(lambda_s,T_s_clone[i]))))\n",
    "    numerateur_s = numerateur_s_exp\n",
    "\n",
    "    numerateur = numerateur_d * numerateur_s\n",
    "\n",
    "    # dénominateur \n",
    "    def f(t_s):\n",
    "        exp_1 = mp.exp(Decimal(- phi_d[i] * IDD(delta,lambda_d,tau_contract[i] - tau_birth[i], t_s)))\n",
    "        exp_2 = mp.exp(Decimal(- phi_d[i] * IDD(delta,lambda_d,tau_end - tau_birth[i],t_s)))\n",
    "        if phi_d[i]!=0:\n",
    "            left = exp_1 - exp_2\n",
    "        else:\n",
    "            left = 1\n",
    "        exp_right = mp.exp(Decimal(- phi_s[i] * IS(lambda_s,t_s)))\n",
    "        if phi_s[i] != 0:\n",
    "            right = lambda_s * phi_s[i] * exp_right\n",
    "        else: \n",
    "            right = lambda_s * exp_right\n",
    "        integrande = left * right \n",
    "        return integrande \n",
    "\n",
    "    denominateur = quad(f, 0, 10000)[0]\n",
    "    \n",
    "    resultat = numerateur / denominateur\n",
    "    return resultat"
   ]
  },
  {
   "cell_type": "markdown",
   "metadata": {},
   "source": [
    "Le dénominateur pour les vendeurs peut se réécrire : \n",
    "\n",
    "$ \\displaystyle  \\int _0 ^{+ \\infty} \\left[e^{-\\phi_d(x_i)I_d(\\tau_{begin}-\\tau_{i,birth},t_s)}-e^{-\\phi_d(x_i)I_d(\\tau_{end}-\\tau_{i,birth},t_s)}\\right] \\lambda_s \\phi_s(x_i) e^{-\\phi_s(x_i)I_s(t_s)} dt_s = $ <br>\n",
    "<br>\n",
    "\n",
    "$ \\displaystyle \\int _0 ^{\\tau _{begin} - \\tau _{i,birth}} \\left[e^{- \\lambda_d \\phi_d(x_i) (t_s + \\delta (\\tau _{begin} - \\tau _{i,birth} - t_s))}-e^{-\\lambda_d \\phi_d(x_i) (t_s + \\delta (\\tau _{end} - \\tau _{i,birth} - t_s))}\\right] \\lambda_s \\phi_s(x_i) e^{- \\lambda _s \\phi_s(x_i) t_s} dt_s \\space \\space \\space \\space (1)$ <br>\n",
    "<br>\n",
    "\n",
    "$ \\displaystyle + \\int _{\\tau _{begin} - \\tau _{i,birth}} ^{\\tau _{end} - \\tau _{i,birth}} \\left[e^{- \\lambda_d \\phi_d(x_i) (\\tau _{begin} - \\tau _{i,birth})}-e^{-\\lambda_d \\phi_d(x_i) (t_s + \\delta (\\tau _{end} - \\tau _{i,birth} - t_s))} \\right] \\lambda_s \\phi_s(x_i) e^{- \\lambda _s \\phi_s(x_i) t_s} dt_s \\space \\space \\space \\space (2)$ <br>\n",
    "<br>\n",
    "\n",
    "$ \\displaystyle + \\int _{\\tau _{end} - \\tau _{i,birth}} ^{+ \\infty } \\left[e^{-\\lambda_d \\phi_d(x_i) (\\tau _{begin} - \\tau _{i,birth})}-e^{-\\lambda_d \\phi_d(x_i) (\\tau _{end} - \\tau _{i,birth})}\\right] \\lambda_s \\phi_s(x_i) e^{- \\lambda _s \\phi_s(x_i) t_s} dt_s \\space \\space \\space \\space  (3)$ <br>\n",
    "<br>\n",
    "<br>\n",
    "\n",
    "Le dénominateur pour les clones peut se réécrire : <br>\n",
    "<br>\n",
    "\n",
    "$ \\displaystyle \\int \\left[e^{-\\phi_d(x_i)I_d(\\tau_{contract}-\\tau_{i,birth},t_s)}-e^{-\\phi_d(x_i)I_d(\\tau_{end}-\\tau_{i,birth},t_s)}\\right] \\lambda_s \\phi_s(x_i) e^{-\\phi_s(x_i)I_s(t_s)} dt_s = $ <br>\n",
    "<br>\n",
    "\n",
    "$\\displaystyle  \\int _0 ^{\\tau _{contract} - \\tau _{i,birth}} \\left[e^{- \\lambda_d \\phi_d(x_i) (t_s + \\delta (\\tau _{contract} - \\tau _{i,birth} - t_s))}-e^{-\\lambda_d \\phi_d(x_i) (t_s + \\delta (\\tau _{end} - \\tau _{i,birth} - t_s))}\\right] \\lambda_s \\phi_s(x_i) e^{- \\lambda _s \\phi_s(x_i) t_s} dt_s \\space \\space \\space \\space (1)$ <br>\n",
    "<br>\n",
    "\n",
    "$ \\displaystyle + \\int _{\\tau _{contract} - \\tau _{i,birth}} ^{\\tau _{end} - \\tau _{i,birth}} \\left[e^{- \\lambda_d \\phi_d(x_i) (\\tau _{contract} - \\tau _{i,birth})}-e^{-\\lambda_d \\phi_d(x_i) (t_s + \\delta (\\tau _{end} - \\tau _{i,birth} - t_s))} \\right] \\lambda_s \\phi_s(x_i) e^{- \\lambda _s \\phi_s(x_i) t_s} dt_s \\space \\space \\space \\space (2)$ <br>\n",
    "<br>\n",
    "\n",
    "$\\displaystyle  + \\int _{\\tau _{end} - \\tau _{i,birth}} ^{+ \\infty } \\left[e^{-\\lambda_d \\phi_d(x_i) (\\tau _{contract} - \\tau _{i,birth})}-e^{-\\lambda_d \\phi_d(x_i) (\\tau _{end} - \\tau _{i,birth})}\\right] \\lambda_s \\phi_s(x_i) e^{- \\lambda _s \\phi_s(x_i) t_s} dt_s \\space \\space \\space \\space  (3)$ "
   ]
  },
  {
   "cell_type": "markdown",
   "metadata": {},
   "source": [
    "Calcul pour les vendeurs (nous sautons quelques étapes afin de rendre la lecture plus agréable) : <br>\n",
    "<br>\n",
    "\n",
    "$ \\displaystyle (1) = \\displaystyle \\lambda _s \\phi _s (x_i) \\displaystyle \\int _0 ^{\\tau _{begin} - \\tau _{i,birth}} e^{- \\lambda_d \\phi_d(x_i) \\left[(1 - \\delta )t_s + \\delta (\\tau _{begin} - \\tau _{i,birth})\\right] - \\lambda _s \\phi _s (x_i) t_s} dt_s \\space -  \\space \\displaystyle \\lambda _s \\phi _s (x_i) \\displaystyle \\int _0 ^{\\tau _{begin} - \\tau _{i,birth}} e^{- \\lambda_d \\phi_d(x_i) \\left[(1 - \\delta )t_s + \\delta (\\tau _{end} - \\tau _{i,birth})\\right] - \\lambda _s \\phi _s (x_i) t_s} dt_s$ <br>\n",
    "<br>\n",
    "\n",
    "$ \\displaystyle = \\displaystyle - \\frac{\\lambda _s \\phi _s (x_i) \\left[e^{- (\\tau _{begin} - \\tau _{i,birth}) ( \\lambda _d \\phi _d (x_i) + \\lambda _s \\phi _s (x_i))} - e^{- \\lambda _d \\phi _d (x_i) \\left[ \\delta (\\tau _{end} - \\tau _{i,birth}) + (1 -\\delta ) (\\tau _{begin} - \\tau _{i,birth}) \\right] - \\lambda _s \\phi _s (x_i) (\\tau _{begin} - \\tau _{i,birth})} \\right]}{\\lambda _d \\phi _d (x_i) (1 - \\delta) + \\lambda _s \\phi _s (x_i)}$ <br>\n",
    "<br>\n",
    "<br>\n",
    "\n",
    "\n",
    "$ \\displaystyle (2) = \\displaystyle \\int _{\\tau _{begin} - \\tau _{i,birth}} ^{\\tau _{end} - \\tau _{i,birth}} \\left[e^{- \\lambda_d \\phi_d(x_i) (\\tau _{begin} - \\tau _{i,birth})}-e^{-\\lambda_d \\phi_d(x_i) (t_s + \\delta (\\tau _{end} - \\tau _{i,birth} - t_s))} \\right] \\lambda_s \\phi_s(x_i) e^{- \\lambda _s \\phi_s(x_i) t_s} dt_s $ <br>\n",
    "<br>\n",
    "\n",
    "$\\displaystyle = \\displaystyle e^{- (\\tau _{begin} - \\tau _{i,birth})(\\lambda _d \\phi _d (x_i) + \\lambda _s \\phi _s (x_i))} - \\displaystyle e^{ - (\\tau _{begin} - \\tau _{i,birth}) \\lambda _d \\phi _d (x_i) - (\\tau _{end} - \\tau _{i,birth}) \\lambda _s \\phi _s (x_i)} - $ <br>\n",
    "<br> \n",
    "\n",
    "$\\displaystyle \\frac{\\lambda _s \\phi _s (x_i) \\left[e^{- \\lambda _d \\phi _d (x_i) \\left[ \\delta (\\tau _{end} - \\tau _{i,birth}) - (1 - \\delta )(\\tau _{begin} - \\tau _{i,birth}) \\right] - \\lambda _s (\\tau _{begin} - \\tau _{i,birth}) \\phi _s (x_i)} - e^{- (\\tau _{end} - \\tau _{i,birth})( \\lambda _d \\phi _d (x_i) + \\lambda _s \\phi _s (x_i))} \\right]}{\\lambda _d \\phi _d (x_i) (1 - \\delta) + \\lambda _s \\phi _s (x_i)} $ <br>\n",
    "<br>\n",
    "\n",
    "$ (3) = \\displaystyle e^{- \\lambda _d \\phi _d (x_i) (\\tau _{begin} - \\tau _{i,birth}) - \\lambda _s \\phi _s (x_i) (\\tau _{end} - \\tau _{i,birth})} - \\displaystyle e^{- (\\tau _{end} - \\tau _{i,birth})(\\lambda _d \\phi _d (x_i) + \\lambda _s \\phi _s (x_i))}$"
   ]
  },
  {
   "cell_type": "markdown",
   "metadata": {},
   "source": [
    "On remplace simplement $ \\tau _{begin} $ par $ \\tau _{contract}$ pour obtenir l'expression pour les clones ..."
   ]
  },
  {
   "cell_type": "code",
   "execution_count": 616,
   "metadata": {},
   "outputs": [],
   "source": [
    "mp.dps = 50\n",
    "\n",
    "def LSeller_i(lambda_d, lambda_s, phi_d, phi_s,delta, T_d_seller, T_d_clone, T_s_seller, T_s_clone, i):\n",
    "    \n",
    "    # numérateur\n",
    "    numerateur_d_exp =  np.exp(-(phi_d[i] * IDD(delta,lambda_d,T_d_seller[i],T_s_seller[i])))\n",
    "    numerateur_d = lambda_d * phi_d[i] * delta * numerateur_d_exp\n",
    "    \n",
    "    numerateur_s_exp = np.exp(-(phi_s[i] * IS(lambda_s,T_s_seller[i])))\n",
    "    numerateur_s = lambda_s * phi_s[i] * numerateur_s_exp\n",
    "    numerateur = numerateur_d * numerateur_s\n",
    "\n",
    "    # dénominateur \n",
    "    s = lambda_s * phi_s[i] \n",
    "    d = lambda_d * phi_d[i] \n",
    "    t_end = tau_end - tau_birth[i]\n",
    "    t_begin = tau_begin - tau_birth[i]\n",
    "    deno = d * (1 - delta) + s\n",
    "    membre_1 = - (s * (np.exp( - d * (delta * t_end - (1 - delta) * t_begin )) - np.exp(- t_end * (d - s)))) / deno\n",
    "    \n",
    "    membre_2 = np.exp( - t_end * (d + s)) - np.exp( - d * t_begin - s * t_end)\n",
    "\n",
    "    membre_3 = np.exp(- d * t_begin - s * t_end) - np.exp( - t_end * (d + s)) - s * (np.exp(- d * (delta * t_end - (1 - delta) * t_begin ) - s * t_begin ) - np.exp( - t_end * (s + d))) / deno\n",
    "    \n",
    "    denominateur = membre_1 + membre_2 + membre_3\n",
    "    \n",
    "    resultat = numerateur / denominateur\n",
    "    \n",
    "    return resultat\n",
    "\n",
    "\n",
    "def LClone_i(lambda_d, lambda_s, phi_d, phi_s,delta, T_d_seller, T_d_clone, T_s_seller, T_s_clone, i):\n",
    "\n",
    "    # numérateur\n",
    "    numerateur_d_exp =  np.exp(-(phi_d[i] * IDD(delta,lambda_d,T_d_seller[i],T_s_seller[i])))\n",
    "    numerateur_d = lambda_d * phi_d[i] * delta * numerateur_d_exp\n",
    "\n",
    "    numerateur_s_exp = np.exp(-(phi_s[i] * IS(lambda_s,T_s_seller[i])))\n",
    "    numerateur_s = lambda_s * phi_s[i] * numerateur_s_exp\n",
    "\n",
    "    numerateur = numerateur_d * numerateur_s\n",
    "\n",
    "    # dénominateur \n",
    "    s = lambda_s * phi_s[i] \n",
    "    d = lambda_d * phi_d[i] \n",
    "    t_end = tau_end - tau_birth[i]\n",
    "    t_begin = tau_contract[i] - tau_birth[i]\n",
    "    deno = d * (1 - delta) + s\n",
    "\n",
    "    membre_1 = - (s * (np.exp( - d * (delta * t_end - (1 - delta) * t_begin )) - np.exp(- t_end * (d - s)))) / deno\n",
    "    \n",
    "    membre_2 = np.exp( - t_end * (d + s)) - np.exp( - d * t_begin - s * t_end)\n",
    "\n",
    "    membre_3 = np.exp(- d * t_begin - s * t_end) - np.exp( - t_end * (d + s)) - s * (np.exp(- d * (delta * t_end - (1 - delta) * t_begin ) - s * t_begin ) - np.exp( - t_end * (s + d))) / deno\n",
    "\n",
    "    denominateur = membre_1 + membre_2 + membre_3\n",
    "    \n",
    "    resultat = numerateur / denominateur\n",
    "\n",
    "    \n",
    "    return resultat"
   ]
  },
  {
   "cell_type": "markdown",
   "metadata": {},
   "source": [
    "$ \\displaystyle \\log (L_i ^{seller}) = \\displaystyle \\log \\left[ \\lambda_d \\phi_d(x_i) \\delta e^{-\\phi_d(x_i)I_d(t_{id}^{seller},t_{is}^{seller})} \\lambda_s \\phi_s(x_i) e^{-\\phi_s(x_i)I_s(t_{is}^{seller})}\\right] - \\displaystyle \\log \\left[ \\int \\left[e^{-\\phi_d(x_i)I_d(\\tau_{begin}-\\tau_{i,birth},t_s)}-e^{-\\phi_d(x_i)I_d(\\tau_{end}-\\tau_{i,birth},t_s)}\\right] \\lambda_s \\phi_s(x_i) e^{-\\phi_s(x_i)I_s(t_s)} dt_s \\right] $\n",
    "<br>\n",
    "<br>"
   ]
  },
  {
   "cell_type": "code",
   "execution_count": 582,
   "metadata": {},
   "outputs": [],
   "source": [
    "def log_LSeller_i(lambda_d, lambda_s, phi_d, phi_s,delta, T_d_seller, T_d_clone, T_s_seller, T_s_clone, i):\n",
    "    \n",
    "    # numérateur\n",
    "    numerateur_log = np.log(phi_d[i] * lambda_d * delta * lambda_s * phi_s[i])\n",
    "    numerateur = numerateur_log - phi_d[i] * IDD(delta,lambda_d,T_d_seller[i],T_s_seller[i]) - phi_s[i] * IS(lambda_s,T_s_seller[i])\n",
    "\n",
    "    # dénominateur \n",
    "    s = lambda_s * phi_s[i] \n",
    "    d = lambda_d * phi_d[i] \n",
    "    t_end = tau_end - tau_birth[i]\n",
    "    t_begin = tau_begin - tau_birth[i]\n",
    "    deno = np.log(d * (1 - delta) + s)\n",
    "    \n",
    "    membre_1 = - (s * (np.exp( - d * (delta * t_end - (1 - delta) * t_begin )) - np.exp(- t_end * (d - s)))) / deno\n",
    "    \n",
    "    membre_2 = np.exp( - t_end * (d + s)) - np.exp( - d * t_begin - s * t_end)\n",
    "\n",
    "    membre_3 = np.exp(- d * t_begin - s * t_end) - np.exp( - t_end * (d + s)) - s * (np.exp(- d * (delta * t_end - (1 - delta) * t_begin ) - s * t_begin ) - np.exp( - t_end * (s + d))) / deno\n",
    "    \n",
    "    denominateur = np.log(membre_1 + membre_2 + membre_3)\n",
    "    \n",
    "\n",
    "    resultat = numerateur - denominateur\n",
    "\n",
    "    return resultat\n",
    "\n",
    "\n",
    "def log_LClone_i(lambda_d, lambda_s, phi_d, phi_s,delta, T_d_seller, T_d_clone, T_s_seller, T_s_clone, i):\n",
    "\n",
    "    # numérateur\n",
    "    numerateur_log = np.log(phi_d[i] * lambda_d * delta * lambda_s * phi_s[i])\n",
    "    numerateur = numerateur_log - phi_d[i] * IDD(delta,lambda_d,T_d_seller[i],T_s_seller[i]) - phi_s[i] * IS(lambda_s,T_s_seller[i])\n",
    "\n",
    "    # dénominateur \n",
    "    s = lambda_s * phi_s[i] \n",
    "    d = lambda_d * phi_d[i] \n",
    "    t_end = tau_end - tau_birth[i]\n",
    "    t_begin = tau_contract[i] - tau_birth[i]\n",
    "    deno = np.log(d * (1 - delta) + s)\n",
    "    \n",
    "    membre_1 = - (s * (np.exp( - d * (delta * t_end - (1 - delta) * t_begin )) - np.exp(- t_end * (d - s)))) / deno\n",
    "    \n",
    "    membre_2 = np.exp( - t_end * (d + s)) - np.exp( - d * t_begin - s * t_end)\n",
    "\n",
    "    membre_3 = np.exp(- d * t_begin - s * t_end) - np.exp( - t_end * (d + s)) - s * (np.exp(- d * (delta * t_end - (1 - delta) * t_begin ) - s * t_begin ) - np.exp( - t_end * (s + d))) / deno\n",
    "    \n",
    "    denominateur = np.log(membre_1 + membre_2 + membre_3)\n",
    "    \n",
    "\n",
    "    resultat = numerateur - denominateur\n",
    "\n",
    "    return resultat"
   ]
  },
  {
   "cell_type": "markdown",
   "metadata": {},
   "source": [
    "Debug"
   ]
  },
  {
   "cell_type": "code",
   "execution_count": 583,
   "metadata": {},
   "outputs": [],
   "source": [
    "lambda_d, lambda_s, phi_d, phi_s,delta, T_d_seller, T_d_clone, T_s_seller, T_s_clone, i = 1.8365724339605265, 4.70236396326959, 16.950167357612912, 1.3241113481683418, 2.474934449942431, -0.9894083280847973, -1.7523798267466055, -2.0961926645937052, -2.0998141170750753, 635\n",
    "\n",
    "\n",
    "numerateur_d_exp =  np.exp(-(phi_d * IDD(delta,lambda_d,T_d_seller,T_s_seller)))\n",
    "numerateur_d = lambda_d * phi_d * delta * numerateur_d_exp\n",
    "    \n",
    "numerateur_s_exp = np.exp(-(phi_s * IS(lambda_s,T_s_seller)))\n",
    "numerateur_s = lambda_s * phi_s * numerateur_s_exp\n",
    "numerateur = numerateur_d * numerateur_s\n",
    "\n",
    "# dénominateur \n",
    "s = lambda_s * phi_s\n",
    "d = lambda_d * phi_d \n",
    "t_end = tau_end - tau_birth[635]\n",
    "t_begin = tau_begin - tau_birth[635]\n",
    "deno = d * (1 - delta) + s\n",
    "membre_1 = - (s * (np.exp( - d * (delta * t_end - (1 - delta) * t_begin )) - np.exp(- t_end * (d - s)))) / deno\n",
    "    \n",
    "membre_2 = np.exp(-t_end * (d + s)) - np.exp(- d * t_begin - s * t_end)\n",
    "\n",
    "membre_3 = np.exp(- d * t_begin - s * t_end) - np.exp( - t_end * (d + s)) - s * (np.exp(- d * (delta * t_end - (1 - delta) * t_begin ) - s * t_begin ) - np.exp( - t_end * (s + d))) / deno\n",
    "    \n",
    "denominateur = membre_1 + membre_2 + membre_3\n",
    "    \n",
    "\n",
    "resultat = numerateur / denominateur\n"
   ]
  },
  {
   "cell_type": "markdown",
   "metadata": {},
   "source": [
    "Passons au calcul de la fonction de vraisemblance : \n",
    "\n",
    "$$ L = \\displaystyle \\prod _{i=1} ^N L_i = \\displaystyle \\prod _{i=1} ^N L_i ^{seller} . \\space L_i ^{clone}$$ \n",
    "\n",
    "On peut aussi utiliser : \n",
    "\n",
    "$$ l = \\displaystyle \\log (\\prod _{i=1} ^N L_i ^{seller} . \\space L_i ^{clone}) = \\displaystyle  (\\sum _{i=1} ^N \\log (L_i ^{seller}) + \\log(L_i ^{clone}))$$"
   ]
  },
  {
   "cell_type": "code",
   "execution_count": 617,
   "metadata": {},
   "outputs": [],
   "source": [
    "# Définir la fonction de vraisemblance (à maximiser) \n",
    "def likelihood(parameters):\n",
    "\n",
    "    # Paramètres à trouver\n",
    "    # lambda_d, lambda_s et delta des réels \n",
    "    # beta_d et beta_s des vecteurs de taille N\n",
    "    parameters = list(parameters)\n",
    "    lambda_d = parameters[0]\n",
    "    lambda_s = parameters[1]\n",
    "    beta_d = list(parameters[2:10])\n",
    "    beta_s = list(parameters[10:18])\n",
    "    delta = parameters[-1]\n",
    "\n",
    "    phi_d = phiD(beta_d)\n",
    "    phi_s = phiS(beta_s)\n",
    "    L_seller_vector = []\n",
    "    L_clone_vector = []\n",
    "\n",
    "    for i in tqdm(seller.index.to_list()): \n",
    "        L_seller_i = LSeller_i(lambda_d, lambda_s, phi_d, phi_s,delta, T_d_seller, T_d_clone, T_s_seller, T_s_clone, i)\n",
    "        L_clone_i = LClone_i(lambda_d, lambda_s, phi_d, phi_s,delta, T_d_seller, T_d_clone, T_s_seller, T_s_clone, i)\n",
    "        if np.isnan(L_seller_i):\n",
    "            break\n",
    "        \n",
    "        if np.isinf(L_seller_i):\n",
    "            print(i)\n",
    "            print(lambda_d, lambda_s, phi_d[i], phi_s[i],delta, T_d_seller[i], T_d_clone[i], T_s_seller[i], T_s_clone[i], i)\n",
    "        L_seller_vector.append(L_seller_i)\n",
    "\n",
    "        L_clone_vector.append(L_clone_i)\n",
    "            \n",
    "        \n",
    "\n",
    "\n",
    "    L_seller_vector = np.array(L_seller_vector)\n",
    "    L_clone_vector = np.array(L_clone_vector)\n",
    "    L_vector = L_seller_vector * L_clone_vector\n",
    "    Likelihood = np.prod(L_vector)\n",
    "    \n",
    "    return -Likelihood # Retourner le négatif de la vraisemblance car minimize va minimiser la fonction"
   ]
  },
  {
   "cell_type": "markdown",
   "metadata": {},
   "source": [
    "Méthode log-vraisemblance"
   ]
  },
  {
   "cell_type": "code",
   "execution_count": 585,
   "metadata": {},
   "outputs": [],
   "source": [
    "# Définir la log-vraisemblance \n",
    "\n",
    "def log_likelihood(parameters):\n",
    "\n",
    "    # Paramètres à trouver\n",
    "    # lambda_d, lambda_s et delta des réels \n",
    "    # beta_d et beta_s des vecteurs de taille N\n",
    "    parameters = list(parameters)\n",
    "    lambda_d = parameters[0]\n",
    "    lambda_s = parameters[1]\n",
    "    beta_d = list(parameters[2:10])\n",
    "    beta_s = list(parameters[10:18])\n",
    "    delta = parameters[-1]\n",
    "\n",
    "    phi_d = phiD(beta_d)\n",
    "    phi_s = phiS(beta_s)\n",
    "    log_L_seller_vector = []\n",
    "    log_L_clone_vector = []\n",
    "\n",
    "    for i in tqdm(seller.index.to_list()): \n",
    "        log_L_seller_i = log_LSeller_i(lambda_d, lambda_s, phi_d, phi_s,delta, T_d_seller, T_d_clone, T_s_seller, T_s_clone, i)\n",
    "        log_L_clone_i = log_LClone_i(lambda_d, lambda_s, phi_d, phi_s,delta, T_d_seller, T_d_clone, T_s_seller, T_s_clone, i)\n",
    "        log_L_seller_vector.append(log_L_seller_i)\n",
    "        log_L_clone_vector.append(log_L_clone_i)\n",
    "            \n",
    "        \n",
    "\n",
    "    log_L_seller_vector = np.array(log_L_seller_vector)\n",
    "    log_L_clone_vector = np.array(log_L_clone_vector)\n",
    "    L_vector = log_L_seller_vector + log_L_clone_vector\n",
    "    log_Likelihood = np.sum(L_vector)\n",
    "    \n",
    "    return -log_Likelihood # Retourner le négatif de la log_vraisemblance car minimize va minimiser la fonction"
   ]
  },
  {
   "cell_type": "markdown",
   "metadata": {},
   "source": [
    "Minimiser l'opposé de la fonction de vraisemblance :"
   ]
  },
  {
   "cell_type": "code",
   "execution_count": 627,
   "metadata": {},
   "outputs": [
    {
     "name": "stderr",
     "output_type": "stream",
     "text": [
      "100%|██████████| 951/951 [00:00<00:00, 22139.98it/s]\n",
      "100%|██████████| 951/951 [00:00<00:00, 17445.77it/s]\n",
      "100%|██████████| 951/951 [00:00<00:00, 21954.99it/s]\n",
      "100%|██████████| 951/951 [00:00<00:00, 26838.80it/s]\n",
      "100%|██████████| 951/951 [00:00<00:00, 26512.53it/s]\n",
      "100%|██████████| 951/951 [00:00<00:00, 26126.49it/s]\n",
      "100%|██████████| 951/951 [00:00<00:00, 26227.16it/s]\n",
      "100%|██████████| 951/951 [00:00<00:00, 26770.72it/s]\n",
      "100%|██████████| 951/951 [00:00<00:00, 26710.48it/s]\n",
      "100%|██████████| 951/951 [00:00<00:00, 26757.07it/s]\n",
      "100%|██████████| 951/951 [00:00<00:00, 26750.97it/s]\n",
      "100%|██████████| 951/951 [00:00<00:00, 26666.38it/s]\n",
      "100%|██████████| 951/951 [00:00<00:00, 26699.93it/s]\n",
      "100%|██████████| 951/951 [00:00<00:00, 27015.49it/s]\n",
      "100%|██████████| 951/951 [00:00<00:00, 26847.66it/s]\n",
      "100%|██████████| 951/951 [00:00<00:00, 26652.83it/s]\n",
      "100%|██████████| 951/951 [00:00<00:00, 26995.56it/s]\n",
      "100%|██████████| 951/951 [00:00<00:00, 26820.58it/s]\n",
      "100%|██████████| 951/951 [00:00<00:00, 26641.62it/s]\n",
      "100%|██████████| 951/951 [00:00<00:00, 26809.94it/s]\n"
     ]
    },
    {
     "name": "stdout",
     "output_type": "stream",
     "text": [
      "Estimated Parameters: [1. 1. 1. 1. 1. 1. 1. 1. 1. 1. 1. 1. 1. 1. 1. 1. 1. 1. 1.]\n",
      "success ?  True\n",
      "Optimization terminated successfully.\n"
     ]
    }
   ],
   "source": [
    "# Initialisation des paramètres\n",
    "\n",
    "initial_params = [1]*19\n",
    "\n",
    "result = minimize(likelihood, initial_params, method='BFGS')\n",
    "\n",
    "# Résultats\n",
    "estimated_params = result.x\n",
    "print(\"Estimated Parameters:\", estimated_params)\n",
    "print(\"success ? \", result.success)\n",
    "print(result.message)"
   ]
  },
  {
   "cell_type": "code",
   "execution_count": null,
   "metadata": {},
   "outputs": [],
   "source": []
  }
 ],
 "metadata": {
  "kernelspec": {
   "display_name": "base",
   "language": "python",
   "name": "python3"
  },
  "language_info": {
   "codemirror_mode": {
    "name": "ipython",
    "version": 3
   },
   "file_extension": ".py",
   "mimetype": "text/x-python",
   "name": "python",
   "nbconvert_exporter": "python",
   "pygments_lexer": "ipython3",
   "version": "3.9.12"
  },
  "orig_nbformat": 4
 },
 "nbformat": 4,
 "nbformat_minor": 2
}
