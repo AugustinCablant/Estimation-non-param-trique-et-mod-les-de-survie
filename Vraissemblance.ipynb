{
 "cells": [
  {
   "cell_type": "markdown",
   "metadata": {},
   "source": [
    "# Maximisation de la fonction de vraissemblance "
   ]
  },
  {
   "cell_type": "code",
   "execution_count": 648,
   "metadata": {},
   "outputs": [],
   "source": [
    "import numpy as np \n",
    "import pandas as pd \n",
    "import matplotlib.pyplot as plt \n",
    "from scipy.optimize import minimize\n",
    "from datetime import datetime, timedelta\n",
    "from scipy.integrate import quad\n",
    "import random\n",
    "from tqdm import tqdm\n",
    "from decimal import Decimal, getcontext\n",
    "import tensorflow_probability as tfp"
   ]
  },
  {
   "cell_type": "markdown",
   "metadata": {},
   "source": [
    "## Quelques notations \n",
    "\n",
    "- $X \\equiv$ un vecteur contenant les déterminants observables de $T_s$ et $T_d$ (genre, jour de naissance, département de naissance, etc.)\n",
    "\n",
    "- $\\tau_{birth} \\equiv$ la date de naissance de l'individu\n",
    "\n",
    "- $\\tau_{contract} \\equiv$ la date de la vente en viager\n",
    "\n",
    "- $\\tau_{begin} \\equiv$ la date du début de la période d'observation des fichiers INSEE (1-1-1970)\n",
    "\n",
    "- $\\tau_{end} \\equiv$ la date de la fin de la période d'observation des fichiers INSEE (1-6-2023)\n",
    "\n",
    "- $V_d \\equiv$ une variable captant l'effet des déterminants inobservables de $T_d$ (état de santé, richesse, niveau d'éducation)\n",
    "\n",
    "- $V_s \\equiv$ une variable captant l'effet des déterminants inobservables de $T_s$ (potentiellement les mêmes variables que celles captées par $V_d$, une variable indiquant si la personne a des enfants, une autre variable indiquant si elle a perdu son conjoint, etc.)\n",
    "\n",
    "- $V \\equiv (V_d,V_s)$"
   ]
  },
  {
   "cell_type": "markdown",
   "metadata": {},
   "source": [
    "La distribution de $T_d$ conditionnellement à $T_s$, $X$ et $V$, notée $T_d|T_s,X,V$, est complètement caractérisée par le taux de hasard (comme $T_d$ représente une durée de vie il s'agit en fait d'un taux de mortalité) :\n",
    "\\begin{equation*}\n",
    "\\underset{\\Delta \\downarrow 0}{\\text{lim}} \\frac{Pr(t \\leq T_d< t\n",
    "+\\Delta |T_d \\geq t,T_s=t_s,X=x, V=v)}{\\Delta} \\equiv \\theta_d(t|t_s,x,v).\n",
    "\\end{equation*}\n",
    "\n",
    "Donc $\\theta_d(t|t_s,x,v)\\Delta$ s'interprète comme la probabilité qu'une personne décède durant l'interval $[t,t+{\\Delta})$ sachant $T_s$, $X$ et $V$, et le fait que cette personne soit toujours vivante à l'âge $t$.\n",
    "\n",
    "De la même manière, la distribution de $T_s$ conditionnellement à $X$ et $V$ est complètement déterminée par le taux de hasard\n",
    "\\begin{equation*}\n",
    "\\underset{\\Delta \\downarrow 0}{\\text{lim}} \\frac{Pr(t \\leq T_s< t\n",
    "+\\Delta |T_s \\geq t,X=x, V=v)}{\\Delta} \\equiv \\theta_s(t|x,v).\n",
    "\\end{equation*}\n",
    "\n",
    "Finalement, on note $F_d(t|t_s,x,v)=Pr(T_d<t|T_s=t_s,X=x, V=v)$ la fonction de répartition conditionnelle de $T_d$, et $f_d(t|t_s,x,v)=\\partial F_d(t|t_s,x,v)/\\partial t$ la fonction de densité associée. Ces fonctions sont liées au taux de hasard $\\theta_d(t|t_s,x,v)$ de la façon suivante :\n",
    "\\begin{equation*}\n",
    "    \\theta_d(t|t_s,x,v)=\\frac{f_d(t|t_s,x,v)}{1-F_d(t|t_s,x,v)}\n",
    "\\end{equation*}\n",
    "et\n",
    "\\begin{equation*}\n",
    "1-F_d(t|t_s,x,v)=exp\\left[-\\int_0 ^t \\theta_d(u|t_s,x,v) du \\right].\n",
    "\\end{equation*}"
   ]
  },
  {
   "cell_type": "markdown",
   "metadata": {},
   "source": [
    "Faisons maintenant l'hypothèse que les taux de hasard s'écrivent comme :\n",
    "\n",
    "$$ \\theta_d(t|t_s,x,v)=\n",
    "    \\lambda_d(t) \\phi_d(x) v_d \\text{ si } t \\le t_s \\\\\n",
    "  \\theta_d(t|t_s,x,v)=\n",
    "    \\lambda_d(t) \\phi_d(x) \\delta(t,t_s,x) v_d \\text{ si } t >t_s $$\n",
    "\n",
    "et\n",
    "\n",
    "$$ \\theta_s(t|x,v)=\\lambda_s(t) \\phi_s(x) v_s.$$\n",
    "\n",
    "- Les fonctions $\\lambda_d(t)$ et $\\lambda_s(t)$ (parfois appelés taux de hasard de base) mesurent comment les taux de hasard dépendent respectivement de la durée $T_d$ et $T_s$. \n",
    "\n",
    "- Les termes $\\phi_d(x)$ et $\\phi_x(x)$ mesurent l'effet des variables observés sur les taux de hasard. \n",
    "\n",
    "- La composante cruciale dans ce modèle est $\\delta(t,t_s,x)$. Cette dernière fonction capte comment le taux de mortalité change après la vente en viager. Elle mesure donc comment les supplements d'argent reçus par le vendeur affecte sa durée de vie, et cet effet peut dépendre de l'âge $t$, l'âge $t_s$ auquel l'individu a vendu son bien immobilier en viager, et les caractéristiques $x$."
   ]
  },
  {
   "cell_type": "markdown",
   "metadata": {},
   "source": [
    "### 1er cas : Modèle le plus simple "
   ]
  },
  {
   "cell_type": "markdown",
   "metadata": {},
   "source": [
    "On suppose que $var(V_d)=var(V_s)=0$ et $\\delta(t,t_s,x)=\\delta$.\n",
    "\n",
    "$$\n",
    "\\theta_d(t|t_s,x)= \n",
    "    \\lambda_d \\phi_d(x) \\text{ si } t \\le t_s\\\\\n",
    "\\theta_d(t|t_s,x)= \n",
    "    \\lambda_d \\phi_d(x) \\delta \\text{ si } t >t_s\n",
    "$$\n",
    "\n",
    "et\n",
    "\n",
    "$$\n",
    "\\theta_s(t|x)=\\lambda_s \\phi_s(x).\n",
    "$$\n",
    "\n",
    "On a donc fait l'hypothèse que l'hétérogénéité inobservée est absente et que les durées $T_d|T_s,X$ et $T_s|X$ suivent des lois exponentielles (les taux de hasard de base $\\lambda_d(t)$ et $\\lambda_s(t)$ ne dépendent pas de $t$).\n",
    "\n",
    "$L_i^{seller} \\space = \\space \\displaystyle \\frac{f_d(t_{id}^{seller}|t_{is}^{seller},x_i)f_s(t_{is}^{seller}|x_i)}{Pr(\\tau_{begin}<\\tau_{i,birth}+T_{id}^{seller}<\\tau_{end}|X_i=x_i)} \\\\$ \n",
    "<br>\n",
    "<br>\n",
    "$= \\displaystyle \\frac{f_d(t_{id}^{seller}|t_{is}^{seller},x_i)f_s(t_{is}^{seller}|x_i)}{\\int \\left[F_d(\\tau_{end}-\\tau_{i,birth}|t_s,x_i)-F_d(\\tau_{begin}-\\tau_{i,birth}|t_s,x_i) \\right] f_s(t_s|x_i)dt_s} \\\\$\n",
    "<br>\n",
    "<br>\n",
    "$= \\displaystyle \\frac{\\lambda_d \\phi_d(x_i) \\delta e^{-\\phi_d(x_i)I_d(t_{id}^{seller},t_{is}^{seller})} \\lambda_s \\phi_s(x_i) e^{-\\phi_s(x_i)I_s(t_{is}^{seller})}}{\\int \\left[e^{-\\phi_d(x_i)I_d(\\tau_{begin}-\\tau_{i,birth},t_s)}-e^{-\\phi_d(x_i)I_d(\\tau_{end}-\\tau_{i,birth},t_s)}\\right] \\lambda_s \\phi_s(x_i) e^{-\\phi_s(x_i)I_s(t_s)} dt_s}$\n",
    "<br>\n",
    "<br>\n",
    "<br>\n",
    "<br>\n",
    "\n",
    "$L_i^{clone} = \\displaystyle \\int_{t_{id}^{clone}} ^{\\infty} \\frac{f_d(t_{id}^{clone}|u,x_i)f_s(u|x_i)}{Pr(\\tau_{contract}<\\tau_{i,birth}+T_{id}^{seller}<\\tau_{end}|X_i=x_i)}du \\\\$\n",
    "<br>\n",
    "<br>\n",
    "$= \\displaystyle \\frac{\\lambda_d \\phi_d(x_i)e^{-\\phi_d(x_i)I_d(t_{id}^{clone})}e^{-\\phi_s(x_i)I_s(t_{id}^{clone})}}{\\int \\left[e^{-\\phi_d(x_i)I_d(\\tau_{contract}-\\tau_{i,birth},t_s)}-e^{-\\phi_d(x_i)I_d(\\tau_{end}-\\tau_{i,birth},t_s)}\\right] \\lambda_s \\phi_s(x_i) e^{-\\phi_s(x_i)I_s(t_s)} dt_s}.$ <br>\n",
    "<br>\n",
    "<br>\n",
    "On spécifie $\\phi_j(x_i)=exp(x_i'\\beta_j)$, $j=d,s$, où $x_i'\\beta_j=x_{i1}\\beta_{j1}+x_{i2}\\beta_{j2}+ ...+x_{iK}\\beta_{jK}$, avec $K$ le nombre de variables explicatives."
   ]
  },
  {
   "cell_type": "markdown",
   "metadata": {},
   "source": [
    "Type of solver in scikit.spicy.minimize : [Have a look](https://docs.scipy.org/doc/scipy/reference/generated/scipy.optimize.minimize.html) <br>\n",
    "\n",
    "- ‘Nelder-Mead’  <br>\n",
    "\n",
    "- ‘Powell’ \n",
    "\n",
    "- ‘CG’ \n",
    "\n",
    "- ‘BFGS’ \n",
    "\n",
    "- ‘Newton-CG’ \n",
    "\n",
    "- ‘L-BFGS-B’ \n",
    "\n",
    "- ‘TNC’ \n",
    "\n",
    "- ‘COBYLA’ \n",
    "\n",
    "- ‘SLSQP’ \n",
    "\n",
    "- ‘trust-constr’\n",
    "\n",
    "- ‘dogleg’ \n",
    "\n",
    "- ‘trust-ncg’ \n",
    "\n",
    "- ‘trust-exact’ \n",
    "\n",
    "- ‘trust-krylov’ "
   ]
  },
  {
   "cell_type": "markdown",
   "metadata": {},
   "source": [
    "Nos variables sont :\n",
    "\n",
    "- $x_1 = $ type_libre \n",
    "\n",
    "- $x_2 = $ sexe_homme\n",
    "\n",
    "- $x_3 = $ idf \n",
    "\n",
    "- $x_4 = $ étranger \n",
    "\n",
    "- $x_5 = $ une_tete\n",
    "\n",
    "- $x_6 = $ dec1\n",
    "\n",
    "- $x_7 = $ dec2\n",
    "\n",
    "- $x_8 = $ dec3"
   ]
  },
  {
   "cell_type": "code",
   "execution_count": 661,
   "metadata": {},
   "outputs": [],
   "source": [
    "df = pd.read_csv('Data/seller.csv')\n",
    "\n",
    "X = ['type_libre','sexe_homme','idf','etranger','une_tete','dec1','dec2','dec3']\n",
    "\n",
    "seller = df.copy().drop([635,906]).reset_index().drop(53).reset_index()"
   ]
  },
  {
   "cell_type": "markdown",
   "metadata": {},
   "source": [
    "Nous rappelons que dans le fichier seller, datetime(1960,1,1) = 0 jours (date de départ).\n",
    "\n",
    "$\\tau_{birth} \\equiv$ la date de naissance de l'individu\n",
    "\n",
    "$\\tau_{contract} \\equiv$ la date de la vente en viager\n",
    "\n",
    "$\\tau_{begin} \\equiv$ la date du début de la période d'observation des fichiers INSEE (1-1-1970)\n",
    "\n",
    "$\\tau_{end} \\equiv$ la date de la fin de la période d'observation des fichiers INSEE (1-6-2023)"
   ]
  },
  {
   "cell_type": "code",
   "execution_count": 662,
   "metadata": {},
   "outputs": [
    {
     "data": {
      "text/plain": [
       "'\"\\ntau_birth = seller[\\'tau_birth\\'].to_list()\\n\\ntau_contract = seller[\\'dateA\\'].to_list()\\n\\ntau_begin = (datetime(1970, 1, 1) - datetime(1960, 1, 1)).days \\n\\ntau_end = (datetime(2023, 7, 1) - datetime(1960, 1, 1)).days \\n'"
      ]
     },
     "execution_count": 662,
     "metadata": {},
     "output_type": "execute_result"
    }
   ],
   "source": [
    "def get_tau_birth(row):\n",
    "    tau_birth = (pd.Timestamp(row['b_annee'], row['b_mois'], row['b_jour']) - pd.Timestamp(1960, 1, 1)).days\n",
    "    return tau_birth\n",
    "\n",
    "seller['tau_birth'] = seller.apply(get_tau_birth,axis=1)\n",
    "\n",
    "\n",
    "tau_birth = (seller['tau_birth']  / seller['tau_birth'].std()).to_list()\n",
    "\n",
    "tau_contract = (seller['dateA']  / seller['dateA'].std()).to_list()\n",
    "\n",
    "tau_begin = (datetime(1970, 1, 1) - datetime(1960, 1, 1)).days * 10**(-4)\n",
    "\n",
    "tau_end = (datetime(2023, 7, 1) - datetime(1960, 1, 1)).days * 10**(-4)\n",
    "\n",
    "\"\"\"\"\n",
    "tau_birth = seller['tau_birth'].to_list()\n",
    "\n",
    "tau_contract = seller['dateA'].to_list()\n",
    "\n",
    "tau_begin = (datetime(1970, 1, 1) - datetime(1960, 1, 1)).days \n",
    "\n",
    "tau_end = (datetime(2023, 7, 1) - datetime(1960, 1, 1)).days \n",
    "\"\"\"\"\"\n"
   ]
  },
  {
   "cell_type": "markdown",
   "metadata": {},
   "source": [
    "Définissons quelques fonctions : \n",
    "\n",
    "On commence par définir $\\phi $, ainsie définie : $ \\phi _j (x_i) = e^{x_i ^T \\beta _j}$ avec $j \\in $ {$d,s$} où $\\beta _d$ est un vecteur de taille 8."
   ]
  },
  {
   "cell_type": "code",
   "execution_count": 663,
   "metadata": {},
   "outputs": [],
   "source": [
    "def phiD(beta_d): # beta_d est un vecteur de taille 8\n",
    "    x_i = seller[X].values \n",
    "    phi = np.exp(np.dot(x_i,beta_d))\n",
    "    return phi / phi.std() \n",
    "    #return phi\n",
    "     # retourne une liste de taille N (chaque individu) \n",
    "\n",
    "\n",
    "def phiS(beta_s): #beta_d est un vecteur de taille 8\n",
    "    x_i = seller[X].values \n",
    "    phi = np.exp(np.dot(x_i,beta_s))\n",
    "    return phi / phi.std()\n",
    "    #return (phi - phi.mean()) / phi.std()  # retourne une liste de taille N (chaque individu) "
   ]
  },
  {
   "cell_type": "markdown",
   "metadata": {},
   "source": [
    "Nous introduisons ensuite $\\theta _d $, ainsi définie : $\\theta _d (t|t_s,x) = \\lambda _d \\phi_d(x) \\space $ si $ \\space t \\le t_s$ et $ \\space \\theta _d (t|t_s,x) = \\lambda _d \\phi_d(x) \\delta \\space $ si $\\space t > t_s$."
   ]
  },
  {
   "cell_type": "code",
   "execution_count": 664,
   "metadata": {},
   "outputs": [],
   "source": [
    "def thetaD(lambda_d,phi_d,t,t_s, delta):\n",
    "    if t <= t_s:\n",
    "        theta = lambda_d * phi_d\n",
    "    else: \n",
    "        theta = lambda_d * phi_d * delta\n",
    "    return theta"
   ]
  },
  {
   "cell_type": "markdown",
   "metadata": {},
   "source": [
    "Puis $ \\theta _s(t|x) = \\lambda _s \\phi_s (x) $ : "
   ]
  },
  {
   "cell_type": "code",
   "execution_count": 665,
   "metadata": {},
   "outputs": [],
   "source": [
    "def thetaS(lambda_s,phi_s):\n",
    "    theta = lambda_s * phi_s \n",
    "    return theta"
   ]
  },
  {
   "cell_type": "markdown",
   "metadata": {},
   "source": [
    "$ I_d(t_1,t_2) = \\lambda_d (t_2 + \\delta (t_1 - t_2))  $ si $t_1 > t_2$ et $ I_d(t_1,t_2) = \\lambda _d t_1 $ si $t_1 \\le t_2$\n",
    "\n",
    "$ I_d(t) = \\lambda_d t $\n",
    "\n",
    "$ I_s(t) = \\lambda _s t $ "
   ]
  },
  {
   "cell_type": "code",
   "execution_count": 666,
   "metadata": {},
   "outputs": [],
   "source": [
    "def IDD(delta,lambda_d,t_1,t_2): \n",
    "    if t_1 <= t_2:\n",
    "        I = lambda_d * t_1\n",
    "    else: \n",
    "        I = lambda_d * (t_2 + delta * (t_1 - t_2))\n",
    "    return I \n",
    "\n",
    "\n",
    "def ID(lambda_d,t):\n",
    "    I = lambda_d * t\n",
    "    return I \n",
    "\n",
    "def IS(lambda_s,t):\n",
    "    I = lambda_s * t\n",
    "    return I "
   ]
  },
  {
   "cell_type": "markdown",
   "metadata": {},
   "source": [
    "Définir $L_i ^{seller}$ et $L_i ^{clone}$ : \n",
    "\n",
    "- $L_i ^{seller} = \\displaystyle \\frac{\\lambda_d \\phi_d(x_i) \\delta e^{-\\phi_d(x_i)I_d(t_{id}^{seller},t_{is}^{seller})} \\lambda_s \\phi_s(x_i) e^{-\\phi_s(x_i)I_s(t_{is}^{seller})}}{\\int \\left[e^{-\\phi_d(x_i)I_d(\\tau_{begin}-\\tau_{i,birth},t_s)}-e^{-\\phi_d(x_i)I_d(\\tau_{end}-\\tau_{i,birth},t_s)}\\right] \\lambda_s \\phi_s(x_i) e^{-\\phi_s(x_i)I_s(t_s)} dt_s} $\n",
    "<br>\n",
    "<br>\n",
    "\n",
    "- $L_i^{clone} = \\displaystyle \\frac{\\lambda_d \\phi_d(x_i)e^{-\\phi_d(x_i)I_d(t_{id}^{clone})}e^{-\\phi_s(x_i)I_s(t_{id}^{clone})}}{\\int \\left[e^{-\\phi_d(x_i)I_d(\\tau_{contract}-\\tau_{i,birth},t_s)}-e^{-\\phi_d(x_i)I_d(\\tau_{end}-\\tau_{i,birth},t_s)}\\right] \\lambda_s \\phi_s(x_i) e^{-\\phi_s(x_i)I_s(t_s)} dt_s}.$ "
   ]
  },
  {
   "cell_type": "code",
   "execution_count": 667,
   "metadata": {},
   "outputs": [
    {
     "data": {
      "text/plain": [
       "'\"\"\\nT_d_seller = seller[\\'Td\\'].to_list()\\nT_s_seller = seller[\\'Ts\\'].to_list()\\n\\nT_d_clone = seller[\\'Td_clone\\'].to_list()\\nT_s_clone = seller[\\'Ts_clone\\'].to_list()\\n'"
      ]
     },
     "execution_count": 667,
     "metadata": {},
     "output_type": "execute_result"
    }
   ],
   "source": [
    "\n",
    "T_d_seller = (seller['Td'] / seller['Td'].std()).to_list()\n",
    "T_s_seller = (seller['Ts'] / seller['Ts'].std()).to_list()\n",
    "\n",
    "T_d_clone = (seller['Td_clone'] / seller['Td_clone'].std()).to_list()\n",
    "T_s_clone = (seller['Ts_clone'] / seller['Ts_clone'].std()).to_list()\n",
    "\n",
    "\n",
    "\"\"\"\"\"\n",
    "T_d_seller = seller['Td'].to_list()\n",
    "T_s_seller = seller['Ts'].to_list()\n",
    "\n",
    "T_d_clone = seller['Td_clone'].to_list()\n",
    "T_s_clone = seller['Ts_clone'].to_list()\n",
    "\"\"\"\"\"\n"
   ]
  },
  {
   "cell_type": "code",
   "execution_count": 657,
   "metadata": {},
   "outputs": [],
   "source": [
    "def integrate_rectangles(func, a, b, n):\n",
    "    \"\"\"\n",
    "    Calcule l'intégrale de la fonction 'func' sur l'intervalle [a, b] en utilisant la méthode des rectangles.\n",
    "    :param n: Le nombre de rectangles à utiliser\n",
    "    :return: La valeur approximative de l'intégrale\n",
    "    \"\"\"\n",
    "\n",
    "    dx = (b - a) / n  # Largeur de chaque rectangle\n",
    "    integral = 0.0\n",
    "\n",
    "    for i in range(n):\n",
    "        x_i = a + i * dx  \n",
    "        integral += func(x_i) * dx\n",
    "\n",
    "    return integral"
   ]
  },
  {
   "cell_type": "markdown",
   "metadata": {},
   "source": [
    "##### Cette première cellule de code calcul $L_i ^{seller}$ et $L_i ^{clone}$ avec les intégrales. Cette méthode prend du temps, c'est pourquoi nous résolvons l'intégrale au dénominateur dans un calcul qui suit.\n",
    "\n",
    "Ne pas utiliser"
   ]
  },
  {
   "cell_type": "code",
   "execution_count": 595,
   "metadata": {},
   "outputs": [],
   "source": [
    "getcontext().prec = 50  \n",
    "\n",
    "def LSeller_i_test(lambda_d, lambda_s, phi_d, phi_s,delta, T_d_seller, T_d_clone, T_s_seller, T_s_clone, i):\n",
    "\n",
    "    # numérateur\n",
    "    numerateur_d_exp =  mp.exp(Decimal(-(phi_d[i] * IDD(delta,lambda_d,T_d_seller[i],T_s_seller[i]))))\n",
    "    numerateur_d = lambda_d * phi_d[i] * delta * numerateur_d_exp\n",
    "\n",
    "    numerateur_s_exp = mp.exp(Decimal(-(phi_s[i] * IS(lambda_s,T_s_seller[i]))))\n",
    "    numerateur_s = lambda_s * phi_s[i] * numerateur_s_exp\n",
    "\n",
    "    numerateur = numerateur_d * numerateur_s\n",
    "\n",
    "    # dénominateur \n",
    "    def f(t_s):\n",
    "        exp_1 = mp.exp(Decimal(- phi_d[i] * IDD(delta,lambda_d,tau_contract[i] - tau_birth[i], t_s)))\n",
    "        exp_2 = mp.exp(Decimal(- phi_d[i] * IDD(delta,lambda_d,tau_end - tau_birth[i],t_s)))\n",
    "        if phi_d[i]!=0:\n",
    "            left = exp_1 - exp_2\n",
    "        else:\n",
    "            left = 1\n",
    "        exp_right = mp.exp(Decimal(- phi_s[i] * IS(lambda_s,t_s)))\n",
    "        if phi_s[i] != 0:\n",
    "            right = lambda_s * phi_s[i] * exp_right\n",
    "        else: \n",
    "            right = lambda_s * exp_right\n",
    "        integrande = left * right \n",
    "        return integrande \n",
    "    \n",
    "    denominateur = quad(f, 0, 10000)[0]\n",
    "    \n",
    "    resultat = numerateur / denominateur\n",
    "    return resultat\n",
    "\n",
    "\n",
    "def LClone_i_test(lambda_d, lambda_s, phi_d, phi_s,delta, T_d_seller, T_d_clone, T_s_seller, T_s_clone,i):\n",
    "    # numérateur\n",
    "    numerateur_d_exp =  mp.exp(Decimal(-(phi_d[i] * ID(lambda_d,T_d_clone[i]))))\n",
    "    numerateur_d = lambda_d * phi_d[i] * numerateur_d_exp\n",
    "\n",
    "    numerateur_s_exp = mp.exp(Decimal(-(phi_s[i] * IS(lambda_s,T_s_clone[i]))))\n",
    "    numerateur_s = numerateur_s_exp\n",
    "\n",
    "    numerateur = numerateur_d * numerateur_s\n",
    "\n",
    "    # dénominateur \n",
    "    def f(t_s):\n",
    "        exp_1 = mp.exp(Decimal(- phi_d[i] * IDD(delta,lambda_d,tau_contract[i] - tau_birth[i], t_s)))\n",
    "        exp_2 = mp.exp(Decimal(- phi_d[i] * IDD(delta,lambda_d,tau_end - tau_birth[i],t_s)))\n",
    "        if phi_d[i]!=0:\n",
    "            left = exp_1 - exp_2\n",
    "        else:\n",
    "            left = 1\n",
    "        exp_right = mp.exp(Decimal(- phi_s[i] * IS(lambda_s,t_s)))\n",
    "        if phi_s[i] != 0:\n",
    "            right = lambda_s * phi_s[i] * exp_right\n",
    "        else: \n",
    "            right = lambda_s * exp_right\n",
    "        integrande = left * right \n",
    "        return integrande \n",
    "\n",
    "    denominateur = quad(f, 0, 10000)[0]\n",
    "    \n",
    "    resultat = numerateur / denominateur\n",
    "    return resultat"
   ]
  },
  {
   "cell_type": "markdown",
   "metadata": {},
   "source": [
    "##### Le dénominateur pour les vendeurs peut se réécrire : \n",
    "\n",
    "$ \\displaystyle  \\int _0 ^{+ \\infty} \\left[e^{-\\phi_d(x_i)I_d(\\tau_{begin}-\\tau_{i,birth},t_s)}-e^{-\\phi_d(x_i)I_d(\\tau_{end}-\\tau_{i,birth},t_s)}\\right] \\lambda_s \\phi_s(x_i) e^{-\\phi_s(x_i)I_s(t_s)} dt_s = $ <br>\n",
    "<br>\n",
    "\n",
    "$ \\displaystyle \\int _0 ^{\\tau _{begin} - \\tau _{i,birth}} \\left[e^{- \\lambda_d \\phi_d(x_i) (t_s + \\delta (\\tau _{begin} - \\tau _{i,birth} - t_s))}-e^{-\\lambda_d \\phi_d(x_i) (t_s + \\delta (\\tau _{end} - \\tau _{i,birth} - t_s))}\\right] \\lambda_s \\phi_s(x_i) e^{- \\lambda _s \\phi_s(x_i) t_s} dt_s \\space \\space \\space \\space (1)$ <br>\n",
    "<br>\n",
    "\n",
    "$ \\displaystyle + \\int _{\\tau _{begin} - \\tau _{i,birth}} ^{\\tau _{end} - \\tau _{i,birth}} \\left[e^{- \\lambda_d \\phi_d(x_i) (\\tau _{begin} - \\tau _{i,birth})}-e^{-\\lambda_d \\phi_d(x_i) (t_s + \\delta (\\tau _{end} - \\tau _{i,birth} - t_s))} \\right] \\lambda_s \\phi_s(x_i) e^{- \\lambda _s \\phi_s(x_i) t_s} dt_s \\space \\space \\space \\space (2)$ <br>\n",
    "<br>\n",
    "\n",
    "$ \\displaystyle + \\int _{\\tau _{end} - \\tau _{i,birth}} ^{+ \\infty } \\left[e^{-\\lambda_d \\phi_d(x_i) (\\tau _{begin} - \\tau _{i,birth})}-e^{-\\lambda_d \\phi_d(x_i) (\\tau _{end} - \\tau _{i,birth})}\\right] \\lambda_s \\phi_s(x_i) e^{- \\lambda _s \\phi_s(x_i) t_s} dt_s \\space \\space \\space \\space  (3)$ <br>\n",
    "<br>\n",
    "<br>\n",
    "\n",
    "Le dénominateur pour les clones peut se réécrire : <br>\n",
    "<br>\n",
    "\n",
    "$ \\displaystyle \\int \\left[e^{-\\phi_d(x_i)I_d(\\tau_{contract}-\\tau_{i,birth},t_s)}-e^{-\\phi_d(x_i)I_d(\\tau_{end}-\\tau_{i,birth},t_s)}\\right] \\lambda_s \\phi_s(x_i) e^{-\\phi_s(x_i)I_s(t_s)} dt_s = $ <br>\n",
    "<br>\n",
    "\n",
    "$\\displaystyle  \\int _0 ^{\\tau _{contract} - \\tau _{i,birth}} \\left[e^{- \\lambda_d \\phi_d(x_i) (t_s + \\delta (\\tau _{contract} - \\tau _{i,birth} - t_s))}-e^{-\\lambda_d \\phi_d(x_i) (t_s + \\delta (\\tau _{end} - \\tau _{i,birth} - t_s))}\\right] \\lambda_s \\phi_s(x_i) e^{- \\lambda _s \\phi_s(x_i) t_s} dt_s \\space \\space \\space \\space (1)$ <br>\n",
    "<br>\n",
    "\n",
    "$ \\displaystyle + \\int _{\\tau _{contract} - \\tau _{i,birth}} ^{\\tau _{end} - \\tau _{i,birth}} \\left[e^{- \\lambda_d \\phi_d(x_i) (\\tau _{contract} - \\tau _{i,birth})}-e^{-\\lambda_d \\phi_d(x_i) (t_s + \\delta (\\tau _{end} - \\tau _{i,birth} - t_s))} \\right] \\lambda_s \\phi_s(x_i) e^{- \\lambda _s \\phi_s(x_i) t_s} dt_s \\space \\space \\space \\space (2)$ <br>\n",
    "<br>\n",
    "\n",
    "$\\displaystyle  + \\int _{\\tau _{end} - \\tau _{i,birth}} ^{+ \\infty } \\left[e^{-\\lambda_d \\phi_d(x_i) (\\tau _{contract} - \\tau _{i,birth})}-e^{-\\lambda_d \\phi_d(x_i) (\\tau _{end} - \\tau _{i,birth})}\\right] \\lambda_s \\phi_s(x_i) e^{- \\lambda _s \\phi_s(x_i) t_s} dt_s \\space \\space \\space \\space  (3)$ "
   ]
  },
  {
   "cell_type": "markdown",
   "metadata": {},
   "source": [
    "Calcul pour les vendeurs (nous sautons quelques étapes afin de rendre la lecture plus agréable) : <br>\n",
    "<br>\n",
    "\n",
    "$ \\displaystyle (1) = \\displaystyle \\lambda _s \\phi _s (x_i) \\displaystyle \\int _0 ^{\\tau _{begin} - \\tau _{i,birth}} e^{- \\lambda_d \\phi_d(x_i) \\left[(1 - \\delta )t_s + \\delta (\\tau _{begin} - \\tau _{i,birth})\\right] - \\lambda _s \\phi _s (x_i) t_s} dt_s \\space -  \\space \\displaystyle \\lambda _s \\phi _s (x_i) \\displaystyle \\int _0 ^{\\tau _{begin} - \\tau _{i,birth}} e^{- \\lambda_d \\phi_d(x_i) \\left[(1 - \\delta )t_s + \\delta (\\tau _{end} - \\tau _{i,birth})\\right] - \\lambda _s \\phi _s (x_i) t_s} dt_s$ <br>\n",
    "<br>\n",
    "\n",
    "$ \\displaystyle = \\displaystyle - \\frac{\\lambda _s \\phi _s (x_i) \\left[e^{- (\\tau _{begin} - \\tau _{i,birth}) ( \\lambda _d \\phi _d (x_i) + \\lambda _s \\phi _s (x_i))} - e^{- \\lambda _d \\phi _d (x_i) \\left[ \\delta (\\tau _{end} - \\tau _{i,birth}) + (1 -\\delta ) (\\tau _{begin} - \\tau _{i,birth}) \\right] - \\lambda _s \\phi _s (x_i) (\\tau _{begin} - \\tau _{i,birth})} \\right]}{\\lambda _d \\phi _d (x_i) (1 - \\delta) + \\lambda _s \\phi _s (x_i)}$ <br>\n",
    "<br>\n",
    "<br>\n",
    "\n",
    "\n",
    "$ \\displaystyle (2) = \\displaystyle \\int _{\\tau _{begin} - \\tau _{i,birth}} ^{\\tau _{end} - \\tau _{i,birth}} \\left[e^{- \\lambda_d \\phi_d(x_i) (\\tau _{begin} - \\tau _{i,birth})}-e^{-\\lambda_d \\phi_d(x_i) (t_s + \\delta (\\tau _{end} - \\tau _{i,birth} - t_s))} \\right] \\lambda_s \\phi_s(x_i) e^{- \\lambda _s \\phi_s(x_i) t_s} dt_s $ <br>\n",
    "<br>\n",
    "\n",
    "$\\displaystyle = \\displaystyle e^{- (\\tau _{begin} - \\tau _{i,birth})(\\lambda _d \\phi _d (x_i) + \\lambda _s \\phi _s (x_i))} - \\displaystyle e^{ - (\\tau _{begin} - \\tau _{i,birth}) \\lambda _d \\phi _d (x_i) - (\\tau _{end} - \\tau _{i,birth}) \\lambda _s \\phi _s (x_i)} - $ <br>\n",
    "<br> \n",
    "\n",
    "$\\displaystyle \\frac{\\lambda _s \\phi _s (x_i) \\left[e^{- \\lambda _d \\phi _d (x_i) \\left[ \\delta (\\tau _{end} - \\tau _{i,birth}) - (1 - \\delta )(\\tau _{begin} - \\tau _{i,birth}) \\right] - \\lambda _s (\\tau _{begin} - \\tau _{i,birth}) \\phi _s (x_i)} - e^{- (\\tau _{end} - \\tau _{i,birth})( \\lambda _d \\phi _d (x_i) + \\lambda _s \\phi _s (x_i))} \\right]}{\\lambda _d \\phi _d (x_i) (1 - \\delta) + \\lambda _s \\phi _s (x_i)} $ <br>\n",
    "<br>\n",
    "\n",
    "$ (3) = \\displaystyle e^{- \\lambda _d \\phi _d (x_i) (\\tau _{begin} - \\tau _{i,birth}) - \\lambda _s \\phi _s (x_i) (\\tau _{end} - \\tau _{i,birth})} - \\displaystyle e^{- (\\tau _{end} - \\tau _{i,birth})(\\lambda _d \\phi _d (x_i) + \\lambda _s \\phi _s (x_i))}$"
   ]
  },
  {
   "cell_type": "markdown",
   "metadata": {},
   "source": [
    "On remplace simplement $ \\tau _{begin} $ par $ \\tau _{contract}$ pour obtenir l'expression pour les clones ..."
   ]
  },
  {
   "cell_type": "code",
   "execution_count": 668,
   "metadata": {},
   "outputs": [],
   "source": [
    "mp.dps = 50\n",
    "\n",
    "def LSeller_i(lambda_d, lambda_s, phi_d, phi_s,delta, T_d_seller, T_d_clone, T_s_seller, T_s_clone, i):\n",
    "    \n",
    "    # numérateur\n",
    "    numerateur_d_exp =  np.exp(-(phi_d[i] * IDD(delta,lambda_d,T_d_seller[i],T_s_seller[i])))\n",
    "    numerateur_d = lambda_d * phi_d[i] * delta * numerateur_d_exp\n",
    "    \n",
    "    numerateur_s_exp = np.exp(-(phi_s[i] * IS(lambda_s,T_s_seller[i])))\n",
    "    numerateur_s = lambda_s * phi_s[i] * numerateur_s_exp\n",
    "    numerateur = numerateur_d * numerateur_s\n",
    "\n",
    "    # dénominateur \n",
    "    s = lambda_s * phi_s[i] \n",
    "    d = lambda_d * phi_d[i] \n",
    "    t_end = tau_end - tau_birth[i]\n",
    "    t_begin = tau_begin - tau_birth[i]\n",
    "    deno = d * (1 - delta) + s\n",
    "    membre_1 = - (s * (np.exp( - d * (delta * t_end - (1 - delta) * t_begin )) - np.exp(- t_end * (d - s)))) / deno\n",
    "    \n",
    "    membre_2 = np.exp( - t_end * (d + s)) - np.exp( - d * t_begin - s * t_end)\n",
    "\n",
    "    membre_3 = np.exp(- d * t_begin - s * t_end) - np.exp( - t_end * (d + s)) - s * (np.exp(- d * (delta * t_end - (1 - delta) * t_begin ) - s * t_begin ) - np.exp( - t_end * (s + d))) / deno\n",
    "    \n",
    "    denominateur = membre_1 + membre_2 + membre_3\n",
    "    \n",
    "    resultat = numerateur / denominateur\n",
    "    \n",
    "    return resultat\n",
    "\n",
    "\n",
    "def LClone_i(lambda_d, lambda_s, phi_d, phi_s,delta, T_d_seller, T_d_clone, T_s_seller, T_s_clone, i):\n",
    "\n",
    "    # numérateur\n",
    "    numerateur_d_exp =  np.exp(-(phi_d[i] * IDD(delta,lambda_d,T_d_seller[i],T_s_seller[i])))\n",
    "    numerateur_d = lambda_d * phi_d[i] * delta * numerateur_d_exp\n",
    "\n",
    "    numerateur_s_exp = np.exp(-(phi_s[i] * IS(lambda_s,T_s_seller[i])))\n",
    "    numerateur_s = lambda_s * phi_s[i] * numerateur_s_exp\n",
    "\n",
    "    numerateur = numerateur_d * numerateur_s\n",
    "\n",
    "    # dénominateur \n",
    "    s = lambda_s * phi_s[i] \n",
    "    d = lambda_d * phi_d[i] \n",
    "    t_end = tau_end - tau_birth[i]\n",
    "    t_begin = tau_contract[i] - tau_birth[i]\n",
    "    deno = d * (1 - delta) + s\n",
    "\n",
    "    membre_1 = - (s * (np.exp( - d * (delta * t_end - (1 - delta) * t_begin )) - np.exp(- t_end * (d - s)))) / deno\n",
    "    \n",
    "    membre_2 = np.exp( - t_end * (d + s)) - np.exp( - d * t_begin - s * t_end)\n",
    "\n",
    "    membre_3 = np.exp(- d * t_begin - s * t_end) - np.exp( - t_end * (d + s)) - s * (np.exp(- d * (delta * t_end - (1 - delta) * t_begin ) - s * t_begin ) - np.exp( - t_end * (s + d))) / deno\n",
    "\n",
    "    denominateur = membre_1 + membre_2 + membre_3\n",
    "    \n",
    "    resultat = numerateur / denominateur\n",
    "\n",
    "    \n",
    "    return resultat"
   ]
  },
  {
   "cell_type": "markdown",
   "metadata": {},
   "source": [
    "##### Si on souhaite utiliser la log-vraisemblance on peut run les cellules suivantes (en pratique pas utile)"
   ]
  },
  {
   "cell_type": "markdown",
   "metadata": {},
   "source": [
    "\n",
    "$$ l = \\displaystyle \\log (\\prod _{i=1} ^N L_i ^{seller} . \\space L_i ^{clone}) = \\displaystyle  (\\sum _{i=1} ^N \\log (L_i ^{seller}) + \\log(L_i ^{clone}))$$"
   ]
  },
  {
   "cell_type": "markdown",
   "metadata": {},
   "source": [
    "$ \\displaystyle \\log (L_i ^{seller}) = \\displaystyle \\log \\left[ \\lambda_d \\phi_d(x_i) \\delta e^{-\\phi_d(x_i)I_d(t_{id}^{seller},t_{is}^{seller})} \\lambda_s \\phi_s(x_i) e^{-\\phi_s(x_i)I_s(t_{is}^{seller})}\\right] - \\displaystyle \\log \\left[ \\int \\left[e^{-\\phi_d(x_i)I_d(\\tau_{begin}-\\tau_{i,birth},t_s)}-e^{-\\phi_d(x_i)I_d(\\tau_{end}-\\tau_{i,birth},t_s)}\\right] \\lambda_s \\phi_s(x_i) e^{-\\phi_s(x_i)I_s(t_s)} dt_s \\right] $\n",
    "<br>\n",
    "<br>"
   ]
  },
  {
   "cell_type": "code",
   "execution_count": 582,
   "metadata": {},
   "outputs": [],
   "source": [
    "def log_LSeller_i(lambda_d, lambda_s, phi_d, phi_s,delta, T_d_seller, T_d_clone, T_s_seller, T_s_clone, i):\n",
    "    \n",
    "    # numérateur\n",
    "    numerateur_log = np.log(phi_d[i] * lambda_d * delta * lambda_s * phi_s[i])\n",
    "    numerateur = numerateur_log - phi_d[i] * IDD(delta,lambda_d,T_d_seller[i],T_s_seller[i]) - phi_s[i] * IS(lambda_s,T_s_seller[i])\n",
    "\n",
    "    # dénominateur \n",
    "    s = lambda_s * phi_s[i] \n",
    "    d = lambda_d * phi_d[i] \n",
    "    t_end = tau_end - tau_birth[i]\n",
    "    t_begin = tau_begin - tau_birth[i]\n",
    "    deno = np.log(d * (1 - delta) + s)\n",
    "    \n",
    "    membre_1 = - (s * (np.exp( - d * (delta * t_end - (1 - delta) * t_begin )) - np.exp(- t_end * (d - s)))) / deno\n",
    "    \n",
    "    membre_2 = np.exp( - t_end * (d + s)) - np.exp( - d * t_begin - s * t_end)\n",
    "\n",
    "    membre_3 = np.exp(- d * t_begin - s * t_end) - np.exp( - t_end * (d + s)) - s * (np.exp(- d * (delta * t_end - (1 - delta) * t_begin ) - s * t_begin ) - np.exp( - t_end * (s + d))) / deno\n",
    "    \n",
    "    denominateur = np.log(membre_1 + membre_2 + membre_3)\n",
    "    \n",
    "\n",
    "    resultat = numerateur - denominateur\n",
    "\n",
    "    return resultat\n",
    "\n",
    "\n",
    "def log_LClone_i(lambda_d, lambda_s, phi_d, phi_s,delta, T_d_seller, T_d_clone, T_s_seller, T_s_clone, i):\n",
    "\n",
    "    # numérateur\n",
    "    numerateur_log = np.log(phi_d[i] * lambda_d * delta * lambda_s * phi_s[i])\n",
    "    numerateur = numerateur_log - phi_d[i] * IDD(delta,lambda_d,T_d_seller[i],T_s_seller[i]) - phi_s[i] * IS(lambda_s,T_s_seller[i])\n",
    "\n",
    "    # dénominateur \n",
    "    s = lambda_s * phi_s[i] \n",
    "    d = lambda_d * phi_d[i] \n",
    "    t_end = tau_end - tau_birth[i]\n",
    "    t_begin = tau_contract[i] - tau_birth[i]\n",
    "    deno = np.log(d * (1 - delta) + s)\n",
    "    \n",
    "    membre_1 = - (s * (np.exp( - d * (delta * t_end - (1 - delta) * t_begin )) - np.exp(- t_end * (d - s)))) / deno\n",
    "    \n",
    "    membre_2 = np.exp( - t_end * (d + s)) - np.exp( - d * t_begin - s * t_end)\n",
    "\n",
    "    membre_3 = np.exp(- d * t_begin - s * t_end) - np.exp( - t_end * (d + s)) - s * (np.exp(- d * (delta * t_end - (1 - delta) * t_begin ) - s * t_begin ) - np.exp( - t_end * (s + d))) / deno\n",
    "    \n",
    "    denominateur = np.log(membre_1 + membre_2 + membre_3)\n",
    "    \n",
    "\n",
    "    resultat = numerateur - denominateur\n",
    "\n",
    "    return resultat"
   ]
  },
  {
   "cell_type": "code",
   "execution_count": 629,
   "metadata": {},
   "outputs": [],
   "source": [
    "# Définir la log-vraisemblance \n",
    "\n",
    "def log_likelihood(parameters):\n",
    "\n",
    "    # Paramètres à trouver\n",
    "    # lambda_d, lambda_s et delta des réels \n",
    "    # beta_d et beta_s des vecteurs de taille N\n",
    "    parameters = list(parameters)\n",
    "    lambda_d = parameters[0]\n",
    "    lambda_s = parameters[1]\n",
    "    beta_d = list(parameters[2:10])\n",
    "    beta_s = list(parameters[10:18])\n",
    "    delta = parameters[-1]\n",
    "\n",
    "    phi_d = phiD(beta_d)\n",
    "    phi_s = phiS(beta_s)\n",
    "    log_L_seller_vector = []\n",
    "    log_L_clone_vector = []\n",
    "\n",
    "    for i in tqdm(seller.index.to_list()): \n",
    "        log_L_seller_i = log_LSeller_i(lambda_d, lambda_s, phi_d, phi_s,delta, T_d_seller, T_d_clone, T_s_seller, T_s_clone, i)\n",
    "        log_L_clone_i = log_LClone_i(lambda_d, lambda_s, phi_d, phi_s,delta, T_d_seller, T_d_clone, T_s_seller, T_s_clone, i)\n",
    "        log_L_seller_vector.append(log_L_seller_i)\n",
    "        log_L_clone_vector.append(log_L_clone_i)\n",
    "            \n",
    "        \n",
    "\n",
    "    log_L_seller_vector = np.array(log_L_seller_vector)\n",
    "    log_L_clone_vector = np.array(log_L_clone_vector)\n",
    "    L_vector = log_L_seller_vector + log_L_clone_vector\n",
    "    log_Likelihood = np.sum(L_vector)\n",
    "    \n",
    "    return -log_Likelihood # Retourner le négatif de la log_vraisemblance car minimize va minimiser la fonction"
   ]
  },
  {
   "cell_type": "markdown",
   "metadata": {},
   "source": [
    "##### Cellule de debugage "
   ]
  },
  {
   "cell_type": "code",
   "execution_count": 583,
   "metadata": {},
   "outputs": [],
   "source": [
    "lambda_d, lambda_s, phi_d, phi_s,delta, T_d_seller, T_d_clone, T_s_seller, T_s_clone, i = 1.8365724339605265, 4.70236396326959, 16.950167357612912, 1.3241113481683418, 2.474934449942431, -0.9894083280847973, -1.7523798267466055, -2.0961926645937052, -2.0998141170750753, 635\n",
    "\n",
    "\n",
    "numerateur_d_exp =  np.exp(-(phi_d * IDD(delta,lambda_d,T_d_seller,T_s_seller)))\n",
    "numerateur_d = lambda_d * phi_d * delta * numerateur_d_exp\n",
    "    \n",
    "numerateur_s_exp = np.exp(-(phi_s * IS(lambda_s,T_s_seller)))\n",
    "numerateur_s = lambda_s * phi_s * numerateur_s_exp\n",
    "numerateur = numerateur_d * numerateur_s\n",
    "\n",
    "# dénominateur \n",
    "s = lambda_s * phi_s\n",
    "d = lambda_d * phi_d \n",
    "t_end = tau_end - tau_birth[635]\n",
    "t_begin = tau_begin - tau_birth[635]\n",
    "deno = d * (1 - delta) + s\n",
    "membre_1 = - (s * (np.exp( - d * (delta * t_end - (1 - delta) * t_begin )) - np.exp(- t_end * (d - s)))) / deno\n",
    "    \n",
    "membre_2 = np.exp(-t_end * (d + s)) - np.exp(- d * t_begin - s * t_end)\n",
    "\n",
    "membre_3 = np.exp(- d * t_begin - s * t_end) - np.exp( - t_end * (d + s)) - s * (np.exp(- d * (delta * t_end - (1 - delta) * t_begin ) - s * t_begin ) - np.exp( - t_end * (s + d))) / deno\n",
    "    \n",
    "denominateur = membre_1 + membre_2 + membre_3\n",
    "    \n",
    "\n",
    "resultat = numerateur / denominateur\n"
   ]
  },
  {
   "cell_type": "markdown",
   "metadata": {},
   "source": [
    "##### Passons au calcul de la fonction de vraisemblance : \n",
    "\n",
    "$$ L = \\displaystyle \\prod _{i=1} ^N L_i = \\displaystyle \\prod _{i=1} ^N L_i ^{seller} . \\space L_i ^{clone}$$ "
   ]
  },
  {
   "cell_type": "code",
   "execution_count": 673,
   "metadata": {},
   "outputs": [],
   "source": [
    "# Définir la fonction de vraisemblance (à maximiser) \n",
    "def likelihood(parameters):\n",
    "\n",
    "    # Paramètres à trouver\n",
    "    # lambda_d, lambda_s et delta des réels \n",
    "    # beta_d et beta_s des vecteurs de taille N\n",
    "    parameters = list(parameters)\n",
    "    lambda_d = parameters[0]\n",
    "    lambda_s = parameters[1]\n",
    "    beta_d = list(parameters[2:10])\n",
    "    beta_s = list(parameters[10:18])\n",
    "    delta = parameters[-1]\n",
    "\n",
    "    phi_d = phiD(beta_d)\n",
    "    phi_s = phiS(beta_s)\n",
    "    L_seller_vector = []\n",
    "    L_clone_vector = []\n",
    "\n",
    "    for i in tqdm(seller.index.to_list()): \n",
    "        L_seller_i = LSeller_i(lambda_d, lambda_s, phi_d, phi_s,delta, T_d_seller, T_d_clone, T_s_seller, T_s_clone, i)\n",
    "        L_clone_i = LClone_i(lambda_d, lambda_s, phi_d, phi_s,delta, T_d_seller, T_d_clone, T_s_seller, T_s_clone, i)\n",
    "        L_seller_vector.append(L_seller_i)\n",
    "        L_clone_vector.append(L_clone_i)\n",
    "        \n",
    "            \n",
    "        \n",
    "\n",
    "    \n",
    "    L_seller_vector = np.array(L_seller_vector)\n",
    "    L_clone_vector = np.array(L_clone_vector)\n",
    "    print(L_seller_vector.min())\n",
    "    print(L_clone_vector.max())\n",
    "    # On passe au log \n",
    "    L_seller_vector = np.log(L_seller_vector)\n",
    "    L_clone_vector = np.log(L_clone_vector)\n",
    "    Likelihood = np.sum(L_seller_vector + L_clone_vector)\n",
    "    print(Likelihood)\n",
    "    \n",
    "    return -Likelihood # Retourner le négatif de la vraisemblance car minimize va minimiser la fonction"
   ]
  },
  {
   "cell_type": "markdown",
   "metadata": {},
   "source": [
    "Minimiser l'opposé de la fonction de vraisemblance : \n",
    "\n",
    "C'est ici que j'ai un problème ! "
   ]
  },
  {
   "cell_type": "code",
   "execution_count": 674,
   "metadata": {},
   "outputs": [
    {
     "name": "stderr",
     "output_type": "stream",
     "text": [
      "100%|██████████| 951/951 [00:00<00:00, 22441.93it/s]\n"
     ]
    },
    {
     "name": "stdout",
     "output_type": "stream",
     "text": [
      "6.384578418317301e-90\n",
      "0.002733854610846883\n",
      "-44716.164443291236\n"
     ]
    },
    {
     "name": "stderr",
     "output_type": "stream",
     "text": [
      "100%|██████████| 951/951 [00:00<00:00, 28033.95it/s]\n"
     ]
    },
    {
     "name": "stdout",
     "output_type": "stream",
     "text": [
      "6.384575731983851e-90\n",
      "0.002733854637337057\n",
      "-44716.1645406982\n"
     ]
    },
    {
     "name": "stderr",
     "output_type": "stream",
     "text": [
      "100%|██████████| 951/951 [00:00<00:00, 27674.51it/s]\n"
     ]
    },
    {
     "name": "stdout",
     "output_type": "stream",
     "text": [
      "6.384561365168445e-90\n",
      "0.0027338545915035935\n",
      "-44716.16494042449\n"
     ]
    },
    {
     "name": "stderr",
     "output_type": "stream",
     "text": [
      "100%|██████████| 951/951 [00:00<00:00, 28587.48it/s]\n"
     ]
    },
    {
     "name": "stdout",
     "output_type": "stream",
     "text": [
      "6.384578124842054e-90\n",
      "0.0027338545872506942\n",
      "-44716.164408470286\n"
     ]
    },
    {
     "name": "stderr",
     "output_type": "stream",
     "text": [
      "100%|██████████| 951/951 [00:00<00:00, 29088.03it/s]\n"
     ]
    },
    {
     "name": "stdout",
     "output_type": "stream",
     "text": [
      "6.3845780359005175e-90\n",
      "0.0027338545881277552\n",
      "-44716.16441051166\n"
     ]
    },
    {
     "name": "stderr",
     "output_type": "stream",
     "text": [
      "100%|██████████| 951/951 [00:00<00:00, 29099.49it/s]\n"
     ]
    },
    {
     "name": "stdout",
     "output_type": "stream",
     "text": [
      "6.3845778455824345e-90\n",
      "0.002733854590004499\n",
      "-44716.164423408845\n"
     ]
    },
    {
     "name": "stderr",
     "output_type": "stream",
     "text": [
      "100%|██████████| 951/951 [00:00<00:00, 28760.63it/s]\n"
     ]
    },
    {
     "name": "stdout",
     "output_type": "stream",
     "text": [
      "6.384578892112083e-90\n",
      "0.0027338546061747514\n",
      "-44716.164446937684\n"
     ]
    },
    {
     "name": "stderr",
     "output_type": "stream",
     "text": [
      "100%|██████████| 951/951 [00:00<00:00, 28895.43it/s]\n"
     ]
    },
    {
     "name": "stdout",
     "output_type": "stream",
     "text": [
      "6.384577982120247e-90\n",
      "0.002733854588658087\n",
      "-44716.1644331332\n"
     ]
    },
    {
     "name": "stderr",
     "output_type": "stream",
     "text": [
      "100%|██████████| 951/951 [00:00<00:00, 29059.63it/s]\n"
     ]
    },
    {
     "name": "stdout",
     "output_type": "stream",
     "text": [
      "6.384576402842438e-90\n",
      "0.0027338546042314856\n",
      "-44716.164441026274\n"
     ]
    },
    {
     "name": "stderr",
     "output_type": "stream",
     "text": [
      "100%|██████████| 951/951 [00:00<00:00, 29136.05it/s]\n"
     ]
    },
    {
     "name": "stdout",
     "output_type": "stream",
     "text": [
      "6.384579559650643e-90\n",
      "0.0027338545995920964\n",
      "-44716.164431298996\n"
     ]
    },
    {
     "name": "stderr",
     "output_type": "stream",
     "text": [
      "100%|██████████| 951/951 [00:00<00:00, 28999.84it/s]\n"
     ]
    },
    {
     "name": "stdout",
     "output_type": "stream",
     "text": [
      "6.3845793586380325e-90\n",
      "0.0027338546015743003\n",
      "-44716.16444495005\n"
     ]
    },
    {
     "name": "stderr",
     "output_type": "stream",
     "text": [
      "100%|██████████| 951/951 [00:00<00:00, 29052.43it/s]\n"
     ]
    },
    {
     "name": "stdout",
     "output_type": "stream",
     "text": [
      "6.384576555301295e-90\n",
      "0.0027338546280769663\n",
      "-44716.16424636425\n"
     ]
    },
    {
     "name": "stderr",
     "output_type": "stream",
     "text": [
      "100%|██████████| 951/951 [00:00<00:00, 22398.20it/s]\n"
     ]
    },
    {
     "name": "stdout",
     "output_type": "stream",
     "text": [
      "6.384575990689908e-90\n",
      "0.002733854627436533\n",
      "-44716.16427094295\n"
     ]
    },
    {
     "name": "stderr",
     "output_type": "stream",
     "text": [
      "100%|██████████| 951/951 [00:00<00:00, 28924.98it/s]\n"
     ]
    },
    {
     "name": "stdout",
     "output_type": "stream",
     "text": [
      "6.384574782528004e-90\n",
      "0.0027338546260661217\n",
      "-44716.16432914336\n"
     ]
    },
    {
     "name": "stderr",
     "output_type": "stream",
     "text": [
      "100%|██████████| 951/951 [00:00<00:00, 28478.29it/s]\n"
     ]
    },
    {
     "name": "stdout",
     "output_type": "stream",
     "text": [
      "6.384581426024276e-90\n",
      "0.002733854614258502\n",
      "-44716.164450283526\n"
     ]
    },
    {
     "name": "stderr",
     "output_type": "stream",
     "text": [
      "100%|██████████| 951/951 [00:00<00:00, 26990.08it/s]\n"
     ]
    },
    {
     "name": "stdout",
     "output_type": "stream",
     "text": [
      "6.3845756492860745e-90\n",
      "0.00273385462704928\n",
      "-44716.16437033414\n"
     ]
    },
    {
     "name": "stderr",
     "output_type": "stream",
     "text": [
      "100%|██████████| 951/951 [00:00<00:00, 25526.09it/s]\n"
     ]
    },
    {
     "name": "stdout",
     "output_type": "stream",
     "text": [
      "6.384565623851105e-90\n",
      "0.0027338546156774877\n",
      "-44716.16448144616\n"
     ]
    },
    {
     "name": "stderr",
     "output_type": "stream",
     "text": [
      "100%|██████████| 951/951 [00:00<00:00, 26678.86it/s]\n"
     ]
    },
    {
     "name": "stdout",
     "output_type": "stream",
     "text": [
      "6.384585663642279e-90\n",
      "0.0027338546190651984\n",
      "-44716.16438068502\n"
     ]
    },
    {
     "name": "stderr",
     "output_type": "stream",
     "text": [
      "100%|██████████| 951/951 [00:00<00:00, 27275.78it/s]\n"
     ]
    },
    {
     "name": "stdout",
     "output_type": "stream",
     "text": [
      "6.384584387588431e-90\n",
      "0.0027338546176177815\n",
      "-44716.16441040556\n"
     ]
    },
    {
     "name": "stderr",
     "output_type": "stream",
     "text": [
      "100%|██████████| 951/951 [00:00<00:00, 27064.62it/s]\n"
     ]
    },
    {
     "name": "stdout",
     "output_type": "stream",
     "text": [
      "6.3845780838840014e-90\n",
      "0.002733854495876211\n",
      "-44716.16449462118\n"
     ]
    },
    {
     "name": "stderr",
     "output_type": "stream",
     "text": [
      "100%|██████████| 951/951 [00:00<00:00, 27635.78it/s]\n",
      "/var/folders/bt/r1dg46ys21lb57m4n4x11m6c0000gn/T/ipykernel_6699/134277459.py:34: RuntimeWarning: invalid value encountered in log\n",
      "  L_seller_vector = np.log(L_seller_vector)\n",
      "/var/folders/bt/r1dg46ys21lb57m4n4x11m6c0000gn/T/ipykernel_6699/134277459.py:35: RuntimeWarning: invalid value encountered in log\n",
      "  L_clone_vector = np.log(L_clone_vector)\n"
     ]
    },
    {
     "name": "stdout",
     "output_type": "stream",
     "text": [
      "-0.017625710547263005\n",
      "8.711515305571227e-06\n",
      "nan\n"
     ]
    },
    {
     "name": "stderr",
     "output_type": "stream",
     "text": [
      "100%|██████████| 951/951 [00:00<00:00, 27508.66it/s]\n",
      "/var/folders/bt/r1dg46ys21lb57m4n4x11m6c0000gn/T/ipykernel_6699/134277459.py:34: RuntimeWarning: invalid value encountered in log\n",
      "  L_seller_vector = np.log(L_seller_vector)\n",
      "/var/folders/bt/r1dg46ys21lb57m4n4x11m6c0000gn/T/ipykernel_6699/134277459.py:35: RuntimeWarning: invalid value encountered in log\n",
      "  L_clone_vector = np.log(L_clone_vector)\n"
     ]
    },
    {
     "name": "stdout",
     "output_type": "stream",
     "text": [
      "-0.017625710023988005\n",
      "8.711519831371108e-06\n",
      "nan\n"
     ]
    },
    {
     "name": "stderr",
     "output_type": "stream",
     "text": [
      "100%|██████████| 951/951 [00:00<00:00, 26800.93it/s]\n",
      "/var/folders/bt/r1dg46ys21lb57m4n4x11m6c0000gn/T/ipykernel_6699/134277459.py:34: RuntimeWarning: invalid value encountered in log\n",
      "  L_seller_vector = np.log(L_seller_vector)\n",
      "/var/folders/bt/r1dg46ys21lb57m4n4x11m6c0000gn/T/ipykernel_6699/134277459.py:35: RuntimeWarning: invalid value encountered in log\n",
      "  L_clone_vector = np.log(L_clone_vector)\n"
     ]
    },
    {
     "name": "stdout",
     "output_type": "stream",
     "text": [
      "-0.01762571306982503\n",
      "8.711479997250629e-06\n",
      "nan\n"
     ]
    },
    {
     "name": "stderr",
     "output_type": "stream",
     "text": [
      "100%|██████████| 951/951 [00:00<00:00, 25851.67it/s]\n"
     ]
    },
    {
     "name": "stdout",
     "output_type": "stream",
     "text": [
      "-0.017625710506205892\n"
     ]
    },
    {
     "name": "stderr",
     "output_type": "stream",
     "text": [
      "/var/folders/bt/r1dg46ys21lb57m4n4x11m6c0000gn/T/ipykernel_6699/134277459.py:34: RuntimeWarning: invalid value encountered in log\n",
      "  L_seller_vector = np.log(L_seller_vector)\n",
      "/var/folders/bt/r1dg46ys21lb57m4n4x11m6c0000gn/T/ipykernel_6699/134277459.py:35: RuntimeWarning: invalid value encountered in log\n",
      "  L_clone_vector = np.log(L_clone_vector)\n"
     ]
    },
    {
     "name": "stdout",
     "output_type": "stream",
     "text": [
      "8.711515660673168e-06\n",
      "nan\n"
     ]
    },
    {
     "name": "stderr",
     "output_type": "stream",
     "text": [
      "100%|██████████| 951/951 [00:00<00:00, 11372.74it/s]\n",
      "/var/folders/bt/r1dg46ys21lb57m4n4x11m6c0000gn/T/ipykernel_6699/134277459.py:34: RuntimeWarning: invalid value encountered in log\n",
      "  L_seller_vector = np.log(L_seller_vector)\n",
      "/var/folders/bt/r1dg46ys21lb57m4n4x11m6c0000gn/T/ipykernel_6699/134277459.py:35: RuntimeWarning: invalid value encountered in log\n",
      "  L_clone_vector = np.log(L_clone_vector)\n"
     ]
    },
    {
     "name": "stdout",
     "output_type": "stream",
     "text": [
      "-0.017625710491003147\n",
      "8.711515792161943e-06\n",
      "nan\n"
     ]
    },
    {
     "name": "stderr",
     "output_type": "stream",
     "text": [
      "100%|██████████| 951/951 [00:00<00:00, 26071.16it/s]\n",
      "/var/folders/bt/r1dg46ys21lb57m4n4x11m6c0000gn/T/ipykernel_6699/134277459.py:34: RuntimeWarning: invalid value encountered in log\n",
      "  L_seller_vector = np.log(L_seller_vector)\n",
      "/var/folders/bt/r1dg46ys21lb57m4n4x11m6c0000gn/T/ipykernel_6699/134277459.py:35: RuntimeWarning: invalid value encountered in log\n",
      "  L_clone_vector = np.log(L_clone_vector)\n"
     ]
    },
    {
     "name": "stdout",
     "output_type": "stream",
     "text": [
      "-0.01762571089588247\n",
      "8.711516069454625e-06\n",
      "nan\n"
     ]
    },
    {
     "name": "stderr",
     "output_type": "stream",
     "text": [
      "100%|██████████| 951/951 [00:00<00:00, 26846.93it/s]\n",
      "/var/folders/bt/r1dg46ys21lb57m4n4x11m6c0000gn/T/ipykernel_6699/134277459.py:34: RuntimeWarning: invalid value encountered in log\n",
      "  L_seller_vector = np.log(L_seller_vector)\n",
      "/var/folders/bt/r1dg46ys21lb57m4n4x11m6c0000gn/T/ipykernel_6699/134277459.py:35: RuntimeWarning: invalid value encountered in log\n",
      "  L_clone_vector = np.log(L_clone_vector)\n"
     ]
    },
    {
     "name": "stdout",
     "output_type": "stream",
     "text": [
      "-0.01762571061582977\n",
      "8.711514712538286e-06\n",
      "nan\n"
     ]
    },
    {
     "name": "stderr",
     "output_type": "stream",
     "text": [
      "100%|██████████| 951/951 [00:00<00:00, 26551.00it/s]\n",
      "/var/folders/bt/r1dg46ys21lb57m4n4x11m6c0000gn/T/ipykernel_6699/134277459.py:34: RuntimeWarning: invalid value encountered in log\n",
      "  L_seller_vector = np.log(L_seller_vector)\n",
      "/var/folders/bt/r1dg46ys21lb57m4n4x11m6c0000gn/T/ipykernel_6699/134277459.py:35: RuntimeWarning: invalid value encountered in log\n",
      "  L_clone_vector = np.log(L_clone_vector)\n"
     ]
    },
    {
     "name": "stdout",
     "output_type": "stream",
     "text": [
      "-0.017625710908577865\n",
      "8.711512180566427e-06\n",
      "nan\n"
     ]
    },
    {
     "name": "stderr",
     "output_type": "stream",
     "text": [
      "100%|██████████| 951/951 [00:00<00:00, 27080.79it/s]\n",
      "/var/folders/bt/r1dg46ys21lb57m4n4x11m6c0000gn/T/ipykernel_6699/134277459.py:34: RuntimeWarning: invalid value encountered in log\n",
      "  L_seller_vector = np.log(L_seller_vector)\n",
      "/var/folders/bt/r1dg46ys21lb57m4n4x11m6c0000gn/T/ipykernel_6699/134277459.py:35: RuntimeWarning: invalid value encountered in log\n",
      "  L_clone_vector = np.log(L_clone_vector)\n"
     ]
    },
    {
     "name": "stdout",
     "output_type": "stream",
     "text": [
      "-0.017625710654565217\n",
      "8.71151437751613e-06\n",
      "nan\n"
     ]
    },
    {
     "name": "stderr",
     "output_type": "stream",
     "text": [
      "100%|██████████| 951/951 [00:00<00:00, 27729.92it/s]\n",
      "/var/folders/bt/r1dg46ys21lb57m4n4x11m6c0000gn/T/ipykernel_6699/134277459.py:34: RuntimeWarning: invalid value encountered in log\n",
      "  L_seller_vector = np.log(L_seller_vector)\n",
      "/var/folders/bt/r1dg46ys21lb57m4n4x11m6c0000gn/T/ipykernel_6699/134277459.py:35: RuntimeWarning: invalid value encountered in log\n",
      "  L_clone_vector = np.log(L_clone_vector)\n"
     ]
    },
    {
     "name": "stdout",
     "output_type": "stream",
     "text": [
      "-0.01762571073909548\n",
      "8.71151742550326e-06\n",
      "nan\n"
     ]
    },
    {
     "name": "stderr",
     "output_type": "stream",
     "text": [
      "100%|██████████| 951/951 [00:00<00:00, 27737.25it/s]\n",
      "/var/folders/bt/r1dg46ys21lb57m4n4x11m6c0000gn/T/ipykernel_6699/134277459.py:34: RuntimeWarning: invalid value encountered in log\n",
      "  L_seller_vector = np.log(L_seller_vector)\n",
      "/var/folders/bt/r1dg46ys21lb57m4n4x11m6c0000gn/T/ipykernel_6699/134277459.py:35: RuntimeWarning: invalid value encountered in log\n",
      "  L_clone_vector = np.log(L_clone_vector)\n"
     ]
    },
    {
     "name": "stdout",
     "output_type": "stream",
     "text": [
      "-0.017625710693592613\n",
      "8.711514039969002e-06\n",
      "nan\n"
     ]
    },
    {
     "name": "stderr",
     "output_type": "stream",
     "text": [
      "100%|██████████| 951/951 [00:00<00:00, 27628.32it/s]\n",
      "/var/folders/bt/r1dg46ys21lb57m4n4x11m6c0000gn/T/ipykernel_6699/134277459.py:34: RuntimeWarning: invalid value encountered in log\n",
      "  L_seller_vector = np.log(L_seller_vector)\n",
      "/var/folders/bt/r1dg46ys21lb57m4n4x11m6c0000gn/T/ipykernel_6699/134277459.py:35: RuntimeWarning: invalid value encountered in log\n",
      "  L_clone_vector = np.log(L_clone_vector)\n"
     ]
    },
    {
     "name": "stdout",
     "output_type": "stream",
     "text": [
      "-0.017625710568559157\n",
      "8.71151500748788e-06\n",
      "nan\n"
     ]
    },
    {
     "name": "stderr",
     "output_type": "stream",
     "text": [
      "100%|██████████| 951/951 [00:00<00:00, 27577.89it/s]\n",
      "/var/folders/bt/r1dg46ys21lb57m4n4x11m6c0000gn/T/ipykernel_6699/134277459.py:34: RuntimeWarning: invalid value encountered in log\n",
      "  L_seller_vector = np.log(L_seller_vector)\n",
      "/var/folders/bt/r1dg46ys21lb57m4n4x11m6c0000gn/T/ipykernel_6699/134277459.py:35: RuntimeWarning: invalid value encountered in log\n",
      "  L_clone_vector = np.log(L_clone_vector)\n"
     ]
    },
    {
     "name": "stdout",
     "output_type": "stream",
     "text": [
      "-0.017625710585956893\n",
      "8.711514763971029e-06\n",
      "nan\n"
     ]
    },
    {
     "name": "stderr",
     "output_type": "stream",
     "text": [
      "100%|██████████| 951/951 [00:00<00:00, 27010.92it/s]\n",
      "/var/folders/bt/r1dg46ys21lb57m4n4x11m6c0000gn/T/ipykernel_6699/134277459.py:34: RuntimeWarning: invalid value encountered in log\n",
      "  L_seller_vector = np.log(L_seller_vector)\n",
      "/var/folders/bt/r1dg46ys21lb57m4n4x11m6c0000gn/T/ipykernel_6699/134277459.py:35: RuntimeWarning: invalid value encountered in log\n",
      "  L_clone_vector = np.log(L_clone_vector)\n"
     ]
    },
    {
     "name": "stdout",
     "output_type": "stream",
     "text": [
      "-0.0176257102144258\n",
      "8.711514387452953e-06\n",
      "nan\n"
     ]
    },
    {
     "name": "stderr",
     "output_type": "stream",
     "text": [
      "100%|██████████| 951/951 [00:00<00:00, 27217.90it/s]\n",
      "/var/folders/bt/r1dg46ys21lb57m4n4x11m6c0000gn/T/ipykernel_6699/134277459.py:34: RuntimeWarning: invalid value encountered in log\n",
      "  L_seller_vector = np.log(L_seller_vector)\n",
      "/var/folders/bt/r1dg46ys21lb57m4n4x11m6c0000gn/T/ipykernel_6699/134277459.py:35: RuntimeWarning: invalid value encountered in log\n",
      "  L_clone_vector = np.log(L_clone_vector)\n"
     ]
    },
    {
     "name": "stdout",
     "output_type": "stream",
     "text": [
      "-0.017625710505534287\n",
      "8.711515889650465e-06\n",
      "nan\n"
     ]
    },
    {
     "name": "stderr",
     "output_type": "stream",
     "text": [
      "100%|██████████| 951/951 [00:00<00:00, 26533.87it/s]\n",
      "/var/folders/bt/r1dg46ys21lb57m4n4x11m6c0000gn/T/ipykernel_6699/134277459.py:34: RuntimeWarning: invalid value encountered in log\n",
      "  L_seller_vector = np.log(L_seller_vector)\n",
      "/var/folders/bt/r1dg46ys21lb57m4n4x11m6c0000gn/T/ipykernel_6699/134277459.py:35: RuntimeWarning: invalid value encountered in log\n",
      "  L_clone_vector = np.log(L_clone_vector)\n"
     ]
    },
    {
     "name": "stdout",
     "output_type": "stream",
     "text": [
      "-0.017625710222278858\n",
      "8.711519854395542e-06\n",
      "nan\n"
     ]
    },
    {
     "name": "stderr",
     "output_type": "stream",
     "text": [
      "100%|██████████| 951/951 [00:00<00:00, 27439.40it/s]\n",
      "/var/folders/bt/r1dg46ys21lb57m4n4x11m6c0000gn/T/ipykernel_6699/134277459.py:34: RuntimeWarning: invalid value encountered in log\n",
      "  L_seller_vector = np.log(L_seller_vector)\n",
      "/var/folders/bt/r1dg46ys21lb57m4n4x11m6c0000gn/T/ipykernel_6699/134277459.py:35: RuntimeWarning: invalid value encountered in log\n",
      "  L_clone_vector = np.log(L_clone_vector)\n"
     ]
    },
    {
     "name": "stdout",
     "output_type": "stream",
     "text": [
      "-0.01762571047658599\n",
      "8.711516294841982e-06\n",
      "nan\n"
     ]
    },
    {
     "name": "stderr",
     "output_type": "stream",
     "text": [
      "100%|██████████| 951/951 [00:00<00:00, 21349.69it/s]\n",
      "/var/folders/bt/r1dg46ys21lb57m4n4x11m6c0000gn/T/ipykernel_6699/134277459.py:34: RuntimeWarning: invalid value encountered in log\n",
      "  L_seller_vector = np.log(L_seller_vector)\n",
      "/var/folders/bt/r1dg46ys21lb57m4n4x11m6c0000gn/T/ipykernel_6699/134277459.py:35: RuntimeWarning: invalid value encountered in log\n",
      "  L_clone_vector = np.log(L_clone_vector)\n"
     ]
    },
    {
     "name": "stdout",
     "output_type": "stream",
     "text": [
      "-0.017625710351535612\n",
      "8.711512468319601e-06\n",
      "nan\n"
     ]
    },
    {
     "name": "stderr",
     "output_type": "stream",
     "text": [
      "100%|██████████| 951/951 [00:00<00:00, 22786.54it/s]\n",
      "/var/folders/bt/r1dg46ys21lb57m4n4x11m6c0000gn/T/ipykernel_6699/134277459.py:34: RuntimeWarning: invalid value encountered in log\n",
      "  L_seller_vector = np.log(L_seller_vector)\n",
      "/var/folders/bt/r1dg46ys21lb57m4n4x11m6c0000gn/T/ipykernel_6699/134277459.py:35: RuntimeWarning: invalid value encountered in log\n",
      "  L_clone_vector = np.log(L_clone_vector)\n"
     ]
    },
    {
     "name": "stdout",
     "output_type": "stream",
     "text": [
      "-0.01762571041405551\n",
      "8.7115171700845e-06\n",
      "nan\n"
     ]
    },
    {
     "name": "stderr",
     "output_type": "stream",
     "text": [
      "100%|██████████| 951/951 [00:00<00:00, 27626.98it/s]\n",
      "/var/folders/bt/r1dg46ys21lb57m4n4x11m6c0000gn/T/ipykernel_6699/134277459.py:34: RuntimeWarning: invalid value encountered in log\n",
      "  L_seller_vector = np.log(L_seller_vector)\n",
      "/var/folders/bt/r1dg46ys21lb57m4n4x11m6c0000gn/T/ipykernel_6699/134277459.py:35: RuntimeWarning: invalid value encountered in log\n",
      "  L_clone_vector = np.log(L_clone_vector)\n"
     ]
    },
    {
     "name": "stdout",
     "output_type": "stream",
     "text": [
      "-0.017625716131285354\n",
      "8.711465199883213e-06\n",
      "nan\n"
     ]
    },
    {
     "name": "stderr",
     "output_type": "stream",
     "text": [
      "100%|██████████| 951/951 [00:00<00:00, 26885.66it/s]\n",
      "/var/folders/bt/r1dg46ys21lb57m4n4x11m6c0000gn/T/ipykernel_6699/134277459.py:34: RuntimeWarning: invalid value encountered in log\n",
      "  L_seller_vector = np.log(L_seller_vector)\n",
      "/var/folders/bt/r1dg46ys21lb57m4n4x11m6c0000gn/T/ipykernel_6699/134277459.py:35: RuntimeWarning: invalid value encountered in log\n",
      "  L_clone_vector = np.log(L_clone_vector)\n"
     ]
    },
    {
     "name": "stdout",
     "output_type": "stream",
     "text": [
      "-1.134173147808295e+53\n",
      "1.1714435122790949e+17\n",
      "nan\n"
     ]
    },
    {
     "name": "stderr",
     "output_type": "stream",
     "text": [
      "100%|██████████| 951/951 [00:00<00:00, 26808.50it/s]\n",
      "/var/folders/bt/r1dg46ys21lb57m4n4x11m6c0000gn/T/ipykernel_6699/134277459.py:34: RuntimeWarning: invalid value encountered in log\n",
      "  L_seller_vector = np.log(L_seller_vector)\n",
      "/var/folders/bt/r1dg46ys21lb57m4n4x11m6c0000gn/T/ipykernel_6699/134277459.py:35: RuntimeWarning: invalid value encountered in log\n",
      "  L_clone_vector = np.log(L_clone_vector)\n"
     ]
    },
    {
     "name": "stdout",
     "output_type": "stream",
     "text": [
      "-1.1341725807532667e+53\n",
      "1.1714420590863131e+17\n",
      "nan\n"
     ]
    },
    {
     "name": "stderr",
     "output_type": "stream",
     "text": [
      "100%|██████████| 951/951 [00:00<00:00, 26347.21it/s]\n",
      "/var/folders/bt/r1dg46ys21lb57m4n4x11m6c0000gn/T/ipykernel_6699/134277459.py:34: RuntimeWarning: invalid value encountered in log\n",
      "  L_seller_vector = np.log(L_seller_vector)\n",
      "/var/folders/bt/r1dg46ys21lb57m4n4x11m6c0000gn/T/ipykernel_6699/134277459.py:35: RuntimeWarning: invalid value encountered in log\n",
      "  L_clone_vector = np.log(L_clone_vector)\n"
     ]
    },
    {
     "name": "stdout",
     "output_type": "stream",
     "text": [
      "-1.1341724804781462e+53\n",
      "1.1714432282823552e+17\n",
      "nan\n"
     ]
    },
    {
     "name": "stderr",
     "output_type": "stream",
     "text": [
      "100%|██████████| 951/951 [00:00<00:00, 26493.16it/s]\n",
      "/var/folders/bt/r1dg46ys21lb57m4n4x11m6c0000gn/T/ipykernel_6699/134277459.py:34: RuntimeWarning: invalid value encountered in log\n",
      "  L_seller_vector = np.log(L_seller_vector)\n",
      "/var/folders/bt/r1dg46ys21lb57m4n4x11m6c0000gn/T/ipykernel_6699/134277459.py:35: RuntimeWarning: invalid value encountered in log\n",
      "  L_clone_vector = np.log(L_clone_vector)\n"
     ]
    },
    {
     "name": "stdout",
     "output_type": "stream",
     "text": [
      "-1.1341731423892315e+53\n",
      "1.1714434983916477e+17\n",
      "nan\n"
     ]
    },
    {
     "name": "stderr",
     "output_type": "stream",
     "text": [
      "100%|██████████| 951/951 [00:00<00:00, 26626.15it/s]\n",
      "/var/folders/bt/r1dg46ys21lb57m4n4x11m6c0000gn/T/ipykernel_6699/134277459.py:34: RuntimeWarning: invalid value encountered in log\n",
      "  L_seller_vector = np.log(L_seller_vector)\n",
      "/var/folders/bt/r1dg46ys21lb57m4n4x11m6c0000gn/T/ipykernel_6699/134277459.py:35: RuntimeWarning: invalid value encountered in log\n",
      "  L_clone_vector = np.log(L_clone_vector)\n"
     ]
    },
    {
     "name": "stdout",
     "output_type": "stream",
     "text": [
      "-1.1341731389213226e+53\n",
      "1.1714434895045285e+17\n",
      "nan\n"
     ]
    },
    {
     "name": "stderr",
     "output_type": "stream",
     "text": [
      "100%|██████████| 951/951 [00:00<00:00, 27203.98it/s]\n",
      "/var/folders/bt/r1dg46ys21lb57m4n4x11m6c0000gn/T/ipykernel_6699/134277459.py:34: RuntimeWarning: invalid value encountered in log\n",
      "  L_seller_vector = np.log(L_seller_vector)\n",
      "/var/folders/bt/r1dg46ys21lb57m4n4x11m6c0000gn/T/ipykernel_6699/134277459.py:35: RuntimeWarning: invalid value encountered in log\n",
      "  L_clone_vector = np.log(L_clone_vector)\n"
     ]
    },
    {
     "name": "stdout",
     "output_type": "stream",
     "text": [
      "-1.1341731311116651e+53\n",
      "1.1714434694905789e+17\n",
      "nan\n"
     ]
    },
    {
     "name": "stderr",
     "output_type": "stream",
     "text": [
      "100%|██████████| 951/951 [00:00<00:00, 26722.47it/s]\n",
      "/var/folders/bt/r1dg46ys21lb57m4n4x11m6c0000gn/T/ipykernel_6699/134277459.py:34: RuntimeWarning: invalid value encountered in log\n",
      "  L_seller_vector = np.log(L_seller_vector)\n",
      "/var/folders/bt/r1dg46ys21lb57m4n4x11m6c0000gn/T/ipykernel_6699/134277459.py:35: RuntimeWarning: invalid value encountered in log\n",
      "  L_clone_vector = np.log(L_clone_vector)\n"
     ]
    },
    {
     "name": "stdout",
     "output_type": "stream",
     "text": [
      "-1.1341731581467553e+53\n",
      "1.171443538773513e+17\n",
      "nan\n"
     ]
    },
    {
     "name": "stderr",
     "output_type": "stream",
     "text": [
      "100%|██████████| 951/951 [00:00<00:00, 27019.33it/s]\n",
      "/var/folders/bt/r1dg46ys21lb57m4n4x11m6c0000gn/T/ipykernel_6699/134277459.py:34: RuntimeWarning: invalid value encountered in log\n",
      "  L_seller_vector = np.log(L_seller_vector)\n",
      "/var/folders/bt/r1dg46ys21lb57m4n4x11m6c0000gn/T/ipykernel_6699/134277459.py:35: RuntimeWarning: invalid value encountered in log\n",
      "  L_clone_vector = np.log(L_clone_vector)\n"
     ]
    },
    {
     "name": "stdout",
     "output_type": "stream",
     "text": [
      "-1.1341731279982735e+53\n",
      "1.1714434615119194e+17\n",
      "nan\n"
     ]
    },
    {
     "name": "stderr",
     "output_type": "stream",
     "text": [
      "100%|██████████| 951/951 [00:00<00:00, 27288.28it/s]\n",
      "/var/folders/bt/r1dg46ys21lb57m4n4x11m6c0000gn/T/ipykernel_6699/134277459.py:34: RuntimeWarning: invalid value encountered in log\n",
      "  L_seller_vector = np.log(L_seller_vector)\n",
      "/var/folders/bt/r1dg46ys21lb57m4n4x11m6c0000gn/T/ipykernel_6699/134277459.py:35: RuntimeWarning: invalid value encountered in log\n",
      "  L_clone_vector = np.log(L_clone_vector)\n"
     ]
    },
    {
     "name": "stdout",
     "output_type": "stream",
     "text": [
      "-1.134173170572009e+53\n",
      "1.1714435706157435e+17\n",
      "nan\n"
     ]
    },
    {
     "name": "stderr",
     "output_type": "stream",
     "text": [
      "100%|██████████| 951/951 [00:00<00:00, 27367.48it/s]\n",
      "/var/folders/bt/r1dg46ys21lb57m4n4x11m6c0000gn/T/ipykernel_6699/134277459.py:34: RuntimeWarning: invalid value encountered in log\n",
      "  L_seller_vector = np.log(L_seller_vector)\n",
      "/var/folders/bt/r1dg46ys21lb57m4n4x11m6c0000gn/T/ipykernel_6699/134277459.py:35: RuntimeWarning: invalid value encountered in log\n",
      "  L_clone_vector = np.log(L_clone_vector)\n"
     ]
    },
    {
     "name": "stdout",
     "output_type": "stream",
     "text": [
      "-1.1341731964990679e+53\n",
      "1.1714433826749248e+17\n",
      "nan\n"
     ]
    },
    {
     "name": "stderr",
     "output_type": "stream",
     "text": [
      "100%|██████████| 951/951 [00:00<00:00, 22179.62it/s]\n",
      "/var/folders/bt/r1dg46ys21lb57m4n4x11m6c0000gn/T/ipykernel_6699/134277459.py:34: RuntimeWarning: invalid value encountered in log\n",
      "  L_seller_vector = np.log(L_seller_vector)\n",
      "/var/folders/bt/r1dg46ys21lb57m4n4x11m6c0000gn/T/ipykernel_6699/134277459.py:35: RuntimeWarning: invalid value encountered in log\n",
      "  L_clone_vector = np.log(L_clone_vector)\n"
     ]
    },
    {
     "name": "stdout",
     "output_type": "stream",
     "text": [
      "-1.1341730768157728e+53\n",
      "1.1714435847306323e+17\n",
      "nan\n"
     ]
    },
    {
     "name": "stderr",
     "output_type": "stream",
     "text": [
      "100%|██████████| 951/951 [00:00<00:00, 22162.74it/s]\n",
      "/var/folders/bt/r1dg46ys21lb57m4n4x11m6c0000gn/T/ipykernel_6699/134277459.py:34: RuntimeWarning: invalid value encountered in log\n",
      "  L_seller_vector = np.log(L_seller_vector)\n",
      "/var/folders/bt/r1dg46ys21lb57m4n4x11m6c0000gn/T/ipykernel_6699/134277459.py:35: RuntimeWarning: invalid value encountered in log\n",
      "  L_clone_vector = np.log(L_clone_vector)\n"
     ]
    },
    {
     "name": "stdout",
     "output_type": "stream",
     "text": [
      "-1.1341731582583732e+53\n",
      "1.171443516726349e+17\n",
      "nan\n"
     ]
    },
    {
     "name": "stderr",
     "output_type": "stream",
     "text": [
      "100%|██████████| 951/951 [00:00<00:00, 27696.04it/s]\n",
      "/var/folders/bt/r1dg46ys21lb57m4n4x11m6c0000gn/T/ipykernel_6699/134277459.py:34: RuntimeWarning: invalid value encountered in log\n",
      "  L_seller_vector = np.log(L_seller_vector)\n",
      "/var/folders/bt/r1dg46ys21lb57m4n4x11m6c0000gn/T/ipykernel_6699/134277459.py:35: RuntimeWarning: invalid value encountered in log\n",
      "  L_clone_vector = np.log(L_clone_vector)\n"
     ]
    },
    {
     "name": "stdout",
     "output_type": "stream",
     "text": [
      "-1.1341731812891783e+53\n",
      "1.1714435265276622e+17\n",
      "nan\n"
     ]
    },
    {
     "name": "stderr",
     "output_type": "stream",
     "text": [
      "100%|██████████| 951/951 [00:00<00:00, 27392.29it/s]\n",
      "/var/folders/bt/r1dg46ys21lb57m4n4x11m6c0000gn/T/ipykernel_6699/134277459.py:34: RuntimeWarning: invalid value encountered in log\n",
      "  L_seller_vector = np.log(L_seller_vector)\n",
      "/var/folders/bt/r1dg46ys21lb57m4n4x11m6c0000gn/T/ipykernel_6699/134277459.py:35: RuntimeWarning: invalid value encountered in log\n",
      "  L_clone_vector = np.log(L_clone_vector)\n"
     ]
    },
    {
     "name": "stdout",
     "output_type": "stream",
     "text": [
      "-1.1341732559157987e+53\n",
      "1.171443558286541e+17\n",
      "nan\n"
     ]
    },
    {
     "name": "stderr",
     "output_type": "stream",
     "text": [
      "100%|██████████| 951/951 [00:00<00:00, 27008.54it/s]\n",
      "/var/folders/bt/r1dg46ys21lb57m4n4x11m6c0000gn/T/ipykernel_6699/134277459.py:34: RuntimeWarning: invalid value encountered in log\n",
      "  L_seller_vector = np.log(L_seller_vector)\n",
      "/var/folders/bt/r1dg46ys21lb57m4n4x11m6c0000gn/T/ipykernel_6699/134277459.py:35: RuntimeWarning: invalid value encountered in log\n",
      "  L_clone_vector = np.log(L_clone_vector)\n"
     ]
    },
    {
     "name": "stdout",
     "output_type": "stream",
     "text": [
      "-1.134173094029873e+53\n",
      "1.1714434893925198e+17\n",
      "nan\n"
     ]
    },
    {
     "name": "stderr",
     "output_type": "stream",
     "text": [
      "100%|██████████| 951/951 [00:00<00:00, 27583.04it/s]\n",
      "/var/folders/bt/r1dg46ys21lb57m4n4x11m6c0000gn/T/ipykernel_6699/134277459.py:34: RuntimeWarning: invalid value encountered in log\n",
      "  L_seller_vector = np.log(L_seller_vector)\n",
      "/var/folders/bt/r1dg46ys21lb57m4n4x11m6c0000gn/T/ipykernel_6699/134277459.py:35: RuntimeWarning: invalid value encountered in log\n",
      "  L_clone_vector = np.log(L_clone_vector)\n"
     ]
    },
    {
     "name": "stdout",
     "output_type": "stream",
     "text": [
      "-1.1341733758401503e+53\n",
      "1.1714436093229611e+17\n",
      "nan\n"
     ]
    },
    {
     "name": "stderr",
     "output_type": "stream",
     "text": [
      "100%|██████████| 951/951 [00:00<00:00, 27689.50it/s]\n",
      "/var/folders/bt/r1dg46ys21lb57m4n4x11m6c0000gn/T/ipykernel_6699/134277459.py:34: RuntimeWarning: invalid value encountered in log\n",
      "  L_seller_vector = np.log(L_seller_vector)\n",
      "/var/folders/bt/r1dg46ys21lb57m4n4x11m6c0000gn/T/ipykernel_6699/134277459.py:35: RuntimeWarning: invalid value encountered in log\n",
      "  L_clone_vector = np.log(L_clone_vector)\n"
     ]
    },
    {
     "name": "stdout",
     "output_type": "stream",
     "text": [
      "-1.1341730444760755e+53\n",
      "1.1714434683038734e+17\n",
      "nan\n"
     ]
    },
    {
     "name": "stderr",
     "output_type": "stream",
     "text": [
      "100%|██████████| 951/951 [00:00<00:00, 27598.11it/s]\n",
      "/var/folders/bt/r1dg46ys21lb57m4n4x11m6c0000gn/T/ipykernel_6699/134277459.py:34: RuntimeWarning: invalid value encountered in log\n",
      "  L_seller_vector = np.log(L_seller_vector)\n",
      "/var/folders/bt/r1dg46ys21lb57m4n4x11m6c0000gn/T/ipykernel_6699/134277459.py:35: RuntimeWarning: invalid value encountered in log\n",
      "  L_clone_vector = np.log(L_clone_vector)\n"
     ]
    },
    {
     "name": "stdout",
     "output_type": "stream",
     "text": [
      "-1.134171711569563e+53\n",
      "1.1714438127615142e+17\n",
      "nan\n"
     ]
    },
    {
     "name": "stderr",
     "output_type": "stream",
     "text": [
      "100%|██████████| 951/951 [00:00<00:00, 26034.06it/s]\n",
      "/var/folders/bt/r1dg46ys21lb57m4n4x11m6c0000gn/T/ipykernel_6699/134277459.py:34: RuntimeWarning: invalid value encountered in log\n",
      "  L_seller_vector = np.log(L_seller_vector)\n",
      "/var/folders/bt/r1dg46ys21lb57m4n4x11m6c0000gn/T/ipykernel_6699/134277459.py:35: RuntimeWarning: invalid value encountered in log\n",
      "  L_clone_vector = np.log(L_clone_vector)\n"
     ]
    },
    {
     "name": "stdout",
     "output_type": "stream",
     "text": [
      "-1.1341747065939775e+53\n",
      "1.1714432639485182e+17\n",
      "nan\n"
     ]
    },
    {
     "name": "stderr",
     "output_type": "stream",
     "text": [
      "100%|██████████| 951/951 [00:00<00:00, 26973.29it/s]\n"
     ]
    },
    {
     "name": "stdout",
     "output_type": "stream",
     "text": [
      "-1.134173133775984e+53\n"
     ]
    },
    {
     "name": "stderr",
     "output_type": "stream",
     "text": [
      "/var/folders/bt/r1dg46ys21lb57m4n4x11m6c0000gn/T/ipykernel_6699/134277459.py:34: RuntimeWarning: invalid value encountered in log\n",
      "  L_seller_vector = np.log(L_seller_vector)\n",
      "/var/folders/bt/r1dg46ys21lb57m4n4x11m6c0000gn/T/ipykernel_6699/134277459.py:35: RuntimeWarning: invalid value encountered in log\n",
      "  L_clone_vector = np.log(L_clone_vector)\n"
     ]
    },
    {
     "name": "stdout",
     "output_type": "stream",
     "text": [
      "1.1714439982322157e+17\n",
      "nan\n"
     ]
    },
    {
     "name": "stderr",
     "output_type": "stream",
     "text": [
      "  0%|          | 0/951 [00:00<?, ?it/s]/var/folders/bt/r1dg46ys21lb57m4n4x11m6c0000gn/T/ipykernel_6699/2930077986.py:58: RuntimeWarning: divide by zero encountered in double_scalars\n",
      "  resultat = numerateur / denominateur\n",
      "/var/folders/bt/r1dg46ys21lb57m4n4x11m6c0000gn/T/ipykernel_6699/2930077986.py:9: RuntimeWarning: overflow encountered in exp\n",
      "  numerateur_s_exp = np.exp(-(phi_s[i] * IS(lambda_s,T_s_seller[i])))\n",
      "/var/folders/bt/r1dg46ys21lb57m4n4x11m6c0000gn/T/ipykernel_6699/2930077986.py:21: RuntimeWarning: overflow encountered in exp\n",
      "  membre_2 = np.exp( - t_end * (d + s)) - np.exp( - d * t_begin - s * t_end)\n",
      "/var/folders/bt/r1dg46ys21lb57m4n4x11m6c0000gn/T/ipykernel_6699/2930077986.py:21: RuntimeWarning: invalid value encountered in double_scalars\n",
      "  membre_2 = np.exp( - t_end * (d + s)) - np.exp( - d * t_begin - s * t_end)\n",
      "/var/folders/bt/r1dg46ys21lb57m4n4x11m6c0000gn/T/ipykernel_6699/2930077986.py:23: RuntimeWarning: overflow encountered in exp\n",
      "  membre_3 = np.exp(- d * t_begin - s * t_end) - np.exp( - t_end * (d + s)) - s * (np.exp(- d * (delta * t_end - (1 - delta) * t_begin ) - s * t_begin ) - np.exp( - t_end * (s + d))) / deno\n",
      "/var/folders/bt/r1dg46ys21lb57m4n4x11m6c0000gn/T/ipykernel_6699/2930077986.py:23: RuntimeWarning: invalid value encountered in double_scalars\n",
      "  membre_3 = np.exp(- d * t_begin - s * t_end) - np.exp( - t_end * (d + s)) - s * (np.exp(- d * (delta * t_end - (1 - delta) * t_begin ) - s * t_begin ) - np.exp( - t_end * (s + d))) / deno\n",
      "/var/folders/bt/r1dg46ys21lb57m4n4x11m6c0000gn/T/ipykernel_6699/2930077986.py:38: RuntimeWarning: overflow encountered in exp\n",
      "  numerateur_s_exp = np.exp(-(phi_s[i] * IS(lambda_s,T_s_seller[i])))\n",
      "/var/folders/bt/r1dg46ys21lb57m4n4x11m6c0000gn/T/ipykernel_6699/2930077986.py:52: RuntimeWarning: overflow encountered in exp\n",
      "  membre_2 = np.exp( - t_end * (d + s)) - np.exp( - d * t_begin - s * t_end)\n",
      "/var/folders/bt/r1dg46ys21lb57m4n4x11m6c0000gn/T/ipykernel_6699/2930077986.py:52: RuntimeWarning: invalid value encountered in double_scalars\n",
      "  membre_2 = np.exp( - t_end * (d + s)) - np.exp( - d * t_begin - s * t_end)\n",
      "/var/folders/bt/r1dg46ys21lb57m4n4x11m6c0000gn/T/ipykernel_6699/2930077986.py:54: RuntimeWarning: overflow encountered in exp\n",
      "  membre_3 = np.exp(- d * t_begin - s * t_end) - np.exp( - t_end * (d + s)) - s * (np.exp(- d * (delta * t_end - (1 - delta) * t_begin ) - s * t_begin ) - np.exp( - t_end * (s + d))) / deno\n",
      "/var/folders/bt/r1dg46ys21lb57m4n4x11m6c0000gn/T/ipykernel_6699/2930077986.py:54: RuntimeWarning: invalid value encountered in double_scalars\n",
      "  membre_3 = np.exp(- d * t_begin - s * t_end) - np.exp( - t_end * (d + s)) - s * (np.exp(- d * (delta * t_end - (1 - delta) * t_begin ) - s * t_begin ) - np.exp( - t_end * (s + d))) / deno\n",
      "100%|██████████| 951/951 [00:00<00:00, 26531.40it/s]\n",
      "/var/folders/bt/r1dg46ys21lb57m4n4x11m6c0000gn/T/ipykernel_6699/134277459.py:34: RuntimeWarning: invalid value encountered in log\n",
      "  L_seller_vector = np.log(L_seller_vector)\n",
      "/var/folders/bt/r1dg46ys21lb57m4n4x11m6c0000gn/T/ipykernel_6699/134277459.py:35: RuntimeWarning: invalid value encountered in log\n",
      "  L_clone_vector = np.log(L_clone_vector)\n"
     ]
    },
    {
     "name": "stdout",
     "output_type": "stream",
     "text": [
      "nan\n",
      "nan\n",
      "nan\n"
     ]
    },
    {
     "name": "stderr",
     "output_type": "stream",
     "text": [
      "  0%|          | 0/951 [00:00<?, ?it/s]/var/folders/bt/r1dg46ys21lb57m4n4x11m6c0000gn/T/ipykernel_6699/2930077986.py:58: RuntimeWarning: divide by zero encountered in double_scalars\n",
      "  resultat = numerateur / denominateur\n",
      "/var/folders/bt/r1dg46ys21lb57m4n4x11m6c0000gn/T/ipykernel_6699/2930077986.py:9: RuntimeWarning: overflow encountered in exp\n",
      "  numerateur_s_exp = np.exp(-(phi_s[i] * IS(lambda_s,T_s_seller[i])))\n",
      "/var/folders/bt/r1dg46ys21lb57m4n4x11m6c0000gn/T/ipykernel_6699/2930077986.py:21: RuntimeWarning: overflow encountered in exp\n",
      "  membre_2 = np.exp( - t_end * (d + s)) - np.exp( - d * t_begin - s * t_end)\n",
      "/var/folders/bt/r1dg46ys21lb57m4n4x11m6c0000gn/T/ipykernel_6699/2930077986.py:21: RuntimeWarning: invalid value encountered in double_scalars\n",
      "  membre_2 = np.exp( - t_end * (d + s)) - np.exp( - d * t_begin - s * t_end)\n",
      "/var/folders/bt/r1dg46ys21lb57m4n4x11m6c0000gn/T/ipykernel_6699/2930077986.py:23: RuntimeWarning: overflow encountered in exp\n",
      "  membre_3 = np.exp(- d * t_begin - s * t_end) - np.exp( - t_end * (d + s)) - s * (np.exp(- d * (delta * t_end - (1 - delta) * t_begin ) - s * t_begin ) - np.exp( - t_end * (s + d))) / deno\n",
      "/var/folders/bt/r1dg46ys21lb57m4n4x11m6c0000gn/T/ipykernel_6699/2930077986.py:23: RuntimeWarning: invalid value encountered in double_scalars\n",
      "  membre_3 = np.exp(- d * t_begin - s * t_end) - np.exp( - t_end * (d + s)) - s * (np.exp(- d * (delta * t_end - (1 - delta) * t_begin ) - s * t_begin ) - np.exp( - t_end * (s + d))) / deno\n",
      "/var/folders/bt/r1dg46ys21lb57m4n4x11m6c0000gn/T/ipykernel_6699/2930077986.py:38: RuntimeWarning: overflow encountered in exp\n",
      "  numerateur_s_exp = np.exp(-(phi_s[i] * IS(lambda_s,T_s_seller[i])))\n",
      "/var/folders/bt/r1dg46ys21lb57m4n4x11m6c0000gn/T/ipykernel_6699/2930077986.py:52: RuntimeWarning: overflow encountered in exp\n",
      "  membre_2 = np.exp( - t_end * (d + s)) - np.exp( - d * t_begin - s * t_end)\n",
      "/var/folders/bt/r1dg46ys21lb57m4n4x11m6c0000gn/T/ipykernel_6699/2930077986.py:52: RuntimeWarning: invalid value encountered in double_scalars\n",
      "  membre_2 = np.exp( - t_end * (d + s)) - np.exp( - d * t_begin - s * t_end)\n",
      "/var/folders/bt/r1dg46ys21lb57m4n4x11m6c0000gn/T/ipykernel_6699/2930077986.py:54: RuntimeWarning: overflow encountered in exp\n",
      "  membre_3 = np.exp(- d * t_begin - s * t_end) - np.exp( - t_end * (d + s)) - s * (np.exp(- d * (delta * t_end - (1 - delta) * t_begin ) - s * t_begin ) - np.exp( - t_end * (s + d))) / deno\n",
      "/var/folders/bt/r1dg46ys21lb57m4n4x11m6c0000gn/T/ipykernel_6699/2930077986.py:54: RuntimeWarning: invalid value encountered in double_scalars\n",
      "  membre_3 = np.exp(- d * t_begin - s * t_end) - np.exp( - t_end * (d + s)) - s * (np.exp(- d * (delta * t_end - (1 - delta) * t_begin ) - s * t_begin ) - np.exp( - t_end * (s + d))) / deno\n",
      "100%|██████████| 951/951 [00:00<00:00, 17393.35it/s]\n",
      "/var/folders/bt/r1dg46ys21lb57m4n4x11m6c0000gn/T/ipykernel_6699/134277459.py:34: RuntimeWarning: invalid value encountered in log\n",
      "  L_seller_vector = np.log(L_seller_vector)\n",
      "/var/folders/bt/r1dg46ys21lb57m4n4x11m6c0000gn/T/ipykernel_6699/134277459.py:35: RuntimeWarning: invalid value encountered in log\n",
      "  L_clone_vector = np.log(L_clone_vector)\n"
     ]
    },
    {
     "name": "stdout",
     "output_type": "stream",
     "text": [
      "nan\n",
      "nan\n",
      "nan\n"
     ]
    },
    {
     "name": "stderr",
     "output_type": "stream",
     "text": [
      "  0%|          | 0/951 [00:00<?, ?it/s]/var/folders/bt/r1dg46ys21lb57m4n4x11m6c0000gn/T/ipykernel_6699/2930077986.py:58: RuntimeWarning: divide by zero encountered in double_scalars\n",
      "  resultat = numerateur / denominateur\n",
      "/var/folders/bt/r1dg46ys21lb57m4n4x11m6c0000gn/T/ipykernel_6699/2930077986.py:9: RuntimeWarning: overflow encountered in exp\n",
      "  numerateur_s_exp = np.exp(-(phi_s[i] * IS(lambda_s,T_s_seller[i])))\n",
      "/var/folders/bt/r1dg46ys21lb57m4n4x11m6c0000gn/T/ipykernel_6699/2930077986.py:21: RuntimeWarning: overflow encountered in exp\n",
      "  membre_2 = np.exp( - t_end * (d + s)) - np.exp( - d * t_begin - s * t_end)\n",
      "/var/folders/bt/r1dg46ys21lb57m4n4x11m6c0000gn/T/ipykernel_6699/2930077986.py:21: RuntimeWarning: invalid value encountered in double_scalars\n",
      "  membre_2 = np.exp( - t_end * (d + s)) - np.exp( - d * t_begin - s * t_end)\n",
      "/var/folders/bt/r1dg46ys21lb57m4n4x11m6c0000gn/T/ipykernel_6699/2930077986.py:23: RuntimeWarning: overflow encountered in exp\n",
      "  membre_3 = np.exp(- d * t_begin - s * t_end) - np.exp( - t_end * (d + s)) - s * (np.exp(- d * (delta * t_end - (1 - delta) * t_begin ) - s * t_begin ) - np.exp( - t_end * (s + d))) / deno\n",
      "/var/folders/bt/r1dg46ys21lb57m4n4x11m6c0000gn/T/ipykernel_6699/2930077986.py:23: RuntimeWarning: invalid value encountered in double_scalars\n",
      "  membre_3 = np.exp(- d * t_begin - s * t_end) - np.exp( - t_end * (d + s)) - s * (np.exp(- d * (delta * t_end - (1 - delta) * t_begin ) - s * t_begin ) - np.exp( - t_end * (s + d))) / deno\n",
      "/var/folders/bt/r1dg46ys21lb57m4n4x11m6c0000gn/T/ipykernel_6699/2930077986.py:38: RuntimeWarning: overflow encountered in exp\n",
      "  numerateur_s_exp = np.exp(-(phi_s[i] * IS(lambda_s,T_s_seller[i])))\n",
      "/var/folders/bt/r1dg46ys21lb57m4n4x11m6c0000gn/T/ipykernel_6699/2930077986.py:52: RuntimeWarning: overflow encountered in exp\n",
      "  membre_2 = np.exp( - t_end * (d + s)) - np.exp( - d * t_begin - s * t_end)\n",
      "/var/folders/bt/r1dg46ys21lb57m4n4x11m6c0000gn/T/ipykernel_6699/2930077986.py:52: RuntimeWarning: invalid value encountered in double_scalars\n",
      "  membre_2 = np.exp( - t_end * (d + s)) - np.exp( - d * t_begin - s * t_end)\n",
      "/var/folders/bt/r1dg46ys21lb57m4n4x11m6c0000gn/T/ipykernel_6699/2930077986.py:54: RuntimeWarning: overflow encountered in exp\n",
      "  membre_3 = np.exp(- d * t_begin - s * t_end) - np.exp( - t_end * (d + s)) - s * (np.exp(- d * (delta * t_end - (1 - delta) * t_begin ) - s * t_begin ) - np.exp( - t_end * (s + d))) / deno\n",
      "/var/folders/bt/r1dg46ys21lb57m4n4x11m6c0000gn/T/ipykernel_6699/2930077986.py:54: RuntimeWarning: invalid value encountered in double_scalars\n",
      "  membre_3 = np.exp(- d * t_begin - s * t_end) - np.exp( - t_end * (d + s)) - s * (np.exp(- d * (delta * t_end - (1 - delta) * t_begin ) - s * t_begin ) - np.exp( - t_end * (s + d))) / deno\n",
      "100%|██████████| 951/951 [00:00<00:00, 5959.24it/s]\n",
      "/var/folders/bt/r1dg46ys21lb57m4n4x11m6c0000gn/T/ipykernel_6699/134277459.py:34: RuntimeWarning: invalid value encountered in log\n",
      "  L_seller_vector = np.log(L_seller_vector)\n",
      "/var/folders/bt/r1dg46ys21lb57m4n4x11m6c0000gn/T/ipykernel_6699/134277459.py:35: RuntimeWarning: invalid value encountered in log\n",
      "  L_clone_vector = np.log(L_clone_vector)\n"
     ]
    },
    {
     "name": "stdout",
     "output_type": "stream",
     "text": [
      "nan\n",
      "nan\n",
      "nan\n"
     ]
    },
    {
     "name": "stderr",
     "output_type": "stream",
     "text": [
      "  0%|          | 0/951 [00:00<?, ?it/s]/var/folders/bt/r1dg46ys21lb57m4n4x11m6c0000gn/T/ipykernel_6699/2930077986.py:58: RuntimeWarning: divide by zero encountered in double_scalars\n",
      "  resultat = numerateur / denominateur\n",
      "/var/folders/bt/r1dg46ys21lb57m4n4x11m6c0000gn/T/ipykernel_6699/2930077986.py:9: RuntimeWarning: overflow encountered in exp\n",
      "  numerateur_s_exp = np.exp(-(phi_s[i] * IS(lambda_s,T_s_seller[i])))\n",
      "/var/folders/bt/r1dg46ys21lb57m4n4x11m6c0000gn/T/ipykernel_6699/2930077986.py:21: RuntimeWarning: overflow encountered in exp\n",
      "  membre_2 = np.exp( - t_end * (d + s)) - np.exp( - d * t_begin - s * t_end)\n",
      "/var/folders/bt/r1dg46ys21lb57m4n4x11m6c0000gn/T/ipykernel_6699/2930077986.py:21: RuntimeWarning: invalid value encountered in double_scalars\n",
      "  membre_2 = np.exp( - t_end * (d + s)) - np.exp( - d * t_begin - s * t_end)\n",
      "/var/folders/bt/r1dg46ys21lb57m4n4x11m6c0000gn/T/ipykernel_6699/2930077986.py:23: RuntimeWarning: overflow encountered in exp\n",
      "  membre_3 = np.exp(- d * t_begin - s * t_end) - np.exp( - t_end * (d + s)) - s * (np.exp(- d * (delta * t_end - (1 - delta) * t_begin ) - s * t_begin ) - np.exp( - t_end * (s + d))) / deno\n",
      "/var/folders/bt/r1dg46ys21lb57m4n4x11m6c0000gn/T/ipykernel_6699/2930077986.py:23: RuntimeWarning: invalid value encountered in double_scalars\n",
      "  membre_3 = np.exp(- d * t_begin - s * t_end) - np.exp( - t_end * (d + s)) - s * (np.exp(- d * (delta * t_end - (1 - delta) * t_begin ) - s * t_begin ) - np.exp( - t_end * (s + d))) / deno\n",
      "/var/folders/bt/r1dg46ys21lb57m4n4x11m6c0000gn/T/ipykernel_6699/2930077986.py:38: RuntimeWarning: overflow encountered in exp\n",
      "  numerateur_s_exp = np.exp(-(phi_s[i] * IS(lambda_s,T_s_seller[i])))\n",
      "/var/folders/bt/r1dg46ys21lb57m4n4x11m6c0000gn/T/ipykernel_6699/2930077986.py:52: RuntimeWarning: overflow encountered in exp\n",
      "  membre_2 = np.exp( - t_end * (d + s)) - np.exp( - d * t_begin - s * t_end)\n",
      "/var/folders/bt/r1dg46ys21lb57m4n4x11m6c0000gn/T/ipykernel_6699/2930077986.py:52: RuntimeWarning: invalid value encountered in double_scalars\n",
      "  membre_2 = np.exp( - t_end * (d + s)) - np.exp( - d * t_begin - s * t_end)\n",
      "/var/folders/bt/r1dg46ys21lb57m4n4x11m6c0000gn/T/ipykernel_6699/2930077986.py:54: RuntimeWarning: overflow encountered in exp\n",
      "  membre_3 = np.exp(- d * t_begin - s * t_end) - np.exp( - t_end * (d + s)) - s * (np.exp(- d * (delta * t_end - (1 - delta) * t_begin ) - s * t_begin ) - np.exp( - t_end * (s + d))) / deno\n",
      "/var/folders/bt/r1dg46ys21lb57m4n4x11m6c0000gn/T/ipykernel_6699/2930077986.py:54: RuntimeWarning: invalid value encountered in double_scalars\n",
      "  membre_3 = np.exp(- d * t_begin - s * t_end) - np.exp( - t_end * (d + s)) - s * (np.exp(- d * (delta * t_end - (1 - delta) * t_begin ) - s * t_begin ) - np.exp( - t_end * (s + d))) / deno\n",
      "100%|██████████| 951/951 [00:00<00:00, 22426.15it/s]\n",
      "/var/folders/bt/r1dg46ys21lb57m4n4x11m6c0000gn/T/ipykernel_6699/134277459.py:34: RuntimeWarning: invalid value encountered in log\n",
      "  L_seller_vector = np.log(L_seller_vector)\n",
      "/var/folders/bt/r1dg46ys21lb57m4n4x11m6c0000gn/T/ipykernel_6699/134277459.py:35: RuntimeWarning: invalid value encountered in log\n",
      "  L_clone_vector = np.log(L_clone_vector)\n"
     ]
    },
    {
     "name": "stdout",
     "output_type": "stream",
     "text": [
      "nan\n",
      "nan\n",
      "nan\n"
     ]
    },
    {
     "name": "stderr",
     "output_type": "stream",
     "text": [
      "  0%|          | 0/951 [00:00<?, ?it/s]/var/folders/bt/r1dg46ys21lb57m4n4x11m6c0000gn/T/ipykernel_6699/2930077986.py:58: RuntimeWarning: divide by zero encountered in double_scalars\n",
      "  resultat = numerateur / denominateur\n",
      "/var/folders/bt/r1dg46ys21lb57m4n4x11m6c0000gn/T/ipykernel_6699/2930077986.py:9: RuntimeWarning: overflow encountered in exp\n",
      "  numerateur_s_exp = np.exp(-(phi_s[i] * IS(lambda_s,T_s_seller[i])))\n",
      "/var/folders/bt/r1dg46ys21lb57m4n4x11m6c0000gn/T/ipykernel_6699/2930077986.py:21: RuntimeWarning: overflow encountered in exp\n",
      "  membre_2 = np.exp( - t_end * (d + s)) - np.exp( - d * t_begin - s * t_end)\n",
      "/var/folders/bt/r1dg46ys21lb57m4n4x11m6c0000gn/T/ipykernel_6699/2930077986.py:21: RuntimeWarning: invalid value encountered in double_scalars\n",
      "  membre_2 = np.exp( - t_end * (d + s)) - np.exp( - d * t_begin - s * t_end)\n",
      "/var/folders/bt/r1dg46ys21lb57m4n4x11m6c0000gn/T/ipykernel_6699/2930077986.py:23: RuntimeWarning: overflow encountered in exp\n",
      "  membre_3 = np.exp(- d * t_begin - s * t_end) - np.exp( - t_end * (d + s)) - s * (np.exp(- d * (delta * t_end - (1 - delta) * t_begin ) - s * t_begin ) - np.exp( - t_end * (s + d))) / deno\n",
      "/var/folders/bt/r1dg46ys21lb57m4n4x11m6c0000gn/T/ipykernel_6699/2930077986.py:23: RuntimeWarning: invalid value encountered in double_scalars\n",
      "  membre_3 = np.exp(- d * t_begin - s * t_end) - np.exp( - t_end * (d + s)) - s * (np.exp(- d * (delta * t_end - (1 - delta) * t_begin ) - s * t_begin ) - np.exp( - t_end * (s + d))) / deno\n",
      "/var/folders/bt/r1dg46ys21lb57m4n4x11m6c0000gn/T/ipykernel_6699/2930077986.py:38: RuntimeWarning: overflow encountered in exp\n",
      "  numerateur_s_exp = np.exp(-(phi_s[i] * IS(lambda_s,T_s_seller[i])))\n",
      "/var/folders/bt/r1dg46ys21lb57m4n4x11m6c0000gn/T/ipykernel_6699/2930077986.py:52: RuntimeWarning: overflow encountered in exp\n",
      "  membre_2 = np.exp( - t_end * (d + s)) - np.exp( - d * t_begin - s * t_end)\n",
      "/var/folders/bt/r1dg46ys21lb57m4n4x11m6c0000gn/T/ipykernel_6699/2930077986.py:52: RuntimeWarning: invalid value encountered in double_scalars\n",
      "  membre_2 = np.exp( - t_end * (d + s)) - np.exp( - d * t_begin - s * t_end)\n",
      "/var/folders/bt/r1dg46ys21lb57m4n4x11m6c0000gn/T/ipykernel_6699/2930077986.py:54: RuntimeWarning: overflow encountered in exp\n",
      "  membre_3 = np.exp(- d * t_begin - s * t_end) - np.exp( - t_end * (d + s)) - s * (np.exp(- d * (delta * t_end - (1 - delta) * t_begin ) - s * t_begin ) - np.exp( - t_end * (s + d))) / deno\n",
      "/var/folders/bt/r1dg46ys21lb57m4n4x11m6c0000gn/T/ipykernel_6699/2930077986.py:54: RuntimeWarning: invalid value encountered in double_scalars\n",
      "  membre_3 = np.exp(- d * t_begin - s * t_end) - np.exp( - t_end * (d + s)) - s * (np.exp(- d * (delta * t_end - (1 - delta) * t_begin ) - s * t_begin ) - np.exp( - t_end * (s + d))) / deno\n",
      "100%|██████████| 951/951 [00:00<00:00, 24443.47it/s]\n",
      "/var/folders/bt/r1dg46ys21lb57m4n4x11m6c0000gn/T/ipykernel_6699/134277459.py:34: RuntimeWarning: invalid value encountered in log\n",
      "  L_seller_vector = np.log(L_seller_vector)\n",
      "/var/folders/bt/r1dg46ys21lb57m4n4x11m6c0000gn/T/ipykernel_6699/134277459.py:35: RuntimeWarning: invalid value encountered in log\n",
      "  L_clone_vector = np.log(L_clone_vector)\n"
     ]
    },
    {
     "name": "stdout",
     "output_type": "stream",
     "text": [
      "nan\n",
      "nan\n",
      "nan\n"
     ]
    },
    {
     "name": "stderr",
     "output_type": "stream",
     "text": [
      "  0%|          | 0/951 [00:00<?, ?it/s]/var/folders/bt/r1dg46ys21lb57m4n4x11m6c0000gn/T/ipykernel_6699/2930077986.py:58: RuntimeWarning: divide by zero encountered in double_scalars\n",
      "  resultat = numerateur / denominateur\n",
      "/var/folders/bt/r1dg46ys21lb57m4n4x11m6c0000gn/T/ipykernel_6699/2930077986.py:9: RuntimeWarning: overflow encountered in exp\n",
      "  numerateur_s_exp = np.exp(-(phi_s[i] * IS(lambda_s,T_s_seller[i])))\n",
      "/var/folders/bt/r1dg46ys21lb57m4n4x11m6c0000gn/T/ipykernel_6699/2930077986.py:21: RuntimeWarning: overflow encountered in exp\n",
      "  membre_2 = np.exp( - t_end * (d + s)) - np.exp( - d * t_begin - s * t_end)\n",
      "/var/folders/bt/r1dg46ys21lb57m4n4x11m6c0000gn/T/ipykernel_6699/2930077986.py:21: RuntimeWarning: invalid value encountered in double_scalars\n",
      "  membre_2 = np.exp( - t_end * (d + s)) - np.exp( - d * t_begin - s * t_end)\n",
      "/var/folders/bt/r1dg46ys21lb57m4n4x11m6c0000gn/T/ipykernel_6699/2930077986.py:23: RuntimeWarning: overflow encountered in exp\n",
      "  membre_3 = np.exp(- d * t_begin - s * t_end) - np.exp( - t_end * (d + s)) - s * (np.exp(- d * (delta * t_end - (1 - delta) * t_begin ) - s * t_begin ) - np.exp( - t_end * (s + d))) / deno\n",
      "/var/folders/bt/r1dg46ys21lb57m4n4x11m6c0000gn/T/ipykernel_6699/2930077986.py:23: RuntimeWarning: invalid value encountered in double_scalars\n",
      "  membre_3 = np.exp(- d * t_begin - s * t_end) - np.exp( - t_end * (d + s)) - s * (np.exp(- d * (delta * t_end - (1 - delta) * t_begin ) - s * t_begin ) - np.exp( - t_end * (s + d))) / deno\n",
      "/var/folders/bt/r1dg46ys21lb57m4n4x11m6c0000gn/T/ipykernel_6699/2930077986.py:38: RuntimeWarning: overflow encountered in exp\n",
      "  numerateur_s_exp = np.exp(-(phi_s[i] * IS(lambda_s,T_s_seller[i])))\n",
      "/var/folders/bt/r1dg46ys21lb57m4n4x11m6c0000gn/T/ipykernel_6699/2930077986.py:52: RuntimeWarning: overflow encountered in exp\n",
      "  membre_2 = np.exp( - t_end * (d + s)) - np.exp( - d * t_begin - s * t_end)\n",
      "/var/folders/bt/r1dg46ys21lb57m4n4x11m6c0000gn/T/ipykernel_6699/2930077986.py:52: RuntimeWarning: invalid value encountered in double_scalars\n",
      "  membre_2 = np.exp( - t_end * (d + s)) - np.exp( - d * t_begin - s * t_end)\n",
      "/var/folders/bt/r1dg46ys21lb57m4n4x11m6c0000gn/T/ipykernel_6699/2930077986.py:54: RuntimeWarning: overflow encountered in exp\n",
      "  membre_3 = np.exp(- d * t_begin - s * t_end) - np.exp( - t_end * (d + s)) - s * (np.exp(- d * (delta * t_end - (1 - delta) * t_begin ) - s * t_begin ) - np.exp( - t_end * (s + d))) / deno\n",
      "/var/folders/bt/r1dg46ys21lb57m4n4x11m6c0000gn/T/ipykernel_6699/2930077986.py:54: RuntimeWarning: invalid value encountered in double_scalars\n",
      "  membre_3 = np.exp(- d * t_begin - s * t_end) - np.exp( - t_end * (d + s)) - s * (np.exp(- d * (delta * t_end - (1 - delta) * t_begin ) - s * t_begin ) - np.exp( - t_end * (s + d))) / deno\n",
      "100%|██████████| 951/951 [00:00<00:00, 26785.10it/s]\n",
      "/var/folders/bt/r1dg46ys21lb57m4n4x11m6c0000gn/T/ipykernel_6699/134277459.py:34: RuntimeWarning: invalid value encountered in log\n",
      "  L_seller_vector = np.log(L_seller_vector)\n",
      "/var/folders/bt/r1dg46ys21lb57m4n4x11m6c0000gn/T/ipykernel_6699/134277459.py:35: RuntimeWarning: invalid value encountered in log\n",
      "  L_clone_vector = np.log(L_clone_vector)\n"
     ]
    },
    {
     "name": "stdout",
     "output_type": "stream",
     "text": [
      "nan\n",
      "nan\n",
      "nan\n"
     ]
    },
    {
     "name": "stderr",
     "output_type": "stream",
     "text": [
      "  0%|          | 0/951 [00:00<?, ?it/s]/var/folders/bt/r1dg46ys21lb57m4n4x11m6c0000gn/T/ipykernel_6699/2930077986.py:58: RuntimeWarning: divide by zero encountered in double_scalars\n",
      "  resultat = numerateur / denominateur\n",
      "/var/folders/bt/r1dg46ys21lb57m4n4x11m6c0000gn/T/ipykernel_6699/2930077986.py:9: RuntimeWarning: overflow encountered in exp\n",
      "  numerateur_s_exp = np.exp(-(phi_s[i] * IS(lambda_s,T_s_seller[i])))\n",
      "/var/folders/bt/r1dg46ys21lb57m4n4x11m6c0000gn/T/ipykernel_6699/2930077986.py:21: RuntimeWarning: overflow encountered in exp\n",
      "  membre_2 = np.exp( - t_end * (d + s)) - np.exp( - d * t_begin - s * t_end)\n",
      "/var/folders/bt/r1dg46ys21lb57m4n4x11m6c0000gn/T/ipykernel_6699/2930077986.py:21: RuntimeWarning: invalid value encountered in double_scalars\n",
      "  membre_2 = np.exp( - t_end * (d + s)) - np.exp( - d * t_begin - s * t_end)\n",
      "/var/folders/bt/r1dg46ys21lb57m4n4x11m6c0000gn/T/ipykernel_6699/2930077986.py:23: RuntimeWarning: overflow encountered in exp\n",
      "  membre_3 = np.exp(- d * t_begin - s * t_end) - np.exp( - t_end * (d + s)) - s * (np.exp(- d * (delta * t_end - (1 - delta) * t_begin ) - s * t_begin ) - np.exp( - t_end * (s + d))) / deno\n",
      "/var/folders/bt/r1dg46ys21lb57m4n4x11m6c0000gn/T/ipykernel_6699/2930077986.py:23: RuntimeWarning: invalid value encountered in double_scalars\n",
      "  membre_3 = np.exp(- d * t_begin - s * t_end) - np.exp( - t_end * (d + s)) - s * (np.exp(- d * (delta * t_end - (1 - delta) * t_begin ) - s * t_begin ) - np.exp( - t_end * (s + d))) / deno\n",
      "/var/folders/bt/r1dg46ys21lb57m4n4x11m6c0000gn/T/ipykernel_6699/2930077986.py:38: RuntimeWarning: overflow encountered in exp\n",
      "  numerateur_s_exp = np.exp(-(phi_s[i] * IS(lambda_s,T_s_seller[i])))\n",
      "/var/folders/bt/r1dg46ys21lb57m4n4x11m6c0000gn/T/ipykernel_6699/2930077986.py:52: RuntimeWarning: overflow encountered in exp\n",
      "  membre_2 = np.exp( - t_end * (d + s)) - np.exp( - d * t_begin - s * t_end)\n",
      "/var/folders/bt/r1dg46ys21lb57m4n4x11m6c0000gn/T/ipykernel_6699/2930077986.py:52: RuntimeWarning: invalid value encountered in double_scalars\n",
      "  membre_2 = np.exp( - t_end * (d + s)) - np.exp( - d * t_begin - s * t_end)\n",
      "/var/folders/bt/r1dg46ys21lb57m4n4x11m6c0000gn/T/ipykernel_6699/2930077986.py:54: RuntimeWarning: overflow encountered in exp\n",
      "  membre_3 = np.exp(- d * t_begin - s * t_end) - np.exp( - t_end * (d + s)) - s * (np.exp(- d * (delta * t_end - (1 - delta) * t_begin ) - s * t_begin ) - np.exp( - t_end * (s + d))) / deno\n",
      "/var/folders/bt/r1dg46ys21lb57m4n4x11m6c0000gn/T/ipykernel_6699/2930077986.py:54: RuntimeWarning: invalid value encountered in double_scalars\n",
      "  membre_3 = np.exp(- d * t_begin - s * t_end) - np.exp( - t_end * (d + s)) - s * (np.exp(- d * (delta * t_end - (1 - delta) * t_begin ) - s * t_begin ) - np.exp( - t_end * (s + d))) / deno\n",
      "100%|██████████| 951/951 [00:00<00:00, 26462.92it/s]\n",
      "/var/folders/bt/r1dg46ys21lb57m4n4x11m6c0000gn/T/ipykernel_6699/134277459.py:34: RuntimeWarning: invalid value encountered in log\n",
      "  L_seller_vector = np.log(L_seller_vector)\n",
      "/var/folders/bt/r1dg46ys21lb57m4n4x11m6c0000gn/T/ipykernel_6699/134277459.py:35: RuntimeWarning: invalid value encountered in log\n",
      "  L_clone_vector = np.log(L_clone_vector)\n"
     ]
    },
    {
     "name": "stdout",
     "output_type": "stream",
     "text": [
      "nan\n",
      "nan\n",
      "nan\n"
     ]
    },
    {
     "name": "stderr",
     "output_type": "stream",
     "text": [
      "  0%|          | 0/951 [00:00<?, ?it/s]/var/folders/bt/r1dg46ys21lb57m4n4x11m6c0000gn/T/ipykernel_6699/2930077986.py:58: RuntimeWarning: divide by zero encountered in double_scalars\n",
      "  resultat = numerateur / denominateur\n",
      "/var/folders/bt/r1dg46ys21lb57m4n4x11m6c0000gn/T/ipykernel_6699/2930077986.py:9: RuntimeWarning: overflow encountered in exp\n",
      "  numerateur_s_exp = np.exp(-(phi_s[i] * IS(lambda_s,T_s_seller[i])))\n",
      "/var/folders/bt/r1dg46ys21lb57m4n4x11m6c0000gn/T/ipykernel_6699/2930077986.py:21: RuntimeWarning: overflow encountered in exp\n",
      "  membre_2 = np.exp( - t_end * (d + s)) - np.exp( - d * t_begin - s * t_end)\n",
      "/var/folders/bt/r1dg46ys21lb57m4n4x11m6c0000gn/T/ipykernel_6699/2930077986.py:21: RuntimeWarning: invalid value encountered in double_scalars\n",
      "  membre_2 = np.exp( - t_end * (d + s)) - np.exp( - d * t_begin - s * t_end)\n",
      "/var/folders/bt/r1dg46ys21lb57m4n4x11m6c0000gn/T/ipykernel_6699/2930077986.py:23: RuntimeWarning: overflow encountered in exp\n",
      "  membre_3 = np.exp(- d * t_begin - s * t_end) - np.exp( - t_end * (d + s)) - s * (np.exp(- d * (delta * t_end - (1 - delta) * t_begin ) - s * t_begin ) - np.exp( - t_end * (s + d))) / deno\n",
      "/var/folders/bt/r1dg46ys21lb57m4n4x11m6c0000gn/T/ipykernel_6699/2930077986.py:23: RuntimeWarning: invalid value encountered in double_scalars\n",
      "  membre_3 = np.exp(- d * t_begin - s * t_end) - np.exp( - t_end * (d + s)) - s * (np.exp(- d * (delta * t_end - (1 - delta) * t_begin ) - s * t_begin ) - np.exp( - t_end * (s + d))) / deno\n",
      "/var/folders/bt/r1dg46ys21lb57m4n4x11m6c0000gn/T/ipykernel_6699/2930077986.py:38: RuntimeWarning: overflow encountered in exp\n",
      "  numerateur_s_exp = np.exp(-(phi_s[i] * IS(lambda_s,T_s_seller[i])))\n",
      "/var/folders/bt/r1dg46ys21lb57m4n4x11m6c0000gn/T/ipykernel_6699/2930077986.py:52: RuntimeWarning: overflow encountered in exp\n",
      "  membre_2 = np.exp( - t_end * (d + s)) - np.exp( - d * t_begin - s * t_end)\n",
      "/var/folders/bt/r1dg46ys21lb57m4n4x11m6c0000gn/T/ipykernel_6699/2930077986.py:52: RuntimeWarning: invalid value encountered in double_scalars\n",
      "  membre_2 = np.exp( - t_end * (d + s)) - np.exp( - d * t_begin - s * t_end)\n",
      "/var/folders/bt/r1dg46ys21lb57m4n4x11m6c0000gn/T/ipykernel_6699/2930077986.py:54: RuntimeWarning: overflow encountered in exp\n",
      "  membre_3 = np.exp(- d * t_begin - s * t_end) - np.exp( - t_end * (d + s)) - s * (np.exp(- d * (delta * t_end - (1 - delta) * t_begin ) - s * t_begin ) - np.exp( - t_end * (s + d))) / deno\n",
      "/var/folders/bt/r1dg46ys21lb57m4n4x11m6c0000gn/T/ipykernel_6699/2930077986.py:54: RuntimeWarning: invalid value encountered in double_scalars\n",
      "  membre_3 = np.exp(- d * t_begin - s * t_end) - np.exp( - t_end * (d + s)) - s * (np.exp(- d * (delta * t_end - (1 - delta) * t_begin ) - s * t_begin ) - np.exp( - t_end * (s + d))) / deno\n",
      "100%|██████████| 951/951 [00:00<00:00, 25023.11it/s]\n",
      "/var/folders/bt/r1dg46ys21lb57m4n4x11m6c0000gn/T/ipykernel_6699/134277459.py:34: RuntimeWarning: invalid value encountered in log\n",
      "  L_seller_vector = np.log(L_seller_vector)\n",
      "/var/folders/bt/r1dg46ys21lb57m4n4x11m6c0000gn/T/ipykernel_6699/134277459.py:35: RuntimeWarning: invalid value encountered in log\n",
      "  L_clone_vector = np.log(L_clone_vector)\n"
     ]
    },
    {
     "name": "stdout",
     "output_type": "stream",
     "text": [
      "nan\n",
      "nan\n",
      "nan\n"
     ]
    },
    {
     "name": "stderr",
     "output_type": "stream",
     "text": [
      "  0%|          | 0/951 [00:00<?, ?it/s]/var/folders/bt/r1dg46ys21lb57m4n4x11m6c0000gn/T/ipykernel_6699/2930077986.py:58: RuntimeWarning: divide by zero encountered in double_scalars\n",
      "  resultat = numerateur / denominateur\n",
      "/var/folders/bt/r1dg46ys21lb57m4n4x11m6c0000gn/T/ipykernel_6699/2930077986.py:9: RuntimeWarning: overflow encountered in exp\n",
      "  numerateur_s_exp = np.exp(-(phi_s[i] * IS(lambda_s,T_s_seller[i])))\n",
      "/var/folders/bt/r1dg46ys21lb57m4n4x11m6c0000gn/T/ipykernel_6699/2930077986.py:21: RuntimeWarning: overflow encountered in exp\n",
      "  membre_2 = np.exp( - t_end * (d + s)) - np.exp( - d * t_begin - s * t_end)\n",
      "/var/folders/bt/r1dg46ys21lb57m4n4x11m6c0000gn/T/ipykernel_6699/2930077986.py:21: RuntimeWarning: invalid value encountered in double_scalars\n",
      "  membre_2 = np.exp( - t_end * (d + s)) - np.exp( - d * t_begin - s * t_end)\n",
      "/var/folders/bt/r1dg46ys21lb57m4n4x11m6c0000gn/T/ipykernel_6699/2930077986.py:23: RuntimeWarning: overflow encountered in exp\n",
      "  membre_3 = np.exp(- d * t_begin - s * t_end) - np.exp( - t_end * (d + s)) - s * (np.exp(- d * (delta * t_end - (1 - delta) * t_begin ) - s * t_begin ) - np.exp( - t_end * (s + d))) / deno\n",
      "/var/folders/bt/r1dg46ys21lb57m4n4x11m6c0000gn/T/ipykernel_6699/2930077986.py:23: RuntimeWarning: invalid value encountered in double_scalars\n",
      "  membre_3 = np.exp(- d * t_begin - s * t_end) - np.exp( - t_end * (d + s)) - s * (np.exp(- d * (delta * t_end - (1 - delta) * t_begin ) - s * t_begin ) - np.exp( - t_end * (s + d))) / deno\n",
      "/var/folders/bt/r1dg46ys21lb57m4n4x11m6c0000gn/T/ipykernel_6699/2930077986.py:38: RuntimeWarning: overflow encountered in exp\n",
      "  numerateur_s_exp = np.exp(-(phi_s[i] * IS(lambda_s,T_s_seller[i])))\n",
      "/var/folders/bt/r1dg46ys21lb57m4n4x11m6c0000gn/T/ipykernel_6699/2930077986.py:52: RuntimeWarning: overflow encountered in exp\n",
      "  membre_2 = np.exp( - t_end * (d + s)) - np.exp( - d * t_begin - s * t_end)\n",
      "/var/folders/bt/r1dg46ys21lb57m4n4x11m6c0000gn/T/ipykernel_6699/2930077986.py:52: RuntimeWarning: invalid value encountered in double_scalars\n",
      "  membre_2 = np.exp( - t_end * (d + s)) - np.exp( - d * t_begin - s * t_end)\n",
      "/var/folders/bt/r1dg46ys21lb57m4n4x11m6c0000gn/T/ipykernel_6699/2930077986.py:54: RuntimeWarning: overflow encountered in exp\n",
      "  membre_3 = np.exp(- d * t_begin - s * t_end) - np.exp( - t_end * (d + s)) - s * (np.exp(- d * (delta * t_end - (1 - delta) * t_begin ) - s * t_begin ) - np.exp( - t_end * (s + d))) / deno\n",
      "/var/folders/bt/r1dg46ys21lb57m4n4x11m6c0000gn/T/ipykernel_6699/2930077986.py:54: RuntimeWarning: invalid value encountered in double_scalars\n",
      "  membre_3 = np.exp(- d * t_begin - s * t_end) - np.exp( - t_end * (d + s)) - s * (np.exp(- d * (delta * t_end - (1 - delta) * t_begin ) - s * t_begin ) - np.exp( - t_end * (s + d))) / deno\n",
      "100%|██████████| 951/951 [00:00<00:00, 26710.30it/s]\n",
      "/var/folders/bt/r1dg46ys21lb57m4n4x11m6c0000gn/T/ipykernel_6699/134277459.py:34: RuntimeWarning: invalid value encountered in log\n",
      "  L_seller_vector = np.log(L_seller_vector)\n",
      "/var/folders/bt/r1dg46ys21lb57m4n4x11m6c0000gn/T/ipykernel_6699/134277459.py:35: RuntimeWarning: invalid value encountered in log\n",
      "  L_clone_vector = np.log(L_clone_vector)\n"
     ]
    },
    {
     "name": "stdout",
     "output_type": "stream",
     "text": [
      "nan\n",
      "nan\n",
      "nan\n"
     ]
    },
    {
     "name": "stderr",
     "output_type": "stream",
     "text": [
      "  0%|          | 0/951 [00:00<?, ?it/s]/var/folders/bt/r1dg46ys21lb57m4n4x11m6c0000gn/T/ipykernel_6699/2930077986.py:58: RuntimeWarning: divide by zero encountered in double_scalars\n",
      "  resultat = numerateur / denominateur\n",
      "/var/folders/bt/r1dg46ys21lb57m4n4x11m6c0000gn/T/ipykernel_6699/2930077986.py:9: RuntimeWarning: overflow encountered in exp\n",
      "  numerateur_s_exp = np.exp(-(phi_s[i] * IS(lambda_s,T_s_seller[i])))\n",
      "/var/folders/bt/r1dg46ys21lb57m4n4x11m6c0000gn/T/ipykernel_6699/2930077986.py:21: RuntimeWarning: overflow encountered in exp\n",
      "  membre_2 = np.exp( - t_end * (d + s)) - np.exp( - d * t_begin - s * t_end)\n",
      "/var/folders/bt/r1dg46ys21lb57m4n4x11m6c0000gn/T/ipykernel_6699/2930077986.py:21: RuntimeWarning: invalid value encountered in double_scalars\n",
      "  membre_2 = np.exp( - t_end * (d + s)) - np.exp( - d * t_begin - s * t_end)\n",
      "/var/folders/bt/r1dg46ys21lb57m4n4x11m6c0000gn/T/ipykernel_6699/2930077986.py:23: RuntimeWarning: overflow encountered in exp\n",
      "  membre_3 = np.exp(- d * t_begin - s * t_end) - np.exp( - t_end * (d + s)) - s * (np.exp(- d * (delta * t_end - (1 - delta) * t_begin ) - s * t_begin ) - np.exp( - t_end * (s + d))) / deno\n",
      "/var/folders/bt/r1dg46ys21lb57m4n4x11m6c0000gn/T/ipykernel_6699/2930077986.py:23: RuntimeWarning: invalid value encountered in double_scalars\n",
      "  membre_3 = np.exp(- d * t_begin - s * t_end) - np.exp( - t_end * (d + s)) - s * (np.exp(- d * (delta * t_end - (1 - delta) * t_begin ) - s * t_begin ) - np.exp( - t_end * (s + d))) / deno\n",
      "/var/folders/bt/r1dg46ys21lb57m4n4x11m6c0000gn/T/ipykernel_6699/2930077986.py:38: RuntimeWarning: overflow encountered in exp\n",
      "  numerateur_s_exp = np.exp(-(phi_s[i] * IS(lambda_s,T_s_seller[i])))\n",
      "/var/folders/bt/r1dg46ys21lb57m4n4x11m6c0000gn/T/ipykernel_6699/2930077986.py:52: RuntimeWarning: overflow encountered in exp\n",
      "  membre_2 = np.exp( - t_end * (d + s)) - np.exp( - d * t_begin - s * t_end)\n",
      "/var/folders/bt/r1dg46ys21lb57m4n4x11m6c0000gn/T/ipykernel_6699/2930077986.py:52: RuntimeWarning: invalid value encountered in double_scalars\n",
      "  membre_2 = np.exp( - t_end * (d + s)) - np.exp( - d * t_begin - s * t_end)\n",
      "/var/folders/bt/r1dg46ys21lb57m4n4x11m6c0000gn/T/ipykernel_6699/2930077986.py:54: RuntimeWarning: overflow encountered in exp\n",
      "  membre_3 = np.exp(- d * t_begin - s * t_end) - np.exp( - t_end * (d + s)) - s * (np.exp(- d * (delta * t_end - (1 - delta) * t_begin ) - s * t_begin ) - np.exp( - t_end * (s + d))) / deno\n",
      "/var/folders/bt/r1dg46ys21lb57m4n4x11m6c0000gn/T/ipykernel_6699/2930077986.py:54: RuntimeWarning: invalid value encountered in double_scalars\n",
      "  membre_3 = np.exp(- d * t_begin - s * t_end) - np.exp( - t_end * (d + s)) - s * (np.exp(- d * (delta * t_end - (1 - delta) * t_begin ) - s * t_begin ) - np.exp( - t_end * (s + d))) / deno\n",
      "100%|██████████| 951/951 [00:00<00:00, 26744.15it/s]\n",
      "/var/folders/bt/r1dg46ys21lb57m4n4x11m6c0000gn/T/ipykernel_6699/134277459.py:34: RuntimeWarning: invalid value encountered in log\n",
      "  L_seller_vector = np.log(L_seller_vector)\n",
      "/var/folders/bt/r1dg46ys21lb57m4n4x11m6c0000gn/T/ipykernel_6699/134277459.py:35: RuntimeWarning: invalid value encountered in log\n",
      "  L_clone_vector = np.log(L_clone_vector)\n"
     ]
    },
    {
     "name": "stdout",
     "output_type": "stream",
     "text": [
      "nan\n",
      "nan\n",
      "nan\n"
     ]
    },
    {
     "name": "stderr",
     "output_type": "stream",
     "text": [
      "  0%|          | 0/951 [00:00<?, ?it/s]/var/folders/bt/r1dg46ys21lb57m4n4x11m6c0000gn/T/ipykernel_6699/2930077986.py:58: RuntimeWarning: divide by zero encountered in double_scalars\n",
      "  resultat = numerateur / denominateur\n",
      "/var/folders/bt/r1dg46ys21lb57m4n4x11m6c0000gn/T/ipykernel_6699/2930077986.py:9: RuntimeWarning: overflow encountered in exp\n",
      "  numerateur_s_exp = np.exp(-(phi_s[i] * IS(lambda_s,T_s_seller[i])))\n",
      "/var/folders/bt/r1dg46ys21lb57m4n4x11m6c0000gn/T/ipykernel_6699/2930077986.py:21: RuntimeWarning: overflow encountered in exp\n",
      "  membre_2 = np.exp( - t_end * (d + s)) - np.exp( - d * t_begin - s * t_end)\n",
      "/var/folders/bt/r1dg46ys21lb57m4n4x11m6c0000gn/T/ipykernel_6699/2930077986.py:21: RuntimeWarning: invalid value encountered in double_scalars\n",
      "  membre_2 = np.exp( - t_end * (d + s)) - np.exp( - d * t_begin - s * t_end)\n",
      "/var/folders/bt/r1dg46ys21lb57m4n4x11m6c0000gn/T/ipykernel_6699/2930077986.py:23: RuntimeWarning: overflow encountered in exp\n",
      "  membre_3 = np.exp(- d * t_begin - s * t_end) - np.exp( - t_end * (d + s)) - s * (np.exp(- d * (delta * t_end - (1 - delta) * t_begin ) - s * t_begin ) - np.exp( - t_end * (s + d))) / deno\n",
      "/var/folders/bt/r1dg46ys21lb57m4n4x11m6c0000gn/T/ipykernel_6699/2930077986.py:23: RuntimeWarning: invalid value encountered in double_scalars\n",
      "  membre_3 = np.exp(- d * t_begin - s * t_end) - np.exp( - t_end * (d + s)) - s * (np.exp(- d * (delta * t_end - (1 - delta) * t_begin ) - s * t_begin ) - np.exp( - t_end * (s + d))) / deno\n",
      "/var/folders/bt/r1dg46ys21lb57m4n4x11m6c0000gn/T/ipykernel_6699/2930077986.py:38: RuntimeWarning: overflow encountered in exp\n",
      "  numerateur_s_exp = np.exp(-(phi_s[i] * IS(lambda_s,T_s_seller[i])))\n",
      "/var/folders/bt/r1dg46ys21lb57m4n4x11m6c0000gn/T/ipykernel_6699/2930077986.py:52: RuntimeWarning: overflow encountered in exp\n",
      "  membre_2 = np.exp( - t_end * (d + s)) - np.exp( - d * t_begin - s * t_end)\n",
      "/var/folders/bt/r1dg46ys21lb57m4n4x11m6c0000gn/T/ipykernel_6699/2930077986.py:52: RuntimeWarning: invalid value encountered in double_scalars\n",
      "  membre_2 = np.exp( - t_end * (d + s)) - np.exp( - d * t_begin - s * t_end)\n",
      "/var/folders/bt/r1dg46ys21lb57m4n4x11m6c0000gn/T/ipykernel_6699/2930077986.py:54: RuntimeWarning: overflow encountered in exp\n",
      "  membre_3 = np.exp(- d * t_begin - s * t_end) - np.exp( - t_end * (d + s)) - s * (np.exp(- d * (delta * t_end - (1 - delta) * t_begin ) - s * t_begin ) - np.exp( - t_end * (s + d))) / deno\n",
      "/var/folders/bt/r1dg46ys21lb57m4n4x11m6c0000gn/T/ipykernel_6699/2930077986.py:54: RuntimeWarning: invalid value encountered in double_scalars\n",
      "  membre_3 = np.exp(- d * t_begin - s * t_end) - np.exp( - t_end * (d + s)) - s * (np.exp(- d * (delta * t_end - (1 - delta) * t_begin ) - s * t_begin ) - np.exp( - t_end * (s + d))) / deno\n",
      " 89%|████████▉ | 849/951 [00:00<00:00, 25682.75it/s]\n"
     ]
    },
    {
     "ename": "KeyboardInterrupt",
     "evalue": "",
     "output_type": "error",
     "traceback": [
      "\u001b[0;31m---------------------------------------------------------------------------\u001b[0m",
      "\u001b[0;31mKeyboardInterrupt\u001b[0m                         Traceback (most recent call last)",
      "\u001b[0;32m/var/folders/bt/r1dg46ys21lb57m4n4x11m6c0000gn/T/ipykernel_6699/3741760688.py\u001b[0m in \u001b[0;36m<module>\u001b[0;34m\u001b[0m\n\u001b[1;32m      3\u001b[0m \u001b[0minitial_params\u001b[0m \u001b[0;34m=\u001b[0m \u001b[0;34m[\u001b[0m\u001b[0;36m1\u001b[0m\u001b[0;34m]\u001b[0m\u001b[0;34m*\u001b[0m\u001b[0;36m19\u001b[0m\u001b[0;34m\u001b[0m\u001b[0;34m\u001b[0m\u001b[0m\n\u001b[1;32m      4\u001b[0m \u001b[0;34m\u001b[0m\u001b[0m\n\u001b[0;32m----> 5\u001b[0;31m \u001b[0mresult\u001b[0m \u001b[0;34m=\u001b[0m \u001b[0mminimize\u001b[0m\u001b[0;34m(\u001b[0m\u001b[0mlikelihood\u001b[0m\u001b[0;34m,\u001b[0m \u001b[0minitial_params\u001b[0m\u001b[0;34m,\u001b[0m \u001b[0mmethod\u001b[0m\u001b[0;34m=\u001b[0m\u001b[0;34m'BFGS'\u001b[0m\u001b[0;34m)\u001b[0m\u001b[0;34m\u001b[0m\u001b[0;34m\u001b[0m\u001b[0m\n\u001b[0m\u001b[1;32m      6\u001b[0m \u001b[0;34m\u001b[0m\u001b[0m\n\u001b[1;32m      7\u001b[0m \u001b[0;31m# Résultats\u001b[0m\u001b[0;34m\u001b[0m\u001b[0;34m\u001b[0m\u001b[0m\n",
      "\u001b[0;32m~/opt/anaconda3/lib/python3.9/site-packages/scipy/optimize/_minimize.py\u001b[0m in \u001b[0;36mminimize\u001b[0;34m(fun, x0, args, method, jac, hess, hessp, bounds, constraints, tol, callback, options)\u001b[0m\n\u001b[1;32m    616\u001b[0m         \u001b[0;32mreturn\u001b[0m \u001b[0m_minimize_cg\u001b[0m\u001b[0;34m(\u001b[0m\u001b[0mfun\u001b[0m\u001b[0;34m,\u001b[0m \u001b[0mx0\u001b[0m\u001b[0;34m,\u001b[0m \u001b[0margs\u001b[0m\u001b[0;34m,\u001b[0m \u001b[0mjac\u001b[0m\u001b[0;34m,\u001b[0m \u001b[0mcallback\u001b[0m\u001b[0;34m,\u001b[0m \u001b[0;34m**\u001b[0m\u001b[0moptions\u001b[0m\u001b[0;34m)\u001b[0m\u001b[0;34m\u001b[0m\u001b[0;34m\u001b[0m\u001b[0m\n\u001b[1;32m    617\u001b[0m     \u001b[0;32melif\u001b[0m \u001b[0mmeth\u001b[0m \u001b[0;34m==\u001b[0m \u001b[0;34m'bfgs'\u001b[0m\u001b[0;34m:\u001b[0m\u001b[0;34m\u001b[0m\u001b[0;34m\u001b[0m\u001b[0m\n\u001b[0;32m--> 618\u001b[0;31m         \u001b[0;32mreturn\u001b[0m \u001b[0m_minimize_bfgs\u001b[0m\u001b[0;34m(\u001b[0m\u001b[0mfun\u001b[0m\u001b[0;34m,\u001b[0m \u001b[0mx0\u001b[0m\u001b[0;34m,\u001b[0m \u001b[0margs\u001b[0m\u001b[0;34m,\u001b[0m \u001b[0mjac\u001b[0m\u001b[0;34m,\u001b[0m \u001b[0mcallback\u001b[0m\u001b[0;34m,\u001b[0m \u001b[0;34m**\u001b[0m\u001b[0moptions\u001b[0m\u001b[0;34m)\u001b[0m\u001b[0;34m\u001b[0m\u001b[0;34m\u001b[0m\u001b[0m\n\u001b[0m\u001b[1;32m    619\u001b[0m     \u001b[0;32melif\u001b[0m \u001b[0mmeth\u001b[0m \u001b[0;34m==\u001b[0m \u001b[0;34m'newton-cg'\u001b[0m\u001b[0;34m:\u001b[0m\u001b[0;34m\u001b[0m\u001b[0;34m\u001b[0m\u001b[0m\n\u001b[1;32m    620\u001b[0m         return _minimize_newtoncg(fun, x0, args, jac, hess, hessp, callback,\n",
      "\u001b[0;32m~/opt/anaconda3/lib/python3.9/site-packages/scipy/optimize/optimize.py\u001b[0m in \u001b[0;36m_minimize_bfgs\u001b[0;34m(fun, x0, args, jac, callback, gtol, norm, eps, maxiter, disp, return_all, finite_diff_rel_step, **unknown_options)\u001b[0m\n\u001b[1;32m   1233\u001b[0m         \u001b[0;32mtry\u001b[0m\u001b[0;34m:\u001b[0m\u001b[0;34m\u001b[0m\u001b[0;34m\u001b[0m\u001b[0m\n\u001b[1;32m   1234\u001b[0m             \u001b[0malpha_k\u001b[0m\u001b[0;34m,\u001b[0m \u001b[0mfc\u001b[0m\u001b[0;34m,\u001b[0m \u001b[0mgc\u001b[0m\u001b[0;34m,\u001b[0m \u001b[0mold_fval\u001b[0m\u001b[0;34m,\u001b[0m \u001b[0mold_old_fval\u001b[0m\u001b[0;34m,\u001b[0m \u001b[0mgfkp1\u001b[0m \u001b[0;34m=\u001b[0m\u001b[0;31m \u001b[0m\u001b[0;31m\\\u001b[0m\u001b[0;34m\u001b[0m\u001b[0;34m\u001b[0m\u001b[0m\n\u001b[0;32m-> 1235\u001b[0;31m                      _line_search_wolfe12(f, myfprime, xk, pk, gfk,\n\u001b[0m\u001b[1;32m   1236\u001b[0m                                           old_fval, old_old_fval, amin=1e-100, amax=1e100)\n\u001b[1;32m   1237\u001b[0m         \u001b[0;32mexcept\u001b[0m \u001b[0m_LineSearchError\u001b[0m\u001b[0;34m:\u001b[0m\u001b[0;34m\u001b[0m\u001b[0;34m\u001b[0m\u001b[0m\n",
      "\u001b[0;32m~/opt/anaconda3/lib/python3.9/site-packages/scipy/optimize/optimize.py\u001b[0m in \u001b[0;36m_line_search_wolfe12\u001b[0;34m(f, fprime, xk, pk, gfk, old_fval, old_old_fval, **kwargs)\u001b[0m\n\u001b[1;32m   1003\u001b[0m     \u001b[0mextra_condition\u001b[0m \u001b[0;34m=\u001b[0m \u001b[0mkwargs\u001b[0m\u001b[0;34m.\u001b[0m\u001b[0mpop\u001b[0m\u001b[0;34m(\u001b[0m\u001b[0;34m'extra_condition'\u001b[0m\u001b[0;34m,\u001b[0m \u001b[0;32mNone\u001b[0m\u001b[0;34m)\u001b[0m\u001b[0;34m\u001b[0m\u001b[0;34m\u001b[0m\u001b[0m\n\u001b[1;32m   1004\u001b[0m \u001b[0;34m\u001b[0m\u001b[0m\n\u001b[0;32m-> 1005\u001b[0;31m     ret = line_search_wolfe1(f, fprime, xk, pk, gfk,\n\u001b[0m\u001b[1;32m   1006\u001b[0m                              \u001b[0mold_fval\u001b[0m\u001b[0;34m,\u001b[0m \u001b[0mold_old_fval\u001b[0m\u001b[0;34m,\u001b[0m\u001b[0;34m\u001b[0m\u001b[0;34m\u001b[0m\u001b[0m\n\u001b[1;32m   1007\u001b[0m                              **kwargs)\n",
      "\u001b[0;32m~/opt/anaconda3/lib/python3.9/site-packages/scipy/optimize/linesearch.py\u001b[0m in \u001b[0;36mline_search_wolfe1\u001b[0;34m(f, fprime, xk, pk, gfk, old_fval, old_old_fval, args, c1, c2, amax, amin, xtol)\u001b[0m\n\u001b[1;32m     94\u001b[0m     \u001b[0mderphi0\u001b[0m \u001b[0;34m=\u001b[0m \u001b[0mnp\u001b[0m\u001b[0;34m.\u001b[0m\u001b[0mdot\u001b[0m\u001b[0;34m(\u001b[0m\u001b[0mgfk\u001b[0m\u001b[0;34m,\u001b[0m \u001b[0mpk\u001b[0m\u001b[0;34m)\u001b[0m\u001b[0;34m\u001b[0m\u001b[0;34m\u001b[0m\u001b[0m\n\u001b[1;32m     95\u001b[0m \u001b[0;34m\u001b[0m\u001b[0m\n\u001b[0;32m---> 96\u001b[0;31m     stp, fval, old_fval = scalar_search_wolfe1(\n\u001b[0m\u001b[1;32m     97\u001b[0m             \u001b[0mphi\u001b[0m\u001b[0;34m,\u001b[0m \u001b[0mderphi\u001b[0m\u001b[0;34m,\u001b[0m \u001b[0mold_fval\u001b[0m\u001b[0;34m,\u001b[0m \u001b[0mold_old_fval\u001b[0m\u001b[0;34m,\u001b[0m \u001b[0mderphi0\u001b[0m\u001b[0;34m,\u001b[0m\u001b[0;34m\u001b[0m\u001b[0;34m\u001b[0m\u001b[0m\n\u001b[1;32m     98\u001b[0m             c1=c1, c2=c2, amax=amax, amin=amin, xtol=xtol)\n",
      "\u001b[0;32m~/opt/anaconda3/lib/python3.9/site-packages/scipy/optimize/linesearch.py\u001b[0m in \u001b[0;36mscalar_search_wolfe1\u001b[0;34m(phi, derphi, phi0, old_phi0, derphi0, c1, c2, amax, amin, xtol)\u001b[0m\n\u001b[1;32m    171\u001b[0m             \u001b[0malpha1\u001b[0m \u001b[0;34m=\u001b[0m \u001b[0mstp\u001b[0m\u001b[0;34m\u001b[0m\u001b[0;34m\u001b[0m\u001b[0m\n\u001b[1;32m    172\u001b[0m             \u001b[0mphi1\u001b[0m \u001b[0;34m=\u001b[0m \u001b[0mphi\u001b[0m\u001b[0;34m(\u001b[0m\u001b[0mstp\u001b[0m\u001b[0;34m)\u001b[0m\u001b[0;34m\u001b[0m\u001b[0;34m\u001b[0m\u001b[0m\n\u001b[0;32m--> 173\u001b[0;31m             \u001b[0mderphi1\u001b[0m \u001b[0;34m=\u001b[0m \u001b[0mderphi\u001b[0m\u001b[0;34m(\u001b[0m\u001b[0mstp\u001b[0m\u001b[0;34m)\u001b[0m\u001b[0;34m\u001b[0m\u001b[0;34m\u001b[0m\u001b[0m\n\u001b[0m\u001b[1;32m    174\u001b[0m         \u001b[0;32melse\u001b[0m\u001b[0;34m:\u001b[0m\u001b[0;34m\u001b[0m\u001b[0;34m\u001b[0m\u001b[0m\n\u001b[1;32m    175\u001b[0m             \u001b[0;32mbreak\u001b[0m\u001b[0;34m\u001b[0m\u001b[0;34m\u001b[0m\u001b[0m\n",
      "\u001b[0;32m~/opt/anaconda3/lib/python3.9/site-packages/scipy/optimize/linesearch.py\u001b[0m in \u001b[0;36mderphi\u001b[0;34m(s)\u001b[0m\n\u001b[1;32m     85\u001b[0m \u001b[0;34m\u001b[0m\u001b[0m\n\u001b[1;32m     86\u001b[0m     \u001b[0;32mdef\u001b[0m \u001b[0mderphi\u001b[0m\u001b[0;34m(\u001b[0m\u001b[0ms\u001b[0m\u001b[0;34m)\u001b[0m\u001b[0;34m:\u001b[0m\u001b[0;34m\u001b[0m\u001b[0;34m\u001b[0m\u001b[0m\n\u001b[0;32m---> 87\u001b[0;31m         \u001b[0mgval\u001b[0m\u001b[0;34m[\u001b[0m\u001b[0;36m0\u001b[0m\u001b[0;34m]\u001b[0m \u001b[0;34m=\u001b[0m \u001b[0mfprime\u001b[0m\u001b[0;34m(\u001b[0m\u001b[0mxk\u001b[0m \u001b[0;34m+\u001b[0m \u001b[0ms\u001b[0m\u001b[0;34m*\u001b[0m\u001b[0mpk\u001b[0m\u001b[0;34m,\u001b[0m \u001b[0;34m*\u001b[0m\u001b[0mnewargs\u001b[0m\u001b[0;34m)\u001b[0m\u001b[0;34m\u001b[0m\u001b[0;34m\u001b[0m\u001b[0m\n\u001b[0m\u001b[1;32m     88\u001b[0m         \u001b[0;32mif\u001b[0m \u001b[0mgradient\u001b[0m\u001b[0;34m:\u001b[0m\u001b[0;34m\u001b[0m\u001b[0;34m\u001b[0m\u001b[0m\n\u001b[1;32m     89\u001b[0m             \u001b[0mgc\u001b[0m\u001b[0;34m[\u001b[0m\u001b[0;36m0\u001b[0m\u001b[0;34m]\u001b[0m \u001b[0;34m+=\u001b[0m \u001b[0;36m1\u001b[0m\u001b[0;34m\u001b[0m\u001b[0;34m\u001b[0m\u001b[0m\n",
      "\u001b[0;32m~/opt/anaconda3/lib/python3.9/site-packages/scipy/optimize/_differentiable_functions.py\u001b[0m in \u001b[0;36mgrad\u001b[0;34m(self, x)\u001b[0m\n\u001b[1;32m    253\u001b[0m         \u001b[0;32mif\u001b[0m \u001b[0;32mnot\u001b[0m \u001b[0mnp\u001b[0m\u001b[0;34m.\u001b[0m\u001b[0marray_equal\u001b[0m\u001b[0;34m(\u001b[0m\u001b[0mx\u001b[0m\u001b[0;34m,\u001b[0m \u001b[0mself\u001b[0m\u001b[0;34m.\u001b[0m\u001b[0mx\u001b[0m\u001b[0;34m)\u001b[0m\u001b[0;34m:\u001b[0m\u001b[0;34m\u001b[0m\u001b[0;34m\u001b[0m\u001b[0m\n\u001b[1;32m    254\u001b[0m             \u001b[0mself\u001b[0m\u001b[0;34m.\u001b[0m\u001b[0m_update_x_impl\u001b[0m\u001b[0;34m(\u001b[0m\u001b[0mx\u001b[0m\u001b[0;34m)\u001b[0m\u001b[0;34m\u001b[0m\u001b[0;34m\u001b[0m\u001b[0m\n\u001b[0;32m--> 255\u001b[0;31m         \u001b[0mself\u001b[0m\u001b[0;34m.\u001b[0m\u001b[0m_update_grad\u001b[0m\u001b[0;34m(\u001b[0m\u001b[0;34m)\u001b[0m\u001b[0;34m\u001b[0m\u001b[0;34m\u001b[0m\u001b[0m\n\u001b[0m\u001b[1;32m    256\u001b[0m         \u001b[0;32mreturn\u001b[0m \u001b[0mself\u001b[0m\u001b[0;34m.\u001b[0m\u001b[0mg\u001b[0m\u001b[0;34m\u001b[0m\u001b[0;34m\u001b[0m\u001b[0m\n\u001b[1;32m    257\u001b[0m \u001b[0;34m\u001b[0m\u001b[0m\n",
      "\u001b[0;32m~/opt/anaconda3/lib/python3.9/site-packages/scipy/optimize/_differentiable_functions.py\u001b[0m in \u001b[0;36m_update_grad\u001b[0;34m(self)\u001b[0m\n\u001b[1;32m    236\u001b[0m     \u001b[0;32mdef\u001b[0m \u001b[0m_update_grad\u001b[0m\u001b[0;34m(\u001b[0m\u001b[0mself\u001b[0m\u001b[0;34m)\u001b[0m\u001b[0;34m:\u001b[0m\u001b[0;34m\u001b[0m\u001b[0;34m\u001b[0m\u001b[0m\n\u001b[1;32m    237\u001b[0m         \u001b[0;32mif\u001b[0m \u001b[0;32mnot\u001b[0m \u001b[0mself\u001b[0m\u001b[0;34m.\u001b[0m\u001b[0mg_updated\u001b[0m\u001b[0;34m:\u001b[0m\u001b[0;34m\u001b[0m\u001b[0;34m\u001b[0m\u001b[0m\n\u001b[0;32m--> 238\u001b[0;31m             \u001b[0mself\u001b[0m\u001b[0;34m.\u001b[0m\u001b[0m_update_grad_impl\u001b[0m\u001b[0;34m(\u001b[0m\u001b[0;34m)\u001b[0m\u001b[0;34m\u001b[0m\u001b[0;34m\u001b[0m\u001b[0m\n\u001b[0m\u001b[1;32m    239\u001b[0m             \u001b[0mself\u001b[0m\u001b[0;34m.\u001b[0m\u001b[0mg_updated\u001b[0m \u001b[0;34m=\u001b[0m \u001b[0;32mTrue\u001b[0m\u001b[0;34m\u001b[0m\u001b[0;34m\u001b[0m\u001b[0m\n\u001b[1;32m    240\u001b[0m \u001b[0;34m\u001b[0m\u001b[0m\n",
      "\u001b[0;32m~/opt/anaconda3/lib/python3.9/site-packages/scipy/optimize/_differentiable_functions.py\u001b[0m in \u001b[0;36mupdate_grad\u001b[0;34m()\u001b[0m\n\u001b[1;32m    153\u001b[0m                 \u001b[0mself\u001b[0m\u001b[0;34m.\u001b[0m\u001b[0m_update_fun\u001b[0m\u001b[0;34m(\u001b[0m\u001b[0;34m)\u001b[0m\u001b[0;34m\u001b[0m\u001b[0;34m\u001b[0m\u001b[0m\n\u001b[1;32m    154\u001b[0m                 \u001b[0mself\u001b[0m\u001b[0;34m.\u001b[0m\u001b[0mngev\u001b[0m \u001b[0;34m+=\u001b[0m \u001b[0;36m1\u001b[0m\u001b[0;34m\u001b[0m\u001b[0;34m\u001b[0m\u001b[0m\n\u001b[0;32m--> 155\u001b[0;31m                 self.g = approx_derivative(fun_wrapped, self.x, f0=self.f,\n\u001b[0m\u001b[1;32m    156\u001b[0m                                            **finite_diff_options)\n\u001b[1;32m    157\u001b[0m \u001b[0;34m\u001b[0m\u001b[0m\n",
      "\u001b[0;32m~/opt/anaconda3/lib/python3.9/site-packages/scipy/optimize/_numdiff.py\u001b[0m in \u001b[0;36mapprox_derivative\u001b[0;34m(fun, x0, method, rel_step, abs_step, f0, bounds, sparsity, as_linear_operator, args, kwargs)\u001b[0m\n\u001b[1;32m    484\u001b[0m \u001b[0;34m\u001b[0m\u001b[0m\n\u001b[1;32m    485\u001b[0m         \u001b[0;32mif\u001b[0m \u001b[0msparsity\u001b[0m \u001b[0;32mis\u001b[0m \u001b[0;32mNone\u001b[0m\u001b[0;34m:\u001b[0m\u001b[0;34m\u001b[0m\u001b[0;34m\u001b[0m\u001b[0m\n\u001b[0;32m--> 486\u001b[0;31m             return _dense_difference(fun_wrapped, x0, f0, h,\n\u001b[0m\u001b[1;32m    487\u001b[0m                                      use_one_sided, method)\n\u001b[1;32m    488\u001b[0m         \u001b[0;32melse\u001b[0m\u001b[0;34m:\u001b[0m\u001b[0;34m\u001b[0m\u001b[0;34m\u001b[0m\u001b[0m\n",
      "\u001b[0;32m~/opt/anaconda3/lib/python3.9/site-packages/scipy/optimize/_numdiff.py\u001b[0m in \u001b[0;36m_dense_difference\u001b[0;34m(fun, x0, f0, h, use_one_sided, method)\u001b[0m\n\u001b[1;32m    555\u001b[0m             \u001b[0mx\u001b[0m \u001b[0;34m=\u001b[0m \u001b[0mx0\u001b[0m \u001b[0;34m+\u001b[0m \u001b[0mh_vecs\u001b[0m\u001b[0;34m[\u001b[0m\u001b[0mi\u001b[0m\u001b[0;34m]\u001b[0m\u001b[0;34m\u001b[0m\u001b[0;34m\u001b[0m\u001b[0m\n\u001b[1;32m    556\u001b[0m             \u001b[0mdx\u001b[0m \u001b[0;34m=\u001b[0m \u001b[0mx\u001b[0m\u001b[0;34m[\u001b[0m\u001b[0mi\u001b[0m\u001b[0;34m]\u001b[0m \u001b[0;34m-\u001b[0m \u001b[0mx0\u001b[0m\u001b[0;34m[\u001b[0m\u001b[0mi\u001b[0m\u001b[0;34m]\u001b[0m  \u001b[0;31m# Recompute dx as exactly representable number.\u001b[0m\u001b[0;34m\u001b[0m\u001b[0;34m\u001b[0m\u001b[0m\n\u001b[0;32m--> 557\u001b[0;31m             \u001b[0mdf\u001b[0m \u001b[0;34m=\u001b[0m \u001b[0mfun\u001b[0m\u001b[0;34m(\u001b[0m\u001b[0mx\u001b[0m\u001b[0;34m)\u001b[0m \u001b[0;34m-\u001b[0m \u001b[0mf0\u001b[0m\u001b[0;34m\u001b[0m\u001b[0;34m\u001b[0m\u001b[0m\n\u001b[0m\u001b[1;32m    558\u001b[0m         \u001b[0;32melif\u001b[0m \u001b[0mmethod\u001b[0m \u001b[0;34m==\u001b[0m \u001b[0;34m'3-point'\u001b[0m \u001b[0;32mand\u001b[0m \u001b[0muse_one_sided\u001b[0m\u001b[0;34m[\u001b[0m\u001b[0mi\u001b[0m\u001b[0;34m]\u001b[0m\u001b[0;34m:\u001b[0m\u001b[0;34m\u001b[0m\u001b[0;34m\u001b[0m\u001b[0m\n\u001b[1;32m    559\u001b[0m             \u001b[0mx1\u001b[0m \u001b[0;34m=\u001b[0m \u001b[0mx0\u001b[0m \u001b[0;34m+\u001b[0m \u001b[0mh_vecs\u001b[0m\u001b[0;34m[\u001b[0m\u001b[0mi\u001b[0m\u001b[0;34m]\u001b[0m\u001b[0;34m\u001b[0m\u001b[0;34m\u001b[0m\u001b[0m\n",
      "\u001b[0;32m~/opt/anaconda3/lib/python3.9/site-packages/scipy/optimize/_numdiff.py\u001b[0m in \u001b[0;36mfun_wrapped\u001b[0;34m(x)\u001b[0m\n\u001b[1;32m    435\u001b[0m \u001b[0;34m\u001b[0m\u001b[0m\n\u001b[1;32m    436\u001b[0m     \u001b[0;32mdef\u001b[0m \u001b[0mfun_wrapped\u001b[0m\u001b[0;34m(\u001b[0m\u001b[0mx\u001b[0m\u001b[0;34m)\u001b[0m\u001b[0;34m:\u001b[0m\u001b[0;34m\u001b[0m\u001b[0;34m\u001b[0m\u001b[0m\n\u001b[0;32m--> 437\u001b[0;31m         \u001b[0mf\u001b[0m \u001b[0;34m=\u001b[0m \u001b[0mnp\u001b[0m\u001b[0;34m.\u001b[0m\u001b[0matleast_1d\u001b[0m\u001b[0;34m(\u001b[0m\u001b[0mfun\u001b[0m\u001b[0;34m(\u001b[0m\u001b[0mx\u001b[0m\u001b[0;34m,\u001b[0m \u001b[0;34m*\u001b[0m\u001b[0margs\u001b[0m\u001b[0;34m,\u001b[0m \u001b[0;34m**\u001b[0m\u001b[0mkwargs\u001b[0m\u001b[0;34m)\u001b[0m\u001b[0;34m)\u001b[0m\u001b[0;34m\u001b[0m\u001b[0;34m\u001b[0m\u001b[0m\n\u001b[0m\u001b[1;32m    438\u001b[0m         \u001b[0;32mif\u001b[0m \u001b[0mf\u001b[0m\u001b[0;34m.\u001b[0m\u001b[0mndim\u001b[0m \u001b[0;34m>\u001b[0m \u001b[0;36m1\u001b[0m\u001b[0;34m:\u001b[0m\u001b[0;34m\u001b[0m\u001b[0;34m\u001b[0m\u001b[0m\n\u001b[1;32m    439\u001b[0m             raise RuntimeError(\"`fun` return value has \"\n",
      "\u001b[0;32m~/opt/anaconda3/lib/python3.9/site-packages/scipy/optimize/_differentiable_functions.py\u001b[0m in \u001b[0;36mfun_wrapped\u001b[0;34m(x)\u001b[0m\n\u001b[1;32m    132\u001b[0m             \u001b[0;31m# Overwriting results in undefined behaviour because\u001b[0m\u001b[0;34m\u001b[0m\u001b[0;34m\u001b[0m\u001b[0m\n\u001b[1;32m    133\u001b[0m             \u001b[0;31m# fun(self.x) will change self.x, with the two no longer linked.\u001b[0m\u001b[0;34m\u001b[0m\u001b[0;34m\u001b[0m\u001b[0m\n\u001b[0;32m--> 134\u001b[0;31m             \u001b[0;32mreturn\u001b[0m \u001b[0mfun\u001b[0m\u001b[0;34m(\u001b[0m\u001b[0mnp\u001b[0m\u001b[0;34m.\u001b[0m\u001b[0mcopy\u001b[0m\u001b[0;34m(\u001b[0m\u001b[0mx\u001b[0m\u001b[0;34m)\u001b[0m\u001b[0;34m,\u001b[0m \u001b[0;34m*\u001b[0m\u001b[0margs\u001b[0m\u001b[0;34m)\u001b[0m\u001b[0;34m\u001b[0m\u001b[0;34m\u001b[0m\u001b[0m\n\u001b[0m\u001b[1;32m    135\u001b[0m \u001b[0;34m\u001b[0m\u001b[0m\n\u001b[1;32m    136\u001b[0m         \u001b[0;32mdef\u001b[0m \u001b[0mupdate_fun\u001b[0m\u001b[0;34m(\u001b[0m\u001b[0;34m)\u001b[0m\u001b[0;34m:\u001b[0m\u001b[0;34m\u001b[0m\u001b[0;34m\u001b[0m\u001b[0m\n",
      "\u001b[0;32m/var/folders/bt/r1dg46ys21lb57m4n4x11m6c0000gn/T/ipykernel_6699/134277459.py\u001b[0m in \u001b[0;36mlikelihood\u001b[0;34m(parameters)\u001b[0m\n\u001b[1;32m     19\u001b[0m     \u001b[0;32mfor\u001b[0m \u001b[0mi\u001b[0m \u001b[0;32min\u001b[0m \u001b[0mtqdm\u001b[0m\u001b[0;34m(\u001b[0m\u001b[0mseller\u001b[0m\u001b[0;34m.\u001b[0m\u001b[0mindex\u001b[0m\u001b[0;34m.\u001b[0m\u001b[0mto_list\u001b[0m\u001b[0;34m(\u001b[0m\u001b[0;34m)\u001b[0m\u001b[0;34m)\u001b[0m\u001b[0;34m:\u001b[0m\u001b[0;34m\u001b[0m\u001b[0;34m\u001b[0m\u001b[0m\n\u001b[1;32m     20\u001b[0m         \u001b[0mL_seller_i\u001b[0m \u001b[0;34m=\u001b[0m \u001b[0mLSeller_i\u001b[0m\u001b[0;34m(\u001b[0m\u001b[0mlambda_d\u001b[0m\u001b[0;34m,\u001b[0m \u001b[0mlambda_s\u001b[0m\u001b[0;34m,\u001b[0m \u001b[0mphi_d\u001b[0m\u001b[0;34m,\u001b[0m \u001b[0mphi_s\u001b[0m\u001b[0;34m,\u001b[0m\u001b[0mdelta\u001b[0m\u001b[0;34m,\u001b[0m \u001b[0mT_d_seller\u001b[0m\u001b[0;34m,\u001b[0m \u001b[0mT_d_clone\u001b[0m\u001b[0;34m,\u001b[0m \u001b[0mT_s_seller\u001b[0m\u001b[0;34m,\u001b[0m \u001b[0mT_s_clone\u001b[0m\u001b[0;34m,\u001b[0m \u001b[0mi\u001b[0m\u001b[0;34m)\u001b[0m\u001b[0;34m\u001b[0m\u001b[0;34m\u001b[0m\u001b[0m\n\u001b[0;32m---> 21\u001b[0;31m         \u001b[0mL_clone_i\u001b[0m \u001b[0;34m=\u001b[0m \u001b[0mLClone_i\u001b[0m\u001b[0;34m(\u001b[0m\u001b[0mlambda_d\u001b[0m\u001b[0;34m,\u001b[0m \u001b[0mlambda_s\u001b[0m\u001b[0;34m,\u001b[0m \u001b[0mphi_d\u001b[0m\u001b[0;34m,\u001b[0m \u001b[0mphi_s\u001b[0m\u001b[0;34m,\u001b[0m\u001b[0mdelta\u001b[0m\u001b[0;34m,\u001b[0m \u001b[0mT_d_seller\u001b[0m\u001b[0;34m,\u001b[0m \u001b[0mT_d_clone\u001b[0m\u001b[0;34m,\u001b[0m \u001b[0mT_s_seller\u001b[0m\u001b[0;34m,\u001b[0m \u001b[0mT_s_clone\u001b[0m\u001b[0;34m,\u001b[0m \u001b[0mi\u001b[0m\u001b[0;34m)\u001b[0m\u001b[0;34m\u001b[0m\u001b[0;34m\u001b[0m\u001b[0m\n\u001b[0m\u001b[1;32m     22\u001b[0m         \u001b[0mL_seller_vector\u001b[0m\u001b[0;34m.\u001b[0m\u001b[0mappend\u001b[0m\u001b[0;34m(\u001b[0m\u001b[0mL_seller_i\u001b[0m\u001b[0;34m)\u001b[0m\u001b[0;34m\u001b[0m\u001b[0;34m\u001b[0m\u001b[0m\n\u001b[1;32m     23\u001b[0m         \u001b[0mL_clone_vector\u001b[0m\u001b[0;34m.\u001b[0m\u001b[0mappend\u001b[0m\u001b[0;34m(\u001b[0m\u001b[0mL_clone_i\u001b[0m\u001b[0;34m)\u001b[0m\u001b[0;34m\u001b[0m\u001b[0;34m\u001b[0m\u001b[0m\n",
      "\u001b[0;32m/var/folders/bt/r1dg46ys21lb57m4n4x11m6c0000gn/T/ipykernel_6699/2930077986.py\u001b[0m in \u001b[0;36mLClone_i\u001b[0;34m(lambda_d, lambda_s, phi_d, phi_s, delta, T_d_seller, T_d_clone, T_s_seller, T_s_clone, i)\u001b[0m\n\u001b[1;32m     36\u001b[0m     \u001b[0mnumerateur_d\u001b[0m \u001b[0;34m=\u001b[0m \u001b[0mlambda_d\u001b[0m \u001b[0;34m*\u001b[0m \u001b[0mphi_d\u001b[0m\u001b[0;34m[\u001b[0m\u001b[0mi\u001b[0m\u001b[0;34m]\u001b[0m \u001b[0;34m*\u001b[0m \u001b[0mdelta\u001b[0m \u001b[0;34m*\u001b[0m \u001b[0mnumerateur_d_exp\u001b[0m\u001b[0;34m\u001b[0m\u001b[0;34m\u001b[0m\u001b[0m\n\u001b[1;32m     37\u001b[0m \u001b[0;34m\u001b[0m\u001b[0m\n\u001b[0;32m---> 38\u001b[0;31m     \u001b[0mnumerateur_s_exp\u001b[0m \u001b[0;34m=\u001b[0m \u001b[0mnp\u001b[0m\u001b[0;34m.\u001b[0m\u001b[0mexp\u001b[0m\u001b[0;34m(\u001b[0m\u001b[0;34m-\u001b[0m\u001b[0;34m(\u001b[0m\u001b[0mphi_s\u001b[0m\u001b[0;34m[\u001b[0m\u001b[0mi\u001b[0m\u001b[0;34m]\u001b[0m \u001b[0;34m*\u001b[0m \u001b[0mIS\u001b[0m\u001b[0;34m(\u001b[0m\u001b[0mlambda_s\u001b[0m\u001b[0;34m,\u001b[0m\u001b[0mT_s_seller\u001b[0m\u001b[0;34m[\u001b[0m\u001b[0mi\u001b[0m\u001b[0;34m]\u001b[0m\u001b[0;34m)\u001b[0m\u001b[0;34m)\u001b[0m\u001b[0;34m)\u001b[0m\u001b[0;34m\u001b[0m\u001b[0;34m\u001b[0m\u001b[0m\n\u001b[0m\u001b[1;32m     39\u001b[0m     \u001b[0mnumerateur_s\u001b[0m \u001b[0;34m=\u001b[0m \u001b[0mlambda_s\u001b[0m \u001b[0;34m*\u001b[0m \u001b[0mphi_s\u001b[0m\u001b[0;34m[\u001b[0m\u001b[0mi\u001b[0m\u001b[0;34m]\u001b[0m \u001b[0;34m*\u001b[0m \u001b[0mnumerateur_s_exp\u001b[0m\u001b[0;34m\u001b[0m\u001b[0;34m\u001b[0m\u001b[0m\n\u001b[1;32m     40\u001b[0m \u001b[0;34m\u001b[0m\u001b[0m\n",
      "\u001b[0;31mKeyboardInterrupt\u001b[0m: "
     ]
    }
   ],
   "source": [
    "# Initialisation des paramètres\n",
    "\n",
    "initial_params = [1]*19\n",
    "\n",
    "result = minimize(likelihood, initial_params, method='BFGS')\n",
    "\n",
    "# Résultats\n",
    "estimated_params = result.x\n",
    "print(\"Estimated Parameters:\", estimated_params)\n",
    "print(\"success ? \", result.success)\n",
    "print(result.message)"
   ]
  },
  {
   "cell_type": "code",
   "execution_count": null,
   "metadata": {},
   "outputs": [],
   "source": []
  }
 ],
 "metadata": {
  "kernelspec": {
   "display_name": "base",
   "language": "python",
   "name": "python3"
  },
  "language_info": {
   "codemirror_mode": {
    "name": "ipython",
    "version": 3
   },
   "file_extension": ".py",
   "mimetype": "text/x-python",
   "name": "python",
   "nbconvert_exporter": "python",
   "pygments_lexer": "ipython3",
   "version": "3.9.12"
  },
  "orig_nbformat": 4
 },
 "nbformat": 4,
 "nbformat_minor": 2
}
