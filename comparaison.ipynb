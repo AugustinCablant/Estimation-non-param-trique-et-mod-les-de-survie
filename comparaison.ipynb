{
  "nbformat": 4,
  "nbformat_minor": 0,
  "metadata": {
    "colab": {
      "provenance": [],
      "collapsed_sections": [
        "6dEY7154egEx",
        "qn3xurxwegry"
      ],
      "authorship_tag": "ABX9TyOfo2IDjdCHRGMUMV1bTz3v",
      "include_colab_link": true
    },
    "kernelspec": {
      "name": "python3",
      "display_name": "Python 3"
    },
    "language_info": {
      "name": "python"
    }
  },
  "cells": [
    {
      "cell_type": "markdown",
      "metadata": {
        "id": "view-in-github",
        "colab_type": "text"
      },
      "source": [
        "<a href=\"https://colab.research.google.com/github/AugustinCablant/Viager/blob/main/comparaison.ipynb\" target=\"_parent\"><img src=\"https://colab.research.google.com/assets/colab-badge.svg\" alt=\"Open In Colab\"/></a>"
      ]
    },
    {
      "cell_type": "code",
      "execution_count": null,
      "metadata": {
        "colab": {
          "base_uri": "https://localhost:8080/"
        },
        "id": "7adr6G-tcNxc",
        "outputId": "4b915eac-381b-46bb-d894-a7dd0a24ff66"
      },
      "outputs": [
        {
          "output_type": "stream",
          "name": "stdout",
          "text": [
            "shell-init: error retrieving current directory: getcwd: cannot access parent directories: Transport endpoint is not connected\n",
            "shell-init: error retrieving current directory: getcwd: cannot access parent directories: Transport endpoint is not connected\n",
            "Traceback (most recent call last):\n",
            "  File \"/usr/local/bin/pip3\", line 5, in <module>\n",
            "    from pip._internal.cli.main import main\n",
            "  File \"/usr/local/lib/python3.10/dist-packages/pip/_internal/cli/main.py\", line 10, in <module>\n",
            "    from pip._internal.cli.autocompletion import autocomplete\n",
            "  File \"/usr/local/lib/python3.10/dist-packages/pip/_internal/cli/autocompletion.py\", line 10, in <module>\n",
            "    from pip._internal.cli.main_parser import create_main_parser\n",
            "  File \"/usr/local/lib/python3.10/dist-packages/pip/_internal/cli/main_parser.py\", line 9, in <module>\n",
            "    from pip._internal.build_env import get_runnable_pip\n",
            "  File \"/usr/local/lib/python3.10/dist-packages/pip/_internal/build_env.py\", line 19, in <module>\n",
            "    from pip._internal.cli.spinners import open_spinner\n",
            "  File \"/usr/local/lib/python3.10/dist-packages/pip/_internal/cli/spinners.py\", line 9, in <module>\n",
            "    from pip._internal.utils.logging import get_indentation\n",
            "  File \"/usr/local/lib/python3.10/dist-packages/pip/_internal/utils/logging.py\", line 13, in <module>\n",
            "    from pip._vendor.rich.console import (\n",
            "  File \"/usr/local/lib/python3.10/dist-packages/pip/_vendor/rich/__init__.py\", line 17, in <module>\n",
            "    _IMPORT_CWD = os.path.abspath(os.getcwd())\n",
            "OSError: [Errno 107] Transport endpoint is not connected\n",
            "shell-init: error retrieving current directory: getcwd: cannot access parent directories: Transport endpoint is not connected\n",
            "shell-init: error retrieving current directory: getcwd: cannot access parent directories: Transport endpoint is not connected\n",
            "Traceback (most recent call last):\n",
            "  File \"/usr/local/bin/pip3\", line 5, in <module>\n",
            "    from pip._internal.cli.main import main\n",
            "  File \"/usr/local/lib/python3.10/dist-packages/pip/_internal/cli/main.py\", line 10, in <module>\n",
            "    from pip._internal.cli.autocompletion import autocomplete\n",
            "  File \"/usr/local/lib/python3.10/dist-packages/pip/_internal/cli/autocompletion.py\", line 10, in <module>\n",
            "    from pip._internal.cli.main_parser import create_main_parser\n",
            "  File \"/usr/local/lib/python3.10/dist-packages/pip/_internal/cli/main_parser.py\", line 9, in <module>\n",
            "    from pip._internal.build_env import get_runnable_pip\n",
            "  File \"/usr/local/lib/python3.10/dist-packages/pip/_internal/build_env.py\", line 19, in <module>\n",
            "    from pip._internal.cli.spinners import open_spinner\n",
            "  File \"/usr/local/lib/python3.10/dist-packages/pip/_internal/cli/spinners.py\", line 9, in <module>\n",
            "    from pip._internal.utils.logging import get_indentation\n",
            "  File \"/usr/local/lib/python3.10/dist-packages/pip/_internal/utils/logging.py\", line 13, in <module>\n",
            "    from pip._vendor.rich.console import (\n",
            "  File \"/usr/local/lib/python3.10/dist-packages/pip/_vendor/rich/__init__.py\", line 17, in <module>\n",
            "    _IMPORT_CWD = os.path.abspath(os.getcwd())\n",
            "OSError: [Errno 107] Transport endpoint is not connected\n",
            "Drive already mounted at /content/drive; to attempt to forcibly remount, call drive.mount(\"/content/drive\", force_remount=True).\n"
          ]
        }
      ],
      "source": [
        "!pip install unidecode\n",
        "!pip install dateparser\n",
        "import pandas as pd\n",
        "import numpy as np\n",
        "import dateparser\n",
        "from tqdm import tqdm\n",
        "from google.colab import drive\n",
        "drive.mount('/content/drive')\n",
        "import os\n",
        "os.chdir('/content/drive/MyDrive/Stage')\n",
        "import matplotlib.pyplot as plt\n",
        "import re\n",
        "import seaborn as sns\n",
        "from dateutil import parser\n",
        "from datetime import datetime\n",
        "from unidecode import unidecode"
      ]
    },
    {
      "cell_type": "markdown",
      "source": [
        "# Comparaison des bases de données matchées"
      ],
      "metadata": {
        "id": "6dEY7154egEx"
      }
    },
    {
      "cell_type": "code",
      "source": [
        "# Ouverture de la mienne\n",
        "df_augustin = pd.read_csv('matching_fin.csv')\n",
        "\n",
        "# ouverture de celle de Mr Linnemer\n",
        "df_laurent = pd.read_stata('merge final/Matched12.dta')"
      ],
      "metadata": {
        "colab": {
          "base_uri": "https://localhost:8080/"
        },
        "id": "66TNktqheggF",
        "outputId": "c288e1db-9ead-4f91-b873-d90875e3128f"
      },
      "execution_count": null,
      "outputs": [
        {
          "output_type": "stream",
          "name": "stderr",
          "text": [
            "<ipython-input-46-2e7b8726c638>:5: UnicodeWarning: \n",
            "One or more strings in the dta file could not be decoded using utf-8, and\n",
            "so the fallback encoding of latin-1 is being used.  This can happen when a file\n",
            "has been incorrectly encoded by Stata or some other software. You should verify\n",
            "the string values returned are correct.\n",
            "  df_laurent = pd.read_stata('merge final/Matched12.dta')\n"
          ]
        }
      ]
    },
    {
      "cell_type": "code",
      "source": [
        "# liste des noms dans df_augustin\n",
        "liste_nom_augustin = df_augustin['B_nom'].to_list()\n",
        "\n",
        "# liste des noms dans df_augustin\n",
        "liste_prenoms_augustin = df_augustin['B_prenoms'].to_list()\n",
        "\n",
        "# compter combien de lignes en commun\n",
        "compteur = 0\n",
        "# récupérer les lignes différentes du df_laurent\n",
        "recup = []\n",
        "\n",
        "for i in df_laurent.index.to_list():\n",
        "  if df_laurent['b_nom'][i] in liste_nom_augustin:\n",
        "    if df_laurent['b_prenoms'][i] in liste_prenoms_augustin:\n",
        "      compteur += 1\n",
        "  else:\n",
        "    recup.append(i)\n",
        "\n",
        "print('Il y a ',compteur,' lignes en commun')\n",
        "print('Il y a ',len(recup),' lignes différentes')\n",
        "#df_laurent[df_laurent.index.isin(recup)][['a_nom','b_nom','a_prenom','b_prenoms']].to_csv('merge final/31.csv')"
      ],
      "metadata": {
        "colab": {
          "base_uri": "https://localhost:8080/"
        },
        "id": "p877UOFffSTE",
        "outputId": "707150c5-ebc5-45f5-c749-ee3f38a89787"
      },
      "execution_count": null,
      "outputs": [
        {
          "output_type": "stream",
          "name": "stdout",
          "text": [
            "Il y a  949  lignes en commun\n",
            "Il y a  31  lignes différentes\n"
          ]
        }
      ]
    },
    {
      "cell_type": "code",
      "source": [
        "# liste des noms dans df_laurent\n",
        "liste_nom_laurent = df_laurent['b_nom'].to_list()\n",
        "\n",
        "# liste des noms dans df_laurent\n",
        "liste_prenoms_laurent = df_laurent['b_prenoms'].to_list()\n",
        "\n",
        "# compter combien de lignes en commun\n",
        "compteur = 0\n",
        "# récupérer les lignes différentes du df_laurent\n",
        "recup = []\n",
        "\n",
        "for i in df_augustin.index.to_list():\n",
        "  if df_augustin['B_nom'][i] in liste_nom_laurent:\n",
        "    if df_augustin['B_prenoms'][i] in liste_prenoms_laurent:\n",
        "      compteur += 1\n",
        "  else:\n",
        "    recup.append(i)\n",
        "\n",
        "print('Il y a ',compteur,' lignes en commun')\n",
        "print('Il y a ',len(recup),' lignes différentes')\n",
        "df_augustin[df_augustin.index.isin(recup)][['A_nom','B_nom','A_prenoms','B_prenoms']].to_csv('merge final/59.csv')"
      ],
      "metadata": {
        "colab": {
          "base_uri": "https://localhost:8080/"
        },
        "id": "KU763DOukTAN",
        "outputId": "3f840fd2-d959-4031-b925-11013693c504"
      },
      "execution_count": null,
      "outputs": [
        {
          "output_type": "stream",
          "name": "stdout",
          "text": [
            "Il y a  946  lignes en commun\n",
            "Il y a  59  lignes différentes\n"
          ]
        }
      ]
    },
    {
      "cell_type": "markdown",
      "source": [
        "# Individus à conserver chez Augustin"
      ],
      "metadata": {
        "id": "qn3xurxwegry"
      }
    },
    {
      "cell_type": "code",
      "source": [
        "garder = df_augustin[df_augustin.index.isin(recup)]"
      ],
      "metadata": {
        "id": "nePQ4xB-eg0q"
      },
      "execution_count": null,
      "outputs": []
    },
    {
      "cell_type": "code",
      "source": [
        "garder[['A_nom','B_nom','A_prenoms','B_prenoms','A_ville','B_ville']][50:70]"
      ],
      "metadata": {
        "colab": {
          "base_uri": "https://localhost:8080/",
          "height": 375
        },
        "id": "5LWTkFZCs7NW",
        "outputId": "c92b4049-9623-4410-f593-d5f2daecdccd"
      },
      "execution_count": null,
      "outputs": [
        {
          "output_type": "execute_result",
          "data": {
            "text/plain": [
              "           A_nom       B_nom                         A_prenoms  \\\n",
              "997   DELAPIERRE  DELAPIERRE                     ADRIEN MARCEL   \n",
              "998   DUGROSPREZ  DUGROSPREZ                           LILIANE   \n",
              "999     DUMENOIT    DUMENOIT                 PIERRE JEAN LOUIS   \n",
              "1000     GAUTSCH     GAUTSCH  FRANCOISE ANNETTE MARIE MATHILDE   \n",
              "1002    KERVAIRE    KERVAIRE                     HENRI FERNAND   \n",
              "1004     MARCHAL       MALBE                          MARCELLE   \n",
              "1005    PARISIEN    PARISIEN                   GENEVIEVE ALICE   \n",
              "1006   PARMELAND   PARMELAND                   ARLETTE PAULINE   \n",
              "1010      AUBERT      AUBERT                           NICOLLE   \n",
              "\n",
              "                             B_prenoms      A_ville  \\\n",
              "997                      ADRIEN MARCEL          NaN   \n",
              "998           LILIANE MICHELINE ANDREE    Alforvill   \n",
              "999                  PIERRE JEAN LOUIS          NaN   \n",
              "1000  FRANCOISE ANNETTE MARIE MATHILDE  Constantine   \n",
              "1002                     HENRI FERNAND          NaN   \n",
              "1004                      JEAN FERNAND   Incheville   \n",
              "1005                   GENEVIEVE ALICE          NaN   \n",
              "1006             ARLETTE PAULINE MARIA          NaN   \n",
              "1010                           NICOLLE          NaN   \n",
              "\n",
              "                         B_ville  \n",
              "997                      PARIS 3  \n",
              "998                  ALFORTVILLE  \n",
              "999                  SAINT-DENIS  \n",
              "1000  DEPARTEMENT DE CONSTANTINE  \n",
              "1002            LIFFOL-LE-GRAND   \n",
              "1004               SAUZE-VOSSAIS  \n",
              "1005    PARIS 10E ARRONDISSEMENT  \n",
              "1006               BRY-SUR-MARNE  \n",
              "1010              NEUVES-MAISONS  "
            ],
            "text/html": [
              "\n",
              "  <div id=\"df-89ed3c4f-411c-4658-b4de-16e41f795a70\">\n",
              "    <div class=\"colab-df-container\">\n",
              "      <div>\n",
              "<style scoped>\n",
              "    .dataframe tbody tr th:only-of-type {\n",
              "        vertical-align: middle;\n",
              "    }\n",
              "\n",
              "    .dataframe tbody tr th {\n",
              "        vertical-align: top;\n",
              "    }\n",
              "\n",
              "    .dataframe thead th {\n",
              "        text-align: right;\n",
              "    }\n",
              "</style>\n",
              "<table border=\"1\" class=\"dataframe\">\n",
              "  <thead>\n",
              "    <tr style=\"text-align: right;\">\n",
              "      <th></th>\n",
              "      <th>A_nom</th>\n",
              "      <th>B_nom</th>\n",
              "      <th>A_prenoms</th>\n",
              "      <th>B_prenoms</th>\n",
              "      <th>A_ville</th>\n",
              "      <th>B_ville</th>\n",
              "    </tr>\n",
              "  </thead>\n",
              "  <tbody>\n",
              "    <tr>\n",
              "      <th>997</th>\n",
              "      <td>DELAPIERRE</td>\n",
              "      <td>DELAPIERRE</td>\n",
              "      <td>ADRIEN MARCEL</td>\n",
              "      <td>ADRIEN MARCEL</td>\n",
              "      <td>NaN</td>\n",
              "      <td>PARIS 3</td>\n",
              "    </tr>\n",
              "    <tr>\n",
              "      <th>998</th>\n",
              "      <td>DUGROSPREZ</td>\n",
              "      <td>DUGROSPREZ</td>\n",
              "      <td>LILIANE</td>\n",
              "      <td>LILIANE MICHELINE ANDREE</td>\n",
              "      <td>Alforvill</td>\n",
              "      <td>ALFORTVILLE</td>\n",
              "    </tr>\n",
              "    <tr>\n",
              "      <th>999</th>\n",
              "      <td>DUMENOIT</td>\n",
              "      <td>DUMENOIT</td>\n",
              "      <td>PIERRE JEAN LOUIS</td>\n",
              "      <td>PIERRE JEAN LOUIS</td>\n",
              "      <td>NaN</td>\n",
              "      <td>SAINT-DENIS</td>\n",
              "    </tr>\n",
              "    <tr>\n",
              "      <th>1000</th>\n",
              "      <td>GAUTSCH</td>\n",
              "      <td>GAUTSCH</td>\n",
              "      <td>FRANCOISE ANNETTE MARIE MATHILDE</td>\n",
              "      <td>FRANCOISE ANNETTE MARIE MATHILDE</td>\n",
              "      <td>Constantine</td>\n",
              "      <td>DEPARTEMENT DE CONSTANTINE</td>\n",
              "    </tr>\n",
              "    <tr>\n",
              "      <th>1002</th>\n",
              "      <td>KERVAIRE</td>\n",
              "      <td>KERVAIRE</td>\n",
              "      <td>HENRI FERNAND</td>\n",
              "      <td>HENRI FERNAND</td>\n",
              "      <td>NaN</td>\n",
              "      <td>LIFFOL-LE-GRAND</td>\n",
              "    </tr>\n",
              "    <tr>\n",
              "      <th>1004</th>\n",
              "      <td>MARCHAL</td>\n",
              "      <td>MALBE</td>\n",
              "      <td>MARCELLE</td>\n",
              "      <td>JEAN FERNAND</td>\n",
              "      <td>Incheville</td>\n",
              "      <td>SAUZE-VOSSAIS</td>\n",
              "    </tr>\n",
              "    <tr>\n",
              "      <th>1005</th>\n",
              "      <td>PARISIEN</td>\n",
              "      <td>PARISIEN</td>\n",
              "      <td>GENEVIEVE ALICE</td>\n",
              "      <td>GENEVIEVE ALICE</td>\n",
              "      <td>NaN</td>\n",
              "      <td>PARIS 10E ARRONDISSEMENT</td>\n",
              "    </tr>\n",
              "    <tr>\n",
              "      <th>1006</th>\n",
              "      <td>PARMELAND</td>\n",
              "      <td>PARMELAND</td>\n",
              "      <td>ARLETTE PAULINE</td>\n",
              "      <td>ARLETTE PAULINE MARIA</td>\n",
              "      <td>NaN</td>\n",
              "      <td>BRY-SUR-MARNE</td>\n",
              "    </tr>\n",
              "    <tr>\n",
              "      <th>1010</th>\n",
              "      <td>AUBERT</td>\n",
              "      <td>AUBERT</td>\n",
              "      <td>NICOLLE</td>\n",
              "      <td>NICOLLE</td>\n",
              "      <td>NaN</td>\n",
              "      <td>NEUVES-MAISONS</td>\n",
              "    </tr>\n",
              "  </tbody>\n",
              "</table>\n",
              "</div>\n",
              "      <button class=\"colab-df-convert\" onclick=\"convertToInteractive('df-89ed3c4f-411c-4658-b4de-16e41f795a70')\"\n",
              "              title=\"Convert this dataframe to an interactive table.\"\n",
              "              style=\"display:none;\">\n",
              "        \n",
              "  <svg xmlns=\"http://www.w3.org/2000/svg\" height=\"24px\"viewBox=\"0 0 24 24\"\n",
              "       width=\"24px\">\n",
              "    <path d=\"M0 0h24v24H0V0z\" fill=\"none\"/>\n",
              "    <path d=\"M18.56 5.44l.94 2.06.94-2.06 2.06-.94-2.06-.94-.94-2.06-.94 2.06-2.06.94zm-11 1L8.5 8.5l.94-2.06 2.06-.94-2.06-.94L8.5 2.5l-.94 2.06-2.06.94zm10 10l.94 2.06.94-2.06 2.06-.94-2.06-.94-.94-2.06-.94 2.06-2.06.94z\"/><path d=\"M17.41 7.96l-1.37-1.37c-.4-.4-.92-.59-1.43-.59-.52 0-1.04.2-1.43.59L10.3 9.45l-7.72 7.72c-.78.78-.78 2.05 0 2.83L4 21.41c.39.39.9.59 1.41.59.51 0 1.02-.2 1.41-.59l7.78-7.78 2.81-2.81c.8-.78.8-2.07 0-2.86zM5.41 20L4 18.59l7.72-7.72 1.47 1.35L5.41 20z\"/>\n",
              "  </svg>\n",
              "      </button>\n",
              "      \n",
              "  <style>\n",
              "    .colab-df-container {\n",
              "      display:flex;\n",
              "      flex-wrap:wrap;\n",
              "      gap: 12px;\n",
              "    }\n",
              "\n",
              "    .colab-df-convert {\n",
              "      background-color: #E8F0FE;\n",
              "      border: none;\n",
              "      border-radius: 50%;\n",
              "      cursor: pointer;\n",
              "      display: none;\n",
              "      fill: #1967D2;\n",
              "      height: 32px;\n",
              "      padding: 0 0 0 0;\n",
              "      width: 32px;\n",
              "    }\n",
              "\n",
              "    .colab-df-convert:hover {\n",
              "      background-color: #E2EBFA;\n",
              "      box-shadow: 0px 1px 2px rgba(60, 64, 67, 0.3), 0px 1px 3px 1px rgba(60, 64, 67, 0.15);\n",
              "      fill: #174EA6;\n",
              "    }\n",
              "\n",
              "    [theme=dark] .colab-df-convert {\n",
              "      background-color: #3B4455;\n",
              "      fill: #D2E3FC;\n",
              "    }\n",
              "\n",
              "    [theme=dark] .colab-df-convert:hover {\n",
              "      background-color: #434B5C;\n",
              "      box-shadow: 0px 1px 3px 1px rgba(0, 0, 0, 0.15);\n",
              "      filter: drop-shadow(0px 1px 2px rgba(0, 0, 0, 0.3));\n",
              "      fill: #FFFFFF;\n",
              "    }\n",
              "  </style>\n",
              "\n",
              "      <script>\n",
              "        const buttonEl =\n",
              "          document.querySelector('#df-89ed3c4f-411c-4658-b4de-16e41f795a70 button.colab-df-convert');\n",
              "        buttonEl.style.display =\n",
              "          google.colab.kernel.accessAllowed ? 'block' : 'none';\n",
              "\n",
              "        async function convertToInteractive(key) {\n",
              "          const element = document.querySelector('#df-89ed3c4f-411c-4658-b4de-16e41f795a70');\n",
              "          const dataTable =\n",
              "            await google.colab.kernel.invokeFunction('convertToInteractive',\n",
              "                                                     [key], {});\n",
              "          if (!dataTable) return;\n",
              "\n",
              "          const docLinkHtml = 'Like what you see? Visit the ' +\n",
              "            '<a target=\"_blank\" href=https://colab.research.google.com/notebooks/data_table.ipynb>data table notebook</a>'\n",
              "            + ' to learn more about interactive tables.';\n",
              "          element.innerHTML = '';\n",
              "          dataTable['output_type'] = 'display_data';\n",
              "          await google.colab.output.renderOutput(dataTable, element);\n",
              "          const docLink = document.createElement('div');\n",
              "          docLink.innerHTML = docLinkHtml;\n",
              "          element.appendChild(docLink);\n",
              "        }\n",
              "      </script>\n",
              "    </div>\n",
              "  </div>\n",
              "  "
            ]
          },
          "metadata": {},
          "execution_count": 54
        }
      ]
    },
    {
      "cell_type": "code",
      "source": [
        "#garder = garder.drop([876,780,750,726,703,658,642,640,576,540,478,426,416,185,155,86,1004])\n",
        "\n",
        "#garder.to_csv('merge final/garder.csv')\n",
        "#garder[['A_nom','B_nom','A_prenoms','B_prenoms']].to_csv('merge final/garder_liste.csv')"
      ],
      "metadata": {
        "id": "HnrZxxBks-un"
      },
      "execution_count": null,
      "outputs": []
    },
    {
      "cell_type": "markdown",
      "source": [
        "# Rajouter les individus au Df_laurent"
      ],
      "metadata": {
        "id": "0hxB8Ojteg9x"
      }
    },
    {
      "cell_type": "code",
      "source": [
        "notyet = pd.read_stata('merge final/NotYet12.dta')\n",
        "garder = pd.read_csv('merge final/garder.csv')"
      ],
      "metadata": {
        "id": "9VLGiF7iehEh"
      },
      "execution_count": null,
      "outputs": []
    },
    {
      "cell_type": "code",
      "source": [
        "# créer le Data frame avec les colonnes de Mr Linnemer\n",
        "\n",
        "correspondance = {'A_nom' : 'a_nom', 'A_prenoms' : 'a_prenom', 'A_annee' : 'a_annee', 'A_mois': 'a_mois', 'A_jour': 'a_jour',\n",
        "       'A_departement' : 'a_dep' , 'A_ville' : 'a_ville', 'A_sexe' : 'a_sexe', 'B_nom' : 'b_nom', 'B_prenoms':'b_prenoms',\n",
        "       'B_annee':'b_annee', 'B_mois':'b_mois', 'B_jour':'b_jour', 'D_annee':'d_annee', 'D_mois':'d_mois', 'D_jour':'d_jour',\n",
        "       'B_departement':'b_dep', 'B_pays':'b_pays', 'B_ville':'b_ville', 'B_sexe':'b_sexe', 'codebirth':'bcode', 'fichier' : 'fichier'}\n",
        "\n",
        "# Utiliser la méthode rename() pour remplacer les noms des colonnes\n",
        "add = garder.rename(columns=correspondance)\n",
        "add['matched'] = 'augustin'\n",
        "add = add[['a_nom', 'a_prenom', 'a_annee', 'a_mois', 'a_jour',\n",
        "       'a_dep', 'A_abroad', 'a_ville', 'a_sexe', 'b_nom', 'b_prenoms',\n",
        "       'b_annee', 'b_mois', 'b_jour', 'd_annee', 'd_mois', 'd_jour', 'b_dep',\n",
        "       'b_pays', 'b_ville', 'b_sexe', 'bcode','fichier','matched']]\n"
      ],
      "metadata": {
        "id": "h8M5Q9ZwwSOz"
      },
      "execution_count": null,
      "outputs": []
    },
    {
      "cell_type": "code",
      "source": [
        "notyet['a_nom'] = notyet['a_nom'].str.upper()\n",
        "notyet['a_prenom'] = notyet['a_prenom'].str.upper()\n",
        "df = pd.merge(add , notyet, on = ['a_prenom', 'a_nom'], how = 'left')"
      ],
      "metadata": {
        "id": "lzUoKp8jxn8e"
      },
      "execution_count": null,
      "outputs": []
    },
    {
      "cell_type": "code",
      "source": [
        "nv = df[pd.notnull(df['id'])]\n",
        "nv = nv[['a_nom', 'a_prenom', 'a_annee_x', 'a_mois_x', 'a_jour_x', 'a_dep_x',\n",
        "       'A_abroad', 'a_ville_x', 'a_sexe_x', 'b_nom', 'b_prenoms', 'b_annee',\n",
        "       'b_mois', 'b_jour', 'd_annee', 'd_mois', 'd_jour', 'b_dep', 'b_pays',\n",
        "       'b_ville', 'b_sexe', 'bcode', 'fichier', 'matched', 'annee','id']]\n",
        "nv = nv.rename(columns = {'a_annee_x' : 'a_annee', 'a_mois_x':'a_mois', 'a_jour_x':'a_jour', 'a_dep_x':'a_dep',\n",
        "       'A_abroad':'a_abroad', 'a_ville_x':'a_ville', 'a_sexe_x':'a_sexe'})\n",
        "nv.to_csv('merge final/ajouter.csv')"
      ],
      "metadata": {
        "id": "7he7i9Rqms6W"
      },
      "execution_count": null,
      "outputs": []
    },
    {
      "cell_type": "code",
      "source": [
        "liste_id = nv['id'].to_list()\n",
        "notyet_bis = notyet[~ notyet['id'].isin(liste_id)]\n",
        "notyet_bis.to_csv('merge final/notyet_bis.csv')"
      ],
      "metadata": {
        "id": "LsPUo45K1Qnp"
      },
      "execution_count": null,
      "outputs": []
    },
    {
      "cell_type": "code",
      "source": [
        "df_final = df_laurent.append(nv)"
      ],
      "metadata": {
        "colab": {
          "base_uri": "https://localhost:8080/"
        },
        "id": "14aifFC8o-_w",
        "outputId": "ff29f3e2-db1c-4063-c788-c370cef68443"
      },
      "execution_count": null,
      "outputs": [
        {
          "output_type": "stream",
          "name": "stderr",
          "text": [
            "<ipython-input-77-9eb7ffe1ac3b>:1: FutureWarning: The frame.append method is deprecated and will be removed from pandas in a future version. Use pandas.concat instead.\n",
            "  df_final = df_laurent.append(nv)\n"
          ]
        }
      ]
    },
    {
      "cell_type": "code",
      "source": [
        "df_final= df_final[['b_nom',\n",
        "       'b_prenoms', 'b_annee', 'b_mois', 'b_jour', 'b_dep','b_sexe', 'd_annee',\n",
        "       'd_mois', 'd_jour', 'd_dep', 'bcode', 'b_ville', 'b_pays', 'dcode', 'acte', 'fichier', 'annee', 'a_prenom', 'a_nom',\n",
        "       'a_sexe', 'a_jour', 'a_mois', 'a_annee', 'a_dep', 'a_ville', 'id', 'm2',\n",
        "       'matched', 'a_abroad']]"
      ],
      "metadata": {
        "id": "kbFfLTNmp2g2"
      },
      "execution_count": null,
      "outputs": []
    },
    {
      "cell_type": "code",
      "source": [
        "df_final.to_csv('merge final/matching_final.csv')"
      ],
      "metadata": {
        "id": "KOHZyKlRsann"
      },
      "execution_count": null,
      "outputs": []
    },
    {
      "cell_type": "code",
      "source": [
        "df_final[df_final['a_sexe']!=df_final['b_sexe']][['a_nom','b_nom','a_prenom','b_prenoms','a_sexe','b_sexe']]"
      ],
      "metadata": {
        "colab": {
          "base_uri": "https://localhost:8080/",
          "height": 237
        },
        "id": "VEwpAy0ns7vd",
        "outputId": "91390cc4-d0e3-4044-c79c-7104d60e7fca"
      },
      "execution_count": null,
      "outputs": [
        {
          "output_type": "execute_result",
          "data": {
            "text/plain": [
              "          a_nom       b_nom       a_prenom              b_prenoms  a_sexe  \\\n",
              "3          Adam        ADAM        Etienne  ETIENNE JACQUES MARIE     2.0   \n",
              "4        Adania      ADANIA          Sofia                  SOFIA     1.0   \n",
              "31   Augsburger  AUGSBURGER  Andree Marthe          ANDREE MARTHE     1.0   \n",
              "39       Bailly      BAILLY           Jean            JEAN ROBERT     2.0   \n",
              "62     Baudinat    BAUDINAT       Alphonse               ALPHONSE     2.0   \n",
              "235     Creusot     CREUSOT        Suzanne                SUZANNE     2.0   \n",
              "\n",
              "     b_sexe  \n",
              "3       1.0  \n",
              "4       2.0  \n",
              "31      2.0  \n",
              "39      1.0  \n",
              "62      1.0  \n",
              "235     1.0  "
            ],
            "text/html": [
              "\n",
              "  <div id=\"df-52fb4839-4c52-48f6-8503-39da06d38aa2\">\n",
              "    <div class=\"colab-df-container\">\n",
              "      <div>\n",
              "<style scoped>\n",
              "    .dataframe tbody tr th:only-of-type {\n",
              "        vertical-align: middle;\n",
              "    }\n",
              "\n",
              "    .dataframe tbody tr th {\n",
              "        vertical-align: top;\n",
              "    }\n",
              "\n",
              "    .dataframe thead th {\n",
              "        text-align: right;\n",
              "    }\n",
              "</style>\n",
              "<table border=\"1\" class=\"dataframe\">\n",
              "  <thead>\n",
              "    <tr style=\"text-align: right;\">\n",
              "      <th></th>\n",
              "      <th>a_nom</th>\n",
              "      <th>b_nom</th>\n",
              "      <th>a_prenom</th>\n",
              "      <th>b_prenoms</th>\n",
              "      <th>a_sexe</th>\n",
              "      <th>b_sexe</th>\n",
              "    </tr>\n",
              "  </thead>\n",
              "  <tbody>\n",
              "    <tr>\n",
              "      <th>3</th>\n",
              "      <td>Adam</td>\n",
              "      <td>ADAM</td>\n",
              "      <td>Etienne</td>\n",
              "      <td>ETIENNE JACQUES MARIE</td>\n",
              "      <td>2.0</td>\n",
              "      <td>1.0</td>\n",
              "    </tr>\n",
              "    <tr>\n",
              "      <th>4</th>\n",
              "      <td>Adania</td>\n",
              "      <td>ADANIA</td>\n",
              "      <td>Sofia</td>\n",
              "      <td>SOFIA</td>\n",
              "      <td>1.0</td>\n",
              "      <td>2.0</td>\n",
              "    </tr>\n",
              "    <tr>\n",
              "      <th>31</th>\n",
              "      <td>Augsburger</td>\n",
              "      <td>AUGSBURGER</td>\n",
              "      <td>Andree Marthe</td>\n",
              "      <td>ANDREE MARTHE</td>\n",
              "      <td>1.0</td>\n",
              "      <td>2.0</td>\n",
              "    </tr>\n",
              "    <tr>\n",
              "      <th>39</th>\n",
              "      <td>Bailly</td>\n",
              "      <td>BAILLY</td>\n",
              "      <td>Jean</td>\n",
              "      <td>JEAN ROBERT</td>\n",
              "      <td>2.0</td>\n",
              "      <td>1.0</td>\n",
              "    </tr>\n",
              "    <tr>\n",
              "      <th>62</th>\n",
              "      <td>Baudinat</td>\n",
              "      <td>BAUDINAT</td>\n",
              "      <td>Alphonse</td>\n",
              "      <td>ALPHONSE</td>\n",
              "      <td>2.0</td>\n",
              "      <td>1.0</td>\n",
              "    </tr>\n",
              "    <tr>\n",
              "      <th>235</th>\n",
              "      <td>Creusot</td>\n",
              "      <td>CREUSOT</td>\n",
              "      <td>Suzanne</td>\n",
              "      <td>SUZANNE</td>\n",
              "      <td>2.0</td>\n",
              "      <td>1.0</td>\n",
              "    </tr>\n",
              "  </tbody>\n",
              "</table>\n",
              "</div>\n",
              "      <button class=\"colab-df-convert\" onclick=\"convertToInteractive('df-52fb4839-4c52-48f6-8503-39da06d38aa2')\"\n",
              "              title=\"Convert this dataframe to an interactive table.\"\n",
              "              style=\"display:none;\">\n",
              "        \n",
              "  <svg xmlns=\"http://www.w3.org/2000/svg\" height=\"24px\"viewBox=\"0 0 24 24\"\n",
              "       width=\"24px\">\n",
              "    <path d=\"M0 0h24v24H0V0z\" fill=\"none\"/>\n",
              "    <path d=\"M18.56 5.44l.94 2.06.94-2.06 2.06-.94-2.06-.94-.94-2.06-.94 2.06-2.06.94zm-11 1L8.5 8.5l.94-2.06 2.06-.94-2.06-.94L8.5 2.5l-.94 2.06-2.06.94zm10 10l.94 2.06.94-2.06 2.06-.94-2.06-.94-.94-2.06-.94 2.06-2.06.94z\"/><path d=\"M17.41 7.96l-1.37-1.37c-.4-.4-.92-.59-1.43-.59-.52 0-1.04.2-1.43.59L10.3 9.45l-7.72 7.72c-.78.78-.78 2.05 0 2.83L4 21.41c.39.39.9.59 1.41.59.51 0 1.02-.2 1.41-.59l7.78-7.78 2.81-2.81c.8-.78.8-2.07 0-2.86zM5.41 20L4 18.59l7.72-7.72 1.47 1.35L5.41 20z\"/>\n",
              "  </svg>\n",
              "      </button>\n",
              "      \n",
              "  <style>\n",
              "    .colab-df-container {\n",
              "      display:flex;\n",
              "      flex-wrap:wrap;\n",
              "      gap: 12px;\n",
              "    }\n",
              "\n",
              "    .colab-df-convert {\n",
              "      background-color: #E8F0FE;\n",
              "      border: none;\n",
              "      border-radius: 50%;\n",
              "      cursor: pointer;\n",
              "      display: none;\n",
              "      fill: #1967D2;\n",
              "      height: 32px;\n",
              "      padding: 0 0 0 0;\n",
              "      width: 32px;\n",
              "    }\n",
              "\n",
              "    .colab-df-convert:hover {\n",
              "      background-color: #E2EBFA;\n",
              "      box-shadow: 0px 1px 2px rgba(60, 64, 67, 0.3), 0px 1px 3px 1px rgba(60, 64, 67, 0.15);\n",
              "      fill: #174EA6;\n",
              "    }\n",
              "\n",
              "    [theme=dark] .colab-df-convert {\n",
              "      background-color: #3B4455;\n",
              "      fill: #D2E3FC;\n",
              "    }\n",
              "\n",
              "    [theme=dark] .colab-df-convert:hover {\n",
              "      background-color: #434B5C;\n",
              "      box-shadow: 0px 1px 3px 1px rgba(0, 0, 0, 0.15);\n",
              "      filter: drop-shadow(0px 1px 2px rgba(0, 0, 0, 0.3));\n",
              "      fill: #FFFFFF;\n",
              "    }\n",
              "  </style>\n",
              "\n",
              "      <script>\n",
              "        const buttonEl =\n",
              "          document.querySelector('#df-52fb4839-4c52-48f6-8503-39da06d38aa2 button.colab-df-convert');\n",
              "        buttonEl.style.display =\n",
              "          google.colab.kernel.accessAllowed ? 'block' : 'none';\n",
              "\n",
              "        async function convertToInteractive(key) {\n",
              "          const element = document.querySelector('#df-52fb4839-4c52-48f6-8503-39da06d38aa2');\n",
              "          const dataTable =\n",
              "            await google.colab.kernel.invokeFunction('convertToInteractive',\n",
              "                                                     [key], {});\n",
              "          if (!dataTable) return;\n",
              "\n",
              "          const docLinkHtml = 'Like what you see? Visit the ' +\n",
              "            '<a target=\"_blank\" href=https://colab.research.google.com/notebooks/data_table.ipynb>data table notebook</a>'\n",
              "            + ' to learn more about interactive tables.';\n",
              "          element.innerHTML = '';\n",
              "          dataTable['output_type'] = 'display_data';\n",
              "          await google.colab.output.renderOutput(dataTable, element);\n",
              "          const docLink = document.createElement('div');\n",
              "          docLink.innerHTML = docLinkHtml;\n",
              "          element.appendChild(docLink);\n",
              "        }\n",
              "      </script>\n",
              "    </div>\n",
              "  </div>\n",
              "  "
            ]
          },
          "metadata": {},
          "execution_count": 93
        }
      ]
    },
    {
      "cell_type": "code",
      "source": [
        "df_final.to_csv('matching_final.csv')"
      ],
      "metadata": {
        "id": "dHd4p7SdysdE"
      },
      "execution_count": null,
      "outputs": []
    },
    {
      "cell_type": "code",
      "source": [
        "# modifications sur les sexes\n",
        "\"\"\"\n",
        "df_final['a_sexe'][2] = float(2)\n",
        "df_final['a_sexe'][750] = float(2)\n",
        "df_final['a_sexe'][626] = float(2)\n",
        "df_final['a_sexe'][31] = float(1)\n",
        "df_final['a_sexe'][15] = float(1)\n",
        "df_final['a_sexe'][4] = float(1)\n",
        "df_final['a_sexe'][483] = float(1)\n",
        "df_final['a_sexe'][371] = float(1)\n",
        "df_final['b_sexe'][251] = float(2)\n",
        "df_final['a_sexe'][39] = float(2)\n",
        "df_final['a_sexe'][33] = float(2)\n",
        "df_final['a_sexe'][32] = float(2)\n",
        "df_final['a_sexe'][26] = float(2)\n",
        "df_final['a_sexe'][19] = float(2)\n",
        "df_final['a_sexe'][9] = float(2)\n",
        "df_final['a_sexe'][3] = float(2)\n",
        "df_final['a_sexe'][41] = float(2)\n",
        "df_final['a_sexe'][3] = float(1)\n",
        "df_final['a_sexe'][4] = float(2)\n",
        "df_final['a_sexe'][31] = float(2)\n",
        "df_final['a_sexe'][39] = float(1)\n",
        "df_final['a_sexe'][62] = float(1)\n",
        "df_final['b_sexe'][235] = float(2)\n",
        "\"\"\""
      ],
      "metadata": {
        "id": "LfZmFXUkt8em"
      },
      "execution_count": null,
      "outputs": []
    },
    {
      "cell_type": "markdown",
      "source": [
        "## STATA\n",
        "\n",
        "replace a_sexe = 2.0 if b_prenom == \"NICOLLE\" & b_nom == \"AUBERT\"\n",
        "replace a_sexe = 1.0 if b_prenom == \"Alphonse\" & b_nom == \"Baudinat\"\n",
        "replace b_sexe = 2.0 if b_prenom == \"SUZANNE\" & b_nom == \"CREUSOT\"\n",
        "replace b_sexe = 2.0 if b_prenom == \"MARIE LOUISE\" & b_nom == \"DAVID\"\n",
        "replace a_sexe = 1.0 if b_prenom == \"JOSEPH\" & b_nom == \"FURSAY\"\n",
        "replace a_sexe = 1.0 if b_prenom == \"RENE EMILE\" & b_nom == \"HOSXE\"\n",
        "replace a_sexe = 2.0 if b_prenom == \"MARTHE ADRIENNE\" & b_nom == \"MARECHAL\"\n",
        "replace a_sexe = 2.0 if b_prenom == \"JEANNINE AMELIE\" & b_nom == \"PERSONNE\"\n",
        "replace a_sexe = 2.0 if b_prenom == \"GINETTE\" & b_nom == \"RICHART\"\n",
        "replace a_sexe = 2.0 if b_prenom == \"IRMA LEONTINE\" & b_nom == \"BEAUBERT\"\n",
        "replace a_sexe = 1.0 if b_prenom == \"FERNAND ALPHONSE MARIE\" & b_nom == \"BEAUMIER\"\n",
        "replace a_sexe = 2.0 if b_prenom == \"ANDREE\" & b_nom == \"COUTOR\"\n",
        "replace a_sexe = 1.0 if b_prenom == \"ANDRE LOUIS JOSEPH\" & b_nom == \"GAVARD-BOITIER\"\n",
        "replace a_sexe = 2.0 if b_prenom == \"YVONNE MADELEINE\" & b_nom == \"LABOUREAU\"\n",
        "replace a_sexe = 2.0 if b_prenom == \"SUZANNE AMELIE\" & b_nom == \"ROUCHEUX\"\n",
        "replace a_sexe = 1.0 if b_prenom == \"JACQUES ALAIN\" & b_nom == \"BIRVAR\"\n",
        "replace a_sexe = 2.0 if b_prenom == \"YVONNE JEANNE\" & b_nom == \"BIRVAR\"\n",
        "replace a_sexe = 2.0 if b_prenom == \"VICTORINE EXILDA\" & b_nom == \"CHATAIN\"\n",
        "replace a_sexe = 2.0 if b_prenom == \"GENEVIEVE ALICE\" & b_nom == \"PARISIEN\"\n",
        "replace a_sexe = 2.0 if b_prenom == \"NICOLLE\" & b_nom == \"AUBERT\""
      ],
      "metadata": {
        "id": "CjdFIG5xxuCD"
      }
    },
    {
      "cell_type": "code",
      "source": [
        "from datetime import datetime\n",
        "\n",
        "# création de la variable Td\n",
        "df = pd.read_csv('matching_final.csv')\n",
        "df['b_jour'][250] = 4\n",
        "df['b_jour'][271] = 19\n",
        "df['b_jour'][368] = 30\n",
        "df['b_jour'][504] = 24\n",
        "df['b_jour'][675] = 2\n",
        "df['b_jour'][778] = 20\n",
        "df['Td'] = np.nan\n",
        "df['b_annee'] = df['b_annee'].astype(int)\n",
        "df['d_annee'] = df['d_annee'].astype(int)\n",
        "df['b_jour'] = df['b_jour'].astype(int)\n",
        "df['d_jour'] = df['d_jour'].astype(int)\n",
        "df['b_mois'] = df['b_mois'].astype(int)\n",
        "df['d_mois'] = df['d_mois'].astype(int)\n",
        "\n",
        "def convert_to_datetime(row):\n",
        "    try:\n",
        "        year = int(row['b_annee'])\n",
        "        month = int(row['b_mois'])\n",
        "        day = int(row['b_jour'])\n",
        "        return pd.Timestamp(year=year, month=month, day=day)\n",
        "    except ValueError:\n",
        "        return pd.NaT\n",
        "\n",
        "df['date_naissance'] = df.apply(convert_to_datetime, axis=1)\n",
        "\n",
        "def convert_to_datetime(row):\n",
        "    try:\n",
        "        year = int(row['d_annee'])\n",
        "        month = int(row['d_mois'])\n",
        "        day = int(row['d_jour'])\n",
        "        return pd.Timestamp(year=year, month=month, day=day)\n",
        "    except ValueError:\n",
        "        return pd.NaT\n",
        "\n",
        "df['date_deces'] = df.apply(convert_to_datetime, axis=1)\n",
        "\n",
        "df['Td'] = (df['date_deces'] - df['date_naissance']).dt.days\n",
        "\n",
        "df['Td']"
      ],
      "metadata": {
        "colab": {
          "base_uri": "https://localhost:8080/"
        },
        "id": "C5UsmvOEi_2O",
        "outputId": "dd1ee802-4d20-4cab-fcb1-95f670c65cf6"
      },
      "execution_count": null,
      "outputs": [
        {
          "output_type": "stream",
          "name": "stderr",
          "text": [
            "<ipython-input-203-2fc4da5d38e5>:5: SettingWithCopyWarning: \n",
            "A value is trying to be set on a copy of a slice from a DataFrame\n",
            "\n",
            "See the caveats in the documentation: https://pandas.pydata.org/pandas-docs/stable/user_guide/indexing.html#returning-a-view-versus-a-copy\n",
            "  df['b_jour'][250] = 4\n",
            "<ipython-input-203-2fc4da5d38e5>:6: SettingWithCopyWarning: \n",
            "A value is trying to be set on a copy of a slice from a DataFrame\n",
            "\n",
            "See the caveats in the documentation: https://pandas.pydata.org/pandas-docs/stable/user_guide/indexing.html#returning-a-view-versus-a-copy\n",
            "  df['b_jour'][271] = 19\n",
            "<ipython-input-203-2fc4da5d38e5>:7: SettingWithCopyWarning: \n",
            "A value is trying to be set on a copy of a slice from a DataFrame\n",
            "\n",
            "See the caveats in the documentation: https://pandas.pydata.org/pandas-docs/stable/user_guide/indexing.html#returning-a-view-versus-a-copy\n",
            "  df['b_jour'][368] = 30\n",
            "<ipython-input-203-2fc4da5d38e5>:8: SettingWithCopyWarning: \n",
            "A value is trying to be set on a copy of a slice from a DataFrame\n",
            "\n",
            "See the caveats in the documentation: https://pandas.pydata.org/pandas-docs/stable/user_guide/indexing.html#returning-a-view-versus-a-copy\n",
            "  df['b_jour'][504] = 24\n",
            "<ipython-input-203-2fc4da5d38e5>:9: SettingWithCopyWarning: \n",
            "A value is trying to be set on a copy of a slice from a DataFrame\n",
            "\n",
            "See the caveats in the documentation: https://pandas.pydata.org/pandas-docs/stable/user_guide/indexing.html#returning-a-view-versus-a-copy\n",
            "  df['b_jour'][675] = 2\n",
            "<ipython-input-203-2fc4da5d38e5>:10: SettingWithCopyWarning: \n",
            "A value is trying to be set on a copy of a slice from a DataFrame\n",
            "\n",
            "See the caveats in the documentation: https://pandas.pydata.org/pandas-docs/stable/user_guide/indexing.html#returning-a-view-versus-a-copy\n",
            "  df['b_jour'][778] = 20\n"
          ]
        },
        {
          "output_type": "execute_result",
          "data": {
            "text/plain": [
              "0       31235.0\n",
              "1       28235.0\n",
              "2       28235.0\n",
              "3       34150.0\n",
              "4       32221.0\n",
              "         ...   \n",
              "1020    32914.0\n",
              "1021    30487.0\n",
              "1022    33554.0\n",
              "1023    32174.0\n",
              "1024    31443.0\n",
              "Name: Td, Length: 1025, dtype: float64"
            ]
          },
          "metadata": {},
          "execution_count": 203
        }
      ]
    },
    {
      "cell_type": "code",
      "source": [
        "df = df[['b_nom', 'b_prenoms', 'b_annee', 'b_mois', 'b_jour',\n",
        "       'b_dep', 'b_sexe', 'd_annee', 'd_mois', 'd_jour', 'd_dep', 'bcode',\n",
        "       'b_ville', 'b_pays', 'dcode', 'acte', 'fichier', 'annee', 'a_prenom',\n",
        "       'a_nom', 'a_sexe', 'a_jour', 'a_mois', 'a_annee', 'a_dep', 'a_ville',\n",
        "       'id', 'm2', 'matched', 'a_abroad', 'Td', 'date_naissance',\n",
        "       'date_deces']]\n",
        "df.to_csv('matching_final.csv')"
      ],
      "metadata": {
        "id": "2AtlFfMyjgnH"
      },
      "execution_count": null,
      "outputs": []
    },
    {
      "cell_type": "code",
      "source": [
        "df['b_jour'][250] = 4\n",
        "df['b_jour'][271] = 19\n",
        "df['b_jour'][368] = 30\n",
        "df['b_jour'][504] = 24\n",
        "df['b_jour'][675] = 2\n",
        "df['b_jour'][778] = 20"
      ],
      "metadata": {
        "colab": {
          "base_uri": "https://localhost:8080/"
        },
        "id": "0URde3Z5jqa7",
        "outputId": "27365e30-6e7d-4e92-887e-047954136ed9"
      },
      "execution_count": null,
      "outputs": [
        {
          "output_type": "stream",
          "name": "stderr",
          "text": [
            "<ipython-input-190-d1257bcec203>:1: SettingWithCopyWarning: \n",
            "A value is trying to be set on a copy of a slice from a DataFrame\n",
            "\n",
            "See the caveats in the documentation: https://pandas.pydata.org/pandas-docs/stable/user_guide/indexing.html#returning-a-view-versus-a-copy\n",
            "  df['b_jour'][250] = 4\n",
            "<ipython-input-190-d1257bcec203>:2: SettingWithCopyWarning: \n",
            "A value is trying to be set on a copy of a slice from a DataFrame\n",
            "\n",
            "See the caveats in the documentation: https://pandas.pydata.org/pandas-docs/stable/user_guide/indexing.html#returning-a-view-versus-a-copy\n",
            "  df['b_jour'][271] = 19\n",
            "<ipython-input-190-d1257bcec203>:3: SettingWithCopyWarning: \n",
            "A value is trying to be set on a copy of a slice from a DataFrame\n",
            "\n",
            "See the caveats in the documentation: https://pandas.pydata.org/pandas-docs/stable/user_guide/indexing.html#returning-a-view-versus-a-copy\n",
            "  df['b_jour'][368] = 30\n",
            "<ipython-input-190-d1257bcec203>:4: SettingWithCopyWarning: \n",
            "A value is trying to be set on a copy of a slice from a DataFrame\n",
            "\n",
            "See the caveats in the documentation: https://pandas.pydata.org/pandas-docs/stable/user_guide/indexing.html#returning-a-view-versus-a-copy\n",
            "  df['b_jour'][504] = 24\n",
            "<ipython-input-190-d1257bcec203>:5: SettingWithCopyWarning: \n",
            "A value is trying to be set on a copy of a slice from a DataFrame\n",
            "\n",
            "See the caveats in the documentation: https://pandas.pydata.org/pandas-docs/stable/user_guide/indexing.html#returning-a-view-versus-a-copy\n",
            "  df['b_jour'][675] = 2\n",
            "<ipython-input-190-d1257bcec203>:6: SettingWithCopyWarning: \n",
            "A value is trying to be set on a copy of a slice from a DataFrame\n",
            "\n",
            "See the caveats in the documentation: https://pandas.pydata.org/pandas-docs/stable/user_guide/indexing.html#returning-a-view-versus-a-copy\n",
            "  df['b_jour'][778] = 20\n"
          ]
        }
      ]
    },
    {
      "cell_type": "markdown",
      "source": [
        "# Description base de données"
      ],
      "metadata": {
        "id": "5kZ-u_Ja2Lba"
      }
    },
    {
      "cell_type": "code",
      "source": [
        "df = pd.read_csv('matching_final.csv')\n",
        "hommes = df[df['b_sexe']==float(1)]\n",
        "femmes = df[df['b_sexe']==float(2)]"
      ],
      "metadata": {
        "id": "-ofknwUY3WNT"
      },
      "execution_count": null,
      "outputs": []
    },
    {
      "cell_type": "code",
      "source": [
        "df['annee'].describe()"
      ],
      "metadata": {
        "colab": {
          "base_uri": "https://localhost:8080/"
        },
        "id": "ocZgNkW34AMP",
        "outputId": "a3ac76b5-a510-477e-de3d-63599348c748"
      },
      "execution_count": null,
      "outputs": [
        {
          "output_type": "execute_result",
          "data": {
            "text/plain": [
              "count    1025.000000\n",
              "mean     1990.742439\n",
              "std         7.183423\n",
              "min      1977.000000\n",
              "25%      1986.000000\n",
              "50%      1989.000000\n",
              "75%      1995.000000\n",
              "max      2009.000000\n",
              "Name: annee, dtype: float64"
            ]
          },
          "metadata": {},
          "execution_count": 130
        }
      ]
    },
    {
      "cell_type": "code",
      "source": [
        "\n",
        "df_bis = df.sort_values(by = 'age_acte')\n",
        "df_bis = df_bis.drop(995)\n",
        "plt.plot(df_bis['age_acte'],df_bis['age_mort'], color = 'blue')\n",
        "plt.scatter(df_bis['age_acte'],df_bis['age_mort'], color = 'purple' )\n",
        "\n",
        "#plt.scatter(df_bis['age_mort'],df_bis['ecart'], color = 'black', label = 'ecart normalisé')\n",
        "#plt.scatter(df_bis['age_mort'], df_bis['age_acte'], color = 'red', label = 'age acte normalisé')\n",
        "#plt.scatter(df_bis['age_acte'], df_bis['ecart'], color = 'orange', label = 'données normalisées')\n",
        "#plt.hist(df['age_acte'])\n",
        "plt.legend()\n",
        "plt.grid()\n",
        "plt.title(\"Âge de décès des individus en fonction de l'âge au moment de la vente du bien\")\n",
        "#plt.xlabel(\"Âge de décès\")\n",
        "#plt.ylabel(\"Nombre d'années séparant l'acte de vente et le décès de l'individu\")\n",
        "plt.show()"
      ],
      "metadata": {
        "colab": {
          "base_uri": "https://localhost:8080/",
          "height": 493
        },
        "id": "gS2OGzgD2O1C",
        "outputId": "b96a0eac-012e-464b-bb91-64c17722e633"
      },
      "execution_count": null,
      "outputs": [
        {
          "output_type": "stream",
          "name": "stderr",
          "text": [
            "WARNING:matplotlib.legend:No artists with labels found to put in legend.  Note that artists whose label start with an underscore are ignored when legend() is called with no argument.\n"
          ]
        },
        {
          "output_type": "display_data",
          "data": {
            "text/plain": [
              "<Figure size 640x480 with 1 Axes>"
            ],
            "image/png": "[encoded data removed]"
          },
          "metadata": {}
        }
      ]
    },
    {
      "cell_type": "code",
      "source": [
        "df_bis[df_bis['b_annee']==float(1980)][['a_nom','b_nom','a_prenom','b_prenoms', 'a_annee','b_annee','a_mois','b_mois','a_jour','b_jour','a_ville','b_ville']]"
      ],
      "metadata": {
        "colab": {
          "base_uri": "https://localhost:8080/",
          "height": 81
        },
        "id": "0zSby_YL2Sxb",
        "outputId": "95f361e1-20c4-454d-c866-5be9e858452d"
      },
      "execution_count": null,
      "outputs": [
        {
          "output_type": "execute_result",
          "data": {
            "text/plain": [
              "       a_nom    b_nom a_prenom       b_prenoms  a_annee  b_annee  a_mois  \\\n",
              "995  DESONAY  DESONAY   MICHEL  MICHEL FLORENT   1930.0   1980.0     1.0   \n",
              "\n",
              "     b_mois  a_jour  b_jour a_ville b_ville  \n",
              "995     1.0    24.0    24.0    Olne    OLNF  "
            ],
            "text/html": [
              "\n",
              "  <div id=\"df-66971e6d-9c30-4499-a5a7-0399b17fabc8\">\n",
              "    <div class=\"colab-df-container\">\n",
              "      <div>\n",
              "<style scoped>\n",
              "    .dataframe tbody tr th:only-of-type {\n",
              "        vertical-align: middle;\n",
              "    }\n",
              "\n",
              "    .dataframe tbody tr th {\n",
              "        vertical-align: top;\n",
              "    }\n",
              "\n",
              "    .dataframe thead th {\n",
              "        text-align: right;\n",
              "    }\n",
              "</style>\n",
              "<table border=\"1\" class=\"dataframe\">\n",
              "  <thead>\n",
              "    <tr style=\"text-align: right;\">\n",
              "      <th></th>\n",
              "      <th>a_nom</th>\n",
              "      <th>b_nom</th>\n",
              "      <th>a_prenom</th>\n",
              "      <th>b_prenoms</th>\n",
              "      <th>a_annee</th>\n",
              "      <th>b_annee</th>\n",
              "      <th>a_mois</th>\n",
              "      <th>b_mois</th>\n",
              "      <th>a_jour</th>\n",
              "      <th>b_jour</th>\n",
              "      <th>a_ville</th>\n",
              "      <th>b_ville</th>\n",
              "    </tr>\n",
              "  </thead>\n",
              "  <tbody>\n",
              "    <tr>\n",
              "      <th>995</th>\n",
              "      <td>DESONAY</td>\n",
              "      <td>DESONAY</td>\n",
              "      <td>MICHEL</td>\n",
              "      <td>MICHEL FLORENT</td>\n",
              "      <td>1930.0</td>\n",
              "      <td>1980.0</td>\n",
              "      <td>1.0</td>\n",
              "      <td>1.0</td>\n",
              "      <td>24.0</td>\n",
              "      <td>24.0</td>\n",
              "      <td>Olne</td>\n",
              "      <td>OLNF</td>\n",
              "    </tr>\n",
              "  </tbody>\n",
              "</table>\n",
              "</div>\n",
              "      <button class=\"colab-df-convert\" onclick=\"convertToInteractive('df-66971e6d-9c30-4499-a5a7-0399b17fabc8')\"\n",
              "              title=\"Convert this dataframe to an interactive table.\"\n",
              "              style=\"display:none;\">\n",
              "        \n",
              "  <svg xmlns=\"http://www.w3.org/2000/svg\" height=\"24px\"viewBox=\"0 0 24 24\"\n",
              "       width=\"24px\">\n",
              "    <path d=\"M0 0h24v24H0V0z\" fill=\"none\"/>\n",
              "    <path d=\"M18.56 5.44l.94 2.06.94-2.06 2.06-.94-2.06-.94-.94-2.06-.94 2.06-2.06.94zm-11 1L8.5 8.5l.94-2.06 2.06-.94-2.06-.94L8.5 2.5l-.94 2.06-2.06.94zm10 10l.94 2.06.94-2.06 2.06-.94-2.06-.94-.94-2.06-.94 2.06-2.06.94z\"/><path d=\"M17.41 7.96l-1.37-1.37c-.4-.4-.92-.59-1.43-.59-.52 0-1.04.2-1.43.59L10.3 9.45l-7.72 7.72c-.78.78-.78 2.05 0 2.83L4 21.41c.39.39.9.59 1.41.59.51 0 1.02-.2 1.41-.59l7.78-7.78 2.81-2.81c.8-.78.8-2.07 0-2.86zM5.41 20L4 18.59l7.72-7.72 1.47 1.35L5.41 20z\"/>\n",
              "  </svg>\n",
              "      </button>\n",
              "      \n",
              "  <style>\n",
              "    .colab-df-container {\n",
              "      display:flex;\n",
              "      flex-wrap:wrap;\n",
              "      gap: 12px;\n",
              "    }\n",
              "\n",
              "    .colab-df-convert {\n",
              "      background-color: #E8F0FE;\n",
              "      border: none;\n",
              "      border-radius: 50%;\n",
              "      cursor: pointer;\n",
              "      display: none;\n",
              "      fill: #1967D2;\n",
              "      height: 32px;\n",
              "      padding: 0 0 0 0;\n",
              "      width: 32px;\n",
              "    }\n",
              "\n",
              "    .colab-df-convert:hover {\n",
              "      background-color: #E2EBFA;\n",
              "      box-shadow: 0px 1px 2px rgba(60, 64, 67, 0.3), 0px 1px 3px 1px rgba(60, 64, 67, 0.15);\n",
              "      fill: #174EA6;\n",
              "    }\n",
              "\n",
              "    [theme=dark] .colab-df-convert {\n",
              "      background-color: #3B4455;\n",
              "      fill: #D2E3FC;\n",
              "    }\n",
              "\n",
              "    [theme=dark] .colab-df-convert:hover {\n",
              "      background-color: #434B5C;\n",
              "      box-shadow: 0px 1px 3px 1px rgba(0, 0, 0, 0.15);\n",
              "      filter: drop-shadow(0px 1px 2px rgba(0, 0, 0, 0.3));\n",
              "      fill: #FFFFFF;\n",
              "    }\n",
              "  </style>\n",
              "\n",
              "      <script>\n",
              "        const buttonEl =\n",
              "          document.querySelector('#df-66971e6d-9c30-4499-a5a7-0399b17fabc8 button.colab-df-convert');\n",
              "        buttonEl.style.display =\n",
              "          google.colab.kernel.accessAllowed ? 'block' : 'none';\n",
              "\n",
              "        async function convertToInteractive(key) {\n",
              "          const element = document.querySelector('#df-66971e6d-9c30-4499-a5a7-0399b17fabc8');\n",
              "          const dataTable =\n",
              "            await google.colab.kernel.invokeFunction('convertToInteractive',\n",
              "                                                     [key], {});\n",
              "          if (!dataTable) return;\n",
              "\n",
              "          const docLinkHtml = 'Like what you see? Visit the ' +\n",
              "            '<a target=\"_blank\" href=https://colab.research.google.com/notebooks/data_table.ipynb>data table notebook</a>'\n",
              "            + ' to learn more about interactive tables.';\n",
              "          element.innerHTML = '';\n",
              "          dataTable['output_type'] = 'display_data';\n",
              "          await google.colab.output.renderOutput(dataTable, element);\n",
              "          const docLink = document.createElement('div');\n",
              "          docLink.innerHTML = docLinkHtml;\n",
              "          element.appendChild(docLink);\n",
              "        }\n",
              "      </script>\n",
              "    </div>\n",
              "  </div>\n",
              "  "
            ]
          },
          "metadata": {},
          "execution_count": 164
        }
      ]
    },
    {
      "cell_type": "code",
      "source": [
        "df['ecart'] = df['d_annee']-df['annee']\n",
        "df['age_mort'] = df['d_annee']-df['b_annee']\n",
        "df['age_acte'] = df['annee']-df['b_annee']\n",
        "df['age_acte'].describe()"
      ],
      "metadata": {
        "colab": {
          "base_uri": "https://localhost:8080/"
        },
        "id": "OiFrY-Zb4wyv",
        "outputId": "d685caed-6c57-4c8e-91a9-cc90f6afdc28"
      },
      "execution_count": null,
      "outputs": [
        {
          "output_type": "execute_result",
          "data": {
            "text/plain": [
              "count    1025.000000\n",
              "mean       75.485854\n",
              "std         7.423703\n",
              "min        17.000000\n",
              "25%        71.000000\n",
              "50%        75.000000\n",
              "75%        80.000000\n",
              "max        96.000000\n",
              "Name: age_acte, dtype: float64"
            ]
          },
          "metadata": {},
          "execution_count": 156
        }
      ]
    },
    {
      "cell_type": "code",
      "source": [],
      "metadata": {
        "id": "xz7UpVkMAOLE"
      },
      "execution_count": null,
      "outputs": []
    },
    {
      "cell_type": "code",
      "source": [],
      "metadata": {
        "id": "n7YhiSANCO-Q"
      },
      "execution_count": null,
      "outputs": []
    }
  ]
}